{
 "cells": [
  {
   "cell_type": "code",
   "execution_count": 1,
   "id": "aff6efd3-6954-43f1-baa9-793a9288dde9",
   "metadata": {},
   "outputs": [
    {
     "name": "stdout",
     "output_type": "stream",
     "text": [
      "Requirement already satisfied: dvc in c:\\users\\achla\\appdata\\local\\programs\\python\\python313\\lib\\site-packages (3.63.0)\n",
      "Requirement already satisfied: attrs>=22.2.0 in c:\\users\\achla\\appdata\\local\\programs\\python\\python313\\lib\\site-packages (from dvc) (25.3.0)\n",
      "Requirement already satisfied: celery in c:\\users\\achla\\appdata\\local\\programs\\python\\python313\\lib\\site-packages (from dvc) (5.5.3)\n",
      "Requirement already satisfied: colorama>=0.3.9 in c:\\users\\achla\\appdata\\local\\programs\\python\\python313\\lib\\site-packages (from dvc) (0.4.6)\n",
      "Requirement already satisfied: configobj>=5.0.9 in c:\\users\\achla\\appdata\\local\\programs\\python\\python313\\lib\\site-packages (from dvc) (5.0.9)\n",
      "Requirement already satisfied: distro>=1.3 in c:\\users\\achla\\appdata\\local\\programs\\python\\python313\\lib\\site-packages (from dvc) (1.9.0)\n",
      "Requirement already satisfied: dpath<3,>=2.1.0 in c:\\users\\achla\\appdata\\local\\programs\\python\\python313\\lib\\site-packages (from dvc) (2.2.0)\n",
      "Requirement already satisfied: dulwich in c:\\users\\achla\\appdata\\local\\programs\\python\\python313\\lib\\site-packages (from dvc) (0.24.1)\n",
      "Requirement already satisfied: dvc-data<3.17,>=3.16.2 in c:\\users\\achla\\appdata\\local\\programs\\python\\python313\\lib\\site-packages (from dvc) (3.16.12)\n",
      "Requirement already satisfied: dvc-http>=2.29.0 in c:\\users\\achla\\appdata\\local\\programs\\python\\python313\\lib\\site-packages (from dvc) (2.32.0)\n",
      "Requirement already satisfied: dvc-objects in c:\\users\\achla\\appdata\\local\\programs\\python\\python313\\lib\\site-packages (from dvc) (5.1.1)\n",
      "Requirement already satisfied: dvc-render<2,>=1.0.1 in c:\\users\\achla\\appdata\\local\\programs\\python\\python313\\lib\\site-packages (from dvc) (1.0.2)\n",
      "Requirement already satisfied: dvc-studio-client<1,>=0.21 in c:\\users\\achla\\appdata\\local\\programs\\python\\python313\\lib\\site-packages (from dvc) (0.22.0)\n",
      "Requirement already satisfied: dvc-task<1,>=0.3.0 in c:\\users\\achla\\appdata\\local\\programs\\python\\python313\\lib\\site-packages (from dvc) (0.40.2)\n",
      "Requirement already satisfied: flatten_dict<1,>=0.4.1 in c:\\users\\achla\\appdata\\local\\programs\\python\\python313\\lib\\site-packages (from dvc) (0.4.2)\n",
      "Requirement already satisfied: flufl.lock<9,>=8.1.0 in c:\\users\\achla\\appdata\\local\\programs\\python\\python313\\lib\\site-packages (from dvc) (8.2.0)\n",
      "Requirement already satisfied: fsspec>=2024.2.0 in c:\\users\\achla\\appdata\\local\\programs\\python\\python313\\lib\\site-packages (from dvc) (2025.9.0)\n",
      "Requirement already satisfied: funcy>=1.14 in c:\\users\\achla\\appdata\\local\\programs\\python\\python313\\lib\\site-packages (from dvc) (2.0)\n",
      "Requirement already satisfied: grandalf<1,>=0.7 in c:\\users\\achla\\appdata\\local\\programs\\python\\python313\\lib\\site-packages (from dvc) (0.8)\n",
      "Requirement already satisfied: gto<2,>=1.6.0 in c:\\users\\achla\\appdata\\local\\programs\\python\\python313\\lib\\site-packages (from dvc) (1.8.0)\n",
      "Requirement already satisfied: hydra-core>=1.1 in c:\\users\\achla\\appdata\\local\\programs\\python\\python313\\lib\\site-packages (from dvc) (1.3.2)\n",
      "Requirement already satisfied: iterative-telemetry>=0.0.7 in c:\\users\\achla\\appdata\\local\\programs\\python\\python313\\lib\\site-packages (from dvc) (0.0.10)\n",
      "Requirement already satisfied: kombu in c:\\users\\achla\\appdata\\local\\programs\\python\\python313\\lib\\site-packages (from dvc) (5.5.4)\n",
      "Requirement already satisfied: networkx>=2.5 in c:\\users\\achla\\appdata\\local\\programs\\python\\python313\\lib\\site-packages (from dvc) (3.5)\n",
      "Requirement already satisfied: omegaconf in c:\\users\\achla\\appdata\\local\\programs\\python\\python313\\lib\\site-packages (from dvc) (2.3.0)\n",
      "Requirement already satisfied: packaging>=19 in c:\\users\\achla\\appdata\\local\\programs\\python\\python313\\lib\\site-packages (from dvc) (25.0)\n",
      "Requirement already satisfied: pathspec>=0.10.3 in c:\\users\\achla\\appdata\\local\\programs\\python\\python313\\lib\\site-packages (from dvc) (0.12.1)\n",
      "Requirement already satisfied: platformdirs<5,>=3.1.1 in c:\\users\\achla\\appdata\\local\\programs\\python\\python313\\lib\\site-packages (from dvc) (4.4.0)\n",
      "Requirement already satisfied: psutil>=5.8 in c:\\users\\achla\\appdata\\local\\programs\\python\\python313\\lib\\site-packages (from dvc) (7.0.0)\n",
      "Requirement already satisfied: pydot>=1.2.4 in c:\\users\\achla\\appdata\\local\\programs\\python\\python313\\lib\\site-packages (from dvc) (4.0.1)\n",
      "Requirement already satisfied: pygtrie>=2.3.2 in c:\\users\\achla\\appdata\\local\\programs\\python\\python313\\lib\\site-packages (from dvc) (2.5.0)\n",
      "Requirement already satisfied: pyparsing>=2.4.7 in c:\\users\\achla\\appdata\\local\\programs\\python\\python313\\lib\\site-packages (from dvc) (3.2.3)\n",
      "Requirement already satisfied: requests>=2.22 in c:\\users\\achla\\appdata\\local\\programs\\python\\python313\\lib\\site-packages (from dvc) (2.32.5)\n",
      "Requirement already satisfied: rich>=12 in c:\\users\\achla\\appdata\\local\\programs\\python\\python313\\lib\\site-packages (from dvc) (14.1.0)\n",
      "Requirement already satisfied: ruamel.yaml>=0.17.11 in c:\\users\\achla\\appdata\\local\\programs\\python\\python313\\lib\\site-packages (from dvc) (0.18.15)\n",
      "Requirement already satisfied: scmrepo<4,>=3.5.2 in c:\\users\\achla\\appdata\\local\\programs\\python\\python313\\lib\\site-packages (from dvc) (3.5.2)\n",
      "Requirement already satisfied: shortuuid>=0.5 in c:\\users\\achla\\appdata\\local\\programs\\python\\python313\\lib\\site-packages (from dvc) (1.0.13)\n",
      "Requirement already satisfied: shtab<2,>=1.3.4 in c:\\users\\achla\\appdata\\local\\programs\\python\\python313\\lib\\site-packages (from dvc) (1.7.2)\n",
      "Requirement already satisfied: tabulate>=0.8.7 in c:\\users\\achla\\appdata\\local\\programs\\python\\python313\\lib\\site-packages (from dvc) (0.9.0)\n",
      "Requirement already satisfied: tomlkit>=0.11.1 in c:\\users\\achla\\appdata\\local\\programs\\python\\python313\\lib\\site-packages (from dvc) (0.13.3)\n",
      "Requirement already satisfied: tqdm<5,>=4.63.1 in c:\\users\\achla\\appdata\\local\\programs\\python\\python313\\lib\\site-packages (from dvc) (4.67.1)\n",
      "Requirement already satisfied: voluptuous>=0.11.7 in c:\\users\\achla\\appdata\\local\\programs\\python\\python313\\lib\\site-packages (from dvc) (0.15.2)\n",
      "Requirement already satisfied: zc.lockfile>=1.2.1 in c:\\users\\achla\\appdata\\local\\programs\\python\\python313\\lib\\site-packages (from dvc) (4.0)\n",
      "Requirement already satisfied: dictdiffer>=0.8.1 in c:\\users\\achla\\appdata\\local\\programs\\python\\python313\\lib\\site-packages (from dvc-data<3.17,>=3.16.2->dvc) (0.9.0)\n",
      "Requirement already satisfied: diskcache>=5.2.1 in c:\\users\\achla\\appdata\\local\\programs\\python\\python313\\lib\\site-packages (from dvc-data<3.17,>=3.16.2->dvc) (5.6.3)\n",
      "Requirement already satisfied: sqltrie<1,>=0.11.0 in c:\\users\\achla\\appdata\\local\\programs\\python\\python313\\lib\\site-packages (from dvc-data<3.17,>=3.16.2->dvc) (0.11.2)\n",
      "Requirement already satisfied: orjson<4,>=3 in c:\\users\\achla\\appdata\\local\\programs\\python\\python313\\lib\\site-packages (from dvc-data<3.17,>=3.16.2->dvc) (3.11.3)\n",
      "Requirement already satisfied: pywin32>=225 in c:\\users\\achla\\appdata\\local\\programs\\python\\python313\\lib\\site-packages (from dvc-task<1,>=0.3.0->dvc) (311)\n",
      "Requirement already satisfied: billiard<5.0,>=4.2.1 in c:\\users\\achla\\appdata\\local\\programs\\python\\python313\\lib\\site-packages (from celery->dvc) (4.2.1)\n",
      "Requirement already satisfied: vine<6.0,>=5.1.0 in c:\\users\\achla\\appdata\\local\\programs\\python\\python313\\lib\\site-packages (from celery->dvc) (5.1.0)\n",
      "Requirement already satisfied: click<9.0,>=8.1.2 in c:\\users\\achla\\appdata\\local\\programs\\python\\python313\\lib\\site-packages (from celery->dvc) (8.1.8)\n",
      "Requirement already satisfied: click-didyoumean>=0.3.0 in c:\\users\\achla\\appdata\\local\\programs\\python\\python313\\lib\\site-packages (from celery->dvc) (0.3.1)\n",
      "Requirement already satisfied: click-repl>=0.2.0 in c:\\users\\achla\\appdata\\local\\programs\\python\\python313\\lib\\site-packages (from celery->dvc) (0.3.0)\n",
      "Requirement already satisfied: click-plugins>=1.1.1 in c:\\users\\achla\\appdata\\local\\programs\\python\\python313\\lib\\site-packages (from celery->dvc) (1.1.1.2)\n",
      "Requirement already satisfied: python-dateutil>=2.8.2 in c:\\users\\achla\\appdata\\local\\programs\\python\\python313\\lib\\site-packages (from celery->dvc) (2.9.0.post0)\n",
      "Requirement already satisfied: six<2.0,>=1.12 in c:\\users\\achla\\appdata\\local\\programs\\python\\python313\\lib\\site-packages (from flatten_dict<1,>=0.4.1->dvc) (1.17.0)\n",
      "Requirement already satisfied: atpublic in c:\\users\\achla\\appdata\\local\\programs\\python\\python313\\lib\\site-packages (from flufl.lock<9,>=8.1.0->dvc) (6.0.1)\n",
      "Requirement already satisfied: entrypoints in c:\\users\\achla\\appdata\\local\\programs\\python\\python313\\lib\\site-packages (from gto<2,>=1.6.0->dvc) (0.4)\n",
      "Requirement already satisfied: pydantic!=2.0.0,<3,>=1.9.0 in c:\\users\\achla\\appdata\\local\\programs\\python\\python313\\lib\\site-packages (from gto<2,>=1.6.0->dvc) (1.10.23)\n",
      "Requirement already satisfied: semver>=2.13.0 in c:\\users\\achla\\appdata\\local\\programs\\python\\python313\\lib\\site-packages (from gto<2,>=1.6.0->dvc) (3.0.4)\n",
      "Requirement already satisfied: typer>=0.4.1 in c:\\users\\achla\\appdata\\local\\programs\\python\\python313\\lib\\site-packages (from gto<2,>=1.6.0->dvc) (0.17.4)\n",
      "Requirement already satisfied: amqp<6.0.0,>=5.1.1 in c:\\users\\achla\\appdata\\local\\programs\\python\\python313\\lib\\site-packages (from kombu->dvc) (5.3.1)\n",
      "Requirement already satisfied: tzdata>=2025.2 in c:\\users\\achla\\appdata\\local\\programs\\python\\python313\\lib\\site-packages (from kombu->dvc) (2025.2)\n",
      "Requirement already satisfied: typing-extensions>=4.2.0 in c:\\users\\achla\\appdata\\local\\programs\\python\\python313\\lib\\site-packages (from pydantic!=2.0.0,<3,>=1.9.0->gto<2,>=1.6.0->dvc) (4.15.0)\n",
      "Requirement already satisfied: gitpython>3 in c:\\users\\achla\\appdata\\local\\programs\\python\\python313\\lib\\site-packages (from scmrepo<4,>=3.5.2->dvc) (3.1.45)\n",
      "Requirement already satisfied: pygit2>=1.14.0 in c:\\users\\achla\\appdata\\local\\programs\\python\\python313\\lib\\site-packages (from scmrepo<4,>=3.5.2->dvc) (1.18.2)\n",
      "Requirement already satisfied: asyncssh<3,>=2.13.1 in c:\\users\\achla\\appdata\\local\\programs\\python\\python313\\lib\\site-packages (from scmrepo<4,>=3.5.2->dvc) (2.21.0)\n",
      "Requirement already satisfied: aiohttp-retry>=2.5.0 in c:\\users\\achla\\appdata\\local\\programs\\python\\python313\\lib\\site-packages (from scmrepo<4,>=3.5.2->dvc) (2.9.1)\n",
      "Requirement already satisfied: cryptography>=39.0 in c:\\users\\achla\\appdata\\local\\programs\\python\\python313\\lib\\site-packages (from asyncssh<3,>=2.13.1->scmrepo<4,>=3.5.2->dvc) (46.0.1)\n",
      "Requirement already satisfied: aiohttp in c:\\users\\achla\\appdata\\local\\programs\\python\\python313\\lib\\site-packages (from aiohttp-retry>=2.5.0->scmrepo<4,>=3.5.2->dvc) (3.12.15)\n",
      "Requirement already satisfied: prompt-toolkit>=3.0.36 in c:\\users\\achla\\appdata\\local\\programs\\python\\python313\\lib\\site-packages (from click-repl>=0.2.0->celery->dvc) (3.0.52)\n",
      "Requirement already satisfied: cffi>=2.0.0 in c:\\users\\achla\\appdata\\local\\programs\\python\\python313\\lib\\site-packages (from cryptography>=39.0->asyncssh<3,>=2.13.1->scmrepo<4,>=3.5.2->dvc) (2.0.0)\n",
      "Requirement already satisfied: pycparser in c:\\users\\achla\\appdata\\local\\programs\\python\\python313\\lib\\site-packages (from cffi>=2.0.0->cryptography>=39.0->asyncssh<3,>=2.13.1->scmrepo<4,>=3.5.2->dvc) (2.23)\n",
      "Requirement already satisfied: urllib3>=1.25 in c:\\users\\achla\\appdata\\local\\programs\\python\\python313\\lib\\site-packages (from dulwich->dvc) (2.5.0)\n",
      "Requirement already satisfied: gitdb<5,>=4.0.1 in c:\\users\\achla\\appdata\\local\\programs\\python\\python313\\lib\\site-packages (from gitpython>3->scmrepo<4,>=3.5.2->dvc) (4.0.12)\n",
      "Requirement already satisfied: smmap<6,>=3.0.1 in c:\\users\\achla\\appdata\\local\\programs\\python\\python313\\lib\\site-packages (from gitdb<5,>=4.0.1->gitpython>3->scmrepo<4,>=3.5.2->dvc) (5.0.2)\n",
      "Requirement already satisfied: antlr4-python3-runtime==4.9.* in c:\\users\\achla\\appdata\\local\\programs\\python\\python313\\lib\\site-packages (from hydra-core>=1.1->dvc) (4.9.3)\n",
      "Requirement already satisfied: PyYAML>=5.1.0 in c:\\users\\achla\\appdata\\local\\programs\\python\\python313\\lib\\site-packages (from omegaconf->dvc) (6.0.2)\n",
      "Requirement already satisfied: appdirs in c:\\users\\achla\\appdata\\local\\programs\\python\\python313\\lib\\site-packages (from iterative-telemetry>=0.0.7->dvc) (1.4.4)\n",
      "Requirement already satisfied: filelock in c:\\users\\achla\\appdata\\local\\programs\\python\\python313\\lib\\site-packages (from iterative-telemetry>=0.0.7->dvc) (3.19.1)\n",
      "Requirement already satisfied: wcwidth in c:\\users\\achla\\appdata\\local\\programs\\python\\python313\\lib\\site-packages (from prompt-toolkit>=3.0.36->click-repl>=0.2.0->celery->dvc) (0.2.13)\n",
      "Requirement already satisfied: charset_normalizer<4,>=2 in c:\\users\\achla\\appdata\\local\\programs\\python\\python313\\lib\\site-packages (from requests>=2.22->dvc) (3.4.3)\n",
      "Requirement already satisfied: idna<4,>=2.5 in c:\\users\\achla\\appdata\\local\\programs\\python\\python313\\lib\\site-packages (from requests>=2.22->dvc) (3.10)\n",
      "Requirement already satisfied: certifi>=2017.4.17 in c:\\users\\achla\\appdata\\local\\programs\\python\\python313\\lib\\site-packages (from requests>=2.22->dvc) (2025.8.3)\n",
      "Requirement already satisfied: markdown-it-py>=2.2.0 in c:\\users\\achla\\appdata\\local\\programs\\python\\python313\\lib\\site-packages (from rich>=12->dvc) (4.0.0)\n",
      "Requirement already satisfied: pygments<3.0.0,>=2.13.0 in c:\\users\\achla\\appdata\\local\\programs\\python\\python313\\lib\\site-packages (from rich>=12->dvc) (2.19.2)\n",
      "Requirement already satisfied: mdurl~=0.1 in c:\\users\\achla\\appdata\\local\\programs\\python\\python313\\lib\\site-packages (from markdown-it-py>=2.2.0->rich>=12->dvc) (0.1.2)\n",
      "Requirement already satisfied: ruamel.yaml.clib>=0.2.7 in c:\\users\\achla\\appdata\\local\\programs\\python\\python313\\lib\\site-packages (from ruamel.yaml>=0.17.11->dvc) (0.2.12)\n",
      "Requirement already satisfied: shellingham>=1.3.0 in c:\\users\\achla\\appdata\\local\\programs\\python\\python313\\lib\\site-packages (from typer>=0.4.1->gto<2,>=1.6.0->dvc) (1.5.4)\n",
      "Requirement already satisfied: setuptools in c:\\users\\achla\\appdata\\local\\programs\\python\\python313\\lib\\site-packages (from zc.lockfile>=1.2.1->dvc) (80.9.0)\n",
      "Requirement already satisfied: aiohappyeyeballs>=2.5.0 in c:\\users\\achla\\appdata\\local\\programs\\python\\python313\\lib\\site-packages (from aiohttp->aiohttp-retry>=2.5.0->scmrepo<4,>=3.5.2->dvc) (2.6.1)\n",
      "Requirement already satisfied: aiosignal>=1.4.0 in c:\\users\\achla\\appdata\\local\\programs\\python\\python313\\lib\\site-packages (from aiohttp->aiohttp-retry>=2.5.0->scmrepo<4,>=3.5.2->dvc) (1.4.0)\n",
      "Requirement already satisfied: frozenlist>=1.1.1 in c:\\users\\achla\\appdata\\local\\programs\\python\\python313\\lib\\site-packages (from aiohttp->aiohttp-retry>=2.5.0->scmrepo<4,>=3.5.2->dvc) (1.7.0)\n",
      "Requirement already satisfied: multidict<7.0,>=4.5 in c:\\users\\achla\\appdata\\local\\programs\\python\\python313\\lib\\site-packages (from aiohttp->aiohttp-retry>=2.5.0->scmrepo<4,>=3.5.2->dvc) (6.6.4)\n",
      "Requirement already satisfied: propcache>=0.2.0 in c:\\users\\achla\\appdata\\local\\programs\\python\\python313\\lib\\site-packages (from aiohttp->aiohttp-retry>=2.5.0->scmrepo<4,>=3.5.2->dvc) (0.3.2)\n",
      "Requirement already satisfied: yarl<2.0,>=1.17.0 in c:\\users\\achla\\appdata\\local\\programs\\python\\python313\\lib\\site-packages (from aiohttp->aiohttp-retry>=2.5.0->scmrepo<4,>=3.5.2->dvc) (1.20.1)\n"
     ]
    }
   ],
   "source": [
    "!pip install dvc"
   ]
  },
  {
   "cell_type": "code",
   "execution_count": 2,
   "id": "685714be-f1ca-497b-a30b-e85e509f536a",
   "metadata": {},
   "outputs": [
    {
     "name": "stdout",
     "output_type": "stream",
     "text": [
      "Requirement already satisfied: dvclive in c:\\users\\achla\\appdata\\local\\programs\\python\\python313\\lib\\site-packages (3.48.5)\n",
      "Requirement already satisfied: dvc>=3.48.4 in c:\\users\\achla\\appdata\\local\\programs\\python\\python313\\lib\\site-packages (from dvclive) (3.63.0)\n",
      "Requirement already satisfied: dvc-render<2,>=1.0.0 in c:\\users\\achla\\appdata\\local\\programs\\python\\python313\\lib\\site-packages (from dvclive) (1.0.2)\n",
      "Requirement already satisfied: dvc-studio-client<1,>=0.20 in c:\\users\\achla\\appdata\\local\\programs\\python\\python313\\lib\\site-packages (from dvclive) (0.22.0)\n",
      "Requirement already satisfied: funcy in c:\\users\\achla\\appdata\\local\\programs\\python\\python313\\lib\\site-packages (from dvclive) (2.0)\n",
      "Requirement already satisfied: gto in c:\\users\\achla\\appdata\\local\\programs\\python\\python313\\lib\\site-packages (from dvclive) (1.8.0)\n",
      "Requirement already satisfied: ruamel.yaml in c:\\users\\achla\\appdata\\local\\programs\\python\\python313\\lib\\site-packages (from dvclive) (0.18.15)\n",
      "Requirement already satisfied: scmrepo<4,>=3 in c:\\users\\achla\\appdata\\local\\programs\\python\\python313\\lib\\site-packages (from dvclive) (3.5.2)\n",
      "Requirement already satisfied: psutil in c:\\users\\achla\\appdata\\local\\programs\\python\\python313\\lib\\site-packages (from dvclive) (7.0.0)\n",
      "Requirement already satisfied: pynvml in c:\\users\\achla\\appdata\\local\\programs\\python\\python313\\lib\\site-packages (from dvclive) (13.0.1)\n",
      "Requirement already satisfied: dulwich in c:\\users\\achla\\appdata\\local\\programs\\python\\python313\\lib\\site-packages (from dvc-studio-client<1,>=0.20->dvclive) (0.24.1)\n",
      "Requirement already satisfied: requests in c:\\users\\achla\\appdata\\local\\programs\\python\\python313\\lib\\site-packages (from dvc-studio-client<1,>=0.20->dvclive) (2.32.5)\n",
      "Requirement already satisfied: voluptuous in c:\\users\\achla\\appdata\\local\\programs\\python\\python313\\lib\\site-packages (from dvc-studio-client<1,>=0.20->dvclive) (0.15.2)\n",
      "Requirement already satisfied: gitpython>3 in c:\\users\\achla\\appdata\\local\\programs\\python\\python313\\lib\\site-packages (from scmrepo<4,>=3->dvclive) (3.1.45)\n",
      "Requirement already satisfied: pygit2>=1.14.0 in c:\\users\\achla\\appdata\\local\\programs\\python\\python313\\lib\\site-packages (from scmrepo<4,>=3->dvclive) (1.18.2)\n",
      "Requirement already satisfied: pygtrie>=2.3.2 in c:\\users\\achla\\appdata\\local\\programs\\python\\python313\\lib\\site-packages (from scmrepo<4,>=3->dvclive) (2.5.0)\n",
      "Requirement already satisfied: fsspec>=2024.2.0 in c:\\users\\achla\\appdata\\local\\programs\\python\\python313\\lib\\site-packages (from fsspec[tqdm]>=2024.2.0->scmrepo<4,>=3->dvclive) (2025.9.0)\n",
      "Requirement already satisfied: pathspec>=0.9.0 in c:\\users\\achla\\appdata\\local\\programs\\python\\python313\\lib\\site-packages (from scmrepo<4,>=3->dvclive) (0.12.1)\n",
      "Requirement already satisfied: asyncssh<3,>=2.13.1 in c:\\users\\achla\\appdata\\local\\programs\\python\\python313\\lib\\site-packages (from scmrepo<4,>=3->dvclive) (2.21.0)\n",
      "Requirement already satisfied: aiohttp-retry>=2.5.0 in c:\\users\\achla\\appdata\\local\\programs\\python\\python313\\lib\\site-packages (from scmrepo<4,>=3->dvclive) (2.9.1)\n",
      "Requirement already satisfied: tqdm in c:\\users\\achla\\appdata\\local\\programs\\python\\python313\\lib\\site-packages (from scmrepo<4,>=3->dvclive) (4.67.1)\n",
      "Requirement already satisfied: cryptography>=39.0 in c:\\users\\achla\\appdata\\local\\programs\\python\\python313\\lib\\site-packages (from asyncssh<3,>=2.13.1->scmrepo<4,>=3->dvclive) (46.0.1)\n",
      "Requirement already satisfied: typing_extensions>=4.0.0 in c:\\users\\achla\\appdata\\local\\programs\\python\\python313\\lib\\site-packages (from asyncssh<3,>=2.13.1->scmrepo<4,>=3->dvclive) (4.15.0)\n",
      "Requirement already satisfied: aiohttp in c:\\users\\achla\\appdata\\local\\programs\\python\\python313\\lib\\site-packages (from aiohttp-retry>=2.5.0->scmrepo<4,>=3->dvclive) (3.12.15)\n",
      "Requirement already satisfied: cffi>=2.0.0 in c:\\users\\achla\\appdata\\local\\programs\\python\\python313\\lib\\site-packages (from cryptography>=39.0->asyncssh<3,>=2.13.1->scmrepo<4,>=3->dvclive) (2.0.0)\n",
      "Requirement already satisfied: pycparser in c:\\users\\achla\\appdata\\local\\programs\\python\\python313\\lib\\site-packages (from cffi>=2.0.0->cryptography>=39.0->asyncssh<3,>=2.13.1->scmrepo<4,>=3->dvclive) (2.23)\n",
      "Requirement already satisfied: urllib3>=1.25 in c:\\users\\achla\\appdata\\local\\programs\\python\\python313\\lib\\site-packages (from dulwich->dvc-studio-client<1,>=0.20->dvclive) (2.5.0)\n",
      "Requirement already satisfied: attrs>=22.2.0 in c:\\users\\achla\\appdata\\local\\programs\\python\\python313\\lib\\site-packages (from dvc>=3.48.4->dvclive) (25.3.0)\n",
      "Requirement already satisfied: celery in c:\\users\\achla\\appdata\\local\\programs\\python\\python313\\lib\\site-packages (from dvc>=3.48.4->dvclive) (5.5.3)\n",
      "Requirement already satisfied: colorama>=0.3.9 in c:\\users\\achla\\appdata\\local\\programs\\python\\python313\\lib\\site-packages (from dvc>=3.48.4->dvclive) (0.4.6)\n",
      "Requirement already satisfied: configobj>=5.0.9 in c:\\users\\achla\\appdata\\local\\programs\\python\\python313\\lib\\site-packages (from dvc>=3.48.4->dvclive) (5.0.9)\n",
      "Requirement already satisfied: distro>=1.3 in c:\\users\\achla\\appdata\\local\\programs\\python\\python313\\lib\\site-packages (from dvc>=3.48.4->dvclive) (1.9.0)\n",
      "Requirement already satisfied: dpath<3,>=2.1.0 in c:\\users\\achla\\appdata\\local\\programs\\python\\python313\\lib\\site-packages (from dvc>=3.48.4->dvclive) (2.2.0)\n",
      "Requirement already satisfied: dvc-data<3.17,>=3.16.2 in c:\\users\\achla\\appdata\\local\\programs\\python\\python313\\lib\\site-packages (from dvc>=3.48.4->dvclive) (3.16.12)\n",
      "Requirement already satisfied: dvc-http>=2.29.0 in c:\\users\\achla\\appdata\\local\\programs\\python\\python313\\lib\\site-packages (from dvc>=3.48.4->dvclive) (2.32.0)\n",
      "Requirement already satisfied: dvc-objects in c:\\users\\achla\\appdata\\local\\programs\\python\\python313\\lib\\site-packages (from dvc>=3.48.4->dvclive) (5.1.1)\n",
      "Requirement already satisfied: dvc-task<1,>=0.3.0 in c:\\users\\achla\\appdata\\local\\programs\\python\\python313\\lib\\site-packages (from dvc>=3.48.4->dvclive) (0.40.2)\n",
      "Requirement already satisfied: flatten_dict<1,>=0.4.1 in c:\\users\\achla\\appdata\\local\\programs\\python\\python313\\lib\\site-packages (from dvc>=3.48.4->dvclive) (0.4.2)\n",
      "Requirement already satisfied: flufl.lock<9,>=8.1.0 in c:\\users\\achla\\appdata\\local\\programs\\python\\python313\\lib\\site-packages (from dvc>=3.48.4->dvclive) (8.2.0)\n",
      "Requirement already satisfied: grandalf<1,>=0.7 in c:\\users\\achla\\appdata\\local\\programs\\python\\python313\\lib\\site-packages (from dvc>=3.48.4->dvclive) (0.8)\n",
      "Requirement already satisfied: hydra-core>=1.1 in c:\\users\\achla\\appdata\\local\\programs\\python\\python313\\lib\\site-packages (from dvc>=3.48.4->dvclive) (1.3.2)\n",
      "Requirement already satisfied: iterative-telemetry>=0.0.7 in c:\\users\\achla\\appdata\\local\\programs\\python\\python313\\lib\\site-packages (from dvc>=3.48.4->dvclive) (0.0.10)\n",
      "Requirement already satisfied: kombu in c:\\users\\achla\\appdata\\local\\programs\\python\\python313\\lib\\site-packages (from dvc>=3.48.4->dvclive) (5.5.4)\n",
      "Requirement already satisfied: networkx>=2.5 in c:\\users\\achla\\appdata\\local\\programs\\python\\python313\\lib\\site-packages (from dvc>=3.48.4->dvclive) (3.5)\n",
      "Requirement already satisfied: omegaconf in c:\\users\\achla\\appdata\\local\\programs\\python\\python313\\lib\\site-packages (from dvc>=3.48.4->dvclive) (2.3.0)\n",
      "Requirement already satisfied: packaging>=19 in c:\\users\\achla\\appdata\\local\\programs\\python\\python313\\lib\\site-packages (from dvc>=3.48.4->dvclive) (25.0)\n",
      "Requirement already satisfied: platformdirs<5,>=3.1.1 in c:\\users\\achla\\appdata\\local\\programs\\python\\python313\\lib\\site-packages (from dvc>=3.48.4->dvclive) (4.4.0)\n",
      "Requirement already satisfied: pydot>=1.2.4 in c:\\users\\achla\\appdata\\local\\programs\\python\\python313\\lib\\site-packages (from dvc>=3.48.4->dvclive) (4.0.1)\n",
      "Requirement already satisfied: pyparsing>=2.4.7 in c:\\users\\achla\\appdata\\local\\programs\\python\\python313\\lib\\site-packages (from dvc>=3.48.4->dvclive) (3.2.3)\n",
      "Requirement already satisfied: rich>=12 in c:\\users\\achla\\appdata\\local\\programs\\python\\python313\\lib\\site-packages (from dvc>=3.48.4->dvclive) (14.1.0)\n",
      "Requirement already satisfied: shortuuid>=0.5 in c:\\users\\achla\\appdata\\local\\programs\\python\\python313\\lib\\site-packages (from dvc>=3.48.4->dvclive) (1.0.13)\n",
      "Requirement already satisfied: shtab<2,>=1.3.4 in c:\\users\\achla\\appdata\\local\\programs\\python\\python313\\lib\\site-packages (from dvc>=3.48.4->dvclive) (1.7.2)\n",
      "Requirement already satisfied: tabulate>=0.8.7 in c:\\users\\achla\\appdata\\local\\programs\\python\\python313\\lib\\site-packages (from dvc>=3.48.4->dvclive) (0.9.0)\n",
      "Requirement already satisfied: tomlkit>=0.11.1 in c:\\users\\achla\\appdata\\local\\programs\\python\\python313\\lib\\site-packages (from dvc>=3.48.4->dvclive) (0.13.3)\n",
      "Requirement already satisfied: zc.lockfile>=1.2.1 in c:\\users\\achla\\appdata\\local\\programs\\python\\python313\\lib\\site-packages (from dvc>=3.48.4->dvclive) (4.0)\n",
      "Requirement already satisfied: dictdiffer>=0.8.1 in c:\\users\\achla\\appdata\\local\\programs\\python\\python313\\lib\\site-packages (from dvc-data<3.17,>=3.16.2->dvc>=3.48.4->dvclive) (0.9.0)\n",
      "Requirement already satisfied: diskcache>=5.2.1 in c:\\users\\achla\\appdata\\local\\programs\\python\\python313\\lib\\site-packages (from dvc-data<3.17,>=3.16.2->dvc>=3.48.4->dvclive) (5.6.3)\n",
      "Requirement already satisfied: sqltrie<1,>=0.11.0 in c:\\users\\achla\\appdata\\local\\programs\\python\\python313\\lib\\site-packages (from dvc-data<3.17,>=3.16.2->dvc>=3.48.4->dvclive) (0.11.2)\n",
      "Requirement already satisfied: orjson<4,>=3 in c:\\users\\achla\\appdata\\local\\programs\\python\\python313\\lib\\site-packages (from dvc-data<3.17,>=3.16.2->dvc>=3.48.4->dvclive) (3.11.3)\n",
      "Requirement already satisfied: pywin32>=225 in c:\\users\\achla\\appdata\\local\\programs\\python\\python313\\lib\\site-packages (from dvc-task<1,>=0.3.0->dvc>=3.48.4->dvclive) (311)\n",
      "Requirement already satisfied: billiard<5.0,>=4.2.1 in c:\\users\\achla\\appdata\\local\\programs\\python\\python313\\lib\\site-packages (from celery->dvc>=3.48.4->dvclive) (4.2.1)\n",
      "Requirement already satisfied: vine<6.0,>=5.1.0 in c:\\users\\achla\\appdata\\local\\programs\\python\\python313\\lib\\site-packages (from celery->dvc>=3.48.4->dvclive) (5.1.0)\n",
      "Requirement already satisfied: click<9.0,>=8.1.2 in c:\\users\\achla\\appdata\\local\\programs\\python\\python313\\lib\\site-packages (from celery->dvc>=3.48.4->dvclive) (8.1.8)\n",
      "Requirement already satisfied: click-didyoumean>=0.3.0 in c:\\users\\achla\\appdata\\local\\programs\\python\\python313\\lib\\site-packages (from celery->dvc>=3.48.4->dvclive) (0.3.1)\n",
      "Requirement already satisfied: click-repl>=0.2.0 in c:\\users\\achla\\appdata\\local\\programs\\python\\python313\\lib\\site-packages (from celery->dvc>=3.48.4->dvclive) (0.3.0)\n",
      "Requirement already satisfied: click-plugins>=1.1.1 in c:\\users\\achla\\appdata\\local\\programs\\python\\python313\\lib\\site-packages (from celery->dvc>=3.48.4->dvclive) (1.1.1.2)\n",
      "Requirement already satisfied: python-dateutil>=2.8.2 in c:\\users\\achla\\appdata\\local\\programs\\python\\python313\\lib\\site-packages (from celery->dvc>=3.48.4->dvclive) (2.9.0.post0)\n",
      "Requirement already satisfied: six<2.0,>=1.12 in c:\\users\\achla\\appdata\\local\\programs\\python\\python313\\lib\\site-packages (from flatten_dict<1,>=0.4.1->dvc>=3.48.4->dvclive) (1.17.0)\n",
      "Requirement already satisfied: atpublic in c:\\users\\achla\\appdata\\local\\programs\\python\\python313\\lib\\site-packages (from flufl.lock<9,>=8.1.0->dvc>=3.48.4->dvclive) (6.0.1)\n",
      "Requirement already satisfied: entrypoints in c:\\users\\achla\\appdata\\local\\programs\\python\\python313\\lib\\site-packages (from gto->dvclive) (0.4)\n",
      "Requirement already satisfied: pydantic!=2.0.0,<3,>=1.9.0 in c:\\users\\achla\\appdata\\local\\programs\\python\\python313\\lib\\site-packages (from gto->dvclive) (1.10.23)\n",
      "Requirement already satisfied: semver>=2.13.0 in c:\\users\\achla\\appdata\\local\\programs\\python\\python313\\lib\\site-packages (from gto->dvclive) (3.0.4)\n",
      "Requirement already satisfied: typer>=0.4.1 in c:\\users\\achla\\appdata\\local\\programs\\python\\python313\\lib\\site-packages (from gto->dvclive) (0.17.4)\n",
      "Requirement already satisfied: amqp<6.0.0,>=5.1.1 in c:\\users\\achla\\appdata\\local\\programs\\python\\python313\\lib\\site-packages (from kombu->dvc>=3.48.4->dvclive) (5.3.1)\n",
      "Requirement already satisfied: tzdata>=2025.2 in c:\\users\\achla\\appdata\\local\\programs\\python\\python313\\lib\\site-packages (from kombu->dvc>=3.48.4->dvclive) (2025.2)\n",
      "Requirement already satisfied: prompt-toolkit>=3.0.36 in c:\\users\\achla\\appdata\\local\\programs\\python\\python313\\lib\\site-packages (from click-repl>=0.2.0->celery->dvc>=3.48.4->dvclive) (3.0.52)\n",
      "Requirement already satisfied: gitdb<5,>=4.0.1 in c:\\users\\achla\\appdata\\local\\programs\\python\\python313\\lib\\site-packages (from gitpython>3->scmrepo<4,>=3->dvclive) (4.0.12)\n",
      "Requirement already satisfied: smmap<6,>=3.0.1 in c:\\users\\achla\\appdata\\local\\programs\\python\\python313\\lib\\site-packages (from gitdb<5,>=4.0.1->gitpython>3->scmrepo<4,>=3->dvclive) (5.0.2)\n",
      "Requirement already satisfied: antlr4-python3-runtime==4.9.* in c:\\users\\achla\\appdata\\local\\programs\\python\\python313\\lib\\site-packages (from hydra-core>=1.1->dvc>=3.48.4->dvclive) (4.9.3)\n",
      "Requirement already satisfied: PyYAML>=5.1.0 in c:\\users\\achla\\appdata\\local\\programs\\python\\python313\\lib\\site-packages (from omegaconf->dvc>=3.48.4->dvclive) (6.0.2)\n",
      "Requirement already satisfied: appdirs in c:\\users\\achla\\appdata\\local\\programs\\python\\python313\\lib\\site-packages (from iterative-telemetry>=0.0.7->dvc>=3.48.4->dvclive) (1.4.4)\n",
      "Requirement already satisfied: filelock in c:\\users\\achla\\appdata\\local\\programs\\python\\python313\\lib\\site-packages (from iterative-telemetry>=0.0.7->dvc>=3.48.4->dvclive) (3.19.1)\n",
      "Requirement already satisfied: wcwidth in c:\\users\\achla\\appdata\\local\\programs\\python\\python313\\lib\\site-packages (from prompt-toolkit>=3.0.36->click-repl>=0.2.0->celery->dvc>=3.48.4->dvclive) (0.2.13)\n",
      "Requirement already satisfied: charset_normalizer<4,>=2 in c:\\users\\achla\\appdata\\local\\programs\\python\\python313\\lib\\site-packages (from requests->dvc-studio-client<1,>=0.20->dvclive) (3.4.3)\n",
      "Requirement already satisfied: idna<4,>=2.5 in c:\\users\\achla\\appdata\\local\\programs\\python\\python313\\lib\\site-packages (from requests->dvc-studio-client<1,>=0.20->dvclive) (3.10)\n",
      "Requirement already satisfied: certifi>=2017.4.17 in c:\\users\\achla\\appdata\\local\\programs\\python\\python313\\lib\\site-packages (from requests->dvc-studio-client<1,>=0.20->dvclive) (2025.8.3)\n",
      "Requirement already satisfied: markdown-it-py>=2.2.0 in c:\\users\\achla\\appdata\\local\\programs\\python\\python313\\lib\\site-packages (from rich>=12->dvc>=3.48.4->dvclive) (4.0.0)\n",
      "Requirement already satisfied: pygments<3.0.0,>=2.13.0 in c:\\users\\achla\\appdata\\local\\programs\\python\\python313\\lib\\site-packages (from rich>=12->dvc>=3.48.4->dvclive) (2.19.2)\n",
      "Requirement already satisfied: mdurl~=0.1 in c:\\users\\achla\\appdata\\local\\programs\\python\\python313\\lib\\site-packages (from markdown-it-py>=2.2.0->rich>=12->dvc>=3.48.4->dvclive) (0.1.2)\n",
      "Requirement already satisfied: ruamel.yaml.clib>=0.2.7 in c:\\users\\achla\\appdata\\local\\programs\\python\\python313\\lib\\site-packages (from ruamel.yaml->dvclive) (0.2.12)\n",
      "Requirement already satisfied: shellingham>=1.3.0 in c:\\users\\achla\\appdata\\local\\programs\\python\\python313\\lib\\site-packages (from typer>=0.4.1->gto->dvclive) (1.5.4)\n",
      "Requirement already satisfied: setuptools in c:\\users\\achla\\appdata\\local\\programs\\python\\python313\\lib\\site-packages (from zc.lockfile>=1.2.1->dvc>=3.48.4->dvclive) (80.9.0)\n",
      "Requirement already satisfied: aiohappyeyeballs>=2.5.0 in c:\\users\\achla\\appdata\\local\\programs\\python\\python313\\lib\\site-packages (from aiohttp->aiohttp-retry>=2.5.0->scmrepo<4,>=3->dvclive) (2.6.1)\n",
      "Requirement already satisfied: aiosignal>=1.4.0 in c:\\users\\achla\\appdata\\local\\programs\\python\\python313\\lib\\site-packages (from aiohttp->aiohttp-retry>=2.5.0->scmrepo<4,>=3->dvclive) (1.4.0)\n",
      "Requirement already satisfied: frozenlist>=1.1.1 in c:\\users\\achla\\appdata\\local\\programs\\python\\python313\\lib\\site-packages (from aiohttp->aiohttp-retry>=2.5.0->scmrepo<4,>=3->dvclive) (1.7.0)\n",
      "Requirement already satisfied: multidict<7.0,>=4.5 in c:\\users\\achla\\appdata\\local\\programs\\python\\python313\\lib\\site-packages (from aiohttp->aiohttp-retry>=2.5.0->scmrepo<4,>=3->dvclive) (6.6.4)\n",
      "Requirement already satisfied: propcache>=0.2.0 in c:\\users\\achla\\appdata\\local\\programs\\python\\python313\\lib\\site-packages (from aiohttp->aiohttp-retry>=2.5.0->scmrepo<4,>=3->dvclive) (0.3.2)\n",
      "Requirement already satisfied: yarl<2.0,>=1.17.0 in c:\\users\\achla\\appdata\\local\\programs\\python\\python313\\lib\\site-packages (from aiohttp->aiohttp-retry>=2.5.0->scmrepo<4,>=3->dvclive) (1.20.1)\n",
      "Requirement already satisfied: nvidia-ml-py>=12.0.0 in c:\\users\\achla\\appdata\\local\\programs\\python\\python313\\lib\\site-packages (from pynvml->dvclive) (13.580.82)\n"
     ]
    }
   ],
   "source": [
    "!pip install dvclive"
   ]
  },
  {
   "cell_type": "code",
   "execution_count": 3,
   "id": "c768b565-4a2b-4c1f-9a93-256dc6fc7d51",
   "metadata": {},
   "outputs": [
    {
     "name": "stdout",
     "output_type": "stream",
     "text": [
      "Reinitialized existing Git repository in C:/Users/achla/Downloads/ML/dvc/dvc_churn_prediction_hyperparemeters/.git/\n"
     ]
    },
    {
     "name": "stderr",
     "output_type": "stream",
     "text": [
      "ERROR: failed to initiate DVC - '.dvc' exists. Use `-f` to force.\n"
     ]
    }
   ],
   "source": [
    "!git init\n",
    "!dvc init"
   ]
  },
  {
   "cell_type": "code",
   "execution_count": 4,
   "id": "51844197-336f-47ab-b5eb-bf4e0d54ec83",
   "metadata": {},
   "outputs": [
    {
     "name": "stdout",
     "output_type": "stream",
     "text": [
      "On branch master\n",
      "\n",
      "No commits yet\n",
      "\n",
      "Changes to be committed:\n",
      "  (use \"git rm --cached <file>...\" to unstage)\n",
      "\tnew file:   .dvc/.gitignore\n",
      "\tnew file:   .dvc/config\n",
      "\tnew file:   .dvcignore\n",
      "\n",
      "Untracked files:\n",
      "  (use \"git add <file>...\" to include in what will be committed)\n",
      "\t.ipynb_checkpoints/\n",
      "\tChurnPrediction_HyperparameterTuningAndModelServing.ipynb\n",
      "\tDNC.ipynb\n",
      "\tdata/\n",
      "\tuntitled.txt\n",
      "\n"
     ]
    }
   ],
   "source": [
    "!git config --global user.name \"amsha16\"\n",
    "!git config --global user.email \"sharma.yashi@gmail.com\"\n",
    "!git status"
   ]
  },
  {
   "cell_type": "code",
   "execution_count": 5,
   "id": "c4862343-25b5-4520-bee6-33e0dd5d7dd5",
   "metadata": {},
   "outputs": [],
   "source": [
    "#!git remote add -f origin https://github.com/amsha16/dvc_churn_prediction_hyperparemeters.git \n",
    "!git remote set-url origin git@github.com:amsha16/dvc_churn_prediction_hyperparemeters.git\n",
    "!git branch -M main "
   ]
  },
  {
   "cell_type": "code",
   "execution_count": 6,
   "id": "d9d4c740-412d-40a6-9f23-28e66e084594",
   "metadata": {},
   "outputs": [
    {
     "name": "stdout",
     "output_type": "stream",
     "text": [
      "Setting 'localremote' as a default remote.\n",
      "localremote     C:\\Users\\achla\\Downloads\\ML\\dvc_stoarge3_hytuning       \n",
      "(default)\n",
      "On branch main\n",
      "\n",
      "No commits yet\n",
      "\n",
      "Changes to be committed:\n",
      "  (use \"git rm --cached <file>...\" to unstage)\n",
      "\tnew file:   .dvc/.gitignore\n",
      "\tnew file:   .dvc/config\n",
      "\tnew file:   .dvcignore\n",
      "\n",
      "Untracked files:\n",
      "  (use \"git add <file>...\" to include in what will be committed)\n",
      "\t.ipynb_checkpoints/\n",
      "\tChurnPrediction_HyperparameterTuningAndModelServing.ipynb\n",
      "\tDNC.ipynb\n",
      "\tdata/\n",
      "\tuntitled.txt\n",
      "\n"
     ]
    }
   ],
   "source": [
    "!dvc remote add -d localremote C:\\Users\\achla\\Downloads\\ML\\dvc_stoarge3_hytuning\n",
    "!dvc remote list\n",
    "!git add  .dvc/config\n",
    "!git status"
   ]
  },
  {
   "cell_type": "code",
   "execution_count": 6,
   "id": "779df929-56e6-4b27-9f38-636c4e8cd29c",
   "metadata": {},
   "outputs": [
    {
     "name": "stdout",
     "output_type": "stream",
     "text": [
      "On branch main\n",
      "Your branch is up to date with 'origin/main'.\n",
      "\n",
      "Changes not staged for commit:\n",
      "  (use \"git add <file>...\" to update what will be committed)\n",
      "  (use \"git restore <file>...\" to discard changes in working directory)\n",
      "\tmodified:   ChurnPrediction_HyperparameterTuningAndModelServing.ipynb\n",
      "\tmodified:   DNC.ipynb\n",
      "\n",
      "no changes added to commit (use \"git add\" and/or \"git commit -a\")\n",
      "branch 'main' set up to track 'origin/main'.\n"
     ]
    },
    {
     "name": "stderr",
     "output_type": "stream",
     "text": [
      "Everything up-to-date\n"
     ]
    },
    {
     "name": "stdout",
     "output_type": "stream",
     "text": [
      "commit 1f2f606638c8f82fedead816fa26fdc2bdf5a42f\n",
      "Author: amsha16 <sharma.yashi@gmail.com>\n",
      "Date:   Fri Sep 19 16:53:36 2025 +0530\n",
      "\n",
      "    HPY MLEM Commit\n",
      "\n",
      "commit 1406c264e139d876f3e442b490d6a7dacc6b02c0\n",
      "Author: amsha16 <sharma.yashi@gmail.com>\n",
      "Date:   Fri Sep 19 16:03:28 2025 +0530\n",
      "\n",
      "    Initialized DVC for churn prediction hyperparameter tuning\n"
     ]
    }
   ],
   "source": [
    "!git commit -m \"Initialized DVC for churn prediction hyperparameter tuning 1\"\n",
    "\n",
    "!git push -u origin main\n",
    "\n",
    "!git log"
   ]
  },
  {
   "cell_type": "markdown",
   "id": "af22b932-f35e-4041-ad7d-4cb8aa101b45",
   "metadata": {},
   "source": [
    "### add project to iterative studio"
   ]
  },
  {
   "cell_type": "code",
   "execution_count": 7,
   "id": "8bf24eb4-f68d-406d-bc6b-443a22e0441a",
   "metadata": {},
   "outputs": [],
   "source": [
    "!dvc config --global studio.token dsat_41WoMhvnVyXXyhNU0yHeZVIs1GbGbPqdgCvrzHymBmf904If8"
   ]
  },
  {
   "cell_type": "code",
   "execution_count": 8,
   "id": "36de38ab-b1a9-4afd-a9cf-b816bde3903f",
   "metadata": {},
   "outputs": [
    {
     "name": "stdout",
     "output_type": "stream",
     "text": [
      "Requirement already satisfied: scikit-learn in c:\\users\\achla\\appdata\\local\\programs\\python\\python313\\lib\\site-packages (1.7.2)\n",
      "Requirement already satisfied: numpy>=1.22.0 in c:\\users\\achla\\appdata\\local\\programs\\python\\python313\\lib\\site-packages (from scikit-learn) (2.3.3)\n",
      "Requirement already satisfied: scipy>=1.8.0 in c:\\users\\achla\\appdata\\local\\programs\\python\\python313\\lib\\site-packages (from scikit-learn) (1.16.2)\n",
      "Requirement already satisfied: joblib>=1.2.0 in c:\\users\\achla\\appdata\\local\\programs\\python\\python313\\lib\\site-packages (from scikit-learn) (1.5.2)\n",
      "Requirement already satisfied: threadpoolctl>=3.1.0 in c:\\users\\achla\\appdata\\local\\programs\\python\\python313\\lib\\site-packages (from scikit-learn) (3.6.0)\n"
     ]
    }
   ],
   "source": [
    "!pip install scikit-learn"
   ]
  },
  {
   "cell_type": "code",
   "execution_count": 9,
   "id": "de62ff2a-9ec2-4561-9437-246582baf7ff",
   "metadata": {},
   "outputs": [],
   "source": [
    "import pandas as pd\n",
    "import numpy as np\n",
    "\n",
    "from sklearn.compose import ColumnTransformer\n",
    "from sklearn.pipeline import Pipeline\n",
    "from sklearn.impute import SimpleImputer\n",
    "from sklearn.preprocessing import StandardScaler, OneHotEncoder\n",
    "from sklearn.model_selection import train_test_split"
   ]
  },
  {
   "cell_type": "code",
   "execution_count": 10,
   "id": "5d1183c9-3f5f-4c51-b2e3-a115cc608dab",
   "metadata": {},
   "outputs": [
    {
     "data": {
      "text/html": [
       "<div>\n",
       "<style scoped>\n",
       "    .dataframe tbody tr th:only-of-type {\n",
       "        vertical-align: middle;\n",
       "    }\n",
       "\n",
       "    .dataframe tbody tr th {\n",
       "        vertical-align: top;\n",
       "    }\n",
       "\n",
       "    .dataframe thead th {\n",
       "        text-align: right;\n",
       "    }\n",
       "</style>\n",
       "<table border=\"1\" class=\"dataframe\">\n",
       "  <thead>\n",
       "    <tr style=\"text-align: right;\">\n",
       "      <th></th>\n",
       "      <th>Age</th>\n",
       "      <th>FrequentFlyer</th>\n",
       "      <th>AnnualIncomeClass</th>\n",
       "      <th>ServicesOpted</th>\n",
       "      <th>AccountSyncedToSocialMedia</th>\n",
       "      <th>BookedHotelOrNot</th>\n",
       "      <th>Target</th>\n",
       "    </tr>\n",
       "  </thead>\n",
       "  <tbody>\n",
       "    <tr>\n",
       "      <th>0</th>\n",
       "      <td>34</td>\n",
       "      <td>No</td>\n",
       "      <td>Middle Income</td>\n",
       "      <td>6</td>\n",
       "      <td>No</td>\n",
       "      <td>Yes</td>\n",
       "      <td>0</td>\n",
       "    </tr>\n",
       "    <tr>\n",
       "      <th>1</th>\n",
       "      <td>34</td>\n",
       "      <td>Yes</td>\n",
       "      <td>Low Income</td>\n",
       "      <td>5</td>\n",
       "      <td>Yes</td>\n",
       "      <td>No</td>\n",
       "      <td>1</td>\n",
       "    </tr>\n",
       "    <tr>\n",
       "      <th>2</th>\n",
       "      <td>37</td>\n",
       "      <td>No</td>\n",
       "      <td>Middle Income</td>\n",
       "      <td>3</td>\n",
       "      <td>Yes</td>\n",
       "      <td>No</td>\n",
       "      <td>0</td>\n",
       "    </tr>\n",
       "    <tr>\n",
       "      <th>3</th>\n",
       "      <td>30</td>\n",
       "      <td>No</td>\n",
       "      <td>Middle Income</td>\n",
       "      <td>2</td>\n",
       "      <td>No</td>\n",
       "      <td>No</td>\n",
       "      <td>0</td>\n",
       "    </tr>\n",
       "    <tr>\n",
       "      <th>4</th>\n",
       "      <td>30</td>\n",
       "      <td>No</td>\n",
       "      <td>Low Income</td>\n",
       "      <td>1</td>\n",
       "      <td>No</td>\n",
       "      <td>No</td>\n",
       "      <td>0</td>\n",
       "    </tr>\n",
       "  </tbody>\n",
       "</table>\n",
       "</div>"
      ],
      "text/plain": [
       "   Age FrequentFlyer AnnualIncomeClass  ServicesOpted  \\\n",
       "0   34            No     Middle Income              6   \n",
       "1   34           Yes        Low Income              5   \n",
       "2   37            No     Middle Income              3   \n",
       "3   30            No     Middle Income              2   \n",
       "4   30            No        Low Income              1   \n",
       "\n",
       "  AccountSyncedToSocialMedia BookedHotelOrNot  Target  \n",
       "0                         No              Yes       0  \n",
       "1                        Yes               No       1  \n",
       "2                        Yes               No       0  \n",
       "3                         No               No       0  \n",
       "4                         No               No       0  "
      ]
     },
     "execution_count": 10,
     "metadata": {},
     "output_type": "execute_result"
    }
   ],
   "source": [
    "travel_churn_data = pd.read_csv('data/CustomerTravel.csv')\n",
    "\n",
    "travel_churn_data.head()"
   ]
  },
  {
   "cell_type": "code",
   "execution_count": 11,
   "id": "46ae45af-87aa-4f6e-bc6e-07e05026a806",
   "metadata": {},
   "outputs": [
    {
     "data": {
      "text/plain": [
       "(447, 7)"
      ]
     },
     "execution_count": 11,
     "metadata": {},
     "output_type": "execute_result"
    }
   ],
   "source": [
    "travel_churn_data = travel_churn_data.drop_duplicates()\n",
    "\n",
    "travel_churn_data.shape"
   ]
  },
  {
   "cell_type": "code",
   "execution_count": 12,
   "id": "cad98418-ecff-4f71-9f31-8be45661435e",
   "metadata": {},
   "outputs": [
    {
     "name": "stderr",
     "output_type": "stream",
     "text": [
      "C:\\Users\\achla\\AppData\\Local\\Temp\\ipykernel_24676\\2425412443.py:3: FutureWarning: Downcasting behavior in `replace` is deprecated and will be removed in a future version. To retain the old behavior, explicitly call `result.infer_objects(copy=False)`. To opt-in to the future behavior, set `pd.set_option('future.no_silent_downcasting', True)`\n",
      "  travel_churn_data['AnnualIncomeClass'] = travel_churn_data['AnnualIncomeClass'].replace(mapper)\n"
     ]
    }
   ],
   "source": [
    "mapper = {'Low Income': 0,'Middle Income': 1, 'High Income': 2}\n",
    "\n",
    "travel_churn_data['AnnualIncomeClass'] = travel_churn_data['AnnualIncomeClass'].replace(mapper)"
   ]
  },
  {
   "cell_type": "code",
   "execution_count": 13,
   "id": "f1ffd529-a4dd-4464-8411-3d9b583258c9",
   "metadata": {},
   "outputs": [],
   "source": [
    "categorical_features = [\n",
    "    'FrequentFlyer',\n",
    "    'AccountSyncedToSocialMedia', \n",
    "    'BookedHotelOrNot'\n",
    "]\n",
    "\n",
    "categorical_transformer = Pipeline(\n",
    "    steps=[('encoder', OneHotEncoder(handle_unknown = 'ignore', drop = 'first'))]\n",
    ")\n",
    "\n",
    "preprocessor = ColumnTransformer(\n",
    "    transformers = [('cat_tr', categorical_transformer, categorical_features)], \n",
    "    remainder = StandardScaler()\n",
    ")"
   ]
  },
  {
   "cell_type": "code",
   "execution_count": 14,
   "id": "2c3160e7-545e-4460-b35a-3fa5a00e04a6",
   "metadata": {},
   "outputs": [],
   "source": [
    "X = travel_churn_data.drop(labels = ['Target'], axis = 1)\n",
    " \n",
    "y = travel_churn_data['Target']\n",
    " \n",
    "from sklearn.model_selection import train_test_split\n",
    " \n",
    "X_train, X_test, y_train, y_test = train_test_split(X, y, test_size = 0.2, random_state = 124)"
   ]
  },
  {
   "cell_type": "code",
   "execution_count": 15,
   "id": "041d0593-2a66-42de-959d-0b2c27d450a9",
   "metadata": {},
   "outputs": [
    {
     "name": "stdout",
     "output_type": "stream",
     "text": [
      "Requirement already satisfied: optuna in c:\\users\\achla\\appdata\\local\\programs\\python\\python313\\lib\\site-packages (4.5.0)\n",
      "Requirement already satisfied: alembic>=1.5.0 in c:\\users\\achla\\appdata\\local\\programs\\python\\python313\\lib\\site-packages (from optuna) (1.16.5)\n",
      "Requirement already satisfied: colorlog in c:\\users\\achla\\appdata\\local\\programs\\python\\python313\\lib\\site-packages (from optuna) (6.9.0)\n",
      "Requirement already satisfied: numpy in c:\\users\\achla\\appdata\\local\\programs\\python\\python313\\lib\\site-packages (from optuna) (2.3.3)\n",
      "Requirement already satisfied: packaging>=20.0 in c:\\users\\achla\\appdata\\local\\programs\\python\\python313\\lib\\site-packages (from optuna) (25.0)\n",
      "Requirement already satisfied: sqlalchemy>=1.4.2 in c:\\users\\achla\\appdata\\local\\programs\\python\\python313\\lib\\site-packages (from optuna) (2.0.43)\n",
      "Requirement already satisfied: tqdm in c:\\users\\achla\\appdata\\local\\programs\\python\\python313\\lib\\site-packages (from optuna) (4.67.1)\n",
      "Requirement already satisfied: PyYAML in c:\\users\\achla\\appdata\\local\\programs\\python\\python313\\lib\\site-packages (from optuna) (6.0.2)\n",
      "Requirement already satisfied: Mako in c:\\users\\achla\\appdata\\local\\programs\\python\\python313\\lib\\site-packages (from alembic>=1.5.0->optuna) (1.3.10)\n",
      "Requirement already satisfied: typing-extensions>=4.12 in c:\\users\\achla\\appdata\\local\\programs\\python\\python313\\lib\\site-packages (from alembic>=1.5.0->optuna) (4.15.0)\n",
      "Requirement already satisfied: greenlet>=1 in c:\\users\\achla\\appdata\\local\\programs\\python\\python313\\lib\\site-packages (from sqlalchemy>=1.4.2->optuna) (3.2.4)\n",
      "Requirement already satisfied: colorama in c:\\users\\achla\\appdata\\local\\programs\\python\\python313\\lib\\site-packages (from colorlog->optuna) (0.4.6)\n",
      "Requirement already satisfied: MarkupSafe>=0.9.2 in c:\\users\\achla\\appdata\\local\\programs\\python\\python313\\lib\\site-packages (from Mako->alembic>=1.5.0->optuna) (3.0.2)\n"
     ]
    }
   ],
   "source": [
    "!pip install optuna"
   ]
  },
  {
   "cell_type": "code",
   "execution_count": 16,
   "id": "01bfd88f-988f-4767-b22c-f50ec97fb9a6",
   "metadata": {},
   "outputs": [
    {
     "name": "stdout",
     "output_type": "stream",
     "text": [
      "Requirement already satisfied: xgboost in c:\\users\\achla\\appdata\\local\\programs\\python\\python313\\lib\\site-packages (3.0.5)\n",
      "Requirement already satisfied: numpy in c:\\users\\achla\\appdata\\local\\programs\\python\\python313\\lib\\site-packages (from xgboost) (2.3.3)\n",
      "Requirement already satisfied: scipy in c:\\users\\achla\\appdata\\local\\programs\\python\\python313\\lib\\site-packages (from xgboost) (1.16.2)\n"
     ]
    }
   ],
   "source": [
    "!pip install xgboost"
   ]
  },
  {
   "cell_type": "code",
   "execution_count": 17,
   "id": "24aec7bc-8488-4d72-944e-3bf156570b51",
   "metadata": {},
   "outputs": [],
   "source": [
    "from xgboost.sklearn import XGBClassifier\n",
    "\n",
    "from sklearn.metrics import accuracy_score, precision_score, recall_score, f1_score, roc_auc_score\n",
    "\n",
    "def objective(trial):\n",
    "    \"\"\"Define the objective function\"\"\"\n",
    "\n",
    "    params = {\n",
    "        'max_depth': trial.suggest_int('max_depth', 1, 15, log = True),\n",
    "        'learning_rate': trial.suggest_float('learning_rate', 0.01, 1.0, log = True),\n",
    "        'n_estimators': trial.suggest_int('n_estimators', 50, 500, log = True),\n",
    "        'min_child_weight': trial.suggest_int('min_child_weight', 1, 10, log = True),\n",
    "        'lambda': trial.suggest_float('lambda', 1e-3, 10.0, log = True),\n",
    "        'alpha': trial.suggest_float('alpha', 1e-3, 10.0,log = True),\n",
    "    }\n",
    "\n",
    "    xgb_model = XGBClassifier(**params)\n",
    "    \n",
    "    pipe_xgb = Pipeline(steps = [('preprocessor', preprocessor), ('classifier', xgb_model )])\n",
    "    pipe_xgb.fit(X_train, y_train)\n",
    "\n",
    "    predictions = pipe_xgb.predict(X_test)\n",
    "    test_f1_score = f1_score(y_test, predictions)\n",
    "\n",
    "    return test_f1_score"
   ]
  },
  {
   "cell_type": "code",
   "execution_count": 18,
   "id": "1b7c442d-e79e-46f9-9adf-46efbdfcd5f2",
   "metadata": {},
   "outputs": [
    {
     "name": "stderr",
     "output_type": "stream",
     "text": [
      "[I 2025-09-28 14:09:40,618] A new study created in memory with name: no-name-d40e1db0-75cb-4d93-8df9-c0929a2ffdb3\n"
     ]
    },
    {
     "name": "stdout",
     "output_type": "stream",
     "text": [
      "Sampler is TPESampler\n"
     ]
    }
   ],
   "source": [
    "import optuna\n",
    "\n",
    "study = optuna.create_study(direction = 'maximize')\n",
    "\n",
    "print(f\"Sampler is {study.sampler.__class__.__name__}\")"
   ]
  },
  {
   "cell_type": "code",
   "execution_count": 19,
   "id": "3d598a76-1d2a-4432-b7f6-88f16f1648de",
   "metadata": {},
   "outputs": [
    {
     "name": "stderr",
     "output_type": "stream",
     "text": [
      "C:\\Users\\achla\\AppData\\Local\\Programs\\Python\\Python313\\Lib\\site-packages\\dvclive\\monitor_system.py:11: FutureWarning: The pynvml package is deprecated. Please install nvidia-ml-py instead. If you did not install pynvml directly, please report this to the maintainers of the package that installed pynvml for you.\n",
      "  from pynvml import (\n",
      "[I 2025-09-28 14:10:06,071] Trial 0 finished with value: 0.6181818181818182 and parameters: {'max_depth': 14, 'learning_rate': 0.23517186332102857, 'n_estimators': 66, 'min_child_weight': 2, 'lambda': 0.11619453689424977, 'alpha': 0.04548692648542376}. Best is trial 0 with value: 0.6181818181818182.\n",
      "[I 2025-09-28 14:10:14,857] Trial 1 finished with value: 0.5882352941176471 and parameters: {'max_depth': 2, 'learning_rate': 0.5341815280208947, 'n_estimators': 298, 'min_child_weight': 6, 'lambda': 0.054655950638889325, 'alpha': 1.0427974146161614}. Best is trial 0 with value: 0.6181818181818182.\n",
      "[I 2025-09-28 14:10:20,985] Trial 2 finished with value: 0.5531914893617021 and parameters: {'max_depth': 5, 'learning_rate': 0.4920504448459161, 'n_estimators': 387, 'min_child_weight': 2, 'lambda': 0.001087592476357719, 'alpha': 4.98004195328483}. Best is trial 0 with value: 0.6181818181818182.\n",
      "[I 2025-09-28 14:10:26,738] Trial 3 finished with value: 0.30303030303030304 and parameters: {'max_depth': 1, 'learning_rate': 0.025124517539445418, 'n_estimators': 451, 'min_child_weight': 1, 'lambda': 5.522794919148429, 'alpha': 2.6882185591913537}. Best is trial 0 with value: 0.6181818181818182.\n",
      "[I 2025-09-28 14:10:32,454] Trial 4 finished with value: 0.631578947368421 and parameters: {'max_depth': 12, 'learning_rate': 0.7231319036215936, 'n_estimators': 133, 'min_child_weight': 2, 'lambda': 5.064653607160971, 'alpha': 0.00959351678507469}. Best is trial 4 with value: 0.631578947368421.\n",
      "[I 2025-09-28 14:10:38,070] Trial 5 finished with value: 0.6551724137931034 and parameters: {'max_depth': 11, 'learning_rate': 0.08824457449102853, 'n_estimators': 376, 'min_child_weight': 3, 'lambda': 1.1687814617270367, 'alpha': 0.4507965111473645}. Best is trial 5 with value: 0.6551724137931034.\n",
      "[I 2025-09-28 14:10:43,780] Trial 6 finished with value: 0.4864864864864865 and parameters: {'max_depth': 3, 'learning_rate': 0.03527081945274258, 'n_estimators': 88, 'min_child_weight': 1, 'lambda': 0.023497400015194108, 'alpha': 3.9872508090446845}. Best is trial 5 with value: 0.6551724137931034.\n",
      "[I 2025-09-28 14:10:49,325] Trial 7 finished with value: 0.6181818181818182 and parameters: {'max_depth': 3, 'learning_rate': 0.662131007460604, 'n_estimators': 55, 'min_child_weight': 3, 'lambda': 1.6856943061171932, 'alpha': 0.9102008891933822}. Best is trial 5 with value: 0.6551724137931034.\n",
      "[I 2025-09-28 14:10:54,993] Trial 8 finished with value: 0.4444444444444444 and parameters: {'max_depth': 1, 'learning_rate': 0.03812168023298693, 'n_estimators': 250, 'min_child_weight': 4, 'lambda': 0.020443271708409164, 'alpha': 0.5612888621409945}. Best is trial 5 with value: 0.6551724137931034.\n",
      "[I 2025-09-28 14:11:01,320] Trial 9 finished with value: 0.5106382978723404 and parameters: {'max_depth': 1, 'learning_rate': 0.18260071830015895, 'n_estimators': 291, 'min_child_weight': 2, 'lambda': 0.007586149891522376, 'alpha': 1.0318075134987479}. Best is trial 5 with value: 0.6551724137931034.\n",
      "[I 2025-09-28 14:11:07,059] Trial 10 finished with value: 0.4864864864864865 and parameters: {'max_depth': 7, 'learning_rate': 0.012318759787511761, 'n_estimators': 167, 'min_child_weight': 10, 'lambda': 0.604857042766827, 'alpha': 0.001732395032698401}. Best is trial 5 with value: 0.6551724137931034.\n",
      "[I 2025-09-28 14:11:12,626] Trial 11 finished with value: 0.6415094339622641 and parameters: {'max_depth': 15, 'learning_rate': 0.08579238290156453, 'n_estimators': 129, 'min_child_weight': 4, 'lambda': 7.651330509954432, 'alpha': 0.02231792315156988}. Best is trial 5 with value: 0.6551724137931034.\n",
      "[I 2025-09-28 14:11:18,427] Trial 12 finished with value: 0.6666666666666666 and parameters: {'max_depth': 8, 'learning_rate': 0.07598323332034602, 'n_estimators': 146, 'min_child_weight': 5, 'lambda': 0.3805328873313582, 'alpha': 0.03654295406192838}. Best is trial 12 with value: 0.6666666666666666.\n",
      "[I 2025-09-28 14:11:23,970] Trial 13 finished with value: 0.64 and parameters: {'max_depth': 7, 'learning_rate': 0.08819904277307954, 'n_estimators': 189, 'min_child_weight': 6, 'lambda': 0.38569391940165315, 'alpha': 0.18063593947261902}. Best is trial 12 with value: 0.6666666666666666.\n",
      "[I 2025-09-28 14:11:30,058] Trial 14 finished with value: 0.5714285714285714 and parameters: {'max_depth': 8, 'learning_rate': 0.16952540739849375, 'n_estimators': 94, 'min_child_weight': 10, 'lambda': 0.4579146909297402, 'alpha': 0.18036095961717377}. Best is trial 12 with value: 0.6666666666666666.\n",
      "[I 2025-09-28 14:11:35,603] Trial 15 finished with value: 0.64 and parameters: {'max_depth': 4, 'learning_rate': 0.05248123531564638, 'n_estimators': 212, 'min_child_weight': 6, 'lambda': 1.8706763165865432, 'alpha': 0.005055091961955603}. Best is trial 12 with value: 0.6666666666666666.\n",
      "[I 2025-09-28 14:11:41,283] Trial 16 finished with value: 0.5909090909090909 and parameters: {'max_depth': 9, 'learning_rate': 0.016087861746788844, 'n_estimators': 108, 'min_child_weight': 3, 'lambda': 0.13915656001948407, 'alpha': 0.07678047842704268}. Best is trial 12 with value: 0.6666666666666666.\n",
      "[I 2025-09-28 14:11:46,841] Trial 17 finished with value: 0.6037735849056604 and parameters: {'max_depth': 2, 'learning_rate': 0.29308316613929397, 'n_estimators': 364, 'min_child_weight': 4, 'lambda': 1.210231989924008, 'alpha': 0.2467658296167125}. Best is trial 12 with value: 0.6666666666666666.\n",
      "[I 2025-09-28 14:11:52,363] Trial 18 finished with value: 0.6545454545454545 and parameters: {'max_depth': 5, 'learning_rate': 0.13026620850585824, 'n_estimators': 481, 'min_child_weight': 3, 'lambda': 0.18370748992001185, 'alpha': 0.025758525036863485}. Best is trial 12 with value: 0.6666666666666666.\n",
      "[I 2025-09-28 14:11:58,672] Trial 19 finished with value: 0.6530612244897959 and parameters: {'max_depth': 9, 'learning_rate': 0.058022086014914924, 'n_estimators': 145, 'min_child_weight': 7, 'lambda': 1.6159682933609119, 'alpha': 0.00130046962977598}. Best is trial 12 with value: 0.6666666666666666.\n",
      "[I 2025-09-28 14:12:04,142] Trial 20 finished with value: 0.6296296296296297 and parameters: {'max_depth': 11, 'learning_rate': 0.3491723840103791, 'n_estimators': 229, 'min_child_weight': 5, 'lambda': 0.2750181575972467, 'alpha': 0.007681874105776213}. Best is trial 12 with value: 0.6666666666666666.\n",
      "[I 2025-09-28 14:12:09,829] Trial 21 finished with value: 0.6545454545454545 and parameters: {'max_depth': 5, 'learning_rate': 0.12831206987578433, 'n_estimators': 476, 'min_child_weight': 3, 'lambda': 0.23902152109530875, 'alpha': 0.03117074871823019}. Best is trial 12 with value: 0.6666666666666666.\n",
      "[I 2025-09-28 14:12:15,372] Trial 22 finished with value: 0.6296296296296297 and parameters: {'max_depth': 5, 'learning_rate': 0.1034323628530027, 'n_estimators': 344, 'min_child_weight': 3, 'lambda': 0.05224044682584943, 'alpha': 0.019109529494669805}. Best is trial 12 with value: 0.6666666666666666.\n",
      "[I 2025-09-28 14:12:21,019] Trial 23 finished with value: 0.6896551724137931 and parameters: {'max_depth': 6, 'learning_rate': 0.06240657648173549, 'n_estimators': 495, 'min_child_weight': 4, 'lambda': 0.8345267126037174, 'alpha': 0.09667359351679769}. Best is trial 23 with value: 0.6896551724137931.\n",
      "[I 2025-09-28 14:12:26,713] Trial 24 finished with value: 0.56 and parameters: {'max_depth': 11, 'learning_rate': 0.060314199935058516, 'n_estimators': 284, 'min_child_weight': 8, 'lambda': 0.806826085286644, 'alpha': 0.08099101263603964}. Best is trial 23 with value: 0.6896551724137931.\n",
      "[I 2025-09-28 14:12:32,428] Trial 25 finished with value: 0.6122448979591837 and parameters: {'max_depth': 7, 'learning_rate': 0.027130738992687788, 'n_estimators': 187, 'min_child_weight': 5, 'lambda': 2.635229108536516, 'alpha': 0.3426752280244966}. Best is trial 23 with value: 0.6896551724137931.\n",
      "[I 2025-09-28 14:12:38,174] Trial 26 finished with value: 0.6896551724137931 and parameters: {'max_depth': 4, 'learning_rate': 0.0821518360060639, 'n_estimators': 360, 'min_child_weight': 4, 'lambda': 0.8282549426455209, 'alpha': 0.09679054919940809}. Best is trial 23 with value: 0.6896551724137931.\n",
      "[I 2025-09-28 14:12:43,764] Trial 27 finished with value: 0.5 and parameters: {'max_depth': 2, 'learning_rate': 0.04152047998157458, 'n_estimators': 114, 'min_child_weight': 4, 'lambda': 3.066450098692819, 'alpha': 0.06453809948691214}. Best is trial 23 with value: 0.6896551724137931.\n",
      "[I 2025-09-28 14:12:49,334] Trial 28 finished with value: 0.6545454545454545 and parameters: {'max_depth': 4, 'learning_rate': 0.06916400320450426, 'n_estimators': 416, 'min_child_weight': 5, 'lambda': 0.6398498983519005, 'alpha': 0.13392010797464599}. Best is trial 23 with value: 0.6896551724137931.\n",
      "[I 2025-09-28 14:12:55,037] Trial 29 finished with value: 0.3125 and parameters: {'max_depth': 4, 'learning_rate': 0.021649112567570187, 'n_estimators': 72, 'min_child_weight': 8, 'lambda': 0.07148234509358417, 'alpha': 0.04589096713139157}. Best is trial 23 with value: 0.6896551724137931.\n",
      "[I 2025-09-28 14:13:01,252] Trial 30 finished with value: 0.6296296296296297 and parameters: {'max_depth': 6, 'learning_rate': 0.20102576199653108, 'n_estimators': 327, 'min_child_weight': 5, 'lambda': 0.3143980520887824, 'alpha': 0.012002379957110175}. Best is trial 23 with value: 0.6896551724137931.\n",
      "[I 2025-09-28 14:13:06,891] Trial 31 finished with value: 0.6666666666666666 and parameters: {'max_depth': 13, 'learning_rate': 0.12309725371576072, 'n_estimators': 499, 'min_child_weight': 4, 'lambda': 0.9839082947590311, 'alpha': 0.3569650398123601}. Best is trial 23 with value: 0.6896551724137931.\n"
     ]
    }
   ],
   "source": [
    "from dvclive.optuna import DVCLiveCallback\n",
    "\n",
    "study.optimize(objective, n_trials = 32, callbacks = [DVCLiveCallback()])"
   ]
  },
  {
   "cell_type": "code",
   "execution_count": 21,
   "id": "5b23dd0d-9dd9-4736-89a6-3ec71bc3fd49",
   "metadata": {},
   "outputs": [
    {
     "name": "stdout",
     "output_type": "stream",
     "text": [
      "+-----------------------------------------------------------------------------------------------------------------------------------------+\n",
      "| Experiment               | Created      |  metric | max_depth | learning_rate | n_estimators | min_child_weight | lambda    | alpha     |\n",
      "|--------------------------+--------------+---------+-----------+---------------+--------------+------------------+-----------+-----------|\n",
      "| workspace                | -            | 0.66667 | 13        | 0.1231        | 499          | 4                | 0.98391   | 0.35697   |\n",
      "| main                     | Sep 19, 2025 | 0.65455 | 13        | 0.34704       | 82           | 4                | 2.7994    | 0.039984  |\n",
      "| \\u251c\\u2500\\u2500 d40e986 [sable-agas] | 02:13 PM     | 0.66667 | 13        | 0.1231        | 499          | 4                | 0.98391   | 0.35697   |\n",
      "| \\u251c\\u2500\\u2500 c39c9c1 [surly-taus] | 02:13 PM     | 0.62963 | 6         | 0.20103       | 327          | 5                | 0.3144    | 0.012002  |\n",
      "| \\u251c\\u2500\\u2500 3e58055 [mothy-weld] | 02:12 PM     |  0.3125 | 4         | 0.021649      | 72           | 8                | 0.071482  | 0.045891  |\n",
      "| \\u251c\\u2500\\u2500 ee3ae25 [nervy-dirk] | 02:12 PM     | 0.65455 | 4         | 0.069164      | 416          | 5                | 0.63985   | 0.13392   |\n",
      "| \\u251c\\u2500\\u2500 399b6e8 [afoul-saut] | 02:12 PM     |     0.5 | 2         | 0.04152       | 114          | 4                | 3.0665    | 0.064538  |\n",
      "| \\u251c\\u2500\\u2500 d9457fd [glued-tier] | 02:12 PM     | 0.68966 | 4         | 0.082152      | 360          | 4                | 0.82825   | 0.096791  |\n",
      "| \\u251c\\u2500\\u2500 b74a5f8 [kinky-dawn] | 02:12 PM     | 0.61224 | 7         | 0.027131      | 187          | 5                | 2.6352    | 0.34268   |\n",
      "| \\u251c\\u2500\\u2500 a0ac199 [bijou-arks] | 02:12 PM     |    0.56 | 11        | 0.060314      | 284          | 8                | 0.80683   | 0.080991  |\n",
      "| \\u251c\\u2500\\u2500 336e6ae [dormy-hunt] | 02:12 PM     | 0.68966 | 6         | 0.062407      | 495          | 4                | 0.83453   | 0.096674  |\n",
      "| \\u251c\\u2500\\u2500 eef1638 [pappy-hull] | 02:12 PM     | 0.62963 | 5         | 0.10343       | 344          | 3                | 0.05224   | 0.01911   |\n",
      "| \\u251c\\u2500\\u2500 39f49bd [spicy-chiv] | 02:12 PM     | 0.65455 | 5         | 0.12831       | 476          | 3                | 0.23902   | 0.031171  |\n",
      "| \\u251c\\u2500\\u2500 e927493 [upset-bunt] | 02:12 PM     | 0.62963 | 11        | 0.34917       | 229          | 5                | 0.27502   | 0.0076819 |\n",
      "| \\u251c\\u2500\\u2500 fdaf3b2 [bandy-skis] | 02:12 PM     | 0.65306 | 9         | 0.058022      | 145          | 7                | 1.616     | 0.0013005 |\n",
      "| \\u251c\\u2500\\u2500 8833c16 [cynic-noma] | 02:11 PM     | 0.65455 | 5         | 0.13027       | 481          | 3                | 0.18371   | 0.025759  |\n",
      "| \\u251c\\u2500\\u2500 0fc2463 [melic-azan] | 02:11 PM     | 0.60377 | 2         | 0.29308       | 364          | 4                | 1.2102    | 0.24677   |\n",
      "| \\u251c\\u2500\\u2500 60dd600 [riled-trug] | 02:11 PM     | 0.59091 | 9         | 0.016088      | 108          | 3                | 0.13916   | 0.07678   |\n",
      "| \\u251c\\u2500\\u2500 770ce58 [picky-hack] | 02:11 PM     |    0.64 | 4         | 0.052481      | 212          | 6                | 1.8707    | 0.0050551 |\n",
      "| \\u251c\\u2500\\u2500 c551173 [enate-uvea] | 02:11 PM     | 0.57143 | 8         | 0.16953       | 94           | 10               | 0.45791   | 0.18036   |\n",
      "| \\u251c\\u2500\\u2500 a1055c0 [riled-souk] | 02:11 PM     |    0.64 | 7         | 0.088199      | 189          | 6                | 0.38569   | 0.18064   |\n",
      "| \\u251c\\u2500\\u2500 9c0150d [store-obit] | 02:11 PM     | 0.66667 | 8         | 0.075983      | 146          | 5                | 0.38053   | 0.036543  |\n",
      "| \\u251c\\u2500\\u2500 b6bb9ef [welsh-tier] | 02:11 PM     | 0.64151 | 15        | 0.085792      | 129          | 4                | 7.6513    | 0.022318  |\n",
      "| \\u251c\\u2500\\u2500 562f333 [fetid-suqs] | 02:11 PM     | 0.48649 | 7         | 0.012319      | 167          | 10               | 0.60486   | 0.0017324 |\n",
      "| \\u251c\\u2500\\u2500 9c5bb08 [tubal-gobs] | 02:11 PM     | 0.51064 | 1         | 0.1826        | 291          | 2                | 0.0075861 | 1.0318    |\n",
      "| \\u251c\\u2500\\u2500 15e68b6 [salic-prad] | 02:10 PM     | 0.44444 | 1         | 0.038122      | 250          | 4                | 0.020443  | 0.56129   |\n",
      "| \\u251c\\u2500\\u2500 0dbbcb9 [front-toby] | 02:10 PM     | 0.61818 | 3         | 0.66213       | 55           | 3                | 1.6857    | 0.9102    |\n",
      "| \\u251c\\u2500\\u2500 c038c33 [ready-yoni] | 02:10 PM     | 0.48649 | 3         | 0.035271      | 88           | 1                | 0.023497  | 3.9873    |\n",
      "| \\u251c\\u2500\\u2500 e6f3dc7 [blest-tipi] | 02:10 PM     | 0.65517 | 11        | 0.088245      | 376          | 3                | 1.1688    | 0.4508    |\n",
      "| \\u251c\\u2500\\u2500 a7cebf5 [sarky-sons] | 02:10 PM     | 0.63158 | 12        | 0.72313       | 133          | 2                | 5.0647    | 0.0095935 |\n",
      "| \\u251c\\u2500\\u2500 5fad9a5 [alary-sacs] | 02:10 PM     | 0.30303 | 1         | 0.025125      | 451          | 1                | 5.5228    | 2.6882    |\n",
      "| \\u251c\\u2500\\u2500 e0c893a [tinct-slew] | 02:10 PM     | 0.55319 | 5         | 0.49205       | 387          | 2                | 0.0010876 | 4.98      |\n",
      "| \\u251c\\u2500\\u2500 3f01fa9 [rooky-zhos] | 02:10 PM     | 0.58824 | 2         | 0.53418       | 298          | 6                | 0.054656  | 1.0428    |\n",
      "| \\u2514\\u2500\\u2500 8e66b4a [saved-flap] | 02:10 PM     | 0.61818 | 14        | 0.23517       | 66           | 2                | 0.11619   | 0.045487  |\n",
      "+-----------------------------------------------------------------------------------------------------------------------------------------+\n"
     ]
    }
   ],
   "source": [
    "!dvc exp show"
   ]
  },
  {
   "cell_type": "code",
   "execution_count": 22,
   "id": "c840cbec-8b1c-48ae-abe9-ff68a0a8aa7e",
   "metadata": {},
   "outputs": [
    {
     "name": "stdout",
     "output_type": "stream",
     "text": [
      "+-----------------------------------------------------------------------------------------------------------------------------------------+\n",
      "| Experiment               | Created      |  metric | max_depth | learning_rate | n_estimators | min_child_weight | lambda    | alpha     |\n",
      "|--------------------------+--------------+---------+-----------+---------------+--------------+------------------+-----------+-----------|\n",
      "| workspace                | -            | 0.66667 | 13        | 0.1231        | 499          | 4                | 0.98391   | 0.35697   |\n",
      "| main                     | Sep 19, 2025 | 0.65455 | 13        | 0.34704       | 82           | 4                | 2.7994    | 0.039984  |\n",
      "| \\u251c\\u2500\\u2500 d9457fd [glued-tier] | 02:12 PM     | 0.68966 | 4         | 0.082152      | 360          | 4                | 0.82825   | 0.096791  |\n",
      "| \\u251c\\u2500\\u2500 336e6ae [dormy-hunt] | 02:12 PM     | 0.68966 | 6         | 0.062407      | 495          | 4                | 0.83453   | 0.096674  |\n",
      "| \\u251c\\u2500\\u2500 d40e986 [sable-agas] | 02:13 PM     | 0.66667 | 13        | 0.1231        | 499          | 4                | 0.98391   | 0.35697   |\n",
      "| \\u251c\\u2500\\u2500 9c0150d [store-obit] | 02:11 PM     | 0.66667 | 8         | 0.075983      | 146          | 5                | 0.38053   | 0.036543  |\n",
      "| \\u251c\\u2500\\u2500 e6f3dc7 [blest-tipi] | 02:10 PM     | 0.65517 | 11        | 0.088245      | 376          | 3                | 1.1688    | 0.4508    |\n",
      "| \\u251c\\u2500\\u2500 ee3ae25 [nervy-dirk] | 02:12 PM     | 0.65455 | 4         | 0.069164      | 416          | 5                | 0.63985   | 0.13392   |\n",
      "| \\u251c\\u2500\\u2500 39f49bd [spicy-chiv] | 02:12 PM     | 0.65455 | 5         | 0.12831       | 476          | 3                | 0.23902   | 0.031171  |\n",
      "| \\u251c\\u2500\\u2500 8833c16 [cynic-noma] | 02:11 PM     | 0.65455 | 5         | 0.13027       | 481          | 3                | 0.18371   | 0.025759  |\n",
      "| \\u251c\\u2500\\u2500 fdaf3b2 [bandy-skis] | 02:12 PM     | 0.65306 | 9         | 0.058022      | 145          | 7                | 1.616     | 0.0013005 |\n",
      "| \\u251c\\u2500\\u2500 b6bb9ef [welsh-tier] | 02:11 PM     | 0.64151 | 15        | 0.085792      | 129          | 4                | 7.6513    | 0.022318  |\n",
      "| \\u251c\\u2500\\u2500 770ce58 [picky-hack] | 02:11 PM     |    0.64 | 4         | 0.052481      | 212          | 6                | 1.8707    | 0.0050551 |\n",
      "| \\u251c\\u2500\\u2500 a1055c0 [riled-souk] | 02:11 PM     |    0.64 | 7         | 0.088199      | 189          | 6                | 0.38569   | 0.18064   |\n",
      "| \\u251c\\u2500\\u2500 a7cebf5 [sarky-sons] | 02:10 PM     | 0.63158 | 12        | 0.72313       | 133          | 2                | 5.0647    | 0.0095935 |\n",
      "| \\u251c\\u2500\\u2500 c39c9c1 [surly-taus] | 02:13 PM     | 0.62963 | 6         | 0.20103       | 327          | 5                | 0.3144    | 0.012002  |\n",
      "| \\u251c\\u2500\\u2500 eef1638 [pappy-hull] | 02:12 PM     | 0.62963 | 5         | 0.10343       | 344          | 3                | 0.05224   | 0.01911   |\n",
      "| \\u251c\\u2500\\u2500 e927493 [upset-bunt] | 02:12 PM     | 0.62963 | 11        | 0.34917       | 229          | 5                | 0.27502   | 0.0076819 |\n",
      "| \\u251c\\u2500\\u2500 0dbbcb9 [front-toby] | 02:10 PM     | 0.61818 | 3         | 0.66213       | 55           | 3                | 1.6857    | 0.9102    |\n",
      "| \\u251c\\u2500\\u2500 8e66b4a [saved-flap] | 02:10 PM     | 0.61818 | 14        | 0.23517       | 66           | 2                | 0.11619   | 0.045487  |\n",
      "| \\u251c\\u2500\\u2500 b74a5f8 [kinky-dawn] | 02:12 PM     | 0.61224 | 7         | 0.027131      | 187          | 5                | 2.6352    | 0.34268   |\n",
      "| \\u251c\\u2500\\u2500 0fc2463 [melic-azan] | 02:11 PM     | 0.60377 | 2         | 0.29308       | 364          | 4                | 1.2102    | 0.24677   |\n",
      "| \\u251c\\u2500\\u2500 60dd600 [riled-trug] | 02:11 PM     | 0.59091 | 9         | 0.016088      | 108          | 3                | 0.13916   | 0.07678   |\n",
      "| \\u251c\\u2500\\u2500 3f01fa9 [rooky-zhos] | 02:10 PM     | 0.58824 | 2         | 0.53418       | 298          | 6                | 0.054656  | 1.0428    |\n",
      "| \\u251c\\u2500\\u2500 c551173 [enate-uvea] | 02:11 PM     | 0.57143 | 8         | 0.16953       | 94           | 10               | 0.45791   | 0.18036   |\n",
      "| \\u251c\\u2500\\u2500 a0ac199 [bijou-arks] | 02:12 PM     |    0.56 | 11        | 0.060314      | 284          | 8                | 0.80683   | 0.080991  |\n",
      "| \\u251c\\u2500\\u2500 e0c893a [tinct-slew] | 02:10 PM     | 0.55319 | 5         | 0.49205       | 387          | 2                | 0.0010876 | 4.98      |\n",
      "| \\u251c\\u2500\\u2500 9c5bb08 [tubal-gobs] | 02:11 PM     | 0.51064 | 1         | 0.1826        | 291          | 2                | 0.0075861 | 1.0318    |\n",
      "| \\u251c\\u2500\\u2500 399b6e8 [afoul-saut] | 02:12 PM     |     0.5 | 2         | 0.04152       | 114          | 4                | 3.0665    | 0.064538  |\n",
      "| \\u251c\\u2500\\u2500 562f333 [fetid-suqs] | 02:11 PM     | 0.48649 | 7         | 0.012319      | 167          | 10               | 0.60486   | 0.0017324 |\n",
      "| \\u251c\\u2500\\u2500 c038c33 [ready-yoni] | 02:10 PM     | 0.48649 | 3         | 0.035271      | 88           | 1                | 0.023497  | 3.9873    |\n",
      "| \\u251c\\u2500\\u2500 15e68b6 [salic-prad] | 02:10 PM     | 0.44444 | 1         | 0.038122      | 250          | 4                | 0.020443  | 0.56129   |\n",
      "| \\u251c\\u2500\\u2500 3e58055 [mothy-weld] | 02:12 PM     |  0.3125 | 4         | 0.021649      | 72           | 8                | 0.071482  | 0.045891  |\n",
      "| \\u2514\\u2500\\u2500 5fad9a5 [alary-sacs] | 02:10 PM     | 0.30303 | 1         | 0.025125      | 451          | 1                | 5.5228    | 2.6882    |\n",
      "+-----------------------------------------------------------------------------------------------------------------------------------------+\n"
     ]
    }
   ],
   "source": [
    "!dvc exp show --sort-by metric --sort-order desc"
   ]
  },
  {
   "cell_type": "code",
   "execution_count": 23,
   "id": "5cdafd50-69ed-4a6e-b125-524019b626a2",
   "metadata": {},
   "outputs": [
    {
     "name": "stdout",
     "output_type": "stream",
     "text": [
      "Experiment upset-bunt, tubal-gobs, bandy-skis, bijou-arks, rooky-zhos, \n",
      "glued-tier, alary-sacs, front-toby, welsh-tier, cynic-noma, afoul-saut, \n",
      "picky-hack, sarky-sons, surly-taus, pappy-hull, mothy-weld, enate-uvea, \n",
      "kinky-dawn, riled-souk, saved-flap, riled-trug, melic-azan, tinct-slew, \n",
      "salic-prad, fetid-suqs, blest-tipi, sable-agas, store-obit, ready-yoni, \n",
      "dormy-hunt, spicy-chiv and nervy-dirk are up to date on Git remote 'origin'.\n",
      "Pushed experiment areal-craw, volar-scud, beige-leak, birch-gaby, batty-emeu, \n",
      "wally-puns, loved-rugs, ready-dart, nasty-loof, unmet-zack, rapid-jigs, \n",
      "mired-gram, irony-sima, yucky-tuns, gluey-harl, laigh-gale, yucky-vent, \n",
      "frore-ewes, bumpy-bout, lousy-ambo, baser-shay, pious-wort, taunt-emus, \n",
      "pesky-cogs, fiery-lien, group-kago, gamey-reif, kacha-yawl, peart-hock, \n",
      "mated-zhos, soled-tale, techy-deys, valid-chic, handy-akes, swept-genu, \n",
      "tenth-sere, piney-gang, naked-hunk, seely-jinn, third-yawl, mangy-merk, \n",
      "dicey-sham, wacky-stir, treen-rube, birch-joey, short-envy, mirky-barb, \n",
      "quits-coed, dusty-stud, chief-furl, itchy-book, milky-awls, cauld-hoot, \n",
      "meaty-banc, third-dams, pursy-sinh, unbid-tugs, prime-eyot, atilt-agio, \n",
      "sappy-berk, sappy-more, amort-coze, wersh-hack and minus-nibs to Git remote \n",
      "'origin'.\n",
      "View your experiments at https://studio.datachain.ai/user/amsha16/projects/dvc_churn_prediction_hyperparemeters-l41wt9t8ty\n"
     ]
    }
   ],
   "source": [
    "!dvc exp push origin --all-commits"
   ]
  },
  {
   "cell_type": "code",
   "execution_count": 24,
   "id": "6ec452c1-ab33-4509-865c-3896e432803d",
   "metadata": {},
   "outputs": [
    {
     "name": "stdout",
     "output_type": "stream",
     "text": [
      "Number of finished trials: 32\n",
      "Best trial:\n",
      "  Value: 0.6896551724137931\n",
      "  Params: \n",
      "    max_depth: 6\n",
      "    learning_rate: 0.06240657648173549\n",
      "    n_estimators: 495\n",
      "    min_child_weight: 4\n",
      "    lambda: 0.8345267126037174\n",
      "    alpha: 0.09667359351679769\n"
     ]
    }
   ],
   "source": [
    "print('Number of finished trials: {}'.format(len(study.trials)))\n",
    "print('Best trial:')\n",
    "trial = study.best_trial\n",
    "\n",
    "print('  Value: {}'.format(trial.value))\n",
    "print('  Params: ')\n",
    "\n",
    "for key, value in trial.params.items():\n",
    "    print('    {}: {}'.format(key, value))"
   ]
  },
  {
   "cell_type": "code",
   "execution_count": 25,
   "id": "735d8919-37bc-4e28-94e8-3d618229ac05",
   "metadata": {},
   "outputs": [],
   "source": [
    "params = trial.params"
   ]
  },
  {
   "cell_type": "code",
   "execution_count": 26,
   "id": "38286d51-3441-4bfb-9cff-8a0cd2ae2ac2",
   "metadata": {},
   "outputs": [],
   "source": [
    "xgb_model = XGBClassifier(**params)\n",
    "    \n",
    "pipe_xgb = Pipeline(steps = [('preprocessor', preprocessor), ('classifier', xgb_model )])\n",
    "pipe_xgb.fit(X_train, y_train)\n",
    "\n",
    "predictions = pipe_xgb.predict(X_test)"
   ]
  },
  {
   "cell_type": "code",
   "execution_count": 27,
   "id": "bb293a18-a88a-45a8-b7e6-5846f0f49cf4",
   "metadata": {},
   "outputs": [
    {
     "name": "stdout",
     "output_type": "stream",
     "text": [
      "Test accuracy score:  0.8\n",
      "Test precision score:  0.5882352941176471\n",
      "Test recall score:  0.8333333333333334\n",
      "Test f1 score: 0.6896551724137931\n"
     ]
    }
   ],
   "source": [
    "print('Test accuracy score: ', accuracy_score(y_test, predictions))\n",
    "print('Test precision score: ', precision_score(y_test, predictions))\n",
    "print('Test recall score: ', recall_score(y_test, predictions))\n",
    "print('Test f1 score:', f1_score(y_test, predictions))"
   ]
  },
  {
   "cell_type": "code",
   "execution_count": 28,
   "id": "b1e364aa-f3aa-470a-bf1f-7fbb5be3af48",
   "metadata": {},
   "outputs": [
    {
     "name": "stdout",
     "output_type": "stream",
     "text": [
      "Requirement already satisfied: mlem in c:\\users\\achla\\appdata\\local\\programs\\python\\python313\\lib\\site-packages (0.4.14)\n",
      "Requirement already satisfied: cloudpickle in c:\\users\\achla\\appdata\\local\\programs\\python\\python313\\lib\\site-packages (from mlem) (3.1.1)\n",
      "Requirement already satisfied: dill in c:\\users\\achla\\appdata\\local\\programs\\python\\python313\\lib\\site-packages (from mlem) (0.4.0)\n",
      "Requirement already satisfied: requests in c:\\users\\achla\\appdata\\local\\programs\\python\\python313\\lib\\site-packages (from mlem) (2.32.5)\n",
      "Requirement already satisfied: isort>=5.10 in c:\\users\\achla\\appdata\\local\\programs\\python\\python313\\lib\\site-packages (from mlem) (6.0.1)\n",
      "Requirement already satisfied: pydantic<2,>=1.9.0 in c:\\users\\achla\\appdata\\local\\programs\\python\\python313\\lib\\site-packages (from mlem) (1.10.23)\n",
      "Requirement already satisfied: typer in c:\\users\\achla\\appdata\\local\\programs\\python\\python313\\lib\\site-packages (from mlem) (0.17.4)\n",
      "Requirement already satisfied: click<8.2 in c:\\users\\achla\\appdata\\local\\programs\\python\\python313\\lib\\site-packages (from mlem) (8.1.8)\n",
      "Requirement already satisfied: rich in c:\\users\\achla\\appdata\\local\\programs\\python\\python313\\lib\\site-packages (from mlem) (14.1.0)\n",
      "Requirement already satisfied: aiohttp<4 in c:\\users\\achla\\appdata\\local\\programs\\python\\python313\\lib\\site-packages (from mlem) (3.12.15)\n",
      "Requirement already satisfied: aiohttp-swagger<2 in c:\\users\\achla\\appdata\\local\\programs\\python\\python313\\lib\\site-packages (from mlem) (1.0.16)\n",
      "Requirement already satisfied: Jinja2>=3 in c:\\users\\achla\\appdata\\local\\programs\\python\\python313\\lib\\site-packages (from mlem) (3.1.6)\n",
      "Requirement already satisfied: fsspec>=2021.7.0 in c:\\users\\achla\\appdata\\local\\programs\\python\\python313\\lib\\site-packages (from mlem) (2025.9.0)\n",
      "Requirement already satisfied: pyparsing<4 in c:\\users\\achla\\appdata\\local\\programs\\python\\python313\\lib\\site-packages (from mlem) (3.2.3)\n",
      "Requirement already satisfied: cached-property in c:\\users\\achla\\appdata\\local\\programs\\python\\python313\\lib\\site-packages (from mlem) (2.0.1)\n",
      "Requirement already satisfied: entrypoints in c:\\users\\achla\\appdata\\local\\programs\\python\\python313\\lib\\site-packages (from mlem) (0.4)\n",
      "Requirement already satisfied: gitpython in c:\\users\\achla\\appdata\\local\\programs\\python\\python313\\lib\\site-packages (from mlem) (3.1.45)\n",
      "Requirement already satisfied: python-gitlab in c:\\users\\achla\\appdata\\local\\programs\\python\\python313\\lib\\site-packages (from mlem) (6.3.0)\n",
      "Requirement already satisfied: flatdict in c:\\users\\achla\\appdata\\local\\programs\\python\\python313\\lib\\site-packages (from mlem) (4.0.1)\n",
      "Requirement already satisfied: iterative-telemetry>=0.0.6 in c:\\users\\achla\\appdata\\local\\programs\\python\\python313\\lib\\site-packages (from mlem) (0.0.10)\n",
      "Requirement already satisfied: python-multipart in c:\\users\\achla\\appdata\\local\\programs\\python\\python313\\lib\\site-packages (from mlem) (0.0.20)\n",
      "Requirement already satisfied: importlib-metadata in c:\\users\\achla\\appdata\\local\\programs\\python\\python313\\lib\\site-packages (from mlem) (8.7.0)\n",
      "Requirement already satisfied: aiohappyeyeballs>=2.5.0 in c:\\users\\achla\\appdata\\local\\programs\\python\\python313\\lib\\site-packages (from aiohttp<4->mlem) (2.6.1)\n",
      "Requirement already satisfied: aiosignal>=1.4.0 in c:\\users\\achla\\appdata\\local\\programs\\python\\python313\\lib\\site-packages (from aiohttp<4->mlem) (1.4.0)\n",
      "Requirement already satisfied: attrs>=17.3.0 in c:\\users\\achla\\appdata\\local\\programs\\python\\python313\\lib\\site-packages (from aiohttp<4->mlem) (25.3.0)\n",
      "Requirement already satisfied: frozenlist>=1.1.1 in c:\\users\\achla\\appdata\\local\\programs\\python\\python313\\lib\\site-packages (from aiohttp<4->mlem) (1.7.0)\n",
      "Requirement already satisfied: multidict<7.0,>=4.5 in c:\\users\\achla\\appdata\\local\\programs\\python\\python313\\lib\\site-packages (from aiohttp<4->mlem) (6.6.4)\n",
      "Requirement already satisfied: propcache>=0.2.0 in c:\\users\\achla\\appdata\\local\\programs\\python\\python313\\lib\\site-packages (from aiohttp<4->mlem) (0.3.2)\n",
      "Requirement already satisfied: yarl<2.0,>=1.17.0 in c:\\users\\achla\\appdata\\local\\programs\\python\\python313\\lib\\site-packages (from aiohttp<4->mlem) (1.20.1)\n",
      "Requirement already satisfied: pyYAML>=5.1 in c:\\users\\achla\\appdata\\local\\programs\\python\\python313\\lib\\site-packages (from aiohttp-swagger<2->mlem) (6.0.2)\n",
      "Requirement already satisfied: colorama in c:\\users\\achla\\appdata\\local\\programs\\python\\python313\\lib\\site-packages (from click<8.2->mlem) (0.4.6)\n",
      "Requirement already satisfied: typing-extensions>=4.2.0 in c:\\users\\achla\\appdata\\local\\programs\\python\\python313\\lib\\site-packages (from pydantic<2,>=1.9.0->mlem) (4.15.0)\n",
      "Requirement already satisfied: idna>=2.0 in c:\\users\\achla\\appdata\\local\\programs\\python\\python313\\lib\\site-packages (from yarl<2.0,>=1.17.0->aiohttp<4->mlem) (3.10)\n",
      "Requirement already satisfied: appdirs in c:\\users\\achla\\appdata\\local\\programs\\python\\python313\\lib\\site-packages (from iterative-telemetry>=0.0.6->mlem) (1.4.4)\n",
      "Requirement already satisfied: filelock in c:\\users\\achla\\appdata\\local\\programs\\python\\python313\\lib\\site-packages (from iterative-telemetry>=0.0.6->mlem) (3.19.1)\n",
      "Requirement already satisfied: distro in c:\\users\\achla\\appdata\\local\\programs\\python\\python313\\lib\\site-packages (from iterative-telemetry>=0.0.6->mlem) (1.9.0)\n",
      "Requirement already satisfied: MarkupSafe>=2.0 in c:\\users\\achla\\appdata\\local\\programs\\python\\python313\\lib\\site-packages (from Jinja2>=3->mlem) (3.0.2)\n",
      "Requirement already satisfied: gitdb<5,>=4.0.1 in c:\\users\\achla\\appdata\\local\\programs\\python\\python313\\lib\\site-packages (from gitpython->mlem) (4.0.12)\n",
      "Requirement already satisfied: smmap<6,>=3.0.1 in c:\\users\\achla\\appdata\\local\\programs\\python\\python313\\lib\\site-packages (from gitdb<5,>=4.0.1->gitpython->mlem) (5.0.2)\n",
      "Requirement already satisfied: zipp>=3.20 in c:\\users\\achla\\appdata\\local\\programs\\python\\python313\\lib\\site-packages (from importlib-metadata->mlem) (3.23.0)\n",
      "Requirement already satisfied: requests-toolbelt>=1.0.0 in c:\\users\\achla\\appdata\\local\\programs\\python\\python313\\lib\\site-packages (from python-gitlab->mlem) (1.0.0)\n",
      "Requirement already satisfied: charset_normalizer<4,>=2 in c:\\users\\achla\\appdata\\local\\programs\\python\\python313\\lib\\site-packages (from requests->mlem) (3.4.3)\n",
      "Requirement already satisfied: urllib3<3,>=1.21.1 in c:\\users\\achla\\appdata\\local\\programs\\python\\python313\\lib\\site-packages (from requests->mlem) (2.5.0)\n",
      "Requirement already satisfied: certifi>=2017.4.17 in c:\\users\\achla\\appdata\\local\\programs\\python\\python313\\lib\\site-packages (from requests->mlem) (2025.8.3)\n",
      "Requirement already satisfied: markdown-it-py>=2.2.0 in c:\\users\\achla\\appdata\\local\\programs\\python\\python313\\lib\\site-packages (from rich->mlem) (4.0.0)\n",
      "Requirement already satisfied: pygments<3.0.0,>=2.13.0 in c:\\users\\achla\\appdata\\local\\programs\\python\\python313\\lib\\site-packages (from rich->mlem) (2.19.2)\n",
      "Requirement already satisfied: mdurl~=0.1 in c:\\users\\achla\\appdata\\local\\programs\\python\\python313\\lib\\site-packages (from markdown-it-py>=2.2.0->rich->mlem) (0.1.2)\n",
      "Requirement already satisfied: shellingham>=1.3.0 in c:\\users\\achla\\appdata\\local\\programs\\python\\python313\\lib\\site-packages (from typer->mlem) (1.5.4)\n",
      "Note: you may need to restart the kernel to use updated packages.\n"
     ]
    }
   ],
   "source": [
    "pip install mlem"
   ]
  },
  {
   "cell_type": "markdown",
   "id": "6f11c304-88b6-4bab-b916-b97bec69cd0f",
   "metadata": {},
   "source": [
    "### Saving the MLEM object with metadata\n",
    "pipe_xgb\n",
    "pipe_xgb.mlem >>\n",
    "\n",
    "artifacts:\n",
    "  data:\n",
    "    hash: 8ab8f59a646d49a26deeab9fe7be65e8\n",
    "    size: 540853\n",
    "    uri: pipe_xgb\n",
    "call_orders:\n",
    "  predict:\n",
    "  - - model\n",
    "    - predict\n",
    "  predict_proba:\n",
    "  - - model\n",
    "    - predict_proba\n",
    "object_type: model\n",
    "processors:\n",
    "  model:\n",
    "    methods:\n",
    "      predict:\n",
    "        args:\n",
    "        - name: X\n",
    "          type_:\n",
    "            columns:\n",
    "            - ''\n",
    "            - Age\n",
    "            - FrequentFlyer\n",
    "            - AnnualIncomeClass\n",
    "            - ServicesOpted\n",
    "            - AccountSyncedToSocialMedia\n",
    "            - BookedHotelOrNot\n",
    "            dtypes:\n",
    "            - int64\n",
    "            - int64\n",
    "            - object\n",
    "            - int64\n",
    "            - int64\n",
    "            - object\n",
    "            - object\n",
    "            index_cols:\n",
    "            - ''\n",
    "            type: dataframe\n",
    "        name: predict\n",
    "        returns:\n",
    "          dtype: int64\n",
    "          shape:\n",
    "          - null\n",
    "          type: ndarray\n",
    "        varkw: params\n",
    "      predict_proba:\n",
    "        args:\n",
    "        - name: X\n",
    "          type_:\n",
    "            columns:\n",
    "            - ''\n",
    "            - Age\n",
    "            - FrequentFlyer\n",
    "            - AnnualIncomeClass\n",
    "            - ServicesOpted\n",
    "            - AccountSyncedToSocialMedia\n",
    "            - BookedHotelOrNot\n",
    "            dtypes:\n",
    "            - int64\n",
    "            - int64\n",
    "            - object\n",
    "            - int64\n",
    "            - int64\n",
    "            - object\n",
    "            - object\n",
    "            index_cols:\n",
    "            - ''\n",
    "            type: dataframe\n",
    "        name: predict_proba\n",
    "        returns:\n",
    "          dtype: float32\n",
    "          shape:\n",
    "          - null\n",
    "          - 2\n",
    "          type: ndarray\n",
    "        varkw: params\n",
    "    type: sklearn_pipeline\n",
    "requirements:\n",
    "- module: numpy\n",
    "  version: 2.3.3\n",
    "- module: pandas\n",
    "  version: 2.3.2\n",
    "- module: sklearn\n",
    "  package_name: scikit-learn\n",
    "  version: 1.7.2\n",
    "- package_name: libgomp1\n",
    "  type: unix\n",
    "- module: xgboost\n",
    "  version: 3.0.5\n"
   ]
  },
  {
   "cell_type": "code",
   "execution_count": 29,
   "id": "92eb13dd-03f4-4399-9363-602e720b8ecb",
   "metadata": {},
   "outputs": [
    {
     "data": {
      "text/plain": [
       "MlemModel(location=Location(path='C:/Users/achla/Downloads/ML/dvc/dvc_churn_prediction_hyperparemeters/models/pipe_xgb.mlem', project=None, rev=None, uri='file://C:/Users/achla/Downloads/ML/dvc/dvc_churn_prediction_hyperparemeters/models/pipe_xgb.mlem', project_uri=None, fs=<fsspec.implementations.local.LocalFileSystem object at 0x000001D667B39940>), params={}, artifacts={'data': LocalArtifact(uri='pipe_xgb', size=540853, hash='8ab8f59a646d49a26deeab9fe7be65e8')}, requirements=Requirements(__root__=[InstallableRequirement(module='numpy', version='2.3.3', package_name=None, extra_index=None, source_url=None, vcs=None, vcs_commit=None), InstallableRequirement(module='pandas', version='2.3.2', package_name=None, extra_index=None, source_url=None, vcs=None, vcs_commit=None), InstallableRequirement(module='sklearn', version='1.7.2', package_name='scikit-learn', extra_index=None, source_url=None, vcs=None, vcs_commit=None), UnixPackageRequirement(package_name='libgomp1'), InstallableRequirement(module='xgboost', version='3.0.5', package_name=None, extra_index=None, source_url=None, vcs=None, vcs_commit=None)]), processors_cache={'model': SklearnPipelineType(model=Pipeline(steps=[('preprocessor',\n",
       "                 ColumnTransformer(remainder=StandardScaler(),\n",
       "                                   transformers=[('cat_tr',\n",
       "                                                  Pipeline(steps=[('encoder',\n",
       "                                                                   OneHotEncoder(drop='first',\n",
       "                                                                                 handle_unknown='ignore'))]),\n",
       "                                                  ['FrequentFlyer',\n",
       "                                                   'AccountSyncedToSocialMedia',\n",
       "                                                   'BookedHotelOrNot'])])),\n",
       "                ('classifier',\n",
       "                 XGBClassifier(alpha=0.09667359351679769, base_score=None,\n",
       "                               booster=None, callbacks=None...\n",
       "                               feature_types=None, feature_weights=None,\n",
       "                               gamma=None, grow_policy=None,\n",
       "                               importance_type=None,\n",
       "                               interaction_constraints=None,\n",
       "                               lambda=0.8345267126037174,\n",
       "                               learning_rate=0.06240657648173549, max_bin=None,\n",
       "                               max_cat_threshold=None, max_cat_to_onehot=None,\n",
       "                               max_delta_step=None, max_depth=6,\n",
       "                               max_leaves=None, min_child_weight=4, missing=nan,\n",
       "                               monotone_constraints=None, multi_strategy=None,\n",
       "                               n_estimators=495, ...))]), io=SimplePickleIO(), methods={'predict': Signature(name='predict', args=[Argument(name='X', type_=DataFrameType(value=None, columns=['', 'Age', 'FrequentFlyer', 'AnnualIncomeClass', 'ServicesOpted', 'AccountSyncedToSocialMedia', 'BookedHotelOrNot'], dtypes=['int64', 'int64', 'object', 'int64', 'int64', 'object', 'object'], index_cols=['']), required=True, default=None, kw_only=False)], returns=NumpyNdarrayType(value=None, shape=(None,), dtype='int64'), varargs=None, varargs_type=None, varkw='params', varkw_type=None), 'predict_proba': Signature(name='predict_proba', args=[Argument(name='X', type_=DataFrameType(value=None, columns=['', 'Age', 'FrequentFlyer', 'AnnualIncomeClass', 'ServicesOpted', 'AccountSyncedToSocialMedia', 'BookedHotelOrNot'], dtypes=['int64', 'int64', 'object', 'int64', 'int64', 'object', 'object'], index_cols=['']), required=True, default=None, kw_only=False)], returns=NumpyNdarrayType(value=None, shape=(None, 2), dtype='float32'), varargs=None, varargs_type=None, varkw='params', varkw_type=None)})}, call_orders={'predict_proba': [('model', 'predict_proba')], 'predict': [('model', 'predict')]})"
      ]
     },
     "execution_count": 29,
     "metadata": {},
     "output_type": "execute_result"
    }
   ],
   "source": [
    "from mlem.api import save\n",
    "\n",
    "save(pipe_xgb, 'models/pipe_xgb', sample_data = X_test)"
   ]
  },
  {
   "cell_type": "code",
   "execution_count": 30,
   "id": "9a790075-406c-492c-8b4b-7a332c53c966",
   "metadata": {},
   "outputs": [
    {
     "data": {
      "text/plain": [
       "array([0, 1, 0, 0, 0, 0, 0, 0, 0, 0, 1, 0, 1, 0, 1, 1, 0, 1, 0, 1, 1, 0,\n",
       "       1, 0, 0, 0, 0, 1, 0, 1, 1, 1, 0, 1, 0, 1, 1, 0, 1, 0, 0, 0, 0, 1,\n",
       "       0, 0, 0, 1, 0, 0, 1, 0, 0, 1, 0, 1, 1, 0, 0, 1, 1, 0, 0, 0, 1, 0,\n",
       "       0, 1, 0, 0, 1, 0, 0, 0, 0, 0, 1, 0, 0, 0, 1, 0, 0, 0, 1, 0, 0, 1,\n",
       "       1, 1])"
      ]
     },
     "execution_count": 30,
     "metadata": {},
     "output_type": "execute_result"
    }
   ],
   "source": [
    "predictions"
   ]
  },
  {
   "cell_type": "code",
   "execution_count": 31,
   "id": "622db0f6-2b33-40a4-b692-9592b76470f1",
   "metadata": {},
   "outputs": [
    {
     "data": {
      "text/plain": [
       "array([np.int64(30), 'No Record', np.int64(0), np.int64(3), 'Yes', 'No'],\n",
       "      dtype=object)"
      ]
     },
     "execution_count": 31,
     "metadata": {},
     "output_type": "execute_result"
    }
   ],
   "source": [
    "X_test.iloc[3].values"
   ]
  },
  {
   "cell_type": "code",
   "execution_count": 32,
   "id": "f56e1498-5289-4c06-84f5-74a4bf5b1b62",
   "metadata": {},
   "outputs": [
    {
     "data": {
      "text/plain": [
       "array([np.int64(37), 'Yes', np.int64(0), np.int64(3), 'Yes', 'Yes'],\n",
       "      dtype=object)"
      ]
     },
     "execution_count": 32,
     "metadata": {},
     "output_type": "execute_result"
    }
   ],
   "source": [
    "X_test.iloc[12].values"
   ]
  },
  {
   "cell_type": "markdown",
   "id": "806eb549-46b1-4fe6-a9d3-e4936a10b259",
   "metadata": {},
   "source": [
    "Load the model and use for prediction\n",
    "First didnt churn, second did"
   ]
  },
  {
   "cell_type": "code",
   "execution_count": 33,
   "id": "23830ecd-9817-4fe2-a721-0a6fd1cdc135",
   "metadata": {},
   "outputs": [
    {
     "name": "stdout",
     "output_type": "stream",
     "text": [
      "[0 1]\n"
     ]
    }
   ],
   "source": [
    "from mlem.api import load\n",
    "\n",
    "model = load('models/pipe_xgb')  \n",
    "\n",
    "features = [\n",
    "    'Age', 'FrequentFlyer', 'AnnualIncomeClass', \n",
    "    'ServicesOpted', 'AccountSyncedToSocialMedia', 'BookedHotelOrNot'\n",
    "]\n",
    "\n",
    "sample_df = pd.DataFrame([\n",
    "    [37, 'Yes', 0, 1, 'No', 'Yes'], \n",
    "    [34, 'Yes', 0, 0, 'Yes', 'No']\n",
    "], columns = features)\n",
    "\n",
    "y_pred = model.predict(sample_df)\n",
    "\n",
    "print(y_pred)"
   ]
  },
  {
   "cell_type": "markdown",
   "id": "25a6e360-19d9-481d-b06b-49921ef67e3b",
   "metadata": {},
   "source": [
    "Imvoking MLEL from command Line\n",
    "mlem apply models\\pipe_xgb test.csv  --method predict --import --import-type \"pandas[csv]\"\n",
    "⏳️ Importing object from file://C:/Users//Downloads/ML/dvc/dvc_churn_prediction_hyperparemeters/test.csv\n",
    "⏳️ Loading model from file://C:/Users//Downloads/ML/dvc/dvc_churn_prediction_hyperparemeters/models/pipe_xgb.mlem\n",
    "🍏 Applying `predict` method...\n",
    "[1, 0]"
   ]
  },
  {
   "attachments": {
    "25076ef5-c020-448e-9314-7c75e3e8c745.png": {
     "image/png": "[encoded data removed]"
    }
   },
   "cell_type": "markdown",
   "id": "27d14ba3-d69c-43a4-83a1-6843d6329306",
   "metadata": {},
   "source": [
    "Install FastAPI\n",
    "pip install mlem[fastapi]\n",
    "\n",
    "This will help in exposing model via the REST endpoint\n",
    "\n",
    "mlem serve fastapi --model models\\pipe_xgb --host 0.0.0.0 --port 8080\n",
    "\n",
    "⏳️ Loading model from file://C:/Users//Downloads/ML/dvc/dvc_churn_prediction_hyperparemeters/models/pipe_xgb.mlem\n",
    "Starting fastapi server...\n",
    "🖇️  Adding route for /predict\n",
    "🖇️  Adding route for /predict_proba\n",
    "Checkout openapi docs at <http://0.0.0.0:8080/docs>\n",
    "INFO:     Started server process [21896]\n",
    "INFO:     Waiting for application startup.\n",
    "INFO:     Application startup complete.\n",
    "INFO:     Uvicorn running on http://0.0.0.0:8080 (Press CTRL+C to quit)\n",
    "\n",
    "![image.png](attachment:25076ef5-c020-448e-9314-7c75e3e8c745.png)"
   ]
  },
  {
   "cell_type": "markdown",
   "id": "357f6491-cba7-4b1f-af46-5b9a21d8659f",
   "metadata": {},
   "source": [
    "You can use docker and mlem[docker] to containerise the model\n",
    "INSTALL Docker and mlem[docker]\n",
    "CREATE BUILDER\n",
    "mlem declare builder docker_builder.mlem --image.name mlem-model --daemon.host \"\"  --server fastapi\n",
    "\n",
    "will generate docker_builder.mlem\n",
    "\n",
    "USE builder to build the image\n",
    "mlem build --load docker_builder.mlem --model ../models/pipe.xgb \n",
    "generates the dockerfile \n",
    "\n",
    "RUN THE IMAGE    \n",
    "mlem docker run docker_container docker_app.mlem --model ..models\\pipe_xgb --server fastapi --ports.0 8080:8080\n",
    "\n"
   ]
  },
  {
   "cell_type": "code",
   "execution_count": 32,
   "id": "b91232af-41ff-4db0-a7c7-4de71c3b563c",
   "metadata": {},
   "outputs": [
    {
     "name": "stderr",
     "output_type": "stream",
     "text": [
      "warning: in the working copy of '.ipynb_checkpoints/ChurnPrediction_HyperparameterTuningAndModelServing-checkpoint.ipynb', LF will be replaced by CRLF the next time Git touches it\n",
      "warning: in the working copy of '.ipynb_checkpoints/DNC-checkpoint.ipynb', LF will be replaced by CRLF the next time Git touches it\n",
      "warning: in the working copy of 'ChurnPrediction_HyperparameterTuningAndModelServing.ipynb', LF will be replaced by CRLF the next time Git touches it\n",
      "warning: in the working copy of 'DNC.ipynb', LF will be replaced by CRLF the next time Git touches it\n"
     ]
    }
   ],
   "source": [
    "!git add ."
   ]
  },
  {
   "cell_type": "code",
   "execution_count": 34,
   "id": "40eed8b1-5b19-4767-bef5-d29c7d3363d0",
   "metadata": {},
   "outputs": [
    {
     "name": "stdout",
     "output_type": "stream",
     "text": [
      "[main 1f2f606] HPY MLEM Commit\n",
      " 9 files changed, 6834 insertions(+)\n",
      " create mode 100644 .ipynb_checkpoints/ChurnPrediction_HyperparameterTuningAndModelServing-checkpoint.ipynb\n",
      " create mode 100644 .ipynb_checkpoints/DNC-checkpoint.ipynb\n",
      " create mode 100644 ChurnPrediction_HyperparameterTuningAndModelServing.ipynb\n",
      " create mode 100644 DNC.ipynb\n",
      " create mode 100644 data/CustomerTravel.csv\n",
      " create mode 100644 dvc.yaml\n",
      " create mode 100644 dvclive-optuna/metrics.json\n",
      " create mode 100644 dvclive-optuna/params.yaml\n",
      " create mode 100644 untitled.txt\n"
     ]
    }
   ],
   "source": [
    "!git commit -m \"HPY MLEM Commit\""
   ]
  },
  {
   "cell_type": "code",
   "execution_count": 35,
   "id": "136b743b-2011-4aed-a53b-7acfb83ff6bb",
   "metadata": {},
   "outputs": [
    {
     "name": "stdout",
     "output_type": "stream",
     "text": [
      "branch 'main' set up to track 'origin/main'."
     ]
    },
    {
     "name": "stderr",
     "output_type": "stream",
     "text": [
      "To https://github.com/amsha16/dvc_churn_prediction_hyperparemeters.git"
     ]
    },
    {
     "name": "stdout",
     "output_type": "stream",
     "text": [
      "\n"
     ]
    },
    {
     "name": "stderr",
     "output_type": "stream",
     "text": [
      "\n",
      "   1406c26..1f2f606  main -> main\n"
     ]
    }
   ],
   "source": [
    "!git push -u origin "
   ]
  },
  {
   "cell_type": "code",
   "execution_count": null,
   "id": "48650ade-5daa-4d0f-a268-9a28d8d5e2e3",
   "metadata": {},
   "outputs": [],
   "source": []
  }
 ],
 "metadata": {
  "kernelspec": {
   "display_name": "Python 3 (ipykernel)",
   "language": "python",
   "name": "python3"
  },
  "language_info": {
   "codemirror_mode": {
    "name": "ipython",
    "version": 3
   },
   "file_extension": ".py",
   "mimetype": "text/x-python",
   "name": "python",
   "nbconvert_exporter": "python",
   "pygments_lexer": "ipython3",
   "version": "3.13.7"
  }
 },
 "nbformat": 4,
 "nbformat_minor": 5
}
