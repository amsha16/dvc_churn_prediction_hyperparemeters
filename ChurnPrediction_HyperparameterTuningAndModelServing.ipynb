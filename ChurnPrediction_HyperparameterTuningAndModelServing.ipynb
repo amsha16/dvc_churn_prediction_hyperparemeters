{
 "cells": [
  {
   "cell_type": "code",
   "execution_count": 1,
   "id": "aff6efd3-6954-43f1-baa9-793a9288dde9",
   "metadata": {},
   "outputs": [
    {
     "name": "stdout",
     "output_type": "stream",
     "text": [
      "Requirement already satisfied: dvc in c:\\users\\achla\\appdata\\local\\programs\\python\\python313\\lib\\site-packages (3.63.0)\n",
      "Requirement already satisfied: attrs>=22.2.0 in c:\\users\\achla\\appdata\\local\\programs\\python\\python313\\lib\\site-packages (from dvc) (25.3.0)\n",
      "Requirement already satisfied: celery in c:\\users\\achla\\appdata\\local\\programs\\python\\python313\\lib\\site-packages (from dvc) (5.5.3)\n",
      "Requirement already satisfied: colorama>=0.3.9 in c:\\users\\achla\\appdata\\local\\programs\\python\\python313\\lib\\site-packages (from dvc) (0.4.6)\n",
      "Requirement already satisfied: configobj>=5.0.9 in c:\\users\\achla\\appdata\\local\\programs\\python\\python313\\lib\\site-packages (from dvc) (5.0.9)\n",
      "Requirement already satisfied: distro>=1.3 in c:\\users\\achla\\appdata\\local\\programs\\python\\python313\\lib\\site-packages (from dvc) (1.9.0)\n",
      "Requirement already satisfied: dpath<3,>=2.1.0 in c:\\users\\achla\\appdata\\local\\programs\\python\\python313\\lib\\site-packages (from dvc) (2.2.0)\n",
      "Requirement already satisfied: dulwich in c:\\users\\achla\\appdata\\local\\programs\\python\\python313\\lib\\site-packages (from dvc) (0.24.1)\n",
      "Requirement already satisfied: dvc-data<3.17,>=3.16.2 in c:\\users\\achla\\appdata\\local\\programs\\python\\python313\\lib\\site-packages (from dvc) (3.16.12)\n",
      "Requirement already satisfied: dvc-http>=2.29.0 in c:\\users\\achla\\appdata\\local\\programs\\python\\python313\\lib\\site-packages (from dvc) (2.32.0)\n",
      "Requirement already satisfied: dvc-objects in c:\\users\\achla\\appdata\\local\\programs\\python\\python313\\lib\\site-packages (from dvc) (5.1.1)\n",
      "Requirement already satisfied: dvc-render<2,>=1.0.1 in c:\\users\\achla\\appdata\\local\\programs\\python\\python313\\lib\\site-packages (from dvc) (1.0.2)\n",
      "Requirement already satisfied: dvc-studio-client<1,>=0.21 in c:\\users\\achla\\appdata\\local\\programs\\python\\python313\\lib\\site-packages (from dvc) (0.22.0)\n",
      "Requirement already satisfied: dvc-task<1,>=0.3.0 in c:\\users\\achla\\appdata\\local\\programs\\python\\python313\\lib\\site-packages (from dvc) (0.40.2)\n",
      "Requirement already satisfied: flatten_dict<1,>=0.4.1 in c:\\users\\achla\\appdata\\local\\programs\\python\\python313\\lib\\site-packages (from dvc) (0.4.2)\n",
      "Requirement already satisfied: flufl.lock<9,>=8.1.0 in c:\\users\\achla\\appdata\\local\\programs\\python\\python313\\lib\\site-packages (from dvc) (8.2.0)\n",
      "Requirement already satisfied: fsspec>=2024.2.0 in c:\\users\\achla\\appdata\\local\\programs\\python\\python313\\lib\\site-packages (from dvc) (2025.9.0)\n",
      "Requirement already satisfied: funcy>=1.14 in c:\\users\\achla\\appdata\\local\\programs\\python\\python313\\lib\\site-packages (from dvc) (2.0)\n",
      "Requirement already satisfied: grandalf<1,>=0.7 in c:\\users\\achla\\appdata\\local\\programs\\python\\python313\\lib\\site-packages (from dvc) (0.8)\n",
      "Requirement already satisfied: gto<2,>=1.6.0 in c:\\users\\achla\\appdata\\local\\programs\\python\\python313\\lib\\site-packages (from dvc) (1.8.0)\n",
      "Requirement already satisfied: hydra-core>=1.1 in c:\\users\\achla\\appdata\\local\\programs\\python\\python313\\lib\\site-packages (from dvc) (1.3.2)\n",
      "Requirement already satisfied: iterative-telemetry>=0.0.7 in c:\\users\\achla\\appdata\\local\\programs\\python\\python313\\lib\\site-packages (from dvc) (0.0.10)\n",
      "Requirement already satisfied: kombu in c:\\users\\achla\\appdata\\local\\programs\\python\\python313\\lib\\site-packages (from dvc) (5.5.4)\n",
      "Requirement already satisfied: networkx>=2.5 in c:\\users\\achla\\appdata\\local\\programs\\python\\python313\\lib\\site-packages (from dvc) (3.5)\n",
      "Requirement already satisfied: omegaconf in c:\\users\\achla\\appdata\\local\\programs\\python\\python313\\lib\\site-packages (from dvc) (2.3.0)\n",
      "Requirement already satisfied: packaging>=19 in c:\\users\\achla\\appdata\\local\\programs\\python\\python313\\lib\\site-packages (from dvc) (25.0)\n",
      "Requirement already satisfied: pathspec>=0.10.3 in c:\\users\\achla\\appdata\\local\\programs\\python\\python313\\lib\\site-packages (from dvc) (0.12.1)\n",
      "Requirement already satisfied: platformdirs<5,>=3.1.1 in c:\\users\\achla\\appdata\\local\\programs\\python\\python313\\lib\\site-packages (from dvc) (4.4.0)\n",
      "Requirement already satisfied: psutil>=5.8 in c:\\users\\achla\\appdata\\local\\programs\\python\\python313\\lib\\site-packages (from dvc) (7.0.0)\n",
      "Requirement already satisfied: pydot>=1.2.4 in c:\\users\\achla\\appdata\\local\\programs\\python\\python313\\lib\\site-packages (from dvc) (4.0.1)\n",
      "Requirement already satisfied: pygtrie>=2.3.2 in c:\\users\\achla\\appdata\\local\\programs\\python\\python313\\lib\\site-packages (from dvc) (2.5.0)\n",
      "Requirement already satisfied: pyparsing>=2.4.7 in c:\\users\\achla\\appdata\\local\\programs\\python\\python313\\lib\\site-packages (from dvc) (3.2.3)\n",
      "Requirement already satisfied: requests>=2.22 in c:\\users\\achla\\appdata\\local\\programs\\python\\python313\\lib\\site-packages (from dvc) (2.32.5)\n",
      "Requirement already satisfied: rich>=12 in c:\\users\\achla\\appdata\\local\\programs\\python\\python313\\lib\\site-packages (from dvc) (14.1.0)\n",
      "Requirement already satisfied: ruamel.yaml>=0.17.11 in c:\\users\\achla\\appdata\\local\\programs\\python\\python313\\lib\\site-packages (from dvc) (0.18.15)\n",
      "Requirement already satisfied: scmrepo<4,>=3.5.2 in c:\\users\\achla\\appdata\\local\\programs\\python\\python313\\lib\\site-packages (from dvc) (3.5.2)\n",
      "Requirement already satisfied: shortuuid>=0.5 in c:\\users\\achla\\appdata\\local\\programs\\python\\python313\\lib\\site-packages (from dvc) (1.0.13)\n",
      "Requirement already satisfied: shtab<2,>=1.3.4 in c:\\users\\achla\\appdata\\local\\programs\\python\\python313\\lib\\site-packages (from dvc) (1.7.2)\n",
      "Requirement already satisfied: tabulate>=0.8.7 in c:\\users\\achla\\appdata\\local\\programs\\python\\python313\\lib\\site-packages (from dvc) (0.9.0)\n",
      "Requirement already satisfied: tomlkit>=0.11.1 in c:\\users\\achla\\appdata\\local\\programs\\python\\python313\\lib\\site-packages (from dvc) (0.13.3)\n",
      "Requirement already satisfied: tqdm<5,>=4.63.1 in c:\\users\\achla\\appdata\\local\\programs\\python\\python313\\lib\\site-packages (from dvc) (4.67.1)\n",
      "Requirement already satisfied: voluptuous>=0.11.7 in c:\\users\\achla\\appdata\\local\\programs\\python\\python313\\lib\\site-packages (from dvc) (0.15.2)\n",
      "Requirement already satisfied: zc.lockfile>=1.2.1 in c:\\users\\achla\\appdata\\local\\programs\\python\\python313\\lib\\site-packages (from dvc) (4.0)\n",
      "Requirement already satisfied: dictdiffer>=0.8.1 in c:\\users\\achla\\appdata\\local\\programs\\python\\python313\\lib\\site-packages (from dvc-data<3.17,>=3.16.2->dvc) (0.9.0)\n",
      "Requirement already satisfied: diskcache>=5.2.1 in c:\\users\\achla\\appdata\\local\\programs\\python\\python313\\lib\\site-packages (from dvc-data<3.17,>=3.16.2->dvc) (5.6.3)\n",
      "Requirement already satisfied: sqltrie<1,>=0.11.0 in c:\\users\\achla\\appdata\\local\\programs\\python\\python313\\lib\\site-packages (from dvc-data<3.17,>=3.16.2->dvc) (0.11.2)\n",
      "Requirement already satisfied: orjson<4,>=3 in c:\\users\\achla\\appdata\\local\\programs\\python\\python313\\lib\\site-packages (from dvc-data<3.17,>=3.16.2->dvc) (3.11.3)\n",
      "Requirement already satisfied: pywin32>=225 in c:\\users\\achla\\appdata\\local\\programs\\python\\python313\\lib\\site-packages (from dvc-task<1,>=0.3.0->dvc) (311)\n",
      "Requirement already satisfied: billiard<5.0,>=4.2.1 in c:\\users\\achla\\appdata\\local\\programs\\python\\python313\\lib\\site-packages (from celery->dvc) (4.2.1)\n",
      "Requirement already satisfied: vine<6.0,>=5.1.0 in c:\\users\\achla\\appdata\\local\\programs\\python\\python313\\lib\\site-packages (from celery->dvc) (5.1.0)\n",
      "Requirement already satisfied: click<9.0,>=8.1.2 in c:\\users\\achla\\appdata\\local\\programs\\python\\python313\\lib\\site-packages (from celery->dvc) (8.1.8)\n",
      "Requirement already satisfied: click-didyoumean>=0.3.0 in c:\\users\\achla\\appdata\\local\\programs\\python\\python313\\lib\\site-packages (from celery->dvc) (0.3.1)\n",
      "Requirement already satisfied: click-repl>=0.2.0 in c:\\users\\achla\\appdata\\local\\programs\\python\\python313\\lib\\site-packages (from celery->dvc) (0.3.0)\n",
      "Requirement already satisfied: click-plugins>=1.1.1 in c:\\users\\achla\\appdata\\local\\programs\\python\\python313\\lib\\site-packages (from celery->dvc) (1.1.1.2)\n",
      "Requirement already satisfied: python-dateutil>=2.8.2 in c:\\users\\achla\\appdata\\local\\programs\\python\\python313\\lib\\site-packages (from celery->dvc) (2.9.0.post0)\n",
      "Requirement already satisfied: six<2.0,>=1.12 in c:\\users\\achla\\appdata\\local\\programs\\python\\python313\\lib\\site-packages (from flatten_dict<1,>=0.4.1->dvc) (1.17.0)\n",
      "Requirement already satisfied: atpublic in c:\\users\\achla\\appdata\\local\\programs\\python\\python313\\lib\\site-packages (from flufl.lock<9,>=8.1.0->dvc) (6.0.1)\n",
      "Requirement already satisfied: entrypoints in c:\\users\\achla\\appdata\\local\\programs\\python\\python313\\lib\\site-packages (from gto<2,>=1.6.0->dvc) (0.4)\n",
      "Requirement already satisfied: pydantic!=2.0.0,<3,>=1.9.0 in c:\\users\\achla\\appdata\\local\\programs\\python\\python313\\lib\\site-packages (from gto<2,>=1.6.0->dvc) (1.10.23)\n",
      "Requirement already satisfied: semver>=2.13.0 in c:\\users\\achla\\appdata\\local\\programs\\python\\python313\\lib\\site-packages (from gto<2,>=1.6.0->dvc) (3.0.4)\n",
      "Requirement already satisfied: typer>=0.4.1 in c:\\users\\achla\\appdata\\local\\programs\\python\\python313\\lib\\site-packages (from gto<2,>=1.6.0->dvc) (0.17.4)\n",
      "Requirement already satisfied: amqp<6.0.0,>=5.1.1 in c:\\users\\achla\\appdata\\local\\programs\\python\\python313\\lib\\site-packages (from kombu->dvc) (5.3.1)\n",
      "Requirement already satisfied: tzdata>=2025.2 in c:\\users\\achla\\appdata\\local\\programs\\python\\python313\\lib\\site-packages (from kombu->dvc) (2025.2)\n",
      "Requirement already satisfied: typing-extensions>=4.2.0 in c:\\users\\achla\\appdata\\local\\programs\\python\\python313\\lib\\site-packages (from pydantic!=2.0.0,<3,>=1.9.0->gto<2,>=1.6.0->dvc) (4.15.0)\n",
      "Requirement already satisfied: gitpython>3 in c:\\users\\achla\\appdata\\local\\programs\\python\\python313\\lib\\site-packages (from scmrepo<4,>=3.5.2->dvc) (3.1.45)\n",
      "Requirement already satisfied: pygit2>=1.14.0 in c:\\users\\achla\\appdata\\local\\programs\\python\\python313\\lib\\site-packages (from scmrepo<4,>=3.5.2->dvc) (1.18.2)\n",
      "Requirement already satisfied: asyncssh<3,>=2.13.1 in c:\\users\\achla\\appdata\\local\\programs\\python\\python313\\lib\\site-packages (from scmrepo<4,>=3.5.2->dvc) (2.21.0)\n",
      "Requirement already satisfied: aiohttp-retry>=2.5.0 in c:\\users\\achla\\appdata\\local\\programs\\python\\python313\\lib\\site-packages (from scmrepo<4,>=3.5.2->dvc) (2.9.1)\n",
      "Requirement already satisfied: cryptography>=39.0 in c:\\users\\achla\\appdata\\local\\programs\\python\\python313\\lib\\site-packages (from asyncssh<3,>=2.13.1->scmrepo<4,>=3.5.2->dvc) (46.0.1)\n",
      "Requirement already satisfied: aiohttp in c:\\users\\achla\\appdata\\local\\programs\\python\\python313\\lib\\site-packages (from aiohttp-retry>=2.5.0->scmrepo<4,>=3.5.2->dvc) (3.12.15)\n",
      "Requirement already satisfied: prompt-toolkit>=3.0.36 in c:\\users\\achla\\appdata\\local\\programs\\python\\python313\\lib\\site-packages (from click-repl>=0.2.0->celery->dvc) (3.0.52)\n",
      "Requirement already satisfied: cffi>=2.0.0 in c:\\users\\achla\\appdata\\local\\programs\\python\\python313\\lib\\site-packages (from cryptography>=39.0->asyncssh<3,>=2.13.1->scmrepo<4,>=3.5.2->dvc) (2.0.0)\n",
      "Requirement already satisfied: pycparser in c:\\users\\achla\\appdata\\local\\programs\\python\\python313\\lib\\site-packages (from cffi>=2.0.0->cryptography>=39.0->asyncssh<3,>=2.13.1->scmrepo<4,>=3.5.2->dvc) (2.23)\n",
      "Requirement already satisfied: urllib3>=1.25 in c:\\users\\achla\\appdata\\local\\programs\\python\\python313\\lib\\site-packages (from dulwich->dvc) (2.5.0)\n",
      "Requirement already satisfied: gitdb<5,>=4.0.1 in c:\\users\\achla\\appdata\\local\\programs\\python\\python313\\lib\\site-packages (from gitpython>3->scmrepo<4,>=3.5.2->dvc) (4.0.12)\n",
      "Requirement already satisfied: smmap<6,>=3.0.1 in c:\\users\\achla\\appdata\\local\\programs\\python\\python313\\lib\\site-packages (from gitdb<5,>=4.0.1->gitpython>3->scmrepo<4,>=3.5.2->dvc) (5.0.2)\n",
      "Requirement already satisfied: antlr4-python3-runtime==4.9.* in c:\\users\\achla\\appdata\\local\\programs\\python\\python313\\lib\\site-packages (from hydra-core>=1.1->dvc) (4.9.3)\n",
      "Requirement already satisfied: PyYAML>=5.1.0 in c:\\users\\achla\\appdata\\local\\programs\\python\\python313\\lib\\site-packages (from omegaconf->dvc) (6.0.2)\n",
      "Requirement already satisfied: appdirs in c:\\users\\achla\\appdata\\local\\programs\\python\\python313\\lib\\site-packages (from iterative-telemetry>=0.0.7->dvc) (1.4.4)\n",
      "Requirement already satisfied: filelock in c:\\users\\achla\\appdata\\local\\programs\\python\\python313\\lib\\site-packages (from iterative-telemetry>=0.0.7->dvc) (3.19.1)\n",
      "Requirement already satisfied: wcwidth in c:\\users\\achla\\appdata\\local\\programs\\python\\python313\\lib\\site-packages (from prompt-toolkit>=3.0.36->click-repl>=0.2.0->celery->dvc) (0.2.13)\n",
      "Requirement already satisfied: charset_normalizer<4,>=2 in c:\\users\\achla\\appdata\\local\\programs\\python\\python313\\lib\\site-packages (from requests>=2.22->dvc) (3.4.3)\n",
      "Requirement already satisfied: idna<4,>=2.5 in c:\\users\\achla\\appdata\\local\\programs\\python\\python313\\lib\\site-packages (from requests>=2.22->dvc) (3.10)\n",
      "Requirement already satisfied: certifi>=2017.4.17 in c:\\users\\achla\\appdata\\local\\programs\\python\\python313\\lib\\site-packages (from requests>=2.22->dvc) (2025.8.3)\n",
      "Requirement already satisfied: markdown-it-py>=2.2.0 in c:\\users\\achla\\appdata\\local\\programs\\python\\python313\\lib\\site-packages (from rich>=12->dvc) (4.0.0)\n",
      "Requirement already satisfied: pygments<3.0.0,>=2.13.0 in c:\\users\\achla\\appdata\\local\\programs\\python\\python313\\lib\\site-packages (from rich>=12->dvc) (2.19.2)\n",
      "Requirement already satisfied: mdurl~=0.1 in c:\\users\\achla\\appdata\\local\\programs\\python\\python313\\lib\\site-packages (from markdown-it-py>=2.2.0->rich>=12->dvc) (0.1.2)\n",
      "Requirement already satisfied: ruamel.yaml.clib>=0.2.7 in c:\\users\\achla\\appdata\\local\\programs\\python\\python313\\lib\\site-packages (from ruamel.yaml>=0.17.11->dvc) (0.2.12)\n",
      "Requirement already satisfied: shellingham>=1.3.0 in c:\\users\\achla\\appdata\\local\\programs\\python\\python313\\lib\\site-packages (from typer>=0.4.1->gto<2,>=1.6.0->dvc) (1.5.4)\n",
      "Requirement already satisfied: setuptools in c:\\users\\achla\\appdata\\local\\programs\\python\\python313\\lib\\site-packages (from zc.lockfile>=1.2.1->dvc) (80.9.0)\n",
      "Requirement already satisfied: aiohappyeyeballs>=2.5.0 in c:\\users\\achla\\appdata\\local\\programs\\python\\python313\\lib\\site-packages (from aiohttp->aiohttp-retry>=2.5.0->scmrepo<4,>=3.5.2->dvc) (2.6.1)\n",
      "Requirement already satisfied: aiosignal>=1.4.0 in c:\\users\\achla\\appdata\\local\\programs\\python\\python313\\lib\\site-packages (from aiohttp->aiohttp-retry>=2.5.0->scmrepo<4,>=3.5.2->dvc) (1.4.0)\n",
      "Requirement already satisfied: frozenlist>=1.1.1 in c:\\users\\achla\\appdata\\local\\programs\\python\\python313\\lib\\site-packages (from aiohttp->aiohttp-retry>=2.5.0->scmrepo<4,>=3.5.2->dvc) (1.7.0)\n",
      "Requirement already satisfied: multidict<7.0,>=4.5 in c:\\users\\achla\\appdata\\local\\programs\\python\\python313\\lib\\site-packages (from aiohttp->aiohttp-retry>=2.5.0->scmrepo<4,>=3.5.2->dvc) (6.6.4)\n",
      "Requirement already satisfied: propcache>=0.2.0 in c:\\users\\achla\\appdata\\local\\programs\\python\\python313\\lib\\site-packages (from aiohttp->aiohttp-retry>=2.5.0->scmrepo<4,>=3.5.2->dvc) (0.3.2)\n",
      "Requirement already satisfied: yarl<2.0,>=1.17.0 in c:\\users\\achla\\appdata\\local\\programs\\python\\python313\\lib\\site-packages (from aiohttp->aiohttp-retry>=2.5.0->scmrepo<4,>=3.5.2->dvc) (1.20.1)\n"
     ]
    }
   ],
   "source": [
    "!pip install dvc"
   ]
  },
  {
   "cell_type": "code",
   "execution_count": 2,
   "id": "685714be-f1ca-497b-a30b-e85e509f536a",
   "metadata": {},
   "outputs": [
    {
     "name": "stdout",
     "output_type": "stream",
     "text": [
      "Requirement already satisfied: dvclive in c:\\users\\achla\\appdata\\local\\programs\\python\\python313\\lib\\site-packages (3.48.5)\n",
      "Requirement already satisfied: dvc>=3.48.4 in c:\\users\\achla\\appdata\\local\\programs\\python\\python313\\lib\\site-packages (from dvclive) (3.63.0)\n",
      "Requirement already satisfied: dvc-render<2,>=1.0.0 in c:\\users\\achla\\appdata\\local\\programs\\python\\python313\\lib\\site-packages (from dvclive) (1.0.2)\n",
      "Requirement already satisfied: dvc-studio-client<1,>=0.20 in c:\\users\\achla\\appdata\\local\\programs\\python\\python313\\lib\\site-packages (from dvclive) (0.22.0)\n",
      "Requirement already satisfied: funcy in c:\\users\\achla\\appdata\\local\\programs\\python\\python313\\lib\\site-packages (from dvclive) (2.0)\n",
      "Requirement already satisfied: gto in c:\\users\\achla\\appdata\\local\\programs\\python\\python313\\lib\\site-packages (from dvclive) (1.8.0)\n",
      "Requirement already satisfied: ruamel.yaml in c:\\users\\achla\\appdata\\local\\programs\\python\\python313\\lib\\site-packages (from dvclive) (0.18.15)\n",
      "Requirement already satisfied: scmrepo<4,>=3 in c:\\users\\achla\\appdata\\local\\programs\\python\\python313\\lib\\site-packages (from dvclive) (3.5.2)\n",
      "Requirement already satisfied: psutil in c:\\users\\achla\\appdata\\local\\programs\\python\\python313\\lib\\site-packages (from dvclive) (7.0.0)\n",
      "Requirement already satisfied: pynvml in c:\\users\\achla\\appdata\\local\\programs\\python\\python313\\lib\\site-packages (from dvclive) (13.0.1)\n",
      "Requirement already satisfied: dulwich in c:\\users\\achla\\appdata\\local\\programs\\python\\python313\\lib\\site-packages (from dvc-studio-client<1,>=0.20->dvclive) (0.24.1)\n",
      "Requirement already satisfied: requests in c:\\users\\achla\\appdata\\local\\programs\\python\\python313\\lib\\site-packages (from dvc-studio-client<1,>=0.20->dvclive) (2.32.5)\n",
      "Requirement already satisfied: voluptuous in c:\\users\\achla\\appdata\\local\\programs\\python\\python313\\lib\\site-packages (from dvc-studio-client<1,>=0.20->dvclive) (0.15.2)\n",
      "Requirement already satisfied: gitpython>3 in c:\\users\\achla\\appdata\\local\\programs\\python\\python313\\lib\\site-packages (from scmrepo<4,>=3->dvclive) (3.1.45)\n",
      "Requirement already satisfied: pygit2>=1.14.0 in c:\\users\\achla\\appdata\\local\\programs\\python\\python313\\lib\\site-packages (from scmrepo<4,>=3->dvclive) (1.18.2)\n",
      "Requirement already satisfied: pygtrie>=2.3.2 in c:\\users\\achla\\appdata\\local\\programs\\python\\python313\\lib\\site-packages (from scmrepo<4,>=3->dvclive) (2.5.0)\n",
      "Requirement already satisfied: fsspec>=2024.2.0 in c:\\users\\achla\\appdata\\local\\programs\\python\\python313\\lib\\site-packages (from fsspec[tqdm]>=2024.2.0->scmrepo<4,>=3->dvclive) (2025.9.0)\n",
      "Requirement already satisfied: pathspec>=0.9.0 in c:\\users\\achla\\appdata\\local\\programs\\python\\python313\\lib\\site-packages (from scmrepo<4,>=3->dvclive) (0.12.1)\n",
      "Requirement already satisfied: asyncssh<3,>=2.13.1 in c:\\users\\achla\\appdata\\local\\programs\\python\\python313\\lib\\site-packages (from scmrepo<4,>=3->dvclive) (2.21.0)\n",
      "Requirement already satisfied: aiohttp-retry>=2.5.0 in c:\\users\\achla\\appdata\\local\\programs\\python\\python313\\lib\\site-packages (from scmrepo<4,>=3->dvclive) (2.9.1)\n",
      "Requirement already satisfied: tqdm in c:\\users\\achla\\appdata\\local\\programs\\python\\python313\\lib\\site-packages (from scmrepo<4,>=3->dvclive) (4.67.1)\n",
      "Requirement already satisfied: cryptography>=39.0 in c:\\users\\achla\\appdata\\local\\programs\\python\\python313\\lib\\site-packages (from asyncssh<3,>=2.13.1->scmrepo<4,>=3->dvclive) (46.0.1)\n",
      "Requirement already satisfied: typing_extensions>=4.0.0 in c:\\users\\achla\\appdata\\local\\programs\\python\\python313\\lib\\site-packages (from asyncssh<3,>=2.13.1->scmrepo<4,>=3->dvclive) (4.15.0)\n",
      "Requirement already satisfied: aiohttp in c:\\users\\achla\\appdata\\local\\programs\\python\\python313\\lib\\site-packages (from aiohttp-retry>=2.5.0->scmrepo<4,>=3->dvclive) (3.12.15)\n",
      "Requirement already satisfied: cffi>=2.0.0 in c:\\users\\achla\\appdata\\local\\programs\\python\\python313\\lib\\site-packages (from cryptography>=39.0->asyncssh<3,>=2.13.1->scmrepo<4,>=3->dvclive) (2.0.0)\n",
      "Requirement already satisfied: pycparser in c:\\users\\achla\\appdata\\local\\programs\\python\\python313\\lib\\site-packages (from cffi>=2.0.0->cryptography>=39.0->asyncssh<3,>=2.13.1->scmrepo<4,>=3->dvclive) (2.23)\n",
      "Requirement already satisfied: urllib3>=1.25 in c:\\users\\achla\\appdata\\local\\programs\\python\\python313\\lib\\site-packages (from dulwich->dvc-studio-client<1,>=0.20->dvclive) (2.5.0)\n",
      "Requirement already satisfied: attrs>=22.2.0 in c:\\users\\achla\\appdata\\local\\programs\\python\\python313\\lib\\site-packages (from dvc>=3.48.4->dvclive) (25.3.0)\n",
      "Requirement already satisfied: celery in c:\\users\\achla\\appdata\\local\\programs\\python\\python313\\lib\\site-packages (from dvc>=3.48.4->dvclive) (5.5.3)\n",
      "Requirement already satisfied: colorama>=0.3.9 in c:\\users\\achla\\appdata\\local\\programs\\python\\python313\\lib\\site-packages (from dvc>=3.48.4->dvclive) (0.4.6)\n",
      "Requirement already satisfied: configobj>=5.0.9 in c:\\users\\achla\\appdata\\local\\programs\\python\\python313\\lib\\site-packages (from dvc>=3.48.4->dvclive) (5.0.9)\n",
      "Requirement already satisfied: distro>=1.3 in c:\\users\\achla\\appdata\\local\\programs\\python\\python313\\lib\\site-packages (from dvc>=3.48.4->dvclive) (1.9.0)\n",
      "Requirement already satisfied: dpath<3,>=2.1.0 in c:\\users\\achla\\appdata\\local\\programs\\python\\python313\\lib\\site-packages (from dvc>=3.48.4->dvclive) (2.2.0)\n",
      "Requirement already satisfied: dvc-data<3.17,>=3.16.2 in c:\\users\\achla\\appdata\\local\\programs\\python\\python313\\lib\\site-packages (from dvc>=3.48.4->dvclive) (3.16.12)\n",
      "Requirement already satisfied: dvc-http>=2.29.0 in c:\\users\\achla\\appdata\\local\\programs\\python\\python313\\lib\\site-packages (from dvc>=3.48.4->dvclive) (2.32.0)\n",
      "Requirement already satisfied: dvc-objects in c:\\users\\achla\\appdata\\local\\programs\\python\\python313\\lib\\site-packages (from dvc>=3.48.4->dvclive) (5.1.1)\n",
      "Requirement already satisfied: dvc-task<1,>=0.3.0 in c:\\users\\achla\\appdata\\local\\programs\\python\\python313\\lib\\site-packages (from dvc>=3.48.4->dvclive) (0.40.2)\n",
      "Requirement already satisfied: flatten_dict<1,>=0.4.1 in c:\\users\\achla\\appdata\\local\\programs\\python\\python313\\lib\\site-packages (from dvc>=3.48.4->dvclive) (0.4.2)\n",
      "Requirement already satisfied: flufl.lock<9,>=8.1.0 in c:\\users\\achla\\appdata\\local\\programs\\python\\python313\\lib\\site-packages (from dvc>=3.48.4->dvclive) (8.2.0)\n",
      "Requirement already satisfied: grandalf<1,>=0.7 in c:\\users\\achla\\appdata\\local\\programs\\python\\python313\\lib\\site-packages (from dvc>=3.48.4->dvclive) (0.8)\n",
      "Requirement already satisfied: hydra-core>=1.1 in c:\\users\\achla\\appdata\\local\\programs\\python\\python313\\lib\\site-packages (from dvc>=3.48.4->dvclive) (1.3.2)\n",
      "Requirement already satisfied: iterative-telemetry>=0.0.7 in c:\\users\\achla\\appdata\\local\\programs\\python\\python313\\lib\\site-packages (from dvc>=3.48.4->dvclive) (0.0.10)\n",
      "Requirement already satisfied: kombu in c:\\users\\achla\\appdata\\local\\programs\\python\\python313\\lib\\site-packages (from dvc>=3.48.4->dvclive) (5.5.4)\n",
      "Requirement already satisfied: networkx>=2.5 in c:\\users\\achla\\appdata\\local\\programs\\python\\python313\\lib\\site-packages (from dvc>=3.48.4->dvclive) (3.5)\n",
      "Requirement already satisfied: omegaconf in c:\\users\\achla\\appdata\\local\\programs\\python\\python313\\lib\\site-packages (from dvc>=3.48.4->dvclive) (2.3.0)\n",
      "Requirement already satisfied: packaging>=19 in c:\\users\\achla\\appdata\\local\\programs\\python\\python313\\lib\\site-packages (from dvc>=3.48.4->dvclive) (25.0)\n",
      "Requirement already satisfied: platformdirs<5,>=3.1.1 in c:\\users\\achla\\appdata\\local\\programs\\python\\python313\\lib\\site-packages (from dvc>=3.48.4->dvclive) (4.4.0)\n",
      "Requirement already satisfied: pydot>=1.2.4 in c:\\users\\achla\\appdata\\local\\programs\\python\\python313\\lib\\site-packages (from dvc>=3.48.4->dvclive) (4.0.1)\n",
      "Requirement already satisfied: pyparsing>=2.4.7 in c:\\users\\achla\\appdata\\local\\programs\\python\\python313\\lib\\site-packages (from dvc>=3.48.4->dvclive) (3.2.3)\n",
      "Requirement already satisfied: rich>=12 in c:\\users\\achla\\appdata\\local\\programs\\python\\python313\\lib\\site-packages (from dvc>=3.48.4->dvclive) (14.1.0)\n",
      "Requirement already satisfied: shortuuid>=0.5 in c:\\users\\achla\\appdata\\local\\programs\\python\\python313\\lib\\site-packages (from dvc>=3.48.4->dvclive) (1.0.13)\n",
      "Requirement already satisfied: shtab<2,>=1.3.4 in c:\\users\\achla\\appdata\\local\\programs\\python\\python313\\lib\\site-packages (from dvc>=3.48.4->dvclive) (1.7.2)\n",
      "Requirement already satisfied: tabulate>=0.8.7 in c:\\users\\achla\\appdata\\local\\programs\\python\\python313\\lib\\site-packages (from dvc>=3.48.4->dvclive) (0.9.0)\n",
      "Requirement already satisfied: tomlkit>=0.11.1 in c:\\users\\achla\\appdata\\local\\programs\\python\\python313\\lib\\site-packages (from dvc>=3.48.4->dvclive) (0.13.3)\n",
      "Requirement already satisfied: zc.lockfile>=1.2.1 in c:\\users\\achla\\appdata\\local\\programs\\python\\python313\\lib\\site-packages (from dvc>=3.48.4->dvclive) (4.0)\n",
      "Requirement already satisfied: dictdiffer>=0.8.1 in c:\\users\\achla\\appdata\\local\\programs\\python\\python313\\lib\\site-packages (from dvc-data<3.17,>=3.16.2->dvc>=3.48.4->dvclive) (0.9.0)\n",
      "Requirement already satisfied: diskcache>=5.2.1 in c:\\users\\achla\\appdata\\local\\programs\\python\\python313\\lib\\site-packages (from dvc-data<3.17,>=3.16.2->dvc>=3.48.4->dvclive) (5.6.3)\n",
      "Requirement already satisfied: sqltrie<1,>=0.11.0 in c:\\users\\achla\\appdata\\local\\programs\\python\\python313\\lib\\site-packages (from dvc-data<3.17,>=3.16.2->dvc>=3.48.4->dvclive) (0.11.2)\n",
      "Requirement already satisfied: orjson<4,>=3 in c:\\users\\achla\\appdata\\local\\programs\\python\\python313\\lib\\site-packages (from dvc-data<3.17,>=3.16.2->dvc>=3.48.4->dvclive) (3.11.3)\n",
      "Requirement already satisfied: pywin32>=225 in c:\\users\\achla\\appdata\\local\\programs\\python\\python313\\lib\\site-packages (from dvc-task<1,>=0.3.0->dvc>=3.48.4->dvclive) (311)\n",
      "Requirement already satisfied: billiard<5.0,>=4.2.1 in c:\\users\\achla\\appdata\\local\\programs\\python\\python313\\lib\\site-packages (from celery->dvc>=3.48.4->dvclive) (4.2.1)\n",
      "Requirement already satisfied: vine<6.0,>=5.1.0 in c:\\users\\achla\\appdata\\local\\programs\\python\\python313\\lib\\site-packages (from celery->dvc>=3.48.4->dvclive) (5.1.0)\n",
      "Requirement already satisfied: click<9.0,>=8.1.2 in c:\\users\\achla\\appdata\\local\\programs\\python\\python313\\lib\\site-packages (from celery->dvc>=3.48.4->dvclive) (8.1.8)\n",
      "Requirement already satisfied: click-didyoumean>=0.3.0 in c:\\users\\achla\\appdata\\local\\programs\\python\\python313\\lib\\site-packages (from celery->dvc>=3.48.4->dvclive) (0.3.1)\n",
      "Requirement already satisfied: click-repl>=0.2.0 in c:\\users\\achla\\appdata\\local\\programs\\python\\python313\\lib\\site-packages (from celery->dvc>=3.48.4->dvclive) (0.3.0)\n",
      "Requirement already satisfied: click-plugins>=1.1.1 in c:\\users\\achla\\appdata\\local\\programs\\python\\python313\\lib\\site-packages (from celery->dvc>=3.48.4->dvclive) (1.1.1.2)\n",
      "Requirement already satisfied: python-dateutil>=2.8.2 in c:\\users\\achla\\appdata\\local\\programs\\python\\python313\\lib\\site-packages (from celery->dvc>=3.48.4->dvclive) (2.9.0.post0)\n",
      "Requirement already satisfied: six<2.0,>=1.12 in c:\\users\\achla\\appdata\\local\\programs\\python\\python313\\lib\\site-packages (from flatten_dict<1,>=0.4.1->dvc>=3.48.4->dvclive) (1.17.0)\n",
      "Requirement already satisfied: atpublic in c:\\users\\achla\\appdata\\local\\programs\\python\\python313\\lib\\site-packages (from flufl.lock<9,>=8.1.0->dvc>=3.48.4->dvclive) (6.0.1)\n",
      "Requirement already satisfied: entrypoints in c:\\users\\achla\\appdata\\local\\programs\\python\\python313\\lib\\site-packages (from gto->dvclive) (0.4)\n",
      "Requirement already satisfied: pydantic!=2.0.0,<3,>=1.9.0 in c:\\users\\achla\\appdata\\local\\programs\\python\\python313\\lib\\site-packages (from gto->dvclive) (1.10.23)\n",
      "Requirement already satisfied: semver>=2.13.0 in c:\\users\\achla\\appdata\\local\\programs\\python\\python313\\lib\\site-packages (from gto->dvclive) (3.0.4)\n",
      "Requirement already satisfied: typer>=0.4.1 in c:\\users\\achla\\appdata\\local\\programs\\python\\python313\\lib\\site-packages (from gto->dvclive) (0.17.4)\n",
      "Requirement already satisfied: amqp<6.0.0,>=5.1.1 in c:\\users\\achla\\appdata\\local\\programs\\python\\python313\\lib\\site-packages (from kombu->dvc>=3.48.4->dvclive) (5.3.1)\n",
      "Requirement already satisfied: tzdata>=2025.2 in c:\\users\\achla\\appdata\\local\\programs\\python\\python313\\lib\\site-packages (from kombu->dvc>=3.48.4->dvclive) (2025.2)\n",
      "Requirement already satisfied: prompt-toolkit>=3.0.36 in c:\\users\\achla\\appdata\\local\\programs\\python\\python313\\lib\\site-packages (from click-repl>=0.2.0->celery->dvc>=3.48.4->dvclive) (3.0.52)\n",
      "Requirement already satisfied: gitdb<5,>=4.0.1 in c:\\users\\achla\\appdata\\local\\programs\\python\\python313\\lib\\site-packages (from gitpython>3->scmrepo<4,>=3->dvclive) (4.0.12)\n",
      "Requirement already satisfied: smmap<6,>=3.0.1 in c:\\users\\achla\\appdata\\local\\programs\\python\\python313\\lib\\site-packages (from gitdb<5,>=4.0.1->gitpython>3->scmrepo<4,>=3->dvclive) (5.0.2)\n",
      "Requirement already satisfied: antlr4-python3-runtime==4.9.* in c:\\users\\achla\\appdata\\local\\programs\\python\\python313\\lib\\site-packages (from hydra-core>=1.1->dvc>=3.48.4->dvclive) (4.9.3)\n",
      "Requirement already satisfied: PyYAML>=5.1.0 in c:\\users\\achla\\appdata\\local\\programs\\python\\python313\\lib\\site-packages (from omegaconf->dvc>=3.48.4->dvclive) (6.0.2)\n",
      "Requirement already satisfied: appdirs in c:\\users\\achla\\appdata\\local\\programs\\python\\python313\\lib\\site-packages (from iterative-telemetry>=0.0.7->dvc>=3.48.4->dvclive) (1.4.4)\n",
      "Requirement already satisfied: filelock in c:\\users\\achla\\appdata\\local\\programs\\python\\python313\\lib\\site-packages (from iterative-telemetry>=0.0.7->dvc>=3.48.4->dvclive) (3.19.1)\n",
      "Requirement already satisfied: wcwidth in c:\\users\\achla\\appdata\\local\\programs\\python\\python313\\lib\\site-packages (from prompt-toolkit>=3.0.36->click-repl>=0.2.0->celery->dvc>=3.48.4->dvclive) (0.2.13)\n",
      "Requirement already satisfied: charset_normalizer<4,>=2 in c:\\users\\achla\\appdata\\local\\programs\\python\\python313\\lib\\site-packages (from requests->dvc-studio-client<1,>=0.20->dvclive) (3.4.3)\n",
      "Requirement already satisfied: idna<4,>=2.5 in c:\\users\\achla\\appdata\\local\\programs\\python\\python313\\lib\\site-packages (from requests->dvc-studio-client<1,>=0.20->dvclive) (3.10)\n",
      "Requirement already satisfied: certifi>=2017.4.17 in c:\\users\\achla\\appdata\\local\\programs\\python\\python313\\lib\\site-packages (from requests->dvc-studio-client<1,>=0.20->dvclive) (2025.8.3)\n",
      "Requirement already satisfied: markdown-it-py>=2.2.0 in c:\\users\\achla\\appdata\\local\\programs\\python\\python313\\lib\\site-packages (from rich>=12->dvc>=3.48.4->dvclive) (4.0.0)\n",
      "Requirement already satisfied: pygments<3.0.0,>=2.13.0 in c:\\users\\achla\\appdata\\local\\programs\\python\\python313\\lib\\site-packages (from rich>=12->dvc>=3.48.4->dvclive) (2.19.2)\n",
      "Requirement already satisfied: mdurl~=0.1 in c:\\users\\achla\\appdata\\local\\programs\\python\\python313\\lib\\site-packages (from markdown-it-py>=2.2.0->rich>=12->dvc>=3.48.4->dvclive) (0.1.2)\n",
      "Requirement already satisfied: ruamel.yaml.clib>=0.2.7 in c:\\users\\achla\\appdata\\local\\programs\\python\\python313\\lib\\site-packages (from ruamel.yaml->dvclive) (0.2.12)\n",
      "Requirement already satisfied: shellingham>=1.3.0 in c:\\users\\achla\\appdata\\local\\programs\\python\\python313\\lib\\site-packages (from typer>=0.4.1->gto->dvclive) (1.5.4)\n",
      "Requirement already satisfied: setuptools in c:\\users\\achla\\appdata\\local\\programs\\python\\python313\\lib\\site-packages (from zc.lockfile>=1.2.1->dvc>=3.48.4->dvclive) (80.9.0)\n",
      "Requirement already satisfied: aiohappyeyeballs>=2.5.0 in c:\\users\\achla\\appdata\\local\\programs\\python\\python313\\lib\\site-packages (from aiohttp->aiohttp-retry>=2.5.0->scmrepo<4,>=3->dvclive) (2.6.1)\n",
      "Requirement already satisfied: aiosignal>=1.4.0 in c:\\users\\achla\\appdata\\local\\programs\\python\\python313\\lib\\site-packages (from aiohttp->aiohttp-retry>=2.5.0->scmrepo<4,>=3->dvclive) (1.4.0)\n",
      "Requirement already satisfied: frozenlist>=1.1.1 in c:\\users\\achla\\appdata\\local\\programs\\python\\python313\\lib\\site-packages (from aiohttp->aiohttp-retry>=2.5.0->scmrepo<4,>=3->dvclive) (1.7.0)\n",
      "Requirement already satisfied: multidict<7.0,>=4.5 in c:\\users\\achla\\appdata\\local\\programs\\python\\python313\\lib\\site-packages (from aiohttp->aiohttp-retry>=2.5.0->scmrepo<4,>=3->dvclive) (6.6.4)\n",
      "Requirement already satisfied: propcache>=0.2.0 in c:\\users\\achla\\appdata\\local\\programs\\python\\python313\\lib\\site-packages (from aiohttp->aiohttp-retry>=2.5.0->scmrepo<4,>=3->dvclive) (0.3.2)\n",
      "Requirement already satisfied: yarl<2.0,>=1.17.0 in c:\\users\\achla\\appdata\\local\\programs\\python\\python313\\lib\\site-packages (from aiohttp->aiohttp-retry>=2.5.0->scmrepo<4,>=3->dvclive) (1.20.1)\n",
      "Requirement already satisfied: nvidia-ml-py>=12.0.0 in c:\\users\\achla\\appdata\\local\\programs\\python\\python313\\lib\\site-packages (from pynvml->dvclive) (13.580.82)\n"
     ]
    }
   ],
   "source": [
    "!pip install dvclive"
   ]
  },
  {
   "cell_type": "code",
   "execution_count": 3,
   "id": "c768b565-4a2b-4c1f-9a93-256dc6fc7d51",
   "metadata": {},
   "outputs": [
    {
     "name": "stdout",
     "output_type": "stream",
     "text": [
      "Reinitialized existing Git repository in C:/Users/achla/Downloads/ML/dvc/dvc_churn_prediction_hyperparemeters/.git/\n"
     ]
    },
    {
     "name": "stderr",
     "output_type": "stream",
     "text": [
      "ERROR: failed to initiate DVC - '.dvc' exists. Use `-f` to force.\n"
     ]
    }
   ],
   "source": [
    "!git init\n",
    "!dvc init"
   ]
  },
  {
   "cell_type": "code",
   "execution_count": 4,
   "id": "51844197-336f-47ab-b5eb-bf4e0d54ec83",
   "metadata": {},
   "outputs": [
    {
     "name": "stdout",
     "output_type": "stream",
     "text": [
      "On branch master\n",
      "\n",
      "No commits yet\n",
      "\n",
      "Changes to be committed:\n",
      "  (use \"git rm --cached <file>...\" to unstage)\n",
      "\tnew file:   .dvc/.gitignore\n",
      "\tnew file:   .dvc/config\n",
      "\tnew file:   .dvcignore\n",
      "\n",
      "Untracked files:\n",
      "  (use \"git add <file>...\" to include in what will be committed)\n",
      "\t.ipynb_checkpoints/\n",
      "\tChurnPrediction_HyperparameterTuningAndModelServing.ipynb\n",
      "\tDNC.ipynb\n",
      "\tdata/\n",
      "\tuntitled.txt\n",
      "\n"
     ]
    }
   ],
   "source": [
    "!git config --global user.name \"amsha16\"\n",
    "!git config --global user.email \"sharma.yashi@gmail.com\"\n",
    "!git status"
   ]
  },
  {
   "cell_type": "code",
   "execution_count": 5,
   "id": "c4862343-25b5-4520-bee6-33e0dd5d7dd5",
   "metadata": {},
   "outputs": [],
   "source": [
    "#!git remote add -f origin https://github.com/amsha16/dvc_churn_prediction_hyperparemeters.git \n",
    "!git remote set-url origin git@github.com:amsha16/dvc_churn_prediction_hyperparemeters.git\n",
    "!git branch -M main "
   ]
  },
  {
   "cell_type": "code",
   "execution_count": 6,
   "id": "d9d4c740-412d-40a6-9f23-28e66e084594",
   "metadata": {},
   "outputs": [
    {
     "name": "stdout",
     "output_type": "stream",
     "text": [
      "Setting 'localremote' as a default remote.\n",
      "localremote     C:\\Users\\achla\\Downloads\\ML\\dvc_stoarge3_hytuning       \n",
      "(default)\n",
      "On branch main\n",
      "\n",
      "No commits yet\n",
      "\n",
      "Changes to be committed:\n",
      "  (use \"git rm --cached <file>...\" to unstage)\n",
      "\tnew file:   .dvc/.gitignore\n",
      "\tnew file:   .dvc/config\n",
      "\tnew file:   .dvcignore\n",
      "\n",
      "Untracked files:\n",
      "  (use \"git add <file>...\" to include in what will be committed)\n",
      "\t.ipynb_checkpoints/\n",
      "\tChurnPrediction_HyperparameterTuningAndModelServing.ipynb\n",
      "\tDNC.ipynb\n",
      "\tdata/\n",
      "\tuntitled.txt\n",
      "\n"
     ]
    }
   ],
   "source": [
    "!dvc remote add -d localremote C:\\Users\\achla\\Downloads\\ML\\dvc_stoarge3_hytuning\n",
    "!dvc remote list\n",
    "!git add  .dvc/config\n",
    "!git status"
   ]
  },
  {
   "cell_type": "code",
   "execution_count": 6,
   "id": "779df929-56e6-4b27-9f38-636c4e8cd29c",
   "metadata": {},
   "outputs": [
    {
     "name": "stdout",
     "output_type": "stream",
     "text": [
      "On branch main\n",
      "Your branch is up to date with 'origin/main'.\n",
      "\n",
      "Changes not staged for commit:\n",
      "  (use \"git add <file>...\" to update what will be committed)\n",
      "  (use \"git restore <file>...\" to discard changes in working directory)\n",
      "\tmodified:   ChurnPrediction_HyperparameterTuningAndModelServing.ipynb\n",
      "\tmodified:   DNC.ipynb\n",
      "\n",
      "no changes added to commit (use \"git add\" and/or \"git commit -a\")\n",
      "branch 'main' set up to track 'origin/main'.\n"
     ]
    },
    {
     "name": "stderr",
     "output_type": "stream",
     "text": [
      "Everything up-to-date\n"
     ]
    },
    {
     "name": "stdout",
     "output_type": "stream",
     "text": [
      "commit 1f2f606638c8f82fedead816fa26fdc2bdf5a42f\n",
      "Author: amsha16 <sharma.yashi@gmail.com>\n",
      "Date:   Fri Sep 19 16:53:36 2025 +0530\n",
      "\n",
      "    HPY MLEM Commit\n",
      "\n",
      "commit 1406c264e139d876f3e442b490d6a7dacc6b02c0\n",
      "Author: amsha16 <sharma.yashi@gmail.com>\n",
      "Date:   Fri Sep 19 16:03:28 2025 +0530\n",
      "\n",
      "    Initialized DVC for churn prediction hyperparameter tuning\n"
     ]
    }
   ],
   "source": [
    "!git commit -m \"Initialized DVC for churn prediction hyperparameter tuning 1\"\n",
    "\n",
    "!git push -u origin main\n",
    "\n",
    "!git log"
   ]
  },
  {
   "cell_type": "markdown",
   "id": "af22b932-f35e-4041-ad7d-4cb8aa101b45",
   "metadata": {},
   "source": [
    "### add project to iterative studio"
   ]
  },
  {
   "cell_type": "code",
   "execution_count": 7,
   "id": "8bf24eb4-f68d-406d-bc6b-443a22e0441a",
   "metadata": {},
   "outputs": [],
   "source": [
    "!dvc config --global studio.token dsat_41WoMhvnVyXXyhNU0yHeZVIs1GbGbPqdgCvrzHymBmf904If8"
   ]
  },
  {
   "cell_type": "code",
   "execution_count": 8,
   "id": "36de38ab-b1a9-4afd-a9cf-b816bde3903f",
   "metadata": {},
   "outputs": [
    {
     "name": "stdout",
     "output_type": "stream",
     "text": [
      "Requirement already satisfied: scikit-learn in c:\\users\\achla\\appdata\\local\\programs\\python\\python313\\lib\\site-packages (1.7.2)\n",
      "Requirement already satisfied: numpy>=1.22.0 in c:\\users\\achla\\appdata\\local\\programs\\python\\python313\\lib\\site-packages (from scikit-learn) (2.3.3)\n",
      "Requirement already satisfied: scipy>=1.8.0 in c:\\users\\achla\\appdata\\local\\programs\\python\\python313\\lib\\site-packages (from scikit-learn) (1.16.2)\n",
      "Requirement already satisfied: joblib>=1.2.0 in c:\\users\\achla\\appdata\\local\\programs\\python\\python313\\lib\\site-packages (from scikit-learn) (1.5.2)\n",
      "Requirement already satisfied: threadpoolctl>=3.1.0 in c:\\users\\achla\\appdata\\local\\programs\\python\\python313\\lib\\site-packages (from scikit-learn) (3.6.0)\n"
     ]
    }
   ],
   "source": [
    "!pip install scikit-learn"
   ]
  },
  {
   "cell_type": "code",
   "execution_count": 9,
   "id": "de62ff2a-9ec2-4561-9437-246582baf7ff",
   "metadata": {},
   "outputs": [],
   "source": [
    "import pandas as pd\n",
    "import numpy as np\n",
    "\n",
    "from sklearn.compose import ColumnTransformer\n",
    "from sklearn.pipeline import Pipeline\n",
    "from sklearn.impute import SimpleImputer\n",
    "from sklearn.preprocessing import StandardScaler, OneHotEncoder\n",
    "from sklearn.model_selection import train_test_split"
   ]
  },
  {
   "cell_type": "code",
   "execution_count": 10,
   "id": "5d1183c9-3f5f-4c51-b2e3-a115cc608dab",
   "metadata": {},
   "outputs": [
    {
     "data": {
      "text/html": [
       "<div>\n",
       "<style scoped>\n",
       "    .dataframe tbody tr th:only-of-type {\n",
       "        vertical-align: middle;\n",
       "    }\n",
       "\n",
       "    .dataframe tbody tr th {\n",
       "        vertical-align: top;\n",
       "    }\n",
       "\n",
       "    .dataframe thead th {\n",
       "        text-align: right;\n",
       "    }\n",
       "</style>\n",
       "<table border=\"1\" class=\"dataframe\">\n",
       "  <thead>\n",
       "    <tr style=\"text-align: right;\">\n",
       "      <th></th>\n",
       "      <th>Age</th>\n",
       "      <th>FrequentFlyer</th>\n",
       "      <th>AnnualIncomeClass</th>\n",
       "      <th>ServicesOpted</th>\n",
       "      <th>AccountSyncedToSocialMedia</th>\n",
       "      <th>BookedHotelOrNot</th>\n",
       "      <th>Target</th>\n",
       "    </tr>\n",
       "  </thead>\n",
       "  <tbody>\n",
       "    <tr>\n",
       "      <th>0</th>\n",
       "      <td>34</td>\n",
       "      <td>No</td>\n",
       "      <td>Middle Income</td>\n",
       "      <td>6</td>\n",
       "      <td>No</td>\n",
       "      <td>Yes</td>\n",
       "      <td>0</td>\n",
       "    </tr>\n",
       "    <tr>\n",
       "      <th>1</th>\n",
       "      <td>34</td>\n",
       "      <td>Yes</td>\n",
       "      <td>Low Income</td>\n",
       "      <td>5</td>\n",
       "      <td>Yes</td>\n",
       "      <td>No</td>\n",
       "      <td>1</td>\n",
       "    </tr>\n",
       "    <tr>\n",
       "      <th>2</th>\n",
       "      <td>37</td>\n",
       "      <td>No</td>\n",
       "      <td>Middle Income</td>\n",
       "      <td>3</td>\n",
       "      <td>Yes</td>\n",
       "      <td>No</td>\n",
       "      <td>0</td>\n",
       "    </tr>\n",
       "    <tr>\n",
       "      <th>3</th>\n",
       "      <td>30</td>\n",
       "      <td>No</td>\n",
       "      <td>Middle Income</td>\n",
       "      <td>2</td>\n",
       "      <td>No</td>\n",
       "      <td>No</td>\n",
       "      <td>0</td>\n",
       "    </tr>\n",
       "    <tr>\n",
       "      <th>4</th>\n",
       "      <td>30</td>\n",
       "      <td>No</td>\n",
       "      <td>Low Income</td>\n",
       "      <td>1</td>\n",
       "      <td>No</td>\n",
       "      <td>No</td>\n",
       "      <td>0</td>\n",
       "    </tr>\n",
       "  </tbody>\n",
       "</table>\n",
       "</div>"
      ],
      "text/plain": [
       "   Age FrequentFlyer AnnualIncomeClass  ServicesOpted  \\\n",
       "0   34            No     Middle Income              6   \n",
       "1   34           Yes        Low Income              5   \n",
       "2   37            No     Middle Income              3   \n",
       "3   30            No     Middle Income              2   \n",
       "4   30            No        Low Income              1   \n",
       "\n",
       "  AccountSyncedToSocialMedia BookedHotelOrNot  Target  \n",
       "0                         No              Yes       0  \n",
       "1                        Yes               No       1  \n",
       "2                        Yes               No       0  \n",
       "3                         No               No       0  \n",
       "4                         No               No       0  "
      ]
     },
     "execution_count": 10,
     "metadata": {},
     "output_type": "execute_result"
    }
   ],
   "source": [
    "travel_churn_data = pd.read_csv('data/CustomerTravel.csv')\n",
    "\n",
    "travel_churn_data.head()"
   ]
  },
  {
   "cell_type": "code",
   "execution_count": 11,
   "id": "46ae45af-87aa-4f6e-bc6e-07e05026a806",
   "metadata": {},
   "outputs": [
    {
     "data": {
      "text/plain": [
       "(447, 7)"
      ]
     },
     "execution_count": 11,
     "metadata": {},
     "output_type": "execute_result"
    }
   ],
   "source": [
    "travel_churn_data = travel_churn_data.drop_duplicates()\n",
    "\n",
    "travel_churn_data.shape"
   ]
  },
  {
   "cell_type": "code",
   "execution_count": 12,
   "id": "cad98418-ecff-4f71-9f31-8be45661435e",
   "metadata": {},
   "outputs": [
    {
     "name": "stderr",
     "output_type": "stream",
     "text": [
      "C:\\Users\\achla\\AppData\\Local\\Temp\\ipykernel_24676\\2425412443.py:3: FutureWarning: Downcasting behavior in `replace` is deprecated and will be removed in a future version. To retain the old behavior, explicitly call `result.infer_objects(copy=False)`. To opt-in to the future behavior, set `pd.set_option('future.no_silent_downcasting', True)`\n",
      "  travel_churn_data['AnnualIncomeClass'] = travel_churn_data['AnnualIncomeClass'].replace(mapper)\n"
     ]
    }
   ],
   "source": [
    "mapper = {'Low Income': 0,'Middle Income': 1, 'High Income': 2}\n",
    "\n",
    "travel_churn_data['AnnualIncomeClass'] = travel_churn_data['AnnualIncomeClass'].replace(mapper)"
   ]
  },
  {
   "cell_type": "code",
   "execution_count": 13,
   "id": "f1ffd529-a4dd-4464-8411-3d9b583258c9",
   "metadata": {},
   "outputs": [],
   "source": [
    "categorical_features = [\n",
    "    'FrequentFlyer',\n",
    "    'AccountSyncedToSocialMedia', \n",
    "    'BookedHotelOrNot'\n",
    "]\n",
    "\n",
    "categorical_transformer = Pipeline(\n",
    "    steps=[('encoder', OneHotEncoder(handle_unknown = 'ignore', drop = 'first'))]\n",
    ")\n",
    "\n",
    "preprocessor = ColumnTransformer(\n",
    "    transformers = [('cat_tr', categorical_transformer, categorical_features)], \n",
    "    remainder = StandardScaler()\n",
    ")"
   ]
  },
  {
   "cell_type": "code",
   "execution_count": 14,
   "id": "2c3160e7-545e-4460-b35a-3fa5a00e04a6",
   "metadata": {},
   "outputs": [],
   "source": [
    "X = travel_churn_data.drop(labels = ['Target'], axis = 1)\n",
    " \n",
    "y = travel_churn_data['Target']\n",
    " \n",
    "from sklearn.model_selection import train_test_split\n",
    " \n",
    "X_train, X_test, y_train, y_test = train_test_split(X, y, test_size = 0.2, random_state = 124)"
   ]
  },
  {
   "cell_type": "code",
   "execution_count": 15,
   "id": "041d0593-2a66-42de-959d-0b2c27d450a9",
   "metadata": {},
   "outputs": [
    {
     "name": "stdout",
     "output_type": "stream",
     "text": [
      "Requirement already satisfied: optuna in c:\\users\\achla\\appdata\\local\\programs\\python\\python313\\lib\\site-packages (4.5.0)\n",
      "Requirement already satisfied: alembic>=1.5.0 in c:\\users\\achla\\appdata\\local\\programs\\python\\python313\\lib\\site-packages (from optuna) (1.16.5)\n",
      "Requirement already satisfied: colorlog in c:\\users\\achla\\appdata\\local\\programs\\python\\python313\\lib\\site-packages (from optuna) (6.9.0)\n",
      "Requirement already satisfied: numpy in c:\\users\\achla\\appdata\\local\\programs\\python\\python313\\lib\\site-packages (from optuna) (2.3.3)\n",
      "Requirement already satisfied: packaging>=20.0 in c:\\users\\achla\\appdata\\local\\programs\\python\\python313\\lib\\site-packages (from optuna) (25.0)\n",
      "Requirement already satisfied: sqlalchemy>=1.4.2 in c:\\users\\achla\\appdata\\local\\programs\\python\\python313\\lib\\site-packages (from optuna) (2.0.43)\n",
      "Requirement already satisfied: tqdm in c:\\users\\achla\\appdata\\local\\programs\\python\\python313\\lib\\site-packages (from optuna) (4.67.1)\n",
      "Requirement already satisfied: PyYAML in c:\\users\\achla\\appdata\\local\\programs\\python\\python313\\lib\\site-packages (from optuna) (6.0.2)\n",
      "Requirement already satisfied: Mako in c:\\users\\achla\\appdata\\local\\programs\\python\\python313\\lib\\site-packages (from alembic>=1.5.0->optuna) (1.3.10)\n",
      "Requirement already satisfied: typing-extensions>=4.12 in c:\\users\\achla\\appdata\\local\\programs\\python\\python313\\lib\\site-packages (from alembic>=1.5.0->optuna) (4.15.0)\n",
      "Requirement already satisfied: greenlet>=1 in c:\\users\\achla\\appdata\\local\\programs\\python\\python313\\lib\\site-packages (from sqlalchemy>=1.4.2->optuna) (3.2.4)\n",
      "Requirement already satisfied: colorama in c:\\users\\achla\\appdata\\local\\programs\\python\\python313\\lib\\site-packages (from colorlog->optuna) (0.4.6)\n",
      "Requirement already satisfied: MarkupSafe>=0.9.2 in c:\\users\\achla\\appdata\\local\\programs\\python\\python313\\lib\\site-packages (from Mako->alembic>=1.5.0->optuna) (3.0.2)\n"
     ]
    }
   ],
   "source": [
    "!pip install optuna"
   ]
  },
  {
   "cell_type": "code",
   "execution_count": 16,
   "id": "01bfd88f-988f-4767-b22c-f50ec97fb9a6",
   "metadata": {},
   "outputs": [
    {
     "name": "stdout",
     "output_type": "stream",
     "text": [
      "Requirement already satisfied: xgboost in c:\\users\\achla\\appdata\\local\\programs\\python\\python313\\lib\\site-packages (3.0.5)\n",
      "Requirement already satisfied: numpy in c:\\users\\achla\\appdata\\local\\programs\\python\\python313\\lib\\site-packages (from xgboost) (2.3.3)\n",
      "Requirement already satisfied: scipy in c:\\users\\achla\\appdata\\local\\programs\\python\\python313\\lib\\site-packages (from xgboost) (1.16.2)\n"
     ]
    }
   ],
   "source": [
    "!pip install xgboost"
   ]
  },
  {
   "cell_type": "code",
   "execution_count": 9,
   "id": "24aec7bc-8488-4d72-944e-3bf156570b51",
   "metadata": {},
   "outputs": [],
   "source": [
    "from xgboost.sklearn import XGBClassifier\n",
    "\n",
    "from sklearn.metrics import accuracy_score, precision_score, recall_score, f1_score, roc_auc_score\n",
    "\n",
    "def objective(trial):\n",
    "    \"\"\"Define the objective function\"\"\"\n",
    "\n",
    "    params = {\n",
    "        'max_depth': trial.suggest_int('max_depth', 1, 15, log = True),\n",
    "        'learning_rate': trial.suggest_float('learning_rate', 0.01, 1.0, log = True),\n",
    "        'n_estimators': trial.suggest_int('n_estimators', 50, 500, log = True),\n",
    "        'min_child_weight': trial.suggest_int('min_child_weight', 1, 10, log = True),\n",
    "        'lambda': trial.suggest_float('lambda', 1e-3, 10.0, log = True),\n",
    "        'alpha': trial.suggest_float('alpha', 1e-3, 10.0,log = True),\n",
    "    }\n",
    "\n",
    "    xgb_model = XGBClassifier(**params)\n",
    "    \n",
    "    pipe_xgb = Pipeline(steps = [('preprocessor', preprocessor), ('classifier', xgb_model )])\n",
    "    pipe_xgb.fit(X_train, y_train)\n",
    "\n",
    "    predictions = pipe_xgb.predict(X_test)\n",
    "    test_f1_score = f1_score(y_test, predictions)\n",
    "\n",
    "    return test_f1_score"
   ]
  },
  {
   "cell_type": "code",
   "execution_count": 10,
   "id": "1b7c442d-e79e-46f9-9adf-46efbdfcd5f2",
   "metadata": {},
   "outputs": [
    {
     "name": "stderr",
     "output_type": "stream",
     "text": [
      "[I 2025-09-19 16:22:04,877] A new study created in memory with name: no-name-1b0c05fd-abcb-499b-8166-a1ac99e1742d\n"
     ]
    },
    {
     "name": "stdout",
     "output_type": "stream",
     "text": [
      "Sampler is TPESampler\n"
     ]
    }
   ],
   "source": [
    "import optuna\n",
    "\n",
    "study = optuna.create_study(direction = 'maximize')\n",
    "\n",
    "print(f\"Sampler is {study.sampler.__class__.__name__}\")"
   ]
  },
  {
   "cell_type": "code",
   "execution_count": 11,
   "id": "3d598a76-1d2a-4432-b7f6-88f16f1648de",
   "metadata": {},
   "outputs": [
    {
     "name": "stderr",
     "output_type": "stream",
     "text": [
      "C:\\Users\\achla\\AppData\\Local\\Programs\\Python\\Python313\\Lib\\site-packages\\dvclive\\monitor_system.py:11: FutureWarning: The pynvml package is deprecated. Please install nvidia-ml-py instead. If you did not install pynvml directly, please report this to the maintainers of the package that installed pynvml for you.\n",
      "  from pynvml import (\n",
      "[I 2025-09-19 16:22:08,855] Trial 0 finished with value: 0.7307692307692307 and parameters: {'max_depth': 5, 'learning_rate': 0.06041141703272837, 'n_estimators': 52, 'min_child_weight': 1, 'lambda': 0.7922711132209063, 'alpha': 0.0024763933440894374}. Best is trial 0 with value: 0.7307692307692307.\n",
      "WARNING:dvc_studio_client:Failed to post to Studio: {\"detail\":\"Invalid token\"}\n",
      "WARNING:dvclive:`post_to_studio` `start` failed.\n",
      "WARNING: Something went wrong while auto pushing experiment to the remote 'origin': Authentication failed for: 'origin'\n",
      "See https://dvc.org/doc/user-guide/troubleshooting#git-auth\n",
      "WARNING: The following untracked files were present in the workspace before saving but will not be included in the experiment commit:\n",
      "\tChurnPrediction_HyperparameterTuningAndModelServing.ipynb, DNC.ipynb, untitled.txt, .ipynb_checkpoints/ChurnPrediction_HyperparameterTuningAndModelServing-checkpoint.ipynb, .ipynb_checkpoints/DNC-checkpoint.ipynb, data/CustomerTravel.csv\n",
      "[I 2025-09-19 16:22:13,487] Trial 1 finished with value: 0.6296296296296297 and parameters: {'max_depth': 8, 'learning_rate': 0.1354672980319388, 'n_estimators': 65, 'min_child_weight': 2, 'lambda': 1.3145767413716267, 'alpha': 0.0032853029893125637}. Best is trial 0 with value: 0.7307692307692307.\n",
      "WARNING:dvc_studio_client:Failed to post to Studio: {\"detail\":\"Invalid token\"}\n",
      "WARNING:dvclive:`post_to_studio` `start` failed.\n",
      "WARNING: Something went wrong while auto pushing experiment to the remote 'origin': Authentication failed for: 'origin'\n",
      "See https://dvc.org/doc/user-guide/troubleshooting#git-auth\n",
      "WARNING: The following untracked files were present in the workspace before saving but will not be included in the experiment commit:\n",
      "\tChurnPrediction_HyperparameterTuningAndModelServing.ipynb, DNC.ipynb, untitled.txt, .ipynb_checkpoints/ChurnPrediction_HyperparameterTuningAndModelServing-checkpoint.ipynb, .ipynb_checkpoints/DNC-checkpoint.ipynb, data/CustomerTravel.csv\n",
      "[I 2025-09-19 16:22:16,665] Trial 2 finished with value: 0.6666666666666666 and parameters: {'max_depth': 6, 'learning_rate': 0.13827852180658393, 'n_estimators': 317, 'min_child_weight': 1, 'lambda': 2.3888424854108727, 'alpha': 0.612816413628524}. Best is trial 0 with value: 0.7307692307692307.\n",
      "WARNING:dvc_studio_client:Failed to post to Studio: {\"detail\":\"Invalid token\"}\n",
      "WARNING:dvclive:`post_to_studio` `start` failed.\n",
      "WARNING: Something went wrong while auto pushing experiment to the remote 'origin': Authentication failed for: 'origin'\n",
      "See https://dvc.org/doc/user-guide/troubleshooting#git-auth\n",
      "WARNING: The following untracked files were present in the workspace before saving but will not be included in the experiment commit:\n",
      "\tChurnPrediction_HyperparameterTuningAndModelServing.ipynb, DNC.ipynb, untitled.txt, .ipynb_checkpoints/ChurnPrediction_HyperparameterTuningAndModelServing-checkpoint.ipynb, .ipynb_checkpoints/DNC-checkpoint.ipynb, data/CustomerTravel.csv\n",
      "[I 2025-09-19 16:22:19,815] Trial 3 finished with value: 0.45714285714285713 and parameters: {'max_depth': 2, 'learning_rate': 0.07829109582772158, 'n_estimators': 50, 'min_child_weight': 2, 'lambda': 0.044620874426298966, 'alpha': 0.002112460269213781}. Best is trial 0 with value: 0.7307692307692307.\n",
      "WARNING:dvc_studio_client:Failed to post to Studio: {\"detail\":\"Invalid token\"}\n",
      "WARNING:dvclive:`post_to_studio` `start` failed.\n",
      "WARNING: Something went wrong while auto pushing experiment to the remote 'origin': Authentication failed for: 'origin'\n",
      "See https://dvc.org/doc/user-guide/troubleshooting#git-auth\n",
      "WARNING: The following untracked files were present in the workspace before saving but will not be included in the experiment commit:\n",
      "\tChurnPrediction_HyperparameterTuningAndModelServing.ipynb, DNC.ipynb, untitled.txt, .ipynb_checkpoints/ChurnPrediction_HyperparameterTuningAndModelServing-checkpoint.ipynb, .ipynb_checkpoints/DNC-checkpoint.ipynb, data/CustomerTravel.csv\n",
      "[I 2025-09-19 16:22:23,278] Trial 4 finished with value: 0.4117647058823529 and parameters: {'max_depth': 6, 'learning_rate': 0.013745336862316214, 'n_estimators': 118, 'min_child_weight': 9, 'lambda': 0.09328603546740144, 'alpha': 0.20694463240379854}. Best is trial 0 with value: 0.7307692307692307.\n",
      "WARNING:dvc_studio_client:Failed to post to Studio: {\"detail\":\"Invalid token\"}\n",
      "WARNING:dvclive:`post_to_studio` `start` failed.\n",
      "WARNING: Something went wrong while auto pushing experiment to the remote 'origin': Authentication failed for: 'origin'\n",
      "See https://dvc.org/doc/user-guide/troubleshooting#git-auth\n",
      "WARNING: The following untracked files were present in the workspace before saving but will not be included in the experiment commit:\n",
      "\tChurnPrediction_HyperparameterTuningAndModelServing.ipynb, DNC.ipynb, untitled.txt, .ipynb_checkpoints/ChurnPrediction_HyperparameterTuningAndModelServing-checkpoint.ipynb, .ipynb_checkpoints/DNC-checkpoint.ipynb, data/CustomerTravel.csv\n",
      "[I 2025-09-19 16:22:26,937] Trial 5 finished with value: 0.45 and parameters: {'max_depth': 1, 'learning_rate': 0.1695546835652133, 'n_estimators': 74, 'min_child_weight': 6, 'lambda': 0.3507631502663689, 'alpha': 0.2984207287183545}. Best is trial 0 with value: 0.7307692307692307.\n",
      "WARNING:dvc_studio_client:Failed to post to Studio: {\"detail\":\"Invalid token\"}\n",
      "WARNING:dvclive:`post_to_studio` `start` failed.\n",
      "WARNING: Something went wrong while auto pushing experiment to the remote 'origin': Authentication failed for: 'origin'\n",
      "See https://dvc.org/doc/user-guide/troubleshooting#git-auth\n",
      "WARNING: The following untracked files were present in the workspace before saving but will not be included in the experiment commit:\n",
      "\tChurnPrediction_HyperparameterTuningAndModelServing.ipynb, DNC.ipynb, untitled.txt, .ipynb_checkpoints/ChurnPrediction_HyperparameterTuningAndModelServing-checkpoint.ipynb, .ipynb_checkpoints/DNC-checkpoint.ipynb, data/CustomerTravel.csv\n",
      "[I 2025-09-19 16:22:30,089] Trial 6 finished with value: 0.4 and parameters: {'max_depth': 1, 'learning_rate': 0.03200141104035702, 'n_estimators': 254, 'min_child_weight': 1, 'lambda': 2.150431104555151, 'alpha': 0.0017031237804653108}. Best is trial 0 with value: 0.7307692307692307.\n",
      "WARNING:dvc_studio_client:Failed to post to Studio: {\"detail\":\"Invalid token\"}\n",
      "WARNING:dvclive:`post_to_studio` `start` failed.\n",
      "WARNING: Something went wrong while auto pushing experiment to the remote 'origin': Authentication failed for: 'origin'\n",
      "See https://dvc.org/doc/user-guide/troubleshooting#git-auth\n",
      "WARNING: The following untracked files were present in the workspace before saving but will not be included in the experiment commit:\n",
      "\tChurnPrediction_HyperparameterTuningAndModelServing.ipynb, DNC.ipynb, untitled.txt, .ipynb_checkpoints/ChurnPrediction_HyperparameterTuningAndModelServing-checkpoint.ipynb, .ipynb_checkpoints/DNC-checkpoint.ipynb, data/CustomerTravel.csv\n",
      "[I 2025-09-19 16:22:33,430] Trial 7 finished with value: 0.6181818181818182 and parameters: {'max_depth': 3, 'learning_rate': 0.7324057227917733, 'n_estimators': 199, 'min_child_weight': 1, 'lambda': 0.05128651099851173, 'alpha': 0.0027015825628846813}. Best is trial 0 with value: 0.7307692307692307.\n",
      "WARNING:dvc_studio_client:Failed to post to Studio: {\"detail\":\"Invalid token\"}\n",
      "WARNING:dvclive:`post_to_studio` `start` failed.\n",
      "WARNING: Something went wrong while auto pushing experiment to the remote 'origin': Authentication failed for: 'origin'\n",
      "See https://dvc.org/doc/user-guide/troubleshooting#git-auth\n",
      "WARNING: The following untracked files were present in the workspace before saving but will not be included in the experiment commit:\n",
      "\tChurnPrediction_HyperparameterTuningAndModelServing.ipynb, DNC.ipynb, untitled.txt, .ipynb_checkpoints/ChurnPrediction_HyperparameterTuningAndModelServing-checkpoint.ipynb, .ipynb_checkpoints/DNC-checkpoint.ipynb, data/CustomerTravel.csv\n",
      "[I 2025-09-19 16:22:36,596] Trial 8 finished with value: 0.6153846153846154 and parameters: {'max_depth': 4, 'learning_rate': 0.6330753377168774, 'n_estimators': 107, 'min_child_weight': 1, 'lambda': 0.6255089732520105, 'alpha': 0.31639394853983255}. Best is trial 0 with value: 0.7307692307692307.\n",
      "WARNING:dvc_studio_client:Failed to post to Studio: {\"detail\":\"Invalid token\"}\n",
      "WARNING:dvclive:`post_to_studio` `start` failed.\n",
      "WARNING: Something went wrong while auto pushing experiment to the remote 'origin': Authentication failed for: 'origin'\n",
      "See https://dvc.org/doc/user-guide/troubleshooting#git-auth\n",
      "WARNING: The following untracked files were present in the workspace before saving but will not be included in the experiment commit:\n",
      "\tChurnPrediction_HyperparameterTuningAndModelServing.ipynb, DNC.ipynb, untitled.txt, .ipynb_checkpoints/ChurnPrediction_HyperparameterTuningAndModelServing-checkpoint.ipynb, .ipynb_checkpoints/DNC-checkpoint.ipynb, data/CustomerTravel.csv\n",
      "[I 2025-09-19 16:22:39,669] Trial 9 finished with value: 0.5 and parameters: {'max_depth': 10, 'learning_rate': 0.11812701376350757, 'n_estimators': 122, 'min_child_weight': 1, 'lambda': 0.0010609712742665307, 'alpha': 5.919115138458198}. Best is trial 0 with value: 0.7307692307692307.\n",
      "WARNING:dvc_studio_client:Failed to post to Studio: {\"detail\":\"Invalid token\"}\n",
      "WARNING:dvclive:`post_to_studio` `start` failed.\n",
      "WARNING: Something went wrong while auto pushing experiment to the remote 'origin': Authentication failed for: 'origin'\n",
      "See https://dvc.org/doc/user-guide/troubleshooting#git-auth\n",
      "WARNING: The following untracked files were present in the workspace before saving but will not be included in the experiment commit:\n",
      "\tChurnPrediction_HyperparameterTuningAndModelServing.ipynb, DNC.ipynb, untitled.txt, .ipynb_checkpoints/ChurnPrediction_HyperparameterTuningAndModelServing-checkpoint.ipynb, .ipynb_checkpoints/DNC-checkpoint.ipynb, data/CustomerTravel.csv\n",
      "[I 2025-09-19 16:22:43,046] Trial 10 finished with value: 0.6415094339622641 and parameters: {'max_depth': 13, 'learning_rate': 0.032362234548687974, 'n_estimators': 446, 'min_child_weight': 4, 'lambda': 8.925970238466752, 'alpha': 0.026082820486010655}. Best is trial 0 with value: 0.7307692307692307.\n",
      "WARNING:dvc_studio_client:Failed to post to Studio: {\"detail\":\"Invalid token\"}\n",
      "WARNING:dvclive:`post_to_studio` `start` failed.\n",
      "WARNING: Something went wrong while auto pushing experiment to the remote 'origin': Authentication failed for: 'origin'\n",
      "See https://dvc.org/doc/user-guide/troubleshooting#git-auth\n",
      "WARNING: The following untracked files were present in the workspace before saving but will not be included in the experiment commit:\n",
      "\tChurnPrediction_HyperparameterTuningAndModelServing.ipynb, DNC.ipynb, untitled.txt, .ipynb_checkpoints/ChurnPrediction_HyperparameterTuningAndModelServing-checkpoint.ipynb, .ipynb_checkpoints/DNC-checkpoint.ipynb, data/CustomerTravel.csv\n",
      "[I 2025-09-19 16:22:46,256] Trial 11 finished with value: 0.64 and parameters: {'max_depth': 5, 'learning_rate': 0.2964668101723529, 'n_estimators': 411, 'min_child_weight': 2, 'lambda': 9.256498996308322, 'alpha': 3.2345226702548118}. Best is trial 0 with value: 0.7307692307692307.\n",
      "WARNING:dvc_studio_client:Failed to post to Studio: {\"detail\":\"Invalid token\"}\n",
      "WARNING:dvclive:`post_to_studio` `start` failed.\n",
      "WARNING: Something went wrong while auto pushing experiment to the remote 'origin': Authentication failed for: 'origin'\n",
      "See https://dvc.org/doc/user-guide/troubleshooting#git-auth\n",
      "WARNING: The following untracked files were present in the workspace before saving but will not be included in the experiment commit:\n",
      "\tChurnPrediction_HyperparameterTuningAndModelServing.ipynb, DNC.ipynb, untitled.txt, .ipynb_checkpoints/ChurnPrediction_HyperparameterTuningAndModelServing-checkpoint.ipynb, .ipynb_checkpoints/DNC-checkpoint.ipynb, data/CustomerTravel.csv\n",
      "[I 2025-09-19 16:22:49,848] Trial 12 finished with value: 0.5957446808510638 and parameters: {'max_depth': 2, 'learning_rate': 0.05439559284181402, 'n_estimators': 288, 'min_child_weight': 3, 'lambda': 0.009044561706845889, 'alpha': 0.02954546745843711}. Best is trial 0 with value: 0.7307692307692307.\n",
      "WARNING:dvc_studio_client:Failed to post to Studio: {\"detail\":\"Invalid token\"}\n",
      "WARNING:dvclive:`post_to_studio` `start` failed.\n",
      "WARNING: Something went wrong while auto pushing experiment to the remote 'origin': Authentication failed for: 'origin'\n",
      "See https://dvc.org/doc/user-guide/troubleshooting#git-auth\n",
      "WARNING: The following untracked files were present in the workspace before saving but will not be included in the experiment commit:\n",
      "\tChurnPrediction_HyperparameterTuningAndModelServing.ipynb, DNC.ipynb, untitled.txt, .ipynb_checkpoints/ChurnPrediction_HyperparameterTuningAndModelServing-checkpoint.ipynb, .ipynb_checkpoints/DNC-checkpoint.ipynb, data/CustomerTravel.csv\n",
      "[I 2025-09-19 16:22:53,053] Trial 13 finished with value: 0.6792452830188679 and parameters: {'max_depth': 8, 'learning_rate': 0.2918064236261141, 'n_estimators': 186, 'min_child_weight': 1, 'lambda': 2.5859018876075153, 'alpha': 1.2120454293608234}. Best is trial 0 with value: 0.7307692307692307.\n",
      "WARNING:dvc_studio_client:Failed to post to Studio: {\"detail\":\"Invalid token\"}\n",
      "WARNING:dvclive:`post_to_studio` `start` failed.\n",
      "WARNING: Something went wrong while auto pushing experiment to the remote 'origin': Authentication failed for: 'origin'\n",
      "See https://dvc.org/doc/user-guide/troubleshooting#git-auth\n",
      "WARNING: The following untracked files were present in the workspace before saving but will not be included in the experiment commit:\n",
      "\tChurnPrediction_HyperparameterTuningAndModelServing.ipynb, DNC.ipynb, untitled.txt, .ipynb_checkpoints/ChurnPrediction_HyperparameterTuningAndModelServing-checkpoint.ipynb, .ipynb_checkpoints/DNC-checkpoint.ipynb, data/CustomerTravel.csv\n",
      "[I 2025-09-19 16:22:56,254] Trial 14 finished with value: 0.6296296296296297 and parameters: {'max_depth': 11, 'learning_rate': 0.3176939971413098, 'n_estimators': 175, 'min_child_weight': 2, 'lambda': 0.3569318685168787, 'alpha': 1.5917337960513256}. Best is trial 0 with value: 0.7307692307692307.\n",
      "WARNING:dvc_studio_client:Failed to post to Studio: {\"detail\":\"Invalid token\"}\n",
      "WARNING:dvclive:`post_to_studio` `start` failed.\n",
      "WARNING: Something went wrong while auto pushing experiment to the remote 'origin': Authentication failed for: 'origin'\n",
      "See https://dvc.org/doc/user-guide/troubleshooting#git-auth\n",
      "WARNING: The following untracked files were present in the workspace before saving but will not be included in the experiment commit:\n",
      "\tChurnPrediction_HyperparameterTuningAndModelServing.ipynb, DNC.ipynb, untitled.txt, .ipynb_checkpoints/ChurnPrediction_HyperparameterTuningAndModelServing-checkpoint.ipynb, .ipynb_checkpoints/DNC-checkpoint.ipynb, data/CustomerTravel.csv\n",
      "[I 2025-09-19 16:22:59,308] Trial 15 finished with value: 0.6666666666666666 and parameters: {'max_depth': 15, 'learning_rate': 0.31191235576371373, 'n_estimators': 87, 'min_child_weight': 4, 'lambda': 3.5516858960067115, 'alpha': 0.041458280378380716}. Best is trial 0 with value: 0.7307692307692307.\n",
      "WARNING:dvc_studio_client:Failed to post to Studio: {\"detail\":\"Invalid token\"}\n",
      "WARNING:dvclive:`post_to_studio` `start` failed.\n",
      "WARNING: Something went wrong while auto pushing experiment to the remote 'origin': Authentication failed for: 'origin'\n",
      "See https://dvc.org/doc/user-guide/troubleshooting#git-auth\n",
      "WARNING: The following untracked files were present in the workspace before saving but will not be included in the experiment commit:\n",
      "\tChurnPrediction_HyperparameterTuningAndModelServing.ipynb, DNC.ipynb, untitled.txt, .ipynb_checkpoints/ChurnPrediction_HyperparameterTuningAndModelServing-checkpoint.ipynb, .ipynb_checkpoints/DNC-checkpoint.ipynb, data/CustomerTravel.csv\n",
      "[I 2025-09-19 16:23:02,439] Trial 16 finished with value: 0.4375 and parameters: {'max_depth': 3, 'learning_rate': 0.010325184840091243, 'n_estimators': 147, 'min_child_weight': 3, 'lambda': 0.6774335577648972, 'alpha': 0.010712354403899975}. Best is trial 0 with value: 0.7307692307692307.\n",
      "WARNING:dvc_studio_client:Failed to post to Studio: {\"detail\":\"Invalid token\"}\n",
      "WARNING:dvclive:`post_to_studio` `start` failed.\n",
      "WARNING: Something went wrong while auto pushing experiment to the remote 'origin': Authentication failed for: 'origin'\n",
      "See https://dvc.org/doc/user-guide/troubleshooting#git-auth\n",
      "WARNING: The following untracked files were present in the workspace before saving but will not be included in the experiment commit:\n",
      "\tChurnPrediction_HyperparameterTuningAndModelServing.ipynb, DNC.ipynb, untitled.txt, .ipynb_checkpoints/ChurnPrediction_HyperparameterTuningAndModelServing-checkpoint.ipynb, .ipynb_checkpoints/DNC-checkpoint.ipynb, data/CustomerTravel.csv\n",
      "[I 2025-09-19 16:23:05,587] Trial 17 finished with value: 0.6415094339622641 and parameters: {'max_depth': 7, 'learning_rate': 0.04827433015318238, 'n_estimators': 207, 'min_child_weight': 1, 'lambda': 0.18472929906937927, 'alpha': 1.6006526513093815}. Best is trial 0 with value: 0.7307692307692307.\n",
      "WARNING:dvc_studio_client:Failed to post to Studio: {\"detail\":\"Invalid token\"}\n",
      "WARNING:dvclive:`post_to_studio` `start` failed.\n",
      "WARNING: Something went wrong while auto pushing experiment to the remote 'origin': Authentication failed for: 'origin'\n",
      "See https://dvc.org/doc/user-guide/troubleshooting#git-auth\n",
      "WARNING: The following untracked files were present in the workspace before saving but will not be included in the experiment commit:\n",
      "\tChurnPrediction_HyperparameterTuningAndModelServing.ipynb, DNC.ipynb, untitled.txt, .ipynb_checkpoints/ChurnPrediction_HyperparameterTuningAndModelServing-checkpoint.ipynb, .ipynb_checkpoints/DNC-checkpoint.ipynb, data/CustomerTravel.csv\n",
      "[I 2025-09-19 16:23:08,527] Trial 18 finished with value: 0.6666666666666666 and parameters: {'max_depth': 4, 'learning_rate': 0.42976422045481494, 'n_estimators': 51, 'min_child_weight': 3, 'lambda': 0.02258867793483828, 'alpha': 0.09688855797154353}. Best is trial 0 with value: 0.7307692307692307.\n",
      "WARNING:dvc_studio_client:Failed to post to Studio: {\"detail\":\"Invalid token\"}\n",
      "WARNING:dvclive:`post_to_studio` `start` failed.\n",
      "WARNING: Something went wrong while auto pushing experiment to the remote 'origin': Authentication failed for: 'origin'\n",
      "See https://dvc.org/doc/user-guide/troubleshooting#git-auth\n",
      "WARNING: The following untracked files were present in the workspace before saving but will not be included in the experiment commit:\n",
      "\tChurnPrediction_HyperparameterTuningAndModelServing.ipynb, DNC.ipynb, untitled.txt, .ipynb_checkpoints/ChurnPrediction_HyperparameterTuningAndModelServing-checkpoint.ipynb, .ipynb_checkpoints/DNC-checkpoint.ipynb, data/CustomerTravel.csv\n",
      "[I 2025-09-19 16:23:11,583] Trial 19 finished with value: 0.4375 and parameters: {'max_depth': 2, 'learning_rate': 0.027137793425696034, 'n_estimators': 148, 'min_child_weight': 2, 'lambda': 1.138461585574726, 'alpha': 1.0257325166724194}. Best is trial 0 with value: 0.7307692307692307.\n",
      "WARNING:dvc_studio_client:Failed to post to Studio: {\"detail\":\"Invalid token\"}\n",
      "WARNING:dvclive:`post_to_studio` `start` failed.\n",
      "WARNING: Something went wrong while auto pushing experiment to the remote 'origin': Authentication failed for: 'origin'\n",
      "See https://dvc.org/doc/user-guide/troubleshooting#git-auth\n",
      "WARNING: The following untracked files were present in the workspace before saving but will not be included in the experiment commit:\n",
      "\tChurnPrediction_HyperparameterTuningAndModelServing.ipynb, DNC.ipynb, untitled.txt, .ipynb_checkpoints/ChurnPrediction_HyperparameterTuningAndModelServing-checkpoint.ipynb, .ipynb_checkpoints/DNC-checkpoint.ipynb, data/CustomerTravel.csv\n",
      "[I 2025-09-19 16:23:14,780] Trial 20 finished with value: 0.6530612244897959 and parameters: {'max_depth': 8, 'learning_rate': 0.20811738990922646, 'n_estimators': 90, 'min_child_weight': 7, 'lambda': 4.0356486908883165, 'alpha': 0.007929992604613533}. Best is trial 0 with value: 0.7307692307692307.\n",
      "WARNING:dvc_studio_client:Failed to post to Studio: {\"detail\":\"Invalid token\"}\n",
      "WARNING:dvclive:`post_to_studio` `start` failed.\n",
      "WARNING: Something went wrong while auto pushing experiment to the remote 'origin': Authentication failed for: 'origin'\n",
      "See https://dvc.org/doc/user-guide/troubleshooting#git-auth\n",
      "WARNING: The following untracked files were present in the workspace before saving but will not be included in the experiment commit:\n",
      "\tChurnPrediction_HyperparameterTuningAndModelServing.ipynb, DNC.ipynb, untitled.txt, .ipynb_checkpoints/ChurnPrediction_HyperparameterTuningAndModelServing-checkpoint.ipynb, .ipynb_checkpoints/DNC-checkpoint.ipynb, data/CustomerTravel.csv\n",
      "[I 2025-09-19 16:23:17,945] Trial 21 finished with value: 0.6538461538461539 and parameters: {'max_depth': 5, 'learning_rate': 0.08598501872135872, 'n_estimators': 335, 'min_child_weight': 1, 'lambda': 2.6219506663232894, 'alpha': 0.6271078422864824}. Best is trial 0 with value: 0.7307692307692307.\n",
      "WARNING:dvc_studio_client:Failed to post to Studio: {\"detail\":\"Invalid token\"}\n",
      "WARNING:dvclive:`post_to_studio` `start` failed.\n",
      "WARNING: Something went wrong while auto pushing experiment to the remote 'origin': Authentication failed for: 'origin'\n",
      "See https://dvc.org/doc/user-guide/troubleshooting#git-auth\n",
      "WARNING: The following untracked files were present in the workspace before saving but will not be included in the experiment commit:\n",
      "\tChurnPrediction_HyperparameterTuningAndModelServing.ipynb, DNC.ipynb, untitled.txt, .ipynb_checkpoints/ChurnPrediction_HyperparameterTuningAndModelServing-checkpoint.ipynb, .ipynb_checkpoints/DNC-checkpoint.ipynb, data/CustomerTravel.csv\n",
      "[I 2025-09-19 16:23:21,156] Trial 22 finished with value: 0.43243243243243246 and parameters: {'max_depth': 4, 'learning_rate': 0.21364091802699126, 'n_estimators': 241, 'min_child_weight': 1, 'lambda': 5.478100906928014, 'alpha': 8.7502520355794}. Best is trial 0 with value: 0.7307692307692307.\n",
      "WARNING:dvc_studio_client:Failed to post to Studio: {\"detail\":\"Invalid token\"}\n",
      "WARNING:dvclive:`post_to_studio` `start` failed.\n",
      "WARNING: Something went wrong while auto pushing experiment to the remote 'origin': Authentication failed for: 'origin'\n",
      "See https://dvc.org/doc/user-guide/troubleshooting#git-auth\n",
      "WARNING: The following untracked files were present in the workspace before saving but will not be included in the experiment commit:\n",
      "\tChurnPrediction_HyperparameterTuningAndModelServing.ipynb, DNC.ipynb, untitled.txt, .ipynb_checkpoints/ChurnPrediction_HyperparameterTuningAndModelServing-checkpoint.ipynb, .ipynb_checkpoints/DNC-checkpoint.ipynb, data/CustomerTravel.csv\n",
      "[I 2025-09-19 16:23:24,462] Trial 23 finished with value: 0.6296296296296297 and parameters: {'max_depth': 9, 'learning_rate': 0.08085676529050495, 'n_estimators': 326, 'min_child_weight': 1, 'lambda': 1.362637758997897, 'alpha': 0.12447859359631544}. Best is trial 0 with value: 0.7307692307692307.\n",
      "WARNING:dvc_studio_client:Failed to post to Studio: {\"detail\":\"Invalid token\"}\n",
      "WARNING:dvclive:`post_to_studio` `start` failed.\n",
      "WARNING: Something went wrong while auto pushing experiment to the remote 'origin': Authentication failed for: 'origin'\n",
      "See https://dvc.org/doc/user-guide/troubleshooting#git-auth\n",
      "WARNING: The following untracked files were present in the workspace before saving but will not be included in the experiment commit:\n",
      "\tChurnPrediction_HyperparameterTuningAndModelServing.ipynb, DNC.ipynb, untitled.txt, .ipynb_checkpoints/ChurnPrediction_HyperparameterTuningAndModelServing-checkpoint.ipynb, .ipynb_checkpoints/DNC-checkpoint.ipynb, data/CustomerTravel.csv\n",
      "[I 2025-09-19 16:23:27,592] Trial 24 finished with value: 0.6538461538461539 and parameters: {'max_depth': 6, 'learning_rate': 0.48125439212782883, 'n_estimators': 358, 'min_child_weight': 1, 'lambda': 0.233376242705868, 'alpha': 0.7764497412100368}. Best is trial 0 with value: 0.7307692307692307.\n",
      "WARNING:dvc_studio_client:Failed to post to Studio: {\"detail\":\"Invalid token\"}\n",
      "WARNING:dvclive:`post_to_studio` `start` failed.\n",
      "WARNING: Something went wrong while auto pushing experiment to the remote 'origin': Authentication failed for: 'origin'\n",
      "See https://dvc.org/doc/user-guide/troubleshooting#git-auth\n",
      "WARNING: The following untracked files were present in the workspace before saving but will not be included in the experiment commit:\n",
      "\tChurnPrediction_HyperparameterTuningAndModelServing.ipynb, DNC.ipynb, untitled.txt, .ipynb_checkpoints/ChurnPrediction_HyperparameterTuningAndModelServing-checkpoint.ipynb, .ipynb_checkpoints/DNC-checkpoint.ipynb, data/CustomerTravel.csv\n",
      "[I 2025-09-19 16:23:30,763] Trial 25 finished with value: 0.631578947368421 and parameters: {'max_depth': 5, 'learning_rate': 0.9601738701614205, 'n_estimators': 242, 'min_child_weight': 2, 'lambda': 0.6831391903185268, 'alpha': 0.06803174672818481}. Best is trial 0 with value: 0.7307692307692307.\n",
      "WARNING:dvc_studio_client:Failed to post to Studio: {\"detail\":\"Invalid token\"}\n",
      "WARNING:dvclive:`post_to_studio` `start` failed.\n",
      "WARNING: Something went wrong while auto pushing experiment to the remote 'origin': Authentication failed for: 'origin'\n",
      "See https://dvc.org/doc/user-guide/troubleshooting#git-auth\n",
      "WARNING: The following untracked files were present in the workspace before saving but will not be included in the experiment commit:\n",
      "\tChurnPrediction_HyperparameterTuningAndModelServing.ipynb, DNC.ipynb, untitled.txt, .ipynb_checkpoints/ChurnPrediction_HyperparameterTuningAndModelServing-checkpoint.ipynb, .ipynb_checkpoints/DNC-checkpoint.ipynb, data/CustomerTravel.csv\n",
      "[I 2025-09-19 16:23:33,967] Trial 26 finished with value: 0.6122448979591837 and parameters: {'max_depth': 7, 'learning_rate': 0.05111283405379001, 'n_estimators': 179, 'min_child_weight': 4, 'lambda': 1.9931305630921485, 'alpha': 2.6105252836268744}. Best is trial 0 with value: 0.7307692307692307.\n",
      "WARNING:dvc_studio_client:Failed to post to Studio: {\"detail\":\"Invalid token\"}\n",
      "WARNING:dvclive:`post_to_studio` `start` failed.\n",
      "WARNING: Something went wrong while auto pushing experiment to the remote 'origin': Authentication failed for: 'origin'\n",
      "See https://dvc.org/doc/user-guide/troubleshooting#git-auth\n",
      "WARNING: The following untracked files were present in the workspace before saving but will not be included in the experiment commit:\n",
      "\tChurnPrediction_HyperparameterTuningAndModelServing.ipynb, DNC.ipynb, untitled.txt, .ipynb_checkpoints/ChurnPrediction_HyperparameterTuningAndModelServing-checkpoint.ipynb, .ipynb_checkpoints/DNC-checkpoint.ipynb, data/CustomerTravel.csv\n",
      "[I 2025-09-19 16:23:37,341] Trial 27 finished with value: 0.6428571428571429 and parameters: {'max_depth': 13, 'learning_rate': 0.15220456398897947, 'n_estimators': 482, 'min_child_weight': 3, 'lambda': 6.371175417197442, 'alpha': 0.5862686430496515}. Best is trial 0 with value: 0.7307692307692307.\n",
      "WARNING:dvc_studio_client:Failed to post to Studio: {\"detail\":\"Invalid token\"}\n",
      "WARNING:dvclive:`post_to_studio` `start` failed.\n",
      "WARNING: Something went wrong while auto pushing experiment to the remote 'origin': Authentication failed for: 'origin'\n",
      "See https://dvc.org/doc/user-guide/troubleshooting#git-auth\n",
      "WARNING: The following untracked files were present in the workspace before saving but will not be included in the experiment commit:\n",
      "\tChurnPrediction_HyperparameterTuningAndModelServing.ipynb, DNC.ipynb, untitled.txt, .ipynb_checkpoints/ChurnPrediction_HyperparameterTuningAndModelServing-checkpoint.ipynb, .ipynb_checkpoints/DNC-checkpoint.ipynb, data/CustomerTravel.csv\n",
      "[I 2025-09-19 16:23:40,494] Trial 28 finished with value: 0.5833333333333334 and parameters: {'max_depth': 3, 'learning_rate': 0.1055271816983274, 'n_estimators': 135, 'min_child_weight': 1, 'lambda': 0.8416282421312127, 'alpha': 0.008678235286560776}. Best is trial 0 with value: 0.7307692307692307.\n",
      "WARNING:dvc_studio_client:Failed to post to Studio: {\"detail\":\"Invalid token\"}\n",
      "WARNING:dvclive:`post_to_studio` `start` failed.\n",
      "WARNING: Something went wrong while auto pushing experiment to the remote 'origin': Authentication failed for: 'origin'\n",
      "See https://dvc.org/doc/user-guide/troubleshooting#git-auth\n",
      "WARNING: The following untracked files were present in the workspace before saving but will not be included in the experiment commit:\n",
      "\tChurnPrediction_HyperparameterTuningAndModelServing.ipynb, DNC.ipynb, untitled.txt, .ipynb_checkpoints/ChurnPrediction_HyperparameterTuningAndModelServing-checkpoint.ipynb, .ipynb_checkpoints/DNC-checkpoint.ipynb, data/CustomerTravel.csv\n",
      "[I 2025-09-19 16:23:43,809] Trial 29 finished with value: 0.5853658536585366 and parameters: {'max_depth': 8, 'learning_rate': 0.019989326345963097, 'n_estimators': 63, 'min_child_weight': 2, 'lambda': 1.5936056143654767, 'alpha': 0.14516151916463946}. Best is trial 0 with value: 0.7307692307692307.\n",
      "WARNING:dvc_studio_client:Failed to post to Studio: {\"detail\":\"Invalid token\"}\n",
      "WARNING:dvclive:`post_to_studio` `start` failed.\n",
      "WARNING: Something went wrong while auto pushing experiment to the remote 'origin': Authentication failed for: 'origin'\n",
      "See https://dvc.org/doc/user-guide/troubleshooting#git-auth\n",
      "WARNING: The following untracked files were present in the workspace before saving but will not be included in the experiment commit:\n",
      "\tChurnPrediction_HyperparameterTuningAndModelServing.ipynb, DNC.ipynb, untitled.txt, .ipynb_checkpoints/ChurnPrediction_HyperparameterTuningAndModelServing-checkpoint.ipynb, .ipynb_checkpoints/DNC-checkpoint.ipynb, data/CustomerTravel.csv\n",
      "[I 2025-09-19 16:23:47,118] Trial 30 finished with value: 0.6415094339622641 and parameters: {'max_depth': 6, 'learning_rate': 0.21869886181308018, 'n_estimators': 275, 'min_child_weight': 10, 'lambda': 0.3795095762956228, 'alpha': 0.0011882776595242945}. Best is trial 0 with value: 0.7307692307692307.\n",
      "WARNING:dvc_studio_client:Failed to post to Studio: {\"detail\":\"Invalid token\"}\n",
      "WARNING:dvclive:`post_to_studio` `start` failed.\n",
      "WARNING: Something went wrong while auto pushing experiment to the remote 'origin': Authentication failed for: 'origin'\n",
      "See https://dvc.org/doc/user-guide/troubleshooting#git-auth\n",
      "WARNING: The following untracked files were present in the workspace before saving but will not be included in the experiment commit:\n",
      "\tChurnPrediction_HyperparameterTuningAndModelServing.ipynb, DNC.ipynb, untitled.txt, .ipynb_checkpoints/ChurnPrediction_HyperparameterTuningAndModelServing-checkpoint.ipynb, .ipynb_checkpoints/DNC-checkpoint.ipynb, data/CustomerTravel.csv\n",
      "[I 2025-09-19 16:23:50,395] Trial 31 finished with value: 0.6545454545454545 and parameters: {'max_depth': 13, 'learning_rate': 0.34704336525550705, 'n_estimators': 82, 'min_child_weight': 4, 'lambda': 2.799389573349766, 'alpha': 0.03998352569207072}. Best is trial 0 with value: 0.7307692307692307.\n",
      "WARNING:dvc_studio_client:Failed to post to Studio: {\"detail\":\"Invalid token\"}\n",
      "WARNING:dvclive:`post_to_studio` `start` failed.\n",
      "WARNING: Something went wrong while auto pushing experiment to the remote 'origin': Authentication failed for: 'origin'\n",
      "See https://dvc.org/doc/user-guide/troubleshooting#git-auth\n",
      "WARNING: The following untracked files were present in the workspace before saving but will not be included in the experiment commit:\n",
      "\tChurnPrediction_HyperparameterTuningAndModelServing.ipynb, DNC.ipynb, untitled.txt, .ipynb_checkpoints/ChurnPrediction_HyperparameterTuningAndModelServing-checkpoint.ipynb, .ipynb_checkpoints/DNC-checkpoint.ipynb, data/CustomerTravel.csv\n"
     ]
    }
   ],
   "source": [
    "from dvclive.optuna import DVCLiveCallback\n",
    "\n",
    "study.optimize(objective, n_trials = 32, callbacks = [DVCLiveCallback()])"
   ]
  },
  {
   "cell_type": "code",
   "execution_count": 12,
   "id": "5b23dd0d-9dd9-4736-89a6-3ec71bc3fd49",
   "metadata": {},
   "outputs": [
    {
     "name": "stdout",
     "output_type": "stream",
     "text": [
      "+-------------------------------------------------------------------------------------------------------------------------------------+\n",
      "| Experiment               | Created  |  metric | max_depth | learning_rate | n_estimators | min_child_weight | lambda    | alpha     |\n",
      "|--------------------------+----------+---------+-----------+---------------+--------------+------------------+-----------+-----------|\n",
      "| workspace                | -        | 0.65455 | 13        | 0.34704       | 82           | 4                | 2.7994    | 0.039984  |\n",
      "| main                     | 04:03 PM |       - | -         | -             | -            | -                | -         | -         |\n",
      "| \\u251c\\u2500\\u2500 ef9c4fd [birch-gaby] | 04:23 PM | 0.65455 | 13        | 0.34704       | 82           | 4                | 2.7994    | 0.039984  |\n",
      "| \\u251c\\u2500\\u2500 030e7b9 [atilt-agio] | 04:23 PM | 0.64151 | 6         | 0.2187        | 275          | 10               | 0.37951   | 0.0011883 |\n",
      "| \\u251c\\u2500\\u2500 ea100b7 [nasty-loof] | 04:23 PM | 0.58537 | 8         | 0.019989      | 63           | 2                | 1.5936    | 0.14516   |\n",
      "| \\u251c\\u2500\\u2500 bf16520 [gluey-harl] | 04:23 PM | 0.58333 | 3         | 0.10553       | 135          | 1                | 0.84163   | 0.0086782 |\n",
      "| \\u251c\\u2500\\u2500 3be457e [peart-hock] | 04:23 PM | 0.64286 | 13        | 0.1522        | 482          | 3                | 6.3712    | 0.58627   |\n",
      "| \\u251c\\u2500\\u2500 a0b1619 [irony-sima] | 04:23 PM | 0.61224 | 7         | 0.051113      | 179          | 4                | 1.9931    | 2.6105    |\n",
      "| \\u251c\\u2500\\u2500 292a15f [piney-gang] | 04:23 PM | 0.63158 | 5         | 0.96017       | 242          | 2                | 0.68314   | 0.068032  |\n",
      "| \\u251c\\u2500\\u2500 542443b [bumpy-bout] | 04:23 PM | 0.65385 | 6         | 0.48125       | 358          | 1                | 0.23338   | 0.77645   |\n",
      "| \\u251c\\u2500\\u2500 b26c784 [pursy-sinh] | 04:23 PM | 0.62963 | 9         | 0.080857      | 326          | 1                | 1.3626    | 0.12448   |\n",
      "| \\u251c\\u2500\\u2500 f52ba2c [fiery-lien] | 04:23 PM | 0.43243 | 4         | 0.21364       | 241          | 1                | 5.4781    | 8.7503    |\n",
      "| \\u251c\\u2500\\u2500 d576338 [wersh-hack] | 04:23 PM | 0.65385 | 5         | 0.085985      | 335          | 1                | 2.622     | 0.62711   |\n",
      "| \\u251c\\u2500\\u2500 723f4f5 [third-yawl] | 04:23 PM | 0.65306 | 8         | 0.20812       | 90           | 7                | 4.0356    | 0.00793   |\n",
      "| \\u251c\\u2500\\u2500 93d18e8 [frore-ewes] | 04:23 PM |  0.4375 | 2         | 0.027138      | 148          | 2                | 1.1385    | 1.0257    |\n",
      "| \\u251c\\u2500\\u2500 3cac446 [birch-joey] | 04:23 PM | 0.66667 | 4         | 0.42976       | 51           | 3                | 0.022589  | 0.096889  |\n",
      "| \\u251c\\u2500\\u2500 797e0bc [mangy-merk] | 04:23 PM | 0.64151 | 7         | 0.048274      | 207          | 1                | 0.18473   | 1.6007    |\n",
      "| \\u251c\\u2500\\u2500 aa3bbc5 [unmet-zack] | 04:23 PM |  0.4375 | 3         | 0.010325      | 147          | 3                | 0.67743   | 0.010712  |\n",
      "| \\u251c\\u2500\\u2500 d567c42 [wally-puns] | 04:23 PM | 0.66667 | 15        | 0.31191       | 87           | 4                | 3.5517    | 0.041458  |\n",
      "| \\u251c\\u2500\\u2500 d5ab916 [swept-genu] | 04:22 PM | 0.62963 | 11        | 0.31769       | 175          | 2                | 0.35693   | 1.5917    |\n",
      "| \\u251c\\u2500\\u2500 8b5989a [rapid-jigs] | 04:22 PM | 0.67925 | 8         | 0.29181       | 186          | 1                | 2.5859    | 1.212     |\n",
      "| \\u251c\\u2500\\u2500 1b395f9 [techy-deys] | 04:22 PM | 0.59574 | 2         | 0.054396      | 288          | 3                | 0.0090446 | 0.029545  |\n",
      "| \\u251c\\u2500\\u2500 b64df5e [dicey-sham] | 04:22 PM |    0.64 | 5         | 0.29647       | 411          | 2                | 9.2565    | 3.2345    |\n",
      "| \\u251c\\u2500\\u2500 d43d99e [naked-hunk] | 04:22 PM | 0.64151 | 13        | 0.032362      | 446          | 4                | 8.926     | 0.026083  |\n",
      "| \\u251c\\u2500\\u2500 5ef7b04 [wacky-stir] | 04:22 PM |     0.5 | 10        | 0.11813       | 122          | 1                | 0.001061  | 5.9191    |\n",
      "| \\u251c\\u2500\\u2500 931cb77 [sappy-more] | 04:22 PM | 0.61538 | 4         | 0.63308       | 107          | 1                | 0.62551   | 0.31639   |\n",
      "| \\u251c\\u2500\\u2500 06904cb [milky-awls] | 04:22 PM | 0.61818 | 3         | 0.73241       | 199          | 1                | 0.051287  | 0.0027016 |\n",
      "| \\u251c\\u2500\\u2500 8ff3c5f [pesky-cogs] | 04:22 PM |     0.4 | 1         | 0.032001      | 254          | 1                | 2.1504    | 0.0017031 |\n",
      "| \\u251c\\u2500\\u2500 71268ad [dusty-stud] | 04:22 PM |    0.45 | 1         | 0.16955       | 74           | 6                | 0.35076   | 0.29842   |\n",
      "| \\u251c\\u2500\\u2500 072b77e [chief-furl] | 04:22 PM | 0.41176 | 6         | 0.013745      | 118          | 9                | 0.093286  | 0.20694   |\n",
      "| \\u251c\\u2500\\u2500 bcd4fea [batty-emeu] | 04:22 PM | 0.45714 | 2         | 0.078291      | 50           | 2                | 0.044621  | 0.0021125 |\n",
      "| \\u251c\\u2500\\u2500 363e450 [minus-nibs] | 04:22 PM | 0.66667 | 6         | 0.13828       | 317          | 1                | 2.3888    | 0.61282   |\n",
      "| \\u251c\\u2500\\u2500 8bfcdbb [handy-akes] | 04:22 PM | 0.62963 | 8         | 0.13547       | 65           | 2                | 1.3146    | 0.0032853 |\n",
      "| \\u251c\\u2500\\u2500 5513936 [beige-leak] | 04:22 PM | 0.73077 | 5         | 0.060411      | 52           | 1                | 0.79227   | 0.0024764 |\n",
      "| \\u251c\\u2500\\u2500 5a9fd4a [mired-gram] | 04:15 PM | 0.66667 | 11        | 0.40711       | 289          | 3                | 7.9062    | 0.27169   |\n",
      "| \\u251c\\u2500\\u2500 78ad767 [quits-coed] | 04:15 PM |  0.6087 | 2         | 0.12896       | 195          | 5                | 2.487     | 0.54004   |\n",
      "| \\u251c\\u2500\\u2500 6806513 [soled-tale] | 04:15 PM | 0.60714 | 6         | 0.55231       | 129          | 2                | 0.48548   | 0.0098854 |\n",
      "| \\u251c\\u2500\\u2500 12d62a0 [unbid-tugs] | 04:15 PM |   0.625 | 3         | 0.013281      | 403          | 4                | 2.1759    | 0.17455   |\n",
      "| \\u251c\\u2500\\u2500 6bcb533 [taunt-emus] | 04:15 PM | 0.61818 | 4         | 0.32287       | 91           | 6                | 0.18736   | 0.021088  |\n",
      "| \\u251c\\u2500\\u2500 623bd6c [yucky-vent] | 04:15 PM | 0.65455 | 6         | 0.18978       | 65           | 2                | 0.047063  | 0.084099  |\n",
      "| \\u251c\\u2500\\u2500 0f3c2a8 [group-kago] | 04:15 PM | 0.67857 | 10        | 0.43935       | 181          | 3                | 9.7916    | 0.32612   |\n",
      "| \\u251c\\u2500\\u2500 469d434 [tenth-sere] | 04:15 PM | 0.61538 | 5         | 0.25757       | 293          | 7                | 0.069312  | 1.2092    |\n",
      "| \\u251c\\u2500\\u2500 53f9312 [loved-rugs] | 04:15 PM | 0.64286 | 3         | 0.12882       | 495          | 4                | 2.1095    | 0.032762  |\n",
      "| \\u251c\\u2500\\u2500 bab3259 [lousy-ambo] | 04:15 PM |     0.6 | 2         | 0.31684       | 160          | 5                | 0.51589   | 0.13342   |\n",
      "| \\u251c\\u2500\\u2500 1e21995 [valid-chic] | 04:15 PM | 0.68966 | 3         | 0.26781       | 460          | 4                | 1.3742    | 0.049896  |\n",
      "| \\u251c\\u2500\\u2500 030ed5b [volar-scud] | 04:15 PM | 0.62963 | 4         | 0.088158      | 251          | 3                | 0.0060594 | 0.35601   |\n",
      "| \\u251c\\u2500\\u2500 313f69d [third-dams] | 04:14 PM | 0.65455 | 5         | 0.53767       | 109          | 4                | 0.22328   | 0.04307   |\n",
      "| \\u251c\\u2500\\u2500 bc86d97 [yucky-tuns] | 04:14 PM |  0.6383 | 10        | 0.99449       | 65           | 7                | 0.0038067 | 2.2673    |\n",
      "| \\u251c\\u2500\\u2500 493de10 [baser-shay] | 04:14 PM | 0.67797 | 3         | 0.24905       | 498          | 4                | 1.2449    | 0.05504   |\n",
      "| \\u251c\\u2500\\u2500 20780ce [mirky-barb] | 04:14 PM | 0.62963 | 5         | 0.13085       | 155          | 3                | 0.08602   | 0.29671   |\n",
      "| \\u251c\\u2500\\u2500 b7780b9 [kacha-yawl] | 04:14 PM | 0.55319 | 2         | 0.6186        | 72           | 7                | 0.71721   | 3.3233    |\n",
      "| \\u251c\\u2500\\u2500 d0bbfc9 [laigh-gale] | 04:14 PM | 0.66667 | 4         | 0.17488       | 237          | 4                | 0.089099  | 0.12054   |\n",
      "| \\u251c\\u2500\\u2500 1a1a6dd [pious-wort] | 04:14 PM |    0.64 | 15        | 0.4292        | 123          | 9                | 0.0014526 | 0.72892   |\n",
      "| \\u251c\\u2500\\u2500 9346216 [amort-coze] | 04:14 PM | 0.54545 | 2         | 0.16132       | 55           | 5                | 0.20717   | 0.59674   |\n",
      "| \\u251c\\u2500\\u2500 d88b226 [treen-rube] | 04:14 PM | 0.61538 | 3         | 0.70624       | 50           | 5                | 0.33504   | 1.1488    |\n",
      "| \\u251c\\u2500\\u2500 e98dd34 [meaty-banc] | 04:14 PM | 0.35294 | 2         | 0.88663       | 134          | 10               | 0.0011342 | 6.5108    |\n",
      "| \\u251c\\u2500\\u2500 e64115d [prime-eyot] | 04:14 PM | 0.67857 | 6         | 0.21224       | 52           | 4                | 0.42151   | 0.42263   |\n",
      "| \\u251c\\u2500\\u2500 c0ce2d6 [mated-zhos] | 04:14 PM | 0.66667 | 12        | 0.21583       | 360          | 3                | 0.018199  | 0.08231   |\n",
      "| \\u251c\\u2500\\u2500 7d3dc39 [sappy-berk] | 04:14 PM | 0.46154 | 1         | 0.080804      | 186          | 1                | 6.5703    | 0.0049795 |\n",
      "| \\u251c\\u2500\\u2500 6083961 [areal-craw] | 04:14 PM | 0.47619 | 8         | 0.039315      | 78           | 3                | 3.9814    | 0.024111  |\n",
      "| \\u251c\\u2500\\u2500 737506c [seely-jinn] | 04:14 PM | 0.65517 | 7         | 0.31165       | 91           | 2                | 0.022693  | 0.0021679 |\n",
      "| \\u251c\\u2500\\u2500 6e4381d [short-envy] | 04:14 PM | 0.61818 | 4         | 0.39916       | 311          | 1                | 0.0074554 | 0.014764  |\n",
      "| \\u251c\\u2500\\u2500 b871733 [ready-dart] | 04:14 PM | 0.66667 | 8         | 0.057193      | 220          | 6                | 1.1293    | 0.0043521 |\n",
      "| \\u251c\\u2500\\u2500 37c5914 [cauld-hoot] | 04:14 PM | 0.67857 | 4         | 0.53034       | 145          | 4                | 0.0012141 | 0.20063   |\n",
      "| \\u251c\\u2500\\u2500 275a061 [gamey-reif] | 04:14 PM | 0.22222 | 1         | 0.035224      | 99           | 2                | 0.023434  | 0.19596   |\n",
      "| \\u2514\\u2500\\u2500 d997eb3 [itchy-book] | 04:13 PM | 0.66667 | 6         | 0.012146      | 400          | 2                | 3.7007    | 0.0093255 |\n",
      "+-------------------------------------------------------------------------------------------------------------------------------------+\n"
     ]
    }
   ],
   "source": [
    "!dvc exp show"
   ]
  },
  {
   "cell_type": "code",
   "execution_count": 13,
   "id": "c840cbec-8b1c-48ae-abe9-ff68a0a8aa7e",
   "metadata": {},
   "outputs": [
    {
     "name": "stdout",
     "output_type": "stream",
     "text": [
      "+-------------------------------------------------------------------------------------------------------------------------------------+\n",
      "| Experiment               | Created  |  metric | max_depth | learning_rate | n_estimators | min_child_weight | lambda    | alpha     |\n",
      "|--------------------------+----------+---------+-----------+---------------+--------------+------------------+-----------+-----------|\n",
      "| workspace                | -        | 0.65455 | 13        | 0.34704       | 82           | 4                | 2.7994    | 0.039984  |\n",
      "| main                     | 04:03 PM |       - | -         | -             | -            | -                | -         | -         |\n",
      "| \\u251c\\u2500\\u2500 5513936 [beige-leak] | 04:22 PM | 0.73077 | 5         | 0.060411      | 52           | 1                | 0.79227   | 0.0024764 |\n",
      "| \\u251c\\u2500\\u2500 1e21995 [valid-chic] | 04:15 PM | 0.68966 | 3         | 0.26781       | 460          | 4                | 1.3742    | 0.049896  |\n",
      "| \\u251c\\u2500\\u2500 8b5989a [rapid-jigs] | 04:22 PM | 0.67925 | 8         | 0.29181       | 186          | 1                | 2.5859    | 1.212     |\n",
      "| \\u251c\\u2500\\u2500 0f3c2a8 [group-kago] | 04:15 PM | 0.67857 | 10        | 0.43935       | 181          | 3                | 9.7916    | 0.32612   |\n",
      "| \\u251c\\u2500\\u2500 e64115d [prime-eyot] | 04:14 PM | 0.67857 | 6         | 0.21224       | 52           | 4                | 0.42151   | 0.42263   |\n",
      "| \\u251c\\u2500\\u2500 37c5914 [cauld-hoot] | 04:14 PM | 0.67857 | 4         | 0.53034       | 145          | 4                | 0.0012141 | 0.20063   |\n",
      "| \\u251c\\u2500\\u2500 493de10 [baser-shay] | 04:14 PM | 0.67797 | 3         | 0.24905       | 498          | 4                | 1.2449    | 0.05504   |\n",
      "| \\u251c\\u2500\\u2500 3cac446 [birch-joey] | 04:23 PM | 0.66667 | 4         | 0.42976       | 51           | 3                | 0.022589  | 0.096889  |\n",
      "| \\u251c\\u2500\\u2500 d567c42 [wally-puns] | 04:23 PM | 0.66667 | 15        | 0.31191       | 87           | 4                | 3.5517    | 0.041458  |\n",
      "| \\u251c\\u2500\\u2500 363e450 [minus-nibs] | 04:22 PM | 0.66667 | 6         | 0.13828       | 317          | 1                | 2.3888    | 0.61282   |\n",
      "| \\u251c\\u2500\\u2500 5a9fd4a [mired-gram] | 04:15 PM | 0.66667 | 11        | 0.40711       | 289          | 3                | 7.9062    | 0.27169   |\n",
      "| \\u251c\\u2500\\u2500 d0bbfc9 [laigh-gale] | 04:14 PM | 0.66667 | 4         | 0.17488       | 237          | 4                | 0.089099  | 0.12054   |\n",
      "| \\u251c\\u2500\\u2500 c0ce2d6 [mated-zhos] | 04:14 PM | 0.66667 | 12        | 0.21583       | 360          | 3                | 0.018199  | 0.08231   |\n",
      "| \\u251c\\u2500\\u2500 b871733 [ready-dart] | 04:14 PM | 0.66667 | 8         | 0.057193      | 220          | 6                | 1.1293    | 0.0043521 |\n",
      "| \\u251c\\u2500\\u2500 d997eb3 [itchy-book] | 04:13 PM | 0.66667 | 6         | 0.012146      | 400          | 2                | 3.7007    | 0.0093255 |\n",
      "| \\u251c\\u2500\\u2500 737506c [seely-jinn] | 04:14 PM | 0.65517 | 7         | 0.31165       | 91           | 2                | 0.022693  | 0.0021679 |\n",
      "| \\u251c\\u2500\\u2500 ef9c4fd [birch-gaby] | 04:23 PM | 0.65455 | 13        | 0.34704       | 82           | 4                | 2.7994    | 0.039984  |\n",
      "| \\u251c\\u2500\\u2500 623bd6c [yucky-vent] | 04:15 PM | 0.65455 | 6         | 0.18978       | 65           | 2                | 0.047063  | 0.084099  |\n",
      "| \\u251c\\u2500\\u2500 313f69d [third-dams] | 04:14 PM | 0.65455 | 5         | 0.53767       | 109          | 4                | 0.22328   | 0.04307   |\n",
      "| \\u251c\\u2500\\u2500 542443b [bumpy-bout] | 04:23 PM | 0.65385 | 6         | 0.48125       | 358          | 1                | 0.23338   | 0.77645   |\n",
      "| \\u251c\\u2500\\u2500 d576338 [wersh-hack] | 04:23 PM | 0.65385 | 5         | 0.085985      | 335          | 1                | 2.622     | 0.62711   |\n",
      "| \\u251c\\u2500\\u2500 723f4f5 [third-yawl] | 04:23 PM | 0.65306 | 8         | 0.20812       | 90           | 7                | 4.0356    | 0.00793   |\n",
      "| \\u251c\\u2500\\u2500 3be457e [peart-hock] | 04:23 PM | 0.64286 | 13        | 0.1522        | 482          | 3                | 6.3712    | 0.58627   |\n",
      "| \\u251c\\u2500\\u2500 53f9312 [loved-rugs] | 04:15 PM | 0.64286 | 3         | 0.12882       | 495          | 4                | 2.1095    | 0.032762  |\n",
      "| \\u251c\\u2500\\u2500 030e7b9 [atilt-agio] | 04:23 PM | 0.64151 | 6         | 0.2187        | 275          | 10               | 0.37951   | 0.0011883 |\n",
      "| \\u251c\\u2500\\u2500 797e0bc [mangy-merk] | 04:23 PM | 0.64151 | 7         | 0.048274      | 207          | 1                | 0.18473   | 1.6007    |\n",
      "| \\u251c\\u2500\\u2500 d43d99e [naked-hunk] | 04:22 PM | 0.64151 | 13        | 0.032362      | 446          | 4                | 8.926     | 0.026083  |\n",
      "| \\u251c\\u2500\\u2500 b64df5e [dicey-sham] | 04:22 PM |    0.64 | 5         | 0.29647       | 411          | 2                | 9.2565    | 3.2345    |\n",
      "| \\u251c\\u2500\\u2500 1a1a6dd [pious-wort] | 04:14 PM |    0.64 | 15        | 0.4292        | 123          | 9                | 0.0014526 | 0.72892   |\n",
      "| \\u251c\\u2500\\u2500 bc86d97 [yucky-tuns] | 04:14 PM |  0.6383 | 10        | 0.99449       | 65           | 7                | 0.0038067 | 2.2673    |\n",
      "| \\u251c\\u2500\\u2500 292a15f [piney-gang] | 04:23 PM | 0.63158 | 5         | 0.96017       | 242          | 2                | 0.68314   | 0.068032  |\n",
      "| \\u251c\\u2500\\u2500 b26c784 [pursy-sinh] | 04:23 PM | 0.62963 | 9         | 0.080857      | 326          | 1                | 1.3626    | 0.12448   |\n",
      "| \\u251c\\u2500\\u2500 d5ab916 [swept-genu] | 04:22 PM | 0.62963 | 11        | 0.31769       | 175          | 2                | 0.35693   | 1.5917    |\n",
      "| \\u251c\\u2500\\u2500 8bfcdbb [handy-akes] | 04:22 PM | 0.62963 | 8         | 0.13547       | 65           | 2                | 1.3146    | 0.0032853 |\n",
      "| \\u251c\\u2500\\u2500 030ed5b [volar-scud] | 04:15 PM | 0.62963 | 4         | 0.088158      | 251          | 3                | 0.0060594 | 0.35601   |\n",
      "| \\u251c\\u2500\\u2500 20780ce [mirky-barb] | 04:14 PM | 0.62963 | 5         | 0.13085       | 155          | 3                | 0.08602   | 0.29671   |\n",
      "| \\u251c\\u2500\\u2500 12d62a0 [unbid-tugs] | 04:15 PM |   0.625 | 3         | 0.013281      | 403          | 4                | 2.1759    | 0.17455   |\n",
      "| \\u251c\\u2500\\u2500 06904cb [milky-awls] | 04:22 PM | 0.61818 | 3         | 0.73241       | 199          | 1                | 0.051287  | 0.0027016 |\n",
      "| \\u251c\\u2500\\u2500 6bcb533 [taunt-emus] | 04:15 PM | 0.61818 | 4         | 0.32287       | 91           | 6                | 0.18736   | 0.021088  |\n",
      "| \\u251c\\u2500\\u2500 6e4381d [short-envy] | 04:14 PM | 0.61818 | 4         | 0.39916       | 311          | 1                | 0.0074554 | 0.014764  |\n",
      "| \\u251c\\u2500\\u2500 931cb77 [sappy-more] | 04:22 PM | 0.61538 | 4         | 0.63308       | 107          | 1                | 0.62551   | 0.31639   |\n",
      "| \\u251c\\u2500\\u2500 469d434 [tenth-sere] | 04:15 PM | 0.61538 | 5         | 0.25757       | 293          | 7                | 0.069312  | 1.2092    |\n",
      "| \\u251c\\u2500\\u2500 d88b226 [treen-rube] | 04:14 PM | 0.61538 | 3         | 0.70624       | 50           | 5                | 0.33504   | 1.1488    |\n",
      "| \\u251c\\u2500\\u2500 a0b1619 [irony-sima] | 04:23 PM | 0.61224 | 7         | 0.051113      | 179          | 4                | 1.9931    | 2.6105    |\n",
      "| \\u251c\\u2500\\u2500 78ad767 [quits-coed] | 04:15 PM |  0.6087 | 2         | 0.12896       | 195          | 5                | 2.487     | 0.54004   |\n",
      "| \\u251c\\u2500\\u2500 6806513 [soled-tale] | 04:15 PM | 0.60714 | 6         | 0.55231       | 129          | 2                | 0.48548   | 0.0098854 |\n",
      "| \\u251c\\u2500\\u2500 bab3259 [lousy-ambo] | 04:15 PM |     0.6 | 2         | 0.31684       | 160          | 5                | 0.51589   | 0.13342   |\n",
      "| \\u251c\\u2500\\u2500 1b395f9 [techy-deys] | 04:22 PM | 0.59574 | 2         | 0.054396      | 288          | 3                | 0.0090446 | 0.029545  |\n",
      "| \\u251c\\u2500\\u2500 ea100b7 [nasty-loof] | 04:23 PM | 0.58537 | 8         | 0.019989      | 63           | 2                | 1.5936    | 0.14516   |\n",
      "| \\u251c\\u2500\\u2500 bf16520 [gluey-harl] | 04:23 PM | 0.58333 | 3         | 0.10553       | 135          | 1                | 0.84163   | 0.0086782 |\n",
      "| \\u251c\\u2500\\u2500 b7780b9 [kacha-yawl] | 04:14 PM | 0.55319 | 2         | 0.6186        | 72           | 7                | 0.71721   | 3.3233    |\n",
      "| \\u251c\\u2500\\u2500 9346216 [amort-coze] | 04:14 PM | 0.54545 | 2         | 0.16132       | 55           | 5                | 0.20717   | 0.59674   |\n",
      "| \\u251c\\u2500\\u2500 5ef7b04 [wacky-stir] | 04:22 PM |     0.5 | 10        | 0.11813       | 122          | 1                | 0.001061  | 5.9191    |\n",
      "| \\u251c\\u2500\\u2500 6083961 [areal-craw] | 04:14 PM | 0.47619 | 8         | 0.039315      | 78           | 3                | 3.9814    | 0.024111  |\n",
      "| \\u251c\\u2500\\u2500 7d3dc39 [sappy-berk] | 04:14 PM | 0.46154 | 1         | 0.080804      | 186          | 1                | 6.5703    | 0.0049795 |\n",
      "| \\u251c\\u2500\\u2500 bcd4fea [batty-emeu] | 04:22 PM | 0.45714 | 2         | 0.078291      | 50           | 2                | 0.044621  | 0.0021125 |\n",
      "| \\u251c\\u2500\\u2500 71268ad [dusty-stud] | 04:22 PM |    0.45 | 1         | 0.16955       | 74           | 6                | 0.35076   | 0.29842   |\n",
      "| \\u251c\\u2500\\u2500 93d18e8 [frore-ewes] | 04:23 PM |  0.4375 | 2         | 0.027138      | 148          | 2                | 1.1385    | 1.0257    |\n",
      "| \\u251c\\u2500\\u2500 aa3bbc5 [unmet-zack] | 04:23 PM |  0.4375 | 3         | 0.010325      | 147          | 3                | 0.67743   | 0.010712  |\n",
      "| \\u251c\\u2500\\u2500 f52ba2c [fiery-lien] | 04:23 PM | 0.43243 | 4         | 0.21364       | 241          | 1                | 5.4781    | 8.7503    |\n",
      "| \\u251c\\u2500\\u2500 072b77e [chief-furl] | 04:22 PM | 0.41176 | 6         | 0.013745      | 118          | 9                | 0.093286  | 0.20694   |\n",
      "| \\u251c\\u2500\\u2500 8ff3c5f [pesky-cogs] | 04:22 PM |     0.4 | 1         | 0.032001      | 254          | 1                | 2.1504    | 0.0017031 |\n",
      "| \\u251c\\u2500\\u2500 e98dd34 [meaty-banc] | 04:14 PM | 0.35294 | 2         | 0.88663       | 134          | 10               | 0.0011342 | 6.5108    |\n",
      "| \\u2514\\u2500\\u2500 275a061 [gamey-reif] | 04:14 PM | 0.22222 | 1         | 0.035224      | 99           | 2                | 0.023434  | 0.19596   |\n",
      "+-------------------------------------------------------------------------------------------------------------------------------------+\n"
     ]
    }
   ],
   "source": [
    "!dvc exp show --sort-by metric --sort-order desc"
   ]
  },
  {
   "cell_type": "code",
   "execution_count": null,
   "id": "5cdafd50-69ed-4a6e-b125-524019b626a2",
   "metadata": {},
   "outputs": [],
   "source": [
    "!dvc exp push origin --all-commits"
   ]
  },
  {
   "cell_type": "code",
   "execution_count": 14,
   "id": "6ec452c1-ab33-4509-865c-3896e432803d",
   "metadata": {},
   "outputs": [
    {
     "name": "stdout",
     "output_type": "stream",
     "text": [
      "Number of finished trials: 32\n",
      "Best trial:\n",
      "  Value: 0.7307692307692307\n",
      "  Params: \n",
      "    max_depth: 5\n",
      "    learning_rate: 0.06041141703272837\n",
      "    n_estimators: 52\n",
      "    min_child_weight: 1\n",
      "    lambda: 0.7922711132209063\n",
      "    alpha: 0.0024763933440894374\n"
     ]
    }
   ],
   "source": [
    "print('Number of finished trials: {}'.format(len(study.trials)))\n",
    "print('Best trial:')\n",
    "trial = study.best_trial\n",
    "\n",
    "print('  Value: {}'.format(trial.value))\n",
    "print('  Params: ')\n",
    "\n",
    "for key, value in trial.params.items():\n",
    "    print('    {}: {}'.format(key, value))"
   ]
  },
  {
   "cell_type": "code",
   "execution_count": 15,
   "id": "735d8919-37bc-4e28-94e8-3d618229ac05",
   "metadata": {},
   "outputs": [],
   "source": [
    "params = trial.params"
   ]
  },
  {
   "cell_type": "code",
   "execution_count": 26,
   "id": "38286d51-3441-4bfb-9cff-8a0cd2ae2ac2",
   "metadata": {},
   "outputs": [],
   "source": [
    "xgb_model = XGBClassifier(**params)\n",
    "    \n",
    "pipe_xgb = Pipeline(steps = [('preprocessor', preprocessor), ('classifier', xgb_model )])\n",
    "pipe_xgb.fit(X_train, y_train)\n",
    "\n",
    "predictions = pipe_xgb.predict(X_test)"
   ]
  },
  {
   "cell_type": "code",
   "execution_count": 17,
   "id": "bb293a18-a88a-45a8-b7e6-5846f0f49cf4",
   "metadata": {},
   "outputs": [
    {
     "name": "stdout",
     "output_type": "stream",
     "text": [
      "Test accuracy score:  0.8444444444444444\n",
      "Test precision score:  0.6785714285714286\n",
      "Test recall score:  0.7916666666666666\n",
      "Test f1 score: 0.7307692307692307\n"
     ]
    }
   ],
   "source": [
    "print('Test accuracy score: ', accuracy_score(y_test, predictions))\n",
    "print('Test precision score: ', precision_score(y_test, predictions))\n",
    "print('Test recall score: ', recall_score(y_test, predictions))\n",
    "print('Test f1 score:', f1_score(y_test, predictions))"
   ]
  },
  {
   "cell_type": "code",
   "execution_count": 23,
   "id": "b1e364aa-f3aa-470a-bf1f-7fbb5be3af48",
   "metadata": {},
   "outputs": [
    {
     "name": "stdout",
     "output_type": "stream",
     "text": [
      "Collecting mlem\n",
      "  Downloading mlem-0.4.14-py3-none-any.whl.metadata (18 kB)\n",
      "Collecting cloudpickle (from mlem)\n",
      "  Using cached cloudpickle-3.1.1-py3-none-any.whl.metadata (7.1 kB)\n",
      "Collecting dill (from mlem)\n",
      "  Downloading dill-0.4.0-py3-none-any.whl.metadata (10 kB)\n",
      "Requirement already satisfied: requests in c:\\users\\achla\\appdata\\local\\programs\\python\\python313\\lib\\site-packages (from mlem) (2.32.5)\n",
      "Collecting isort>=5.10 (from mlem)\n",
      "  Downloading isort-6.0.1-py3-none-any.whl.metadata (11 kB)\n",
      "Collecting pydantic<2,>=1.9.0 (from mlem)\n",
      "  Downloading pydantic-1.10.23-cp313-cp313-win_amd64.whl.metadata (155 kB)\n",
      "Requirement already satisfied: typer in c:\\users\\achla\\appdata\\local\\programs\\python\\python313\\lib\\site-packages (from mlem) (0.17.4)\n",
      "Collecting click<8.2 (from mlem)\n",
      "  Downloading click-8.1.8-py3-none-any.whl.metadata (2.3 kB)\n",
      "Requirement already satisfied: rich in c:\\users\\achla\\appdata\\local\\programs\\python\\python313\\lib\\site-packages (from mlem) (14.1.0)\n",
      "Requirement already satisfied: aiohttp<4 in c:\\users\\achla\\appdata\\local\\programs\\python\\python313\\lib\\site-packages (from mlem) (3.12.15)\n",
      "Collecting aiohttp-swagger<2 (from mlem)\n",
      "  Downloading aiohttp_swagger-1.0.16-py3-none-any.whl.metadata (2.1 kB)\n",
      "Requirement already satisfied: Jinja2>=3 in c:\\users\\achla\\appdata\\local\\programs\\python\\python313\\lib\\site-packages (from mlem) (3.1.6)\n",
      "Requirement already satisfied: fsspec>=2021.7.0 in c:\\users\\achla\\appdata\\local\\programs\\python\\python313\\lib\\site-packages (from mlem) (2025.9.0)\n",
      "Requirement already satisfied: pyparsing<4 in c:\\users\\achla\\appdata\\local\\programs\\python\\python313\\lib\\site-packages (from mlem) (3.2.3)\n",
      "Collecting cached-property (from mlem)\n",
      "  Downloading cached_property-2.0.1-py3-none-any.whl.metadata (10 kB)\n",
      "Requirement already satisfied: entrypoints in c:\\users\\achla\\appdata\\local\\programs\\python\\python313\\lib\\site-packages (from mlem) (0.4)\n",
      "Requirement already satisfied: gitpython in c:\\users\\achla\\appdata\\local\\programs\\python\\python313\\lib\\site-packages (from mlem) (3.1.45)\n",
      "Collecting python-gitlab (from mlem)\n",
      "  Downloading python_gitlab-6.3.0-py3-none-any.whl.metadata (8.5 kB)\n",
      "Collecting flatdict (from mlem)\n",
      "  Downloading flatdict-4.0.1.tar.gz (8.3 kB)\n",
      "  Installing build dependencies: started\n",
      "  Installing build dependencies: finished with status 'done'\n",
      "  Getting requirements to build wheel: started\n",
      "  Getting requirements to build wheel: finished with status 'done'\n",
      "  Preparing metadata (pyproject.toml): started\n",
      "  Preparing metadata (pyproject.toml): finished with status 'done'\n",
      "Requirement already satisfied: iterative-telemetry>=0.0.6 in c:\\users\\achla\\appdata\\local\\programs\\python\\python313\\lib\\site-packages (from mlem) (0.0.10)\n",
      "Collecting python-multipart (from mlem)\n",
      "  Downloading python_multipart-0.0.20-py3-none-any.whl.metadata (1.8 kB)\n",
      "Collecting importlib-metadata (from mlem)\n",
      "  Using cached importlib_metadata-8.7.0-py3-none-any.whl.metadata (4.8 kB)\n",
      "Requirement already satisfied: aiohappyeyeballs>=2.5.0 in c:\\users\\achla\\appdata\\local\\programs\\python\\python313\\lib\\site-packages (from aiohttp<4->mlem) (2.6.1)\n",
      "Requirement already satisfied: aiosignal>=1.4.0 in c:\\users\\achla\\appdata\\local\\programs\\python\\python313\\lib\\site-packages (from aiohttp<4->mlem) (1.4.0)\n",
      "Requirement already satisfied: attrs>=17.3.0 in c:\\users\\achla\\appdata\\local\\programs\\python\\python313\\lib\\site-packages (from aiohttp<4->mlem) (25.3.0)\n",
      "Requirement already satisfied: frozenlist>=1.1.1 in c:\\users\\achla\\appdata\\local\\programs\\python\\python313\\lib\\site-packages (from aiohttp<4->mlem) (1.7.0)\n",
      "Requirement already satisfied: multidict<7.0,>=4.5 in c:\\users\\achla\\appdata\\local\\programs\\python\\python313\\lib\\site-packages (from aiohttp<4->mlem) (6.6.4)\n",
      "Requirement already satisfied: propcache>=0.2.0 in c:\\users\\achla\\appdata\\local\\programs\\python\\python313\\lib\\site-packages (from aiohttp<4->mlem) (0.3.2)\n",
      "Requirement already satisfied: yarl<2.0,>=1.17.0 in c:\\users\\achla\\appdata\\local\\programs\\python\\python313\\lib\\site-packages (from aiohttp<4->mlem) (1.20.1)\n",
      "Requirement already satisfied: pyYAML>=5.1 in c:\\users\\achla\\appdata\\local\\programs\\python\\python313\\lib\\site-packages (from aiohttp-swagger<2->mlem) (6.0.2)\n",
      "Requirement already satisfied: colorama in c:\\users\\achla\\appdata\\local\\programs\\python\\python313\\lib\\site-packages (from click<8.2->mlem) (0.4.6)\n",
      "Requirement already satisfied: typing-extensions>=4.2.0 in c:\\users\\achla\\appdata\\local\\programs\\python\\python313\\lib\\site-packages (from pydantic<2,>=1.9.0->mlem) (4.15.0)\n",
      "Requirement already satisfied: idna>=2.0 in c:\\users\\achla\\appdata\\local\\programs\\python\\python313\\lib\\site-packages (from yarl<2.0,>=1.17.0->aiohttp<4->mlem) (3.10)\n",
      "Requirement already satisfied: appdirs in c:\\users\\achla\\appdata\\local\\programs\\python\\python313\\lib\\site-packages (from iterative-telemetry>=0.0.6->mlem) (1.4.4)\n",
      "Requirement already satisfied: filelock in c:\\users\\achla\\appdata\\local\\programs\\python\\python313\\lib\\site-packages (from iterative-telemetry>=0.0.6->mlem) (3.19.1)\n",
      "Requirement already satisfied: distro in c:\\users\\achla\\appdata\\local\\programs\\python\\python313\\lib\\site-packages (from iterative-telemetry>=0.0.6->mlem) (1.9.0)\n",
      "Requirement already satisfied: MarkupSafe>=2.0 in c:\\users\\achla\\appdata\\local\\programs\\python\\python313\\lib\\site-packages (from Jinja2>=3->mlem) (3.0.2)\n",
      "Requirement already satisfied: gitdb<5,>=4.0.1 in c:\\users\\achla\\appdata\\local\\programs\\python\\python313\\lib\\site-packages (from gitpython->mlem) (4.0.12)\n",
      "Requirement already satisfied: smmap<6,>=3.0.1 in c:\\users\\achla\\appdata\\local\\programs\\python\\python313\\lib\\site-packages (from gitdb<5,>=4.0.1->gitpython->mlem) (5.0.2)\n",
      "Collecting zipp>=3.20 (from importlib-metadata->mlem)\n",
      "  Using cached zipp-3.23.0-py3-none-any.whl.metadata (3.6 kB)\n",
      "Collecting requests-toolbelt>=1.0.0 (from python-gitlab->mlem)\n",
      "  Downloading requests_toolbelt-1.0.0-py2.py3-none-any.whl.metadata (14 kB)\n",
      "Requirement already satisfied: charset_normalizer<4,>=2 in c:\\users\\achla\\appdata\\local\\programs\\python\\python313\\lib\\site-packages (from requests->mlem) (3.4.3)\n",
      "Requirement already satisfied: urllib3<3,>=1.21.1 in c:\\users\\achla\\appdata\\local\\programs\\python\\python313\\lib\\site-packages (from requests->mlem) (2.5.0)\n",
      "Requirement already satisfied: certifi>=2017.4.17 in c:\\users\\achla\\appdata\\local\\programs\\python\\python313\\lib\\site-packages (from requests->mlem) (2025.8.3)\n",
      "Requirement already satisfied: markdown-it-py>=2.2.0 in c:\\users\\achla\\appdata\\local\\programs\\python\\python313\\lib\\site-packages (from rich->mlem) (4.0.0)\n",
      "Requirement already satisfied: pygments<3.0.0,>=2.13.0 in c:\\users\\achla\\appdata\\local\\programs\\python\\python313\\lib\\site-packages (from rich->mlem) (2.19.2)\n",
      "Requirement already satisfied: mdurl~=0.1 in c:\\users\\achla\\appdata\\local\\programs\\python\\python313\\lib\\site-packages (from markdown-it-py>=2.2.0->rich->mlem) (0.1.2)\n",
      "Requirement already satisfied: shellingham>=1.3.0 in c:\\users\\achla\\appdata\\local\\programs\\python\\python313\\lib\\site-packages (from typer->mlem) (1.5.4)\n",
      "Downloading mlem-0.4.14-py3-none-any.whl (218 kB)\n",
      "Downloading aiohttp_swagger-1.0.16-py3-none-any.whl (3.3 MB)\n",
      "   ---------------------------------------- 0.0/3.3 MB ? eta -:--:--\n",
      "   ---------------------------------- ----- 2.9/3.3 MB 13.3 MB/s eta 0:00:01\n",
      "   ---------------------------------------- 3.3/3.3 MB 12.1 MB/s  0:00:00\n",
      "Downloading click-8.1.8-py3-none-any.whl (98 kB)\n",
      "Downloading pydantic-1.10.23-cp313-cp313-win_amd64.whl (2.0 MB)\n",
      "   ---------------------------------------- 0.0/2.0 MB ? eta -:--:--\n",
      "   ---------------------------------------- 2.0/2.0 MB 11.6 MB/s  0:00:00\n",
      "Downloading isort-6.0.1-py3-none-any.whl (94 kB)\n",
      "Downloading cached_property-2.0.1-py3-none-any.whl (7.4 kB)\n",
      "Using cached cloudpickle-3.1.1-py3-none-any.whl (20 kB)\n",
      "Downloading dill-0.4.0-py3-none-any.whl (119 kB)\n",
      "Using cached importlib_metadata-8.7.0-py3-none-any.whl (27 kB)\n",
      "Using cached zipp-3.23.0-py3-none-any.whl (10 kB)\n",
      "Downloading python_gitlab-6.3.0-py3-none-any.whl (144 kB)\n",
      "Downloading requests_toolbelt-1.0.0-py2.py3-none-any.whl (54 kB)\n",
      "Downloading python_multipart-0.0.20-py3-none-any.whl (24 kB)\n",
      "Building wheels for collected packages: flatdict\n",
      "  Building wheel for flatdict (pyproject.toml): started\n",
      "  Building wheel for flatdict (pyproject.toml): finished with status 'done'\n",
      "  Created wheel for flatdict: filename=flatdict-4.0.1-py3-none-any.whl size=6994 sha256=7079c615474b508042435c0e440efc06858f51e4ca29ad2097be8c8f637ce5f7\n",
      "  Stored in directory: c:\\users\\achla\\appdata\\local\\pip\\cache\\wheels\\56\\ac\\1f\\c32eff7b23ebcc94aea1da32f4f7a12cef465af49497bd00fd\n",
      "Successfully built flatdict\n",
      "Installing collected packages: flatdict, zipp, python-multipart, pydantic, isort, dill, cloudpickle, click, cached-property, requests-toolbelt, importlib-metadata, python-gitlab, aiohttp-swagger, mlem\n",
      "\n",
      "   -- -------------------------------------  1/14 [zipp]\n",
      "   ----- ----------------------------------  2/14 [python-multipart]\n",
      "  Attempting uninstall: pydantic\n",
      "   ----- ----------------------------------  2/14 [python-multipart]\n",
      "    Found existing installation: pydantic 2.11.9\n",
      "   ----- ----------------------------------  2/14 [python-multipart]\n",
      "   -------- -------------------------------  3/14 [pydantic]\n",
      "    Uninstalling pydantic-2.11.9:\n",
      "   -------- -------------------------------  3/14 [pydantic]\n",
      "      Successfully uninstalled pydantic-2.11.9\n",
      "   -------- -------------------------------  3/14 [pydantic]\n",
      "   -------- -------------------------------  3/14 [pydantic]\n",
      "   -------- -------------------------------  3/14 [pydantic]\n",
      "   -------- -------------------------------  3/14 [pydantic]\n",
      "   -------- -------------------------------  3/14 [pydantic]\n",
      "   -------- -------------------------------  3/14 [pydantic]\n",
      "   -------- -------------------------------  3/14 [pydantic]\n",
      "   -------- -------------------------------  3/14 [pydantic]\n",
      "   -------- -------------------------------  3/14 [pydantic]\n",
      "   -------- -------------------------------  3/14 [pydantic]\n",
      "   ----------- ----------------------------  4/14 [isort]\n",
      "   ----------- ----------------------------  4/14 [isort]\n",
      "   ----------- ----------------------------  4/14 [isort]\n",
      "   ----------- ----------------------------  4/14 [isort]\n",
      "   ----------- ----------------------------  4/14 [isort]\n",
      "   ----------- ----------------------------  4/14 [isort]\n",
      "   ----------- ----------------------------  4/14 [isort]\n",
      "   ----------- ----------------------------  4/14 [isort]\n",
      "   ----------- ----------------------------  4/14 [isort]\n",
      "   -------------- -------------------------  5/14 [dill]\n",
      "   -------------- -------------------------  5/14 [dill]\n",
      "   -------------- -------------------------  5/14 [dill]\n",
      "   -------------- -------------------------  5/14 [dill]\n",
      "   -------------- -------------------------  5/14 [dill]\n",
      "   -------------- -------------------------  5/14 [dill]\n",
      "   -------------- -------------------------  5/14 [dill]\n",
      "   -------------- -------------------------  5/14 [dill]\n",
      "  Attempting uninstall: click\n",
      "   -------------- -------------------------  5/14 [dill]\n",
      "    Found existing installation: click 8.3.0\n",
      "   -------------- -------------------------  5/14 [dill]\n",
      "   -------------------- -------------------  7/14 [click]\n",
      "    Uninstalling click-8.3.0:\n",
      "   -------------------- -------------------  7/14 [click]\n",
      "      Successfully uninstalled click-8.3.0\n",
      "   -------------------- -------------------  7/14 [click]\n",
      "   -------------------- -------------------  7/14 [click]\n",
      "   -------------------- -------------------  7/14 [click]\n",
      "   -------------------- -------------------  7/14 [click]\n",
      "   ------------------------- --------------  9/14 [requests-toolbelt]\n",
      "   ------------------------- --------------  9/14 [requests-toolbelt]\n",
      "   ------------------------- --------------  9/14 [requests-toolbelt]\n",
      "   ------------------------- --------------  9/14 [requests-toolbelt]\n",
      "   ------------------------- --------------  9/14 [requests-toolbelt]\n",
      "   ---------------------------- ----------- 10/14 [importlib-metadata]\n",
      "   ---------------------------- ----------- 10/14 [importlib-metadata]\n",
      "   ------------------------------- -------- 11/14 [python-gitlab]\n",
      "   ------------------------------- -------- 11/14 [python-gitlab]\n",
      "   ------------------------------- -------- 11/14 [python-gitlab]\n",
      "   ------------------------------- -------- 11/14 [python-gitlab]\n",
      "   ------------------------------- -------- 11/14 [python-gitlab]\n",
      "   ------------------------------- -------- 11/14 [python-gitlab]\n",
      "   ------------------------------- -------- 11/14 [python-gitlab]\n",
      "   ------------------------------- -------- 11/14 [python-gitlab]\n",
      "   ------------------------------- -------- 11/14 [python-gitlab]\n",
      "   ------------------------------- -------- 11/14 [python-gitlab]\n",
      "   ------------------------------- -------- 11/14 [python-gitlab]\n",
      "   ------------------------------- -------- 11/14 [python-gitlab]\n",
      "   ------------------------------- -------- 11/14 [python-gitlab]\n",
      "   ------------------------------- -------- 11/14 [python-gitlab]\n",
      "   ------------------------------- -------- 11/14 [python-gitlab]\n",
      "   ------------------------------- -------- 11/14 [python-gitlab]\n",
      "   ---------------------------------- ----- 12/14 [aiohttp-swagger]\n",
      "   ------------------------------------- -- 13/14 [mlem]\n",
      "   ------------------------------------- -- 13/14 [mlem]\n",
      "   ------------------------------------- -- 13/14 [mlem]\n",
      "   ------------------------------------- -- 13/14 [mlem]\n",
      "   ------------------------------------- -- 13/14 [mlem]\n",
      "   ------------------------------------- -- 13/14 [mlem]\n",
      "   ------------------------------------- -- 13/14 [mlem]\n",
      "   ------------------------------------- -- 13/14 [mlem]\n",
      "   ------------------------------------- -- 13/14 [mlem]\n",
      "   ------------------------------------- -- 13/14 [mlem]\n",
      "   ------------------------------------- -- 13/14 [mlem]\n",
      "   ------------------------------------- -- 13/14 [mlem]\n",
      "   ------------------------------------- -- 13/14 [mlem]\n",
      "   ------------------------------------- -- 13/14 [mlem]\n",
      "   ------------------------------------- -- 13/14 [mlem]\n",
      "   ------------------------------------- -- 13/14 [mlem]\n",
      "   ------------------------------------- -- 13/14 [mlem]\n",
      "   ------------------------------------- -- 13/14 [mlem]\n",
      "   ------------------------------------- -- 13/14 [mlem]\n",
      "   ------------------------------------- -- 13/14 [mlem]\n",
      "   ---------------------------------------- 14/14 [mlem]\n",
      "\n",
      "Successfully installed aiohttp-swagger-1.0.16 cached-property-2.0.1 click-8.1.8 cloudpickle-3.1.1 dill-0.4.0 flatdict-4.0.1 importlib-metadata-8.7.0 isort-6.0.1 mlem-0.4.14 pydantic-1.10.23 python-gitlab-6.3.0 python-multipart-0.0.20 requests-toolbelt-1.0.0 zipp-3.23.0\n",
      "Note: you may need to restart the kernel to use updated packages.\n"
     ]
    }
   ],
   "source": [
    "pip install mlem"
   ]
  },
  {
   "cell_type": "code",
   "execution_count": 27,
   "id": "92eb13dd-03f4-4399-9363-602e720b8ecb",
   "metadata": {},
   "outputs": [
    {
     "ename": "HookNotFound",
     "evalue": "No suitable ModelHook for object of type \"Pipeline\". Registered hooks: [<class 'mlem.contrib.callable.CallableModelType'>]",
     "output_type": "error",
     "traceback": [
      "\u001b[31m---------------------------------------------------------------------------\u001b[39m",
      "\u001b[31mHookNotFound\u001b[39m                              Traceback (most recent call last)",
      "\u001b[36mCell\u001b[39m\u001b[36m \u001b[39m\u001b[32mIn[27]\u001b[39m\u001b[32m, line 3\u001b[39m\n\u001b[32m      1\u001b[39m \u001b[38;5;28;01mfrom\u001b[39;00m\u001b[38;5;250m \u001b[39m\u001b[34;01mmlem\u001b[39;00m\u001b[34;01m.\u001b[39;00m\u001b[34;01mapi\u001b[39;00m\u001b[38;5;250m \u001b[39m\u001b[38;5;28;01mimport\u001b[39;00m save\n\u001b[32m----> \u001b[39m\u001b[32m3\u001b[39m \u001b[43msave\u001b[49m\u001b[43m(\u001b[49m\u001b[43mpipe_xgb\u001b[49m\u001b[43m,\u001b[49m\u001b[43m \u001b[49m\u001b[33;43m'\u001b[39;49m\u001b[33;43mmodels/pipe_xgb\u001b[39;49m\u001b[33;43m'\u001b[39;49m\u001b[43m,\u001b[49m\u001b[43m \u001b[49m\u001b[43msample_data\u001b[49m\u001b[43m \u001b[49m\u001b[43m=\u001b[49m\u001b[43m \u001b[49m\u001b[43mX_test\u001b[49m\u001b[43m)\u001b[49m\n",
      "\u001b[36mFile \u001b[39m\u001b[32m~\\AppData\\Local\\Programs\\Python\\Python313\\Lib\\site-packages\\mlem\\telemetry.py:50\u001b[39m, in \u001b[36mapi_telemetry.<locals>.inner\u001b[39m\u001b[34m(*args, **kwargs)\u001b[39m\n\u001b[32m     48\u001b[39m \u001b[38;5;28;01mwith\u001b[39;00m telemetry.event_scope(\u001b[33m\"\u001b[39m\u001b[33mapi\u001b[39m\u001b[33m\"\u001b[39m, f.\u001b[34m__name__\u001b[39m) \u001b[38;5;28;01mas\u001b[39;00m event:\n\u001b[32m     49\u001b[39m     \u001b[38;5;28;01mtry\u001b[39;00m:\n\u001b[32m---> \u001b[39m\u001b[32m50\u001b[39m         \u001b[38;5;28;01mreturn\u001b[39;00m \u001b[43mf\u001b[49m\u001b[43m(\u001b[49m\u001b[43m*\u001b[49m\u001b[43margs\u001b[49m\u001b[43m,\u001b[49m\u001b[43m \u001b[49m\u001b[43m*\u001b[49m\u001b[43m*\u001b[49m\u001b[43mkwargs\u001b[49m\u001b[43m)\u001b[49m\n\u001b[32m     51\u001b[39m     \u001b[38;5;28;01mexcept\u001b[39;00m \u001b[38;5;167;01mException\u001b[39;00m \u001b[38;5;28;01mas\u001b[39;00m exc:\n\u001b[32m     52\u001b[39m         event.error = exc.\u001b[34m__class__\u001b[39m.\u001b[34m__name__\u001b[39m\n",
      "\u001b[36mFile \u001b[39m\u001b[32m~\\AppData\\Local\\Programs\\Python\\Python313\\Lib\\site-packages\\mlem\\core\\metadata.py:122\u001b[39m, in \u001b[36msave\u001b[39m\u001b[34m(obj, path, project, sample_data, fs, params, preprocess, postprocess)\u001b[39m\n\u001b[32m     93\u001b[39m \u001b[38;5;129m@api_telemetry\u001b[39m\n\u001b[32m     94\u001b[39m \u001b[38;5;28;01mdef\u001b[39;00m\u001b[38;5;250m \u001b[39m\u001b[34msave\u001b[39m(\n\u001b[32m     95\u001b[39m     obj: Any,\n\u001b[32m   (...)\u001b[39m\u001b[32m    102\u001b[39m     postprocess: Union[Any, Dict[\u001b[38;5;28mstr\u001b[39m, Any]] = \u001b[38;5;28;01mNone\u001b[39;00m,\n\u001b[32m    103\u001b[39m ) -> MlemObject:\n\u001b[32m    104\u001b[39m \u001b[38;5;250m    \u001b[39m\u001b[33;03m\"\"\"Saves given object to a given path\u001b[39;00m\n\u001b[32m    105\u001b[39m \n\u001b[32m    106\u001b[39m \u001b[33;03m    Args:\u001b[39;00m\n\u001b[32m   (...)\u001b[39m\u001b[32m    120\u001b[39m \u001b[33;03m        None\u001b[39;00m\n\u001b[32m    121\u001b[39m \u001b[33;03m    \"\"\"\u001b[39;00m\n\u001b[32m--> \u001b[39m\u001b[32m122\u001b[39m     meta = \u001b[43mget_object_metadata\u001b[49m\u001b[43m(\u001b[49m\n\u001b[32m    123\u001b[39m \u001b[43m        \u001b[49m\u001b[43mobj\u001b[49m\u001b[43m,\u001b[49m\n\u001b[32m    124\u001b[39m \u001b[43m        \u001b[49m\u001b[43msample_data\u001b[49m\u001b[43m,\u001b[49m\n\u001b[32m    125\u001b[39m \u001b[43m        \u001b[49m\u001b[43mparams\u001b[49m\u001b[43m=\u001b[49m\u001b[43mparams\u001b[49m\u001b[43m,\u001b[49m\n\u001b[32m    126\u001b[39m \u001b[43m        \u001b[49m\u001b[43mpreprocess\u001b[49m\u001b[43m=\u001b[49m\u001b[43mpreprocess\u001b[49m\u001b[43m,\u001b[49m\n\u001b[32m    127\u001b[39m \u001b[43m        \u001b[49m\u001b[43mpostprocess\u001b[49m\u001b[43m=\u001b[49m\u001b[43mpostprocess\u001b[49m\u001b[43m,\u001b[49m\n\u001b[32m    128\u001b[39m \u001b[43m    \u001b[49m\u001b[43m)\u001b[49m\n\u001b[32m    129\u001b[39m     log_meta_params(meta, add_object_type=\u001b[38;5;28;01mTrue\u001b[39;00m)\n\u001b[32m    130\u001b[39m     path = os.fspath(path)\n",
      "\u001b[36mFile \u001b[39m\u001b[32m~\\AppData\\Local\\Programs\\Python\\Python313\\Lib\\site-packages\\mlem\\core\\metadata.py:53\u001b[39m, in \u001b[36mget_object_metadata\u001b[39m\u001b[34m(obj, sample_data, params, preprocess, postprocess)\u001b[39m\n\u001b[32m     50\u001b[39m     \u001b[38;5;28;01mexcept\u001b[39;00m HookNotFound:\n\u001b[32m     51\u001b[39m         \u001b[38;5;28;01mpass\u001b[39;00m\n\u001b[32m---> \u001b[39m\u001b[32m53\u001b[39m \u001b[38;5;28;01mreturn\u001b[39;00m \u001b[43mMlemModel\u001b[49m\u001b[43m.\u001b[49m\u001b[43mfrom_obj\u001b[49m\u001b[43m(\u001b[49m\n\u001b[32m     54\u001b[39m \u001b[43m    \u001b[49m\u001b[43mobj\u001b[49m\u001b[43m,\u001b[49m\n\u001b[32m     55\u001b[39m \u001b[43m    \u001b[49m\u001b[43msample_data\u001b[49m\u001b[43m=\u001b[49m\u001b[43msample_data\u001b[49m\u001b[43m,\u001b[49m\n\u001b[32m     56\u001b[39m \u001b[43m    \u001b[49m\u001b[43mparams\u001b[49m\u001b[43m=\u001b[49m\u001b[43mparams\u001b[49m\u001b[43m,\u001b[49m\n\u001b[32m     57\u001b[39m \u001b[43m    \u001b[49m\u001b[43mpreprocess\u001b[49m\u001b[43m=\u001b[49m\u001b[43mpreprocess\u001b[49m\u001b[43m,\u001b[49m\n\u001b[32m     58\u001b[39m \u001b[43m    \u001b[49m\u001b[43mpostprocess\u001b[49m\u001b[43m=\u001b[49m\u001b[43mpostprocess\u001b[49m\u001b[43m,\u001b[49m\n\u001b[32m     59\u001b[39m \u001b[43m\u001b[49m\u001b[43m)\u001b[49m\n",
      "\u001b[36mFile \u001b[39m\u001b[32m~\\AppData\\Local\\Programs\\Python\\Python313\\Lib\\site-packages\\mlem\\core\\objects.py:773\u001b[39m, in \u001b[36mMlemModel.from_obj\u001b[39m\u001b[34m(cls, model, sample_data, methods_sample_data, params, preprocess, postprocess)\u001b[39m\n\u001b[32m    760\u001b[39m \u001b[38;5;129m@classmethod\u001b[39m\n\u001b[32m    761\u001b[39m \u001b[38;5;28;01mdef\u001b[39;00m\u001b[38;5;250m \u001b[39m\u001b[34mfrom_obj\u001b[39m(\n\u001b[32m    762\u001b[39m     \u001b[38;5;28mcls\u001b[39m,\n\u001b[32m   (...)\u001b[39m\u001b[32m    768\u001b[39m     postprocess: Union[Any, Dict[\u001b[38;5;28mstr\u001b[39m, Any]] = \u001b[38;5;28;01mNone\u001b[39;00m,\n\u001b[32m    769\u001b[39m ) -> \u001b[33m\"\u001b[39m\u001b[33mMlemModel\u001b[39m\u001b[33m\"\u001b[39m:\n\u001b[32m    770\u001b[39m     mlem_model = MlemModel(\n\u001b[32m    771\u001b[39m         params=params \u001b[38;5;129;01mor\u001b[39;00m {},\n\u001b[32m    772\u001b[39m     )\n\u001b[32m--> \u001b[39m\u001b[32m773\u001b[39m     model_hook = \u001b[43mModelAnalyzer\u001b[49m\u001b[43m.\u001b[49m\u001b[43mfind_hook\u001b[49m\u001b[43m(\u001b[49m\u001b[43mmodel\u001b[49m\u001b[43m)\u001b[49m\n\u001b[32m    774\u001b[39m     model_type = model_hook.process(model)\n\u001b[32m    775\u001b[39m     methods = \u001b[38;5;28mset\u001b[39m(model_type.methods)\n",
      "\u001b[36mFile \u001b[39m\u001b[32m~\\AppData\\Local\\Programs\\Python\\Python313\\Lib\\site-packages\\mlem\\core\\hooks.py:135\u001b[39m, in \u001b[36mAnalyzer.find_hook\u001b[39m\u001b[34m(cls, obj)\u001b[39m\n\u001b[32m    131\u001b[39m     \u001b[38;5;28;01mif\u001b[39;00m \u001b[38;5;28mlen\u001b[39m(lp_hooks) > \u001b[32m1\u001b[39m:\n\u001b[32m    132\u001b[39m         \u001b[38;5;28;01mraise\u001b[39;00m MultipleHooksFound(\n\u001b[32m    133\u001b[39m             \u001b[33mf\u001b[39m\u001b[33m\"\u001b[39m\u001b[33mMultiple suitable hooks for object \u001b[39m\u001b[38;5;132;01m{\u001b[39;00mobj\u001b[38;5;132;01m}\u001b[39;00m\u001b[33m (\u001b[39m\u001b[38;5;132;01m{\u001b[39;00mlp_hooks\u001b[38;5;132;01m}\u001b[39;00m\u001b[33m)\u001b[39m\u001b[33m\"\u001b[39m\n\u001b[32m    134\u001b[39m         )\n\u001b[32m--> \u001b[39m\u001b[32m135\u001b[39m     \u001b[38;5;28;01mraise\u001b[39;00m HookNotFound(\n\u001b[32m    136\u001b[39m         \u001b[33mf\u001b[39m\u001b[33m\"\u001b[39m\u001b[33mNo suitable \u001b[39m\u001b[38;5;132;01m{\u001b[39;00m\u001b[38;5;28mcls\u001b[39m.base_hook_class.\u001b[34m__name__\u001b[39m\u001b[38;5;132;01m}\u001b[39;00m\u001b[33m for object of type \u001b[39m\u001b[33m\"\u001b[39m\n\u001b[32m    137\u001b[39m         \u001b[33mf\u001b[39m\u001b[33m'\u001b[39m\u001b[33m\"\u001b[39m\u001b[38;5;132;01m{\u001b[39;00m\u001b[38;5;28mtype\u001b[39m(obj).\u001b[34m__name__\u001b[39m\u001b[38;5;132;01m}\u001b[39;00m\u001b[33m\"\u001b[39m\u001b[33m. Registered hooks: \u001b[39m\u001b[38;5;132;01m{\u001b[39;00m\u001b[38;5;28mcls\u001b[39m.hooks\u001b[38;5;132;01m}\u001b[39;00m\u001b[33m'\u001b[39m\n\u001b[32m    138\u001b[39m     )\n\u001b[32m    139\u001b[39m \u001b[38;5;28;01mreturn\u001b[39;00m \u001b[38;5;28mmax\u001b[39m(hooks, key=\u001b[38;5;28;01mlambda\u001b[39;00m x: x[\u001b[32m0\u001b[39m])[\u001b[32m1\u001b[39m]\n",
      "\u001b[31mHookNotFound\u001b[39m: No suitable ModelHook for object of type \"Pipeline\". Registered hooks: [<class 'mlem.contrib.callable.CallableModelType'>]"
     ]
    }
   ],
   "source": [
    "from mlem.api import save\n",
    "\n",
    "save(pipe_xgb, 'models/pipe_xgb', sample_data = X_test)"
   ]
  },
  {
   "cell_type": "code",
   "execution_count": 28,
   "id": "9a790075-406c-492c-8b4b-7a332c53c966",
   "metadata": {},
   "outputs": [
    {
     "data": {
      "text/plain": [
       "array([0, 1, 0, 0, 0, 0, 0, 0, 0, 0, 0, 0, 1, 0, 1, 1, 0, 1, 0, 1, 1, 0,\n",
       "       1, 0, 0, 0, 0, 1, 0, 1, 0, 1, 0, 1, 0, 1, 0, 0, 1, 0, 0, 0, 0, 1,\n",
       "       0, 0, 0, 1, 0, 0, 1, 0, 0, 1, 0, 1, 1, 0, 0, 1, 1, 0, 0, 0, 1, 0,\n",
       "       0, 1, 0, 0, 1, 0, 0, 0, 0, 0, 1, 0, 0, 0, 0, 0, 0, 0, 1, 0, 0, 0,\n",
       "       1, 0])"
      ]
     },
     "execution_count": 28,
     "metadata": {},
     "output_type": "execute_result"
    }
   ],
   "source": [
    "predictions"
   ]
  },
  {
   "cell_type": "code",
   "execution_count": 29,
   "id": "622db0f6-2b33-40a4-b692-9592b76470f1",
   "metadata": {},
   "outputs": [
    {
     "data": {
      "text/plain": [
       "array([np.int64(30), 'No Record', np.int64(0), np.int64(3), 'Yes', 'No'],\n",
       "      dtype=object)"
      ]
     },
     "execution_count": 29,
     "metadata": {},
     "output_type": "execute_result"
    }
   ],
   "source": [
    "X_test.iloc[3].values"
   ]
  },
  {
   "cell_type": "code",
   "execution_count": 30,
   "id": "f56e1498-5289-4c06-84f5-74a4bf5b1b62",
   "metadata": {},
   "outputs": [
    {
     "data": {
      "text/plain": [
       "array([np.int64(37), 'Yes', np.int64(0), np.int64(3), 'Yes', 'Yes'],\n",
       "      dtype=object)"
      ]
     },
     "execution_count": 30,
     "metadata": {},
     "output_type": "execute_result"
    }
   ],
   "source": [
    "X_test.iloc[12].values"
   ]
  },
  {
   "cell_type": "code",
   "execution_count": 31,
   "id": "23830ecd-9817-4fe2-a721-0a6fd1cdc135",
   "metadata": {},
   "outputs": [
    {
     "ename": "MlemObjectNotFound",
     "evalue": "MLEM object was not found at `file://C:/Users/achla/Downloads/ML/dvc/dvc_churn_prediction_hyperparemeters/models/pipe_xgb`",
     "output_type": "error",
     "traceback": [
      "\u001b[31m---------------------------------------------------------------------------\u001b[39m",
      "\u001b[31mMlemProjectNotFound\u001b[39m                       Traceback (most recent call last)",
      "\u001b[36mFile \u001b[39m\u001b[32m~\\AppData\\Local\\Programs\\Python\\Python313\\Lib\\site-packages\\mlem\\core\\metadata.py:270\u001b[39m, in \u001b[36mfind_meta_location\u001b[39m\u001b[34m(location)\u001b[39m\n\u001b[32m    269\u001b[39m \u001b[38;5;28;01mtry\u001b[39;00m:\n\u001b[32m--> \u001b[39m\u001b[32m270\u001b[39m     _, path = \u001b[43mfind_object\u001b[49m\u001b[43m(\u001b[49m\n\u001b[32m    271\u001b[39m \u001b[43m        \u001b[49m\u001b[43mlocation\u001b[49m\u001b[43m.\u001b[49m\u001b[43mpath\u001b[49m\u001b[43m,\u001b[49m\u001b[43m \u001b[49m\u001b[43mfs\u001b[49m\u001b[43m=\u001b[49m\u001b[43mlocation\u001b[49m\u001b[43m.\u001b[49m\u001b[43mfs\u001b[49m\u001b[43m,\u001b[49m\u001b[43m \u001b[49m\u001b[43mproject\u001b[49m\u001b[43m=\u001b[49m\u001b[43mlocation\u001b[49m\u001b[43m.\u001b[49m\u001b[43mproject\u001b[49m\n\u001b[32m    272\u001b[39m \u001b[43m    \u001b[49m\u001b[43m)\u001b[49m\n\u001b[32m    273\u001b[39m \u001b[38;5;28;01mexcept\u001b[39;00m (\u001b[38;5;167;01mValueError\u001b[39;00m, MlemProjectNotFound) \u001b[38;5;28;01mas\u001b[39;00m e:\n",
      "\u001b[36mFile \u001b[39m\u001b[32m~\\AppData\\Local\\Programs\\Python\\Python313\\Lib\\site-packages\\mlem\\core\\objects.py:1436\u001b[39m, in \u001b[36mfind_object\u001b[39m\u001b[34m(path, fs, project)\u001b[39m\n\u001b[32m   1435\u001b[39m \u001b[38;5;28;01mif\u001b[39;00m project \u001b[38;5;129;01mis\u001b[39;00m \u001b[38;5;28;01mNone\u001b[39;00m:\n\u001b[32m-> \u001b[39m\u001b[32m1436\u001b[39m     project = \u001b[43mfind_project_root\u001b[49m\u001b[43m(\u001b[49m\u001b[43mpath\u001b[49m\u001b[43m,\u001b[49m\u001b[43m \u001b[49m\u001b[43mfs\u001b[49m\u001b[43m)\u001b[49m\n\u001b[32m   1437\u001b[39m \u001b[38;5;28;01mif\u001b[39;00m project \u001b[38;5;129;01mis\u001b[39;00m \u001b[38;5;129;01mnot\u001b[39;00m \u001b[38;5;28;01mNone\u001b[39;00m \u001b[38;5;129;01mand\u001b[39;00m path.startswith(project):\n",
      "\u001b[36mFile \u001b[39m\u001b[32m~\\AppData\\Local\\Programs\\Python\\Python313\\Lib\\site-packages\\mlem\\utils\\root.py:77\u001b[39m, in \u001b[36mfind_project_root\u001b[39m\u001b[34m(path, fs, raise_on_missing, recursive)\u001b[39m\n\u001b[32m     76\u001b[39m \u001b[38;5;28;01mif\u001b[39;00m raise_on_missing:\n\u001b[32m---> \u001b[39m\u001b[32m77\u001b[39m     \u001b[38;5;28;01mraise\u001b[39;00m MlemProjectNotFound(path, fs)\n\u001b[32m     78\u001b[39m \u001b[38;5;28;01mreturn\u001b[39;00m \u001b[38;5;28;01mNone\u001b[39;00m\n",
      "\u001b[31mMlemProjectNotFound\u001b[39m: .mlem.yaml file wasn't found when searching through the path. Search has started from here: path=C:/Users/achla/Downloads/ML/dvc/dvc_churn_prediction_hyperparemeters/models/pipe_xgb, fs=<fsspec.implementations.local.LocalFileSystem object at 0x0000020527B49940>, rev=None",
      "\nThe above exception was the direct cause of the following exception:\n",
      "\u001b[31mMlemObjectNotFound\u001b[39m                        Traceback (most recent call last)",
      "\u001b[36mCell\u001b[39m\u001b[36m \u001b[39m\u001b[32mIn[31]\u001b[39m\u001b[32m, line 3\u001b[39m\n\u001b[32m      1\u001b[39m \u001b[38;5;28;01mfrom\u001b[39;00m\u001b[38;5;250m \u001b[39m\u001b[34;01mmlem\u001b[39;00m\u001b[34;01m.\u001b[39;00m\u001b[34;01mapi\u001b[39;00m\u001b[38;5;250m \u001b[39m\u001b[38;5;28;01mimport\u001b[39;00m load\n\u001b[32m----> \u001b[39m\u001b[32m3\u001b[39m model = \u001b[43mload\u001b[49m\u001b[43m(\u001b[49m\u001b[33;43m'\u001b[39;49m\u001b[33;43mmodels/pipe_xgb\u001b[39;49m\u001b[33;43m'\u001b[39;49m\u001b[43m)\u001b[49m  \n\u001b[32m      5\u001b[39m features = [\n\u001b[32m      6\u001b[39m     \u001b[33m'\u001b[39m\u001b[33mAge\u001b[39m\u001b[33m'\u001b[39m, \u001b[33m'\u001b[39m\u001b[33mFrequentFlyer\u001b[39m\u001b[33m'\u001b[39m, \u001b[33m'\u001b[39m\u001b[33mAnnualIncomeClass\u001b[39m\u001b[33m'\u001b[39m, \n\u001b[32m      7\u001b[39m     \u001b[33m'\u001b[39m\u001b[33mServicesOpted\u001b[39m\u001b[33m'\u001b[39m, \u001b[33m'\u001b[39m\u001b[33mAccountSyncedToSocialMedia\u001b[39m\u001b[33m'\u001b[39m, \u001b[33m'\u001b[39m\u001b[33mBookedHotelOrNot\u001b[39m\u001b[33m'\u001b[39m\n\u001b[32m      8\u001b[39m ]\n\u001b[32m     10\u001b[39m sample_df = pd.DataFrame([\n\u001b[32m     11\u001b[39m     [\u001b[32m37\u001b[39m, \u001b[33m'\u001b[39m\u001b[33mYes\u001b[39m\u001b[33m'\u001b[39m, \u001b[32m0\u001b[39m, \u001b[32m1\u001b[39m, \u001b[33m'\u001b[39m\u001b[33mNo\u001b[39m\u001b[33m'\u001b[39m, \u001b[33m'\u001b[39m\u001b[33mYes\u001b[39m\u001b[33m'\u001b[39m], \n\u001b[32m     12\u001b[39m     [\u001b[32m34\u001b[39m, \u001b[33m'\u001b[39m\u001b[33mYes\u001b[39m\u001b[33m'\u001b[39m, \u001b[32m0\u001b[39m, \u001b[32m0\u001b[39m, \u001b[33m'\u001b[39m\u001b[33mYes\u001b[39m\u001b[33m'\u001b[39m, \u001b[33m'\u001b[39m\u001b[33mNo\u001b[39m\u001b[33m'\u001b[39m]\n\u001b[32m     13\u001b[39m ], columns = features)\n",
      "\u001b[36mFile \u001b[39m\u001b[32m~\\AppData\\Local\\Programs\\Python\\Python313\\Lib\\site-packages\\mlem\\core\\metadata.py:156\u001b[39m, in \u001b[36mload\u001b[39m\u001b[34m(path, project, rev, batch_size, follow_links, try_migrations)\u001b[39m\n\u001b[32m    143\u001b[39m \u001b[38;5;250m\u001b[39m\u001b[33;03m\"\"\"Load python object saved by MLEM\u001b[39;00m\n\u001b[32m    144\u001b[39m \n\u001b[32m    145\u001b[39m \u001b[33;03mArgs:\u001b[39;00m\n\u001b[32m   (...)\u001b[39m\u001b[32m    153\u001b[39m \u001b[33;03m    Any: Python object saved by MLEM\u001b[39;00m\n\u001b[32m    154\u001b[39m \u001b[33;03m\"\"\"\u001b[39;00m\n\u001b[32m    155\u001b[39m path = os.fspath(path)\n\u001b[32m--> \u001b[39m\u001b[32m156\u001b[39m meta = \u001b[43mload_meta\u001b[49m\u001b[43m(\u001b[49m\n\u001b[32m    157\u001b[39m \u001b[43m    \u001b[49m\u001b[43mpath\u001b[49m\u001b[43m,\u001b[49m\n\u001b[32m    158\u001b[39m \u001b[43m    \u001b[49m\u001b[43mproject\u001b[49m\u001b[43m=\u001b[49m\u001b[43mproject\u001b[49m\u001b[43m,\u001b[49m\n\u001b[32m    159\u001b[39m \u001b[43m    \u001b[49m\u001b[43mrev\u001b[49m\u001b[43m=\u001b[49m\u001b[43mrev\u001b[49m\u001b[43m,\u001b[49m\n\u001b[32m    160\u001b[39m \u001b[43m    \u001b[49m\u001b[43mfollow_links\u001b[49m\u001b[43m=\u001b[49m\u001b[43mfollow_links\u001b[49m\u001b[43m,\u001b[49m\n\u001b[32m    161\u001b[39m \u001b[43m    \u001b[49m\u001b[43mload_value\u001b[49m\u001b[43m=\u001b[49m\u001b[43mbatch_size\u001b[49m\u001b[43m \u001b[49m\u001b[38;5;129;43;01mis\u001b[39;49;00m\u001b[43m \u001b[49m\u001b[38;5;28;43;01mNone\u001b[39;49;00m\u001b[43m,\u001b[49m\n\u001b[32m    162\u001b[39m \u001b[43m    \u001b[49m\u001b[43mtry_migrations\u001b[49m\u001b[43m=\u001b[49m\u001b[43mtry_migrations\u001b[49m\u001b[43m,\u001b[49m\n\u001b[32m    163\u001b[39m \u001b[43m\u001b[49m\u001b[43m)\u001b[49m\n\u001b[32m    164\u001b[39m \u001b[38;5;28;01mif\u001b[39;00m \u001b[38;5;28misinstance\u001b[39m(meta, MlemData) \u001b[38;5;129;01mand\u001b[39;00m batch_size:\n\u001b[32m    165\u001b[39m     \u001b[38;5;28;01mreturn\u001b[39;00m meta.read_batch(batch_size)\n",
      "\u001b[36mFile \u001b[39m\u001b[32m~\\AppData\\Local\\Programs\\Python\\Python313\\Lib\\site-packages\\mlem\\telemetry.py:50\u001b[39m, in \u001b[36mapi_telemetry.<locals>.inner\u001b[39m\u001b[34m(*args, **kwargs)\u001b[39m\n\u001b[32m     48\u001b[39m \u001b[38;5;28;01mwith\u001b[39;00m telemetry.event_scope(\u001b[33m\"\u001b[39m\u001b[33mapi\u001b[39m\u001b[33m\"\u001b[39m, f.\u001b[34m__name__\u001b[39m) \u001b[38;5;28;01mas\u001b[39;00m event:\n\u001b[32m     49\u001b[39m     \u001b[38;5;28;01mtry\u001b[39;00m:\n\u001b[32m---> \u001b[39m\u001b[32m50\u001b[39m         \u001b[38;5;28;01mreturn\u001b[39;00m \u001b[43mf\u001b[49m\u001b[43m(\u001b[49m\u001b[43m*\u001b[49m\u001b[43margs\u001b[49m\u001b[43m,\u001b[49m\u001b[43m \u001b[49m\u001b[43m*\u001b[49m\u001b[43m*\u001b[49m\u001b[43mkwargs\u001b[49m\u001b[43m)\u001b[49m\n\u001b[32m     51\u001b[39m     \u001b[38;5;28;01mexcept\u001b[39;00m \u001b[38;5;167;01mException\u001b[39;00m \u001b[38;5;28;01mas\u001b[39;00m exc:\n\u001b[32m     52\u001b[39m         event.error = exc.\u001b[34m__class__\u001b[39m.\u001b[34m__name__\u001b[39m\n",
      "\u001b[36mFile \u001b[39m\u001b[32m~\\AppData\\Local\\Programs\\Python\\Python313\\Lib\\site-packages\\mlem\\core\\metadata.py:239\u001b[39m, in \u001b[36mload_meta\u001b[39m\u001b[34m(path, project, rev, follow_links, load_value, fs, try_migrations, force_type)\u001b[39m\n\u001b[32m    230\u001b[39m location = Location.resolve(\n\u001b[32m    231\u001b[39m     path=make_posix(path),\n\u001b[32m    232\u001b[39m     project=make_posix(project),\n\u001b[32m   (...)\u001b[39m\u001b[32m    235\u001b[39m     find_project=\u001b[38;5;28;01mTrue\u001b[39;00m,\n\u001b[32m    236\u001b[39m )\n\u001b[32m    237\u001b[39m \u001b[38;5;28mcls\u001b[39m = force_type \u001b[38;5;129;01mor\u001b[39;00m MlemObject\n\u001b[32m    238\u001b[39m meta = \u001b[38;5;28mcls\u001b[39m.read(\n\u001b[32m--> \u001b[39m\u001b[32m239\u001b[39m     location=\u001b[43mfind_meta_location\u001b[49m\u001b[43m(\u001b[49m\u001b[43mlocation\u001b[49m\u001b[43m)\u001b[49m,\n\u001b[32m    240\u001b[39m     follow_links=follow_links,\n\u001b[32m    241\u001b[39m     try_migrations=try_migrations,\n\u001b[32m    242\u001b[39m )\n\u001b[32m    243\u001b[39m log_meta_params(meta, add_object_type=\u001b[38;5;28;01mTrue\u001b[39;00m)\n\u001b[32m    244\u001b[39m \u001b[38;5;28;01mif\u001b[39;00m load_value:\n",
      "\u001b[36mFile \u001b[39m\u001b[32m~\\AppData\\Local\\Programs\\Python\\Python313\\Lib\\site-packages\\mlem\\core\\metadata.py:274\u001b[39m, in \u001b[36mfind_meta_location\u001b[39m\u001b[34m(location)\u001b[39m\n\u001b[32m    270\u001b[39m         _, path = find_object(\n\u001b[32m    271\u001b[39m             location.path, fs=location.fs, project=location.project\n\u001b[32m    272\u001b[39m         )\n\u001b[32m    273\u001b[39m     \u001b[38;5;28;01mexcept\u001b[39;00m (\u001b[38;5;167;01mValueError\u001b[39;00m, MlemProjectNotFound) \u001b[38;5;28;01mas\u001b[39;00m e:\n\u001b[32m--> \u001b[39m\u001b[32m274\u001b[39m         \u001b[38;5;28;01mraise\u001b[39;00m MlemObjectNotFound(\n\u001b[32m    275\u001b[39m             \u001b[33mf\u001b[39m\u001b[33m\"\u001b[39m\u001b[33mMLEM object was not found at `\u001b[39m\u001b[38;5;132;01m{\u001b[39;00mlocation.uri_repr\u001b[38;5;132;01m}\u001b[39;00m\u001b[33m`\u001b[39m\u001b[33m\"\u001b[39m\n\u001b[32m    276\u001b[39m         ) \u001b[38;5;28;01mfrom\u001b[39;00m\u001b[38;5;250m \u001b[39m\u001b[34;01me\u001b[39;00m\n\u001b[32m    277\u001b[39m \u001b[38;5;28;01mif\u001b[39;00m location.project \u001b[38;5;129;01mis\u001b[39;00m \u001b[38;5;129;01mnot\u001b[39;00m \u001b[38;5;28;01mNone\u001b[39;00m:\n\u001b[32m    278\u001b[39m     path = posixpath.relpath(path, location.project)\n",
      "\u001b[31mMlemObjectNotFound\u001b[39m: MLEM object was not found at `file://C:/Users/achla/Downloads/ML/dvc/dvc_churn_prediction_hyperparemeters/models/pipe_xgb`"
     ]
    }
   ],
   "source": [
    "from mlem.api import load\n",
    "\n",
    "model = load('models/pipe_xgb')  \n",
    "\n",
    "features = [\n",
    "    'Age', 'FrequentFlyer', 'AnnualIncomeClass', \n",
    "    'ServicesOpted', 'AccountSyncedToSocialMedia', 'BookedHotelOrNot'\n",
    "]\n",
    "\n",
    "sample_df = pd.DataFrame([\n",
    "    [37, 'Yes', 0, 1, 'No', 'Yes'], \n",
    "    [34, 'Yes', 0, 0, 'Yes', 'No']\n",
    "], columns = features)\n",
    "\n",
    "y_pred = model.predict(sample_df)\n",
    "\n",
    "print(y_pred)"
   ]
  },
  {
   "cell_type": "code",
   "execution_count": 32,
   "id": "b91232af-41ff-4db0-a7c7-4de71c3b563c",
   "metadata": {},
   "outputs": [
    {
     "name": "stderr",
     "output_type": "stream",
     "text": [
      "warning: in the working copy of '.ipynb_checkpoints/ChurnPrediction_HyperparameterTuningAndModelServing-checkpoint.ipynb', LF will be replaced by CRLF the next time Git touches it\n",
      "warning: in the working copy of '.ipynb_checkpoints/DNC-checkpoint.ipynb', LF will be replaced by CRLF the next time Git touches it\n",
      "warning: in the working copy of 'ChurnPrediction_HyperparameterTuningAndModelServing.ipynb', LF will be replaced by CRLF the next time Git touches it\n",
      "warning: in the working copy of 'DNC.ipynb', LF will be replaced by CRLF the next time Git touches it\n"
     ]
    }
   ],
   "source": [
    "!git add ."
   ]
  },
  {
   "cell_type": "code",
   "execution_count": 34,
   "id": "40eed8b1-5b19-4767-bef5-d29c7d3363d0",
   "metadata": {},
   "outputs": [
    {
     "name": "stdout",
     "output_type": "stream",
     "text": [
      "[main 1f2f606] HPY MLEM Commit\n",
      " 9 files changed, 6834 insertions(+)\n",
      " create mode 100644 .ipynb_checkpoints/ChurnPrediction_HyperparameterTuningAndModelServing-checkpoint.ipynb\n",
      " create mode 100644 .ipynb_checkpoints/DNC-checkpoint.ipynb\n",
      " create mode 100644 ChurnPrediction_HyperparameterTuningAndModelServing.ipynb\n",
      " create mode 100644 DNC.ipynb\n",
      " create mode 100644 data/CustomerTravel.csv\n",
      " create mode 100644 dvc.yaml\n",
      " create mode 100644 dvclive-optuna/metrics.json\n",
      " create mode 100644 dvclive-optuna/params.yaml\n",
      " create mode 100644 untitled.txt\n"
     ]
    }
   ],
   "source": [
    "!git commit -m \"HPY MLEM Commit\""
   ]
  },
  {
   "cell_type": "code",
   "execution_count": 35,
   "id": "136b743b-2011-4aed-a53b-7acfb83ff6bb",
   "metadata": {},
   "outputs": [
    {
     "name": "stdout",
     "output_type": "stream",
     "text": [
      "branch 'main' set up to track 'origin/main'."
     ]
    },
    {
     "name": "stderr",
     "output_type": "stream",
     "text": [
      "To https://github.com/amsha16/dvc_churn_prediction_hyperparemeters.git"
     ]
    },
    {
     "name": "stdout",
     "output_type": "stream",
     "text": [
      "\n"
     ]
    },
    {
     "name": "stderr",
     "output_type": "stream",
     "text": [
      "\n",
      "   1406c26..1f2f606  main -> main\n"
     ]
    }
   ],
   "source": [
    "!git push -u origin "
   ]
  },
  {
   "cell_type": "code",
   "execution_count": null,
   "id": "48650ade-5daa-4d0f-a268-9a28d8d5e2e3",
   "metadata": {},
   "outputs": [],
   "source": []
  }
 ],
 "metadata": {
  "kernelspec": {
   "display_name": "Python 3 (ipykernel)",
   "language": "python",
   "name": "python3"
  },
  "language_info": {
   "codemirror_mode": {
    "name": "ipython",
    "version": 3
   },
   "file_extension": ".py",
   "mimetype": "text/x-python",
   "name": "python",
   "nbconvert_exporter": "python",
   "pygments_lexer": "ipython3",
   "version": "3.13.7"
  }
 },
 "nbformat": 4,
 "nbformat_minor": 5
}
