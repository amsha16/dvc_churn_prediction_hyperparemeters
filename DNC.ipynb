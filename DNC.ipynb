{
 "cells": [
  {
   "cell_type": "markdown",
   "id": "390d916b",
   "metadata": {},
   "source": [
    "Installing required packages"
   ]
  },
  {
   "cell_type": "code",
   "execution_count": null,
   "id": "e682ce2c",
   "metadata": {},
   "outputs": [],
   "source": [
    "!pip install dvc"
   ]
  },
  {
   "cell_type": "code",
   "execution_count": 26,
   "id": "fd723a19",
   "metadata": {},
   "outputs": [
    {
     "name": "stdout",
     "output_type": "stream",
     "text": [
      "Requirement already satisfied: dvclive in /Users/loonycorn/projects/dvc/dvc_venv/lib/python3.10/site-packages (2.12.1)\n",
      "Requirement already satisfied: dvc-render<1.0,>=0.5.0 in /Users/loonycorn/projects/dvc/dvc_venv/lib/python3.10/site-packages (from dvclive) (0.5.3)\n",
      "Requirement already satisfied: ruamel.yaml in /Users/loonycorn/projects/dvc/dvc_venv/lib/python3.10/site-packages (from dvclive) (0.17.32)\n",
      "Requirement already satisfied: dvc>=2.58.0 in /Users/loonycorn/projects/dvc/dvc_venv/lib/python3.10/site-packages (from dvclive) (3.5.1)\n",
      "Requirement already satisfied: funcy in /Users/loonycorn/projects/dvc/dvc_venv/lib/python3.10/site-packages (from dvclive) (2.0)\n",
      "Requirement already satisfied: scmrepo in /Users/loonycorn/projects/dvc/dvc_venv/lib/python3.10/site-packages (from dvclive) (1.0.4)\n",
      "Requirement already satisfied: dvc-studio-client<1,>=0.10.0 in /Users/loonycorn/projects/dvc/dvc_venv/lib/python3.10/site-packages (from dvclive) (0.11.0)\n",
      "Requirement already satisfied: pygtrie>=2.3.2 in /Users/loonycorn/projects/dvc/dvc_venv/lib/python3.10/site-packages (from dvc>=2.58.0->dvclive) (2.5.0)\n",
      "Requirement already satisfied: zc.lockfile>=1.2.1 in /Users/loonycorn/projects/dvc/dvc_venv/lib/python3.10/site-packages (from dvc>=2.58.0->dvclive) (3.0.post1)\n",
      "Requirement already satisfied: dvc-task<1,>=0.3.0 in /Users/loonycorn/projects/dvc/dvc_venv/lib/python3.10/site-packages (from dvc>=2.58.0->dvclive) (0.3.0)\n",
      "Requirement already satisfied: tomlkit>=0.11.1 in /Users/loonycorn/projects/dvc/dvc_venv/lib/python3.10/site-packages (from dvc>=2.58.0->dvclive) (0.11.8)\n",
      "Requirement already satisfied: platformdirs<4,>=3.1.1 in /Users/loonycorn/projects/dvc/dvc_venv/lib/python3.10/site-packages (from dvc>=2.58.0->dvclive) (3.9.1)\n",
      "Requirement already satisfied: flatten-dict<1,>=0.4.1 in /Users/loonycorn/projects/dvc/dvc_venv/lib/python3.10/site-packages (from dvc>=2.58.0->dvclive) (0.4.2)\n",
      "Requirement already satisfied: grandalf<1,>=0.7 in /Users/loonycorn/projects/dvc/dvc_venv/lib/python3.10/site-packages (from dvc>=2.58.0->dvclive) (0.8)\n",
      "Requirement already satisfied: hydra-core>=1.1 in /Users/loonycorn/projects/dvc/dvc_venv/lib/python3.10/site-packages (from dvc>=2.58.0->dvclive) (1.3.2)\n",
      "Requirement already satisfied: iterative-telemetry>=0.0.7 in /Users/loonycorn/projects/dvc/dvc_venv/lib/python3.10/site-packages (from dvc>=2.58.0->dvclive) (0.0.8)\n",
      "Requirement already satisfied: requests>=2.22 in /Users/loonycorn/projects/dvc/dvc_venv/lib/python3.10/site-packages (from dvc>=2.58.0->dvclive) (2.31.0)\n",
      "Requirement already satisfied: colorama>=0.3.9 in /Users/loonycorn/projects/dvc/dvc_venv/lib/python3.10/site-packages (from dvc>=2.58.0->dvclive) (0.4.6)\n",
      "Requirement already satisfied: voluptuous>=0.11.7 in /Users/loonycorn/projects/dvc/dvc_venv/lib/python3.10/site-packages (from dvc>=2.58.0->dvclive) (0.13.1)\n",
      "Requirement already satisfied: pathspec>=0.10.3 in /Users/loonycorn/projects/dvc/dvc_venv/lib/python3.10/site-packages (from dvc>=2.58.0->dvclive) (0.11.1)\n",
      "Requirement already satisfied: tqdm<5,>=4.63.1 in /Users/loonycorn/projects/dvc/dvc_venv/lib/python3.10/site-packages (from dvc>=2.58.0->dvclive) (4.65.0)\n",
      "Requirement already satisfied: packaging>=19 in /Users/loonycorn/projects/dvc/dvc_venv/lib/python3.10/site-packages (from dvc>=2.58.0->dvclive) (23.1)\n",
      "Requirement already satisfied: networkx>=2.5 in /Users/loonycorn/projects/dvc/dvc_venv/lib/python3.10/site-packages (from dvc>=2.58.0->dvclive) (3.1)\n",
      "Requirement already satisfied: dvc-http>=2.29.0 in /Users/loonycorn/projects/dvc/dvc_venv/lib/python3.10/site-packages (from dvc>=2.58.0->dvclive) (2.30.2)\n",
      "Requirement already satisfied: tabulate>=0.8.7 in /Users/loonycorn/projects/dvc/dvc_venv/lib/python3.10/site-packages (from dvc>=2.58.0->dvclive) (0.9.0)\n",
      "Requirement already satisfied: dvc-data<2.6.0,>=2.5.0 in /Users/loonycorn/projects/dvc/dvc_venv/lib/python3.10/site-packages (from dvc>=2.58.0->dvclive) (2.5.0)\n",
      "Requirement already satisfied: dpath<3,>=2.1.0 in /Users/loonycorn/projects/dvc/dvc_venv/lib/python3.10/site-packages (from dvc>=2.58.0->dvclive) (2.1.6)\n",
      "Requirement already satisfied: pydot>=1.2.4 in /Users/loonycorn/projects/dvc/dvc_venv/lib/python3.10/site-packages (from dvc>=2.58.0->dvclive) (1.4.2)\n",
      "Requirement already satisfied: distro>=1.3 in /Users/loonycorn/projects/dvc/dvc_venv/lib/python3.10/site-packages (from dvc>=2.58.0->dvclive) (1.8.0)\n",
      "Requirement already satisfied: pyparsing>=2.4.7 in /Users/loonycorn/projects/dvc/dvc_venv/lib/python3.10/site-packages (from dvc>=2.58.0->dvclive) (3.0.9)\n",
      "Requirement already satisfied: flufl.lock<8,>=5 in /Users/loonycorn/projects/dvc/dvc_venv/lib/python3.10/site-packages (from dvc>=2.58.0->dvclive) (7.1.1)\n",
      "Requirement already satisfied: shortuuid>=0.5 in /Users/loonycorn/projects/dvc/dvc_venv/lib/python3.10/site-packages (from dvc>=2.58.0->dvclive) (1.0.11)\n",
      "Requirement already satisfied: configobj>=5.0.6 in /Users/loonycorn/projects/dvc/dvc_venv/lib/python3.10/site-packages (from dvc>=2.58.0->dvclive) (5.0.8)\n",
      "Requirement already satisfied: shtab<2,>=1.3.4 in /Users/loonycorn/projects/dvc/dvc_venv/lib/python3.10/site-packages (from dvc>=2.58.0->dvclive) (1.6.2)\n",
      "Requirement already satisfied: rich>=12 in /Users/loonycorn/projects/dvc/dvc_venv/lib/python3.10/site-packages (from dvc>=2.58.0->dvclive) (13.4.2)\n",
      "Requirement already satisfied: psutil>=5.8 in /Users/loonycorn/projects/dvc/dvc_venv/lib/python3.10/site-packages (from dvc>=2.58.0->dvclive) (5.9.5)\n",
      "Requirement already satisfied: dulwich in /Users/loonycorn/projects/dvc/dvc_venv/lib/python3.10/site-packages (from dvc-studio-client<1,>=0.10.0->dvclive) (0.21.5)\n",
      "Requirement already satisfied: ruamel.yaml.clib>=0.2.7 in /Users/loonycorn/projects/dvc/dvc_venv/lib/python3.10/site-packages (from ruamel.yaml->dvclive) (0.2.7)\n",
      "Requirement already satisfied: fsspec>=2021.7.0 in /Users/loonycorn/projects/dvc/dvc_venv/lib/python3.10/site-packages (from scmrepo->dvclive) (2023.6.0)\n",
      "Requirement already satisfied: gitpython>3 in /Users/loonycorn/projects/dvc/dvc_venv/lib/python3.10/site-packages (from scmrepo->dvclive) (3.1.32)\n",
      "Requirement already satisfied: asyncssh<3,>=2.13.1 in /Users/loonycorn/projects/dvc/dvc_venv/lib/python3.10/site-packages (from scmrepo->dvclive) (2.13.2)\n",
      "Requirement already satisfied: pygit2>=1.10.0 in /Users/loonycorn/projects/dvc/dvc_venv/lib/python3.10/site-packages (from scmrepo->dvclive) (1.12.2)\n",
      "Requirement already satisfied: typing-extensions>=3.6 in /Users/loonycorn/projects/dvc/dvc_venv/lib/python3.10/site-packages (from asyncssh<3,>=2.13.1->scmrepo->dvclive) (4.7.1)\n",
      "Requirement already satisfied: cryptography>=3.1 in /Users/loonycorn/projects/dvc/dvc_venv/lib/python3.10/site-packages (from asyncssh<3,>=2.13.1->scmrepo->dvclive) (41.0.2)\n",
      "Requirement already satisfied: six in /Users/loonycorn/projects/dvc/dvc_venv/lib/python3.10/site-packages (from configobj>=5.0.6->dvc>=2.58.0->dvclive) (1.16.0)\n",
      "Requirement already satisfied: urllib3>=1.25 in /Users/loonycorn/projects/dvc/dvc_venv/lib/python3.10/site-packages (from dulwich->dvc-studio-client<1,>=0.10.0->dvclive) (2.0.3)\n",
      "Requirement already satisfied: dvc-objects<1,>=0.23.0 in /Users/loonycorn/projects/dvc/dvc_venv/lib/python3.10/site-packages (from dvc-data<2.6.0,>=2.5.0->dvc>=2.58.0->dvclive) (0.23.1)\n",
      "Requirement already satisfied: attrs>=21.3.0 in /Users/loonycorn/projects/dvc/dvc_venv/lib/python3.10/site-packages (from dvc-data<2.6.0,>=2.5.0->dvc>=2.58.0->dvclive) (23.1.0)\n",
      "Requirement already satisfied: nanotime>=0.5.2 in /Users/loonycorn/projects/dvc/dvc_venv/lib/python3.10/site-packages (from dvc-data<2.6.0,>=2.5.0->dvc>=2.58.0->dvclive) (0.5.2)\n",
      "Requirement already satisfied: sqltrie<1,>=0.6.0 in /Users/loonycorn/projects/dvc/dvc_venv/lib/python3.10/site-packages (from dvc-data<2.6.0,>=2.5.0->dvc>=2.58.0->dvclive) (0.7.0)\n",
      "Requirement already satisfied: diskcache>=5.2.1 in /Users/loonycorn/projects/dvc/dvc_venv/lib/python3.10/site-packages (from dvc-data<2.6.0,>=2.5.0->dvc>=2.58.0->dvclive) (5.6.1)\n",
      "Requirement already satisfied: dictdiffer>=0.8.1 in /Users/loonycorn/projects/dvc/dvc_venv/lib/python3.10/site-packages (from dvc-data<2.6.0,>=2.5.0->dvc>=2.58.0->dvclive) (0.9.0)\n",
      "Requirement already satisfied: aiohttp-retry>=2.5.0 in /Users/loonycorn/projects/dvc/dvc_venv/lib/python3.10/site-packages (from dvc-http>=2.29.0->dvc>=2.58.0->dvclive) (2.8.3)\n"
     ]
    },
    {
     "name": "stdout",
     "output_type": "stream",
     "text": [
      "Requirement already satisfied: kombu<6,>=5.3.0 in /Users/loonycorn/projects/dvc/dvc_venv/lib/python3.10/site-packages (from dvc-task<1,>=0.3.0->dvc>=2.58.0->dvclive) (5.3.1)\n",
      "Requirement already satisfied: celery<6,>=5.3.0 in /Users/loonycorn/projects/dvc/dvc_venv/lib/python3.10/site-packages (from dvc-task<1,>=0.3.0->dvc>=2.58.0->dvclive) (5.3.1)\n",
      "Requirement already satisfied: atpublic>=2.3 in /Users/loonycorn/projects/dvc/dvc_venv/lib/python3.10/site-packages (from flufl.lock<8,>=5->dvc>=2.58.0->dvclive) (4.0)\n",
      "Requirement already satisfied: gitdb<5,>=4.0.1 in /Users/loonycorn/projects/dvc/dvc_venv/lib/python3.10/site-packages (from gitpython>3->scmrepo->dvclive) (4.0.10)\n",
      "Requirement already satisfied: antlr4-python3-runtime==4.9.* in /Users/loonycorn/projects/dvc/dvc_venv/lib/python3.10/site-packages (from hydra-core>=1.1->dvc>=2.58.0->dvclive) (4.9.3)\n",
      "Requirement already satisfied: omegaconf<2.4,>=2.2 in /Users/loonycorn/projects/dvc/dvc_venv/lib/python3.10/site-packages (from hydra-core>=1.1->dvc>=2.58.0->dvclive) (2.3.0)\n",
      "Requirement already satisfied: appdirs in /Users/loonycorn/projects/dvc/dvc_venv/lib/python3.10/site-packages (from iterative-telemetry>=0.0.7->dvc>=2.58.0->dvclive) (1.4.4)\n",
      "Requirement already satisfied: filelock in /Users/loonycorn/projects/dvc/dvc_venv/lib/python3.10/site-packages (from iterative-telemetry>=0.0.7->dvc>=2.58.0->dvclive) (3.12.2)\n",
      "Requirement already satisfied: cffi>=1.9.1 in /Users/loonycorn/projects/dvc/dvc_venv/lib/python3.10/site-packages (from pygit2>=1.10.0->scmrepo->dvclive) (1.15.1)\n",
      "Requirement already satisfied: certifi>=2017.4.17 in /Users/loonycorn/projects/dvc/dvc_venv/lib/python3.10/site-packages (from requests>=2.22->dvc>=2.58.0->dvclive) (2023.5.7)\n",
      "Requirement already satisfied: idna<4,>=2.5 in /Users/loonycorn/projects/dvc/dvc_venv/lib/python3.10/site-packages (from requests>=2.22->dvc>=2.58.0->dvclive) (3.4)\n",
      "Requirement already satisfied: charset-normalizer<4,>=2 in /Users/loonycorn/projects/dvc/dvc_venv/lib/python3.10/site-packages (from requests>=2.22->dvc>=2.58.0->dvclive) (3.2.0)\n",
      "Requirement already satisfied: pygments<3.0.0,>=2.13.0 in /Users/loonycorn/projects/dvc/dvc_venv/lib/python3.10/site-packages (from rich>=12->dvc>=2.58.0->dvclive) (2.15.1)\n",
      "Requirement already satisfied: markdown-it-py>=2.2.0 in /Users/loonycorn/projects/dvc/dvc_venv/lib/python3.10/site-packages (from rich>=12->dvc>=2.58.0->dvclive) (3.0.0)\n",
      "Requirement already satisfied: setuptools in /Users/loonycorn/projects/dvc/dvc_venv/lib/python3.10/site-packages (from zc.lockfile>=1.2.1->dvc>=2.58.0->dvclive) (65.5.0)\n",
      "Requirement already satisfied: aiohttp in /Users/loonycorn/projects/dvc/dvc_venv/lib/python3.10/site-packages (from aiohttp-retry>=2.5.0->dvc-http>=2.29.0->dvc>=2.58.0->dvclive) (3.8.4)\n",
      "Requirement already satisfied: click-repl>=0.2.0 in /Users/loonycorn/projects/dvc/dvc_venv/lib/python3.10/site-packages (from celery<6,>=5.3.0->dvc-task<1,>=0.3.0->dvc>=2.58.0->dvclive) (0.3.0)\n",
      "Requirement already satisfied: billiard<5.0,>=4.1.0 in /Users/loonycorn/projects/dvc/dvc_venv/lib/python3.10/site-packages (from celery<6,>=5.3.0->dvc-task<1,>=0.3.0->dvc>=2.58.0->dvclive) (4.1.0)\n",
      "Requirement already satisfied: click<9.0,>=8.1.2 in /Users/loonycorn/projects/dvc/dvc_venv/lib/python3.10/site-packages (from celery<6,>=5.3.0->dvc-task<1,>=0.3.0->dvc>=2.58.0->dvclive) (8.1.6)\n",
      "Requirement already satisfied: click-didyoumean>=0.3.0 in /Users/loonycorn/projects/dvc/dvc_venv/lib/python3.10/site-packages (from celery<6,>=5.3.0->dvc-task<1,>=0.3.0->dvc>=2.58.0->dvclive) (0.3.0)\n",
      "Requirement already satisfied: tzdata>=2022.7 in /Users/loonycorn/projects/dvc/dvc_venv/lib/python3.10/site-packages (from celery<6,>=5.3.0->dvc-task<1,>=0.3.0->dvc>=2.58.0->dvclive) (2023.3)\n",
      "Requirement already satisfied: python-dateutil>=2.8.2 in /Users/loonycorn/projects/dvc/dvc_venv/lib/python3.10/site-packages (from celery<6,>=5.3.0->dvc-task<1,>=0.3.0->dvc>=2.58.0->dvclive) (2.8.2)\n",
      "Requirement already satisfied: vine<6.0,>=5.0.0 in /Users/loonycorn/projects/dvc/dvc_venv/lib/python3.10/site-packages (from celery<6,>=5.3.0->dvc-task<1,>=0.3.0->dvc>=2.58.0->dvclive) (5.0.0)\n",
      "Requirement already satisfied: click-plugins>=1.1.1 in /Users/loonycorn/projects/dvc/dvc_venv/lib/python3.10/site-packages (from celery<6,>=5.3.0->dvc-task<1,>=0.3.0->dvc>=2.58.0->dvclive) (1.1.1)\n",
      "Requirement already satisfied: pycparser in /Users/loonycorn/projects/dvc/dvc_venv/lib/python3.10/site-packages (from cffi>=1.9.1->pygit2>=1.10.0->scmrepo->dvclive) (2.21)\n",
      "Requirement already satisfied: smmap<6,>=3.0.1 in /Users/loonycorn/projects/dvc/dvc_venv/lib/python3.10/site-packages (from gitdb<5,>=4.0.1->gitpython>3->scmrepo->dvclive) (5.0.0)\n",
      "Requirement already satisfied: amqp<6.0.0,>=5.1.1 in /Users/loonycorn/projects/dvc/dvc_venv/lib/python3.10/site-packages (from kombu<6,>=5.3.0->dvc-task<1,>=0.3.0->dvc>=2.58.0->dvclive) (5.1.1)\n",
      "Requirement already satisfied: mdurl~=0.1 in /Users/loonycorn/projects/dvc/dvc_venv/lib/python3.10/site-packages (from markdown-it-py>=2.2.0->rich>=12->dvc>=2.58.0->dvclive) (0.1.2)\n",
      "Requirement already satisfied: PyYAML>=5.1.0 in /Users/loonycorn/projects/dvc/dvc_venv/lib/python3.10/site-packages (from omegaconf<2.4,>=2.2->hydra-core>=1.1->dvc>=2.58.0->dvclive) (6.0.1)\n",
      "Requirement already satisfied: orjson in /Users/loonycorn/projects/dvc/dvc_venv/lib/python3.10/site-packages (from sqltrie<1,>=0.6.0->dvc-data<2.6.0,>=2.5.0->dvc>=2.58.0->dvclive) (3.9.2)\n",
      "Requirement already satisfied: frozenlist>=1.1.1 in /Users/loonycorn/projects/dvc/dvc_venv/lib/python3.10/site-packages (from aiohttp->aiohttp-retry>=2.5.0->dvc-http>=2.29.0->dvc>=2.58.0->dvclive) (1.4.0)\n",
      "Requirement already satisfied: async-timeout<5.0,>=4.0.0a3 in /Users/loonycorn/projects/dvc/dvc_venv/lib/python3.10/site-packages (from aiohttp->aiohttp-retry>=2.5.0->dvc-http>=2.29.0->dvc>=2.58.0->dvclive) (4.0.2)\n",
      "Requirement already satisfied: multidict<7.0,>=4.5 in /Users/loonycorn/projects/dvc/dvc_venv/lib/python3.10/site-packages (from aiohttp->aiohttp-retry>=2.5.0->dvc-http>=2.29.0->dvc>=2.58.0->dvclive) (6.0.4)\n",
      "Requirement already satisfied: yarl<2.0,>=1.0 in /Users/loonycorn/projects/dvc/dvc_venv/lib/python3.10/site-packages (from aiohttp->aiohttp-retry>=2.5.0->dvc-http>=2.29.0->dvc>=2.58.0->dvclive) (1.9.2)\n",
      "Requirement already satisfied: aiosignal>=1.1.2 in /Users/loonycorn/projects/dvc/dvc_venv/lib/python3.10/site-packages (from aiohttp->aiohttp-retry>=2.5.0->dvc-http>=2.29.0->dvc>=2.58.0->dvclive) (1.3.1)\n",
      "Requirement already satisfied: prompt-toolkit>=3.0.36 in /Users/loonycorn/projects/dvc/dvc_venv/lib/python3.10/site-packages (from click-repl>=0.2.0->celery<6,>=5.3.0->dvc-task<1,>=0.3.0->dvc>=2.58.0->dvclive) (3.0.39)\n",
      "Requirement already satisfied: wcwidth in /Users/loonycorn/projects/dvc/dvc_venv/lib/python3.10/site-packages (from prompt-toolkit>=3.0.36->click-repl>=0.2.0->celery<6,>=5.3.0->dvc-task<1,>=0.3.0->dvc>=2.58.0->dvclive) (0.2.6)\n",
      "\n",
      "\u001b[1m[\u001b[0m\u001b[34;49mnotice\u001b[0m\u001b[1;39;49m]\u001b[0m\u001b[39;49m A new release of pip available: \u001b[0m\u001b[31;49m22.3.1\u001b[0m\u001b[39;49m -> \u001b[0m\u001b[32;49m23.2\u001b[0m\n",
      "\u001b[1m[\u001b[0m\u001b[34;49mnotice\u001b[0m\u001b[1;39;49m]\u001b[0m\u001b[39;49m To update, run: \u001b[0m\u001b[32;49mpip install --upgrade pip\u001b[0m\n"
     ]
    }
   ],
   "source": [
    "!pip install dvclive"
   ]
  },
  {
   "cell_type": "code",
   "execution_count": 2,
   "id": "28157be6",
   "metadata": {},
   "outputs": [
    {
     "name": "stdout",
     "output_type": "stream",
     "text": [
      "\u001b[33mhint: Using 'master' as the name for the initial branch. This default branch name\u001b[m\n",
      "\u001b[33mhint: is subject to change. To configure the initial branch name to use in all\u001b[m\n",
      "\u001b[33mhint: of your new repositories, which will suppress this warning, call:\u001b[m\n",
      "\u001b[33mhint: \u001b[m\n",
      "\u001b[33mhint: \tgit config --global init.defaultBranch <name>\u001b[m\n",
      "\u001b[33mhint: \u001b[m\n",
      "\u001b[33mhint: Names commonly chosen instead of 'master' are 'main', 'trunk' and\u001b[m\n",
      "\u001b[33mhint: 'development'. The just-created branch can be renamed via this command:\u001b[m\n",
      "\u001b[33mhint: \u001b[m\n",
      "\u001b[33mhint: \tgit branch -m <name>\u001b[m\n",
      "Initialized empty Git repository in /Users/loonycorn/projects/dvc/dvc_churn_prediction_hyperparameters/.git/\n",
      "Initialized DVC repository.\n",
      "\n",
      "You can now commit the changes to git.\n",
      "\n",
      "\u001b[31m+---------------------------------------------------------------------+\n",
      "\u001b[0m\u001b[31m|\u001b[0m                                                                     \u001b[31m|\u001b[0m\n",
      "\u001b[31m|\u001b[0m        DVC has enabled anonymous aggregate usage analytics.         \u001b[31m|\u001b[0m\n",
      "\u001b[31m|\u001b[0m     Read the analytics documentation (and how to opt-out) here:     \u001b[31m|\u001b[0m\n",
      "\u001b[31m|\u001b[0m             <\u001b[36mhttps://dvc.org/doc/user-guide/analytics\u001b[39m>              \u001b[31m|\u001b[0m\n",
      "\u001b[31m|\u001b[0m                                                                     \u001b[31m|\u001b[0m\n",
      "\u001b[31m+---------------------------------------------------------------------+\n",
      "\u001b[0m\n",
      "\u001b[33mWhat's next?\u001b[39m\n",
      "\u001b[33m------------\u001b[39m\n",
      "- Check out the documentation: <\u001b[36mhttps://dvc.org/doc\u001b[39m>\n",
      "- Get help and share ideas: <\u001b[36mhttps://dvc.org/chat\u001b[39m>\n",
      "- Star us on GitHub: <\u001b[36mhttps://github.com/iterative/dvc\u001b[39m>\n",
      "\u001b[0m"
     ]
    }
   ],
   "source": [
    "!git init\n",
    "\n",
    "!dvc init"
   ]
  },
  {
   "cell_type": "code",
   "execution_count": 3,
   "id": "53ce32dd",
   "metadata": {},
   "outputs": [
    {
     "name": "stdout",
     "output_type": "stream",
     "text": [
      "On branch master\r\n",
      "\r\n",
      "No commits yet\r\n",
      "\r\n",
      "Changes to be committed:\r\n",
      "  (use \"git rm --cached <file>...\" to unstage)\r\n",
      "\t\u001b[32mnew file:   .dvc/.gitignore\u001b[m\r\n",
      "\t\u001b[32mnew file:   .dvc/config\u001b[m\r\n",
      "\t\u001b[32mnew file:   .dvcignore\u001b[m\r\n",
      "\r\n",
      "Untracked files:\r\n",
      "  (use \"git add <file>...\" to include in what will be committed)\r\n",
      "\t\u001b[31m.ipynb_checkpoints/\u001b[m\r\n",
      "\t\u001b[31mdata/\u001b[m\r\n",
      "\t\u001b[31mdemo-04-ChurnPrediction_HyperparameterTuningAndModelServing.ipynb\u001b[m\r\n",
      "\r\n"
     ]
    }
   ],
   "source": [
    "!git config --global user.name \"loonytest\"  \n",
    "!git config --global user.email \"loony.test.001@gmail.com\"\n",
    "\n",
    "!git status"
   ]
  },
  {
   "cell_type": "code",
   "execution_count": null,
   "id": "b6212a15",
   "metadata": {},
   "outputs": [],
   "source": [
    "!git remote add -f origin https://github.com/loonybq/dvc_churn_prediction_hyperparameters.git\n",
    "    \n",
    "!git branch -M main"
   ]
  },
  {
   "cell_type": "code",
   "execution_count": 7,
   "id": "7ec13935",
   "metadata": {},
   "outputs": [
    {
     "name": "stdout",
     "output_type": "stream",
     "text": [
      "mkdir: /tmp/dvc_storage_cphytuning: File exists\n",
      "Setting 'localremote' as a default remote.\n",
      "\u001b[31mERROR\u001b[39m: configuration error - config file error: remote 'localremote' already exists. Use `-f|--force` to overwrite it.\n",
      "\u001b[0mlocalremote\t/tmp/dvc_storage_cphytuning\n",
      "\u001b[0mOn branch main\n",
      "\n",
      "No commits yet\n",
      "\n",
      "Changes to be committed:\n",
      "  (use \"git rm --cached <file>...\" to unstage)\n",
      "\t\u001b[32mnew file:   .dvc/.gitignore\u001b[m\n",
      "\t\u001b[32mnew file:   .dvc/config\u001b[m\n",
      "\t\u001b[32mnew file:   .dvcignore\u001b[m\n",
      "\n",
      "Untracked files:\n",
      "  (use \"git add <file>...\" to include in what will be committed)\n",
      "\t\u001b[31m.ipynb_checkpoints/\u001b[m\n",
      "\t\u001b[31mdata/\u001b[m\n",
      "\t\u001b[31mdemo-04-ChurnPrediction_HyperparameterTuningAndModelServing.ipynb\u001b[m\n",
      "\n"
     ]
    }
   ],
   "source": [
    "!mkdir /tmp/dvc_storage_cphytuning\n",
    "\n",
    "!dvc remote add -d localremote /tmp/dvc_storage_cphytuning\n",
    "\n",
    "!dvc remote list\n",
    "\n",
    "!git add .dvc/config\n",
    "\n",
    "!git status"
   ]
  },
  {
   "cell_type": "code",
   "execution_count": 11,
   "id": "bee38da4",
   "metadata": {},
   "outputs": [
    {
     "name": "stdout",
     "output_type": "stream",
     "text": [
      "On branch main\n",
      "Untracked files:\n",
      "  (use \"git add <file>...\" to include in what will be committed)\n",
      "\t\u001b[31m.ipynb_checkpoints/\u001b[m\n",
      "\t\u001b[31mdata/\u001b[m\n",
      "\t\u001b[31mdemo-04-ChurnPrediction_HyperparameterTuningAndModelServing.ipynb\u001b[m\n",
      "\n",
      "nothing added to commit but untracked files present (use \"git add\" to track)\n",
      "Enumerating objects: 6, done.\n",
      "Counting objects: 100% (6/6), done.\n",
      "Delta compression using up to 4 threads\n",
      "Compressing objects: 100% (5/5), done.\n",
      "Writing objects: 100% (6/6), 583 bytes | 583.00 KiB/s, done.\n",
      "Total 6 (delta 0), reused 0 (delta 0), pack-reused 0\n",
      "To https://github.com/loonybq/dvc_churn_prediction_hyperparameters.git\n",
      " * [new branch]      main -> main\n",
      "branch 'main' set up to track 'origin/main'.\n",
      "\u001b[33mcommit c9b3e39c14d215dff5534c8ee73d13a469904e76\u001b[m\u001b[33m (\u001b[m\u001b[1;36mHEAD -> \u001b[m\u001b[1;32mmain\u001b[m\u001b[33m, \u001b[m\u001b[1;31morigin/main\u001b[m\u001b[33m)\u001b[m\n",
      "Author: loonytest <loony.test.001@gmail.com>\n",
      "Date:   Sat Jul 22 07:27:26 2023 +0530\n",
      "\n",
      "    Initialized DVC for churn prediction hyperparameter tuning\n"
     ]
    }
   ],
   "source": [
    "!git commit -m \"Initialized DVC for churn prediction hyperparameter tuning\"\n",
    "\n",
    "!git push -u origin main\n",
    "\n",
    "!git log"
   ]
  },
  {
   "cell_type": "markdown",
   "id": "350457d7",
   "metadata": {},
   "source": [
    "# TODO Recording\n",
    "\n",
    "- Go to the Github repository https://github.com/loonytest/dvc_churn_prediction_hyperparameters/tree/main and show that the commits are here\n",
    "- Open Iterative Studio on a new tab\n",
    "- Add a new project connected to this repo\n",
    "- Come back to this notebook and continue"
   ]
  },
  {
   "cell_type": "code",
   "execution_count": 19,
   "id": "9f241c54",
   "metadata": {},
   "outputs": [
    {
     "name": "stdout",
     "output_type": "stream",
     "text": [
      "\u001b[0m"
     ]
    }
   ],
   "source": [
    "!dvc config --global studio.token isat_3Ak630M1uyW8zHqg0vyhjJH9vLv0i7Ug1TxTgzxAGTEhmph8m"
   ]
  },
  {
   "cell_type": "code",
   "execution_count": 1,
   "id": "44ab0603",
   "metadata": {},
   "outputs": [],
   "source": [
    "import pandas as pd\n",
    "import numpy as np\n",
    "\n",
    "from sklearn.compose import ColumnTransformer\n",
    "from sklearn.pipeline import Pipeline\n",
    "from sklearn.impute import SimpleImputer\n",
    "from sklearn.preprocessing import StandardScaler, OneHotEncoder\n",
    "from sklearn.model_selection import train_test_split"
   ]
  },
  {
   "cell_type": "code",
   "execution_count": 2,
   "id": "e6cf68b5",
   "metadata": {},
   "outputs": [
    {
     "data": {
      "text/html": [
       "<div>\n",
       "<style scoped>\n",
       "    .dataframe tbody tr th:only-of-type {\n",
       "        vertical-align: middle;\n",
       "    }\n",
       "\n",
       "    .dataframe tbody tr th {\n",
       "        vertical-align: top;\n",
       "    }\n",
       "\n",
       "    .dataframe thead th {\n",
       "        text-align: right;\n",
       "    }\n",
       "</style>\n",
       "<table border=\"1\" class=\"dataframe\">\n",
       "  <thead>\n",
       "    <tr style=\"text-align: right;\">\n",
       "      <th></th>\n",
       "      <th>Age</th>\n",
       "      <th>FrequentFlyer</th>\n",
       "      <th>AnnualIncomeClass</th>\n",
       "      <th>ServicesOpted</th>\n",
       "      <th>AccountSyncedToSocialMedia</th>\n",
       "      <th>BookedHotelOrNot</th>\n",
       "      <th>Target</th>\n",
       "    </tr>\n",
       "  </thead>\n",
       "  <tbody>\n",
       "    <tr>\n",
       "      <th>0</th>\n",
       "      <td>34</td>\n",
       "      <td>No</td>\n",
       "      <td>Middle Income</td>\n",
       "      <td>6</td>\n",
       "      <td>No</td>\n",
       "      <td>Yes</td>\n",
       "      <td>0</td>\n",
       "    </tr>\n",
       "    <tr>\n",
       "      <th>1</th>\n",
       "      <td>34</td>\n",
       "      <td>Yes</td>\n",
       "      <td>Low Income</td>\n",
       "      <td>5</td>\n",
       "      <td>Yes</td>\n",
       "      <td>No</td>\n",
       "      <td>1</td>\n",
       "    </tr>\n",
       "    <tr>\n",
       "      <th>2</th>\n",
       "      <td>37</td>\n",
       "      <td>No</td>\n",
       "      <td>Middle Income</td>\n",
       "      <td>3</td>\n",
       "      <td>Yes</td>\n",
       "      <td>No</td>\n",
       "      <td>0</td>\n",
       "    </tr>\n",
       "    <tr>\n",
       "      <th>3</th>\n",
       "      <td>30</td>\n",
       "      <td>No</td>\n",
       "      <td>Middle Income</td>\n",
       "      <td>2</td>\n",
       "      <td>No</td>\n",
       "      <td>No</td>\n",
       "      <td>0</td>\n",
       "    </tr>\n",
       "    <tr>\n",
       "      <th>4</th>\n",
       "      <td>30</td>\n",
       "      <td>No</td>\n",
       "      <td>Low Income</td>\n",
       "      <td>1</td>\n",
       "      <td>No</td>\n",
       "      <td>No</td>\n",
       "      <td>0</td>\n",
       "    </tr>\n",
       "  </tbody>\n",
       "</table>\n",
       "</div>"
      ],
      "text/plain": [
       "   Age FrequentFlyer AnnualIncomeClass  ServicesOpted  \\\n",
       "0   34            No     Middle Income              6   \n",
       "1   34           Yes        Low Income              5   \n",
       "2   37            No     Middle Income              3   \n",
       "3   30            No     Middle Income              2   \n",
       "4   30            No        Low Income              1   \n",
       "\n",
       "  AccountSyncedToSocialMedia BookedHotelOrNot  Target  \n",
       "0                         No              Yes       0  \n",
       "1                        Yes               No       1  \n",
       "2                        Yes               No       0  \n",
       "3                         No               No       0  \n",
       "4                         No               No       0  "
      ]
     },
     "execution_count": 2,
     "metadata": {},
     "output_type": "execute_result"
    }
   ],
   "source": [
    "travel_churn_data = pd.read_csv('data/CustomerTravel.csv')\n",
    "\n",
    "travel_churn_data.head()"
   ]
  },
  {
   "cell_type": "code",
   "execution_count": 3,
   "id": "10c37cf3",
   "metadata": {},
   "outputs": [
    {
     "data": {
      "text/plain": [
       "(447, 7)"
      ]
     },
     "execution_count": 3,
     "metadata": {},
     "output_type": "execute_result"
    }
   ],
   "source": [
    "travel_churn_data = travel_churn_data.drop_duplicates()\n",
    "\n",
    "travel_churn_data.shape"
   ]
  },
  {
   "cell_type": "code",
   "execution_count": 4,
   "id": "69dd3e63",
   "metadata": {},
   "outputs": [],
   "source": [
    "mapper = {'Low Income': 0,'Middle Income': 1, 'High Income': 2}\n",
    "\n",
    "travel_churn_data['AnnualIncomeClass'] = travel_churn_data['AnnualIncomeClass'].replace(mapper)"
   ]
  },
  {
   "cell_type": "code",
   "execution_count": 5,
   "id": "66746c70",
   "metadata": {},
   "outputs": [],
   "source": [
    "categorical_features = [\n",
    "    'FrequentFlyer',\n",
    "    'AccountSyncedToSocialMedia', \n",
    "    'BookedHotelOrNot'\n",
    "]\n",
    "\n",
    "categorical_transformer = Pipeline(\n",
    "    steps=[('encoder', OneHotEncoder(handle_unknown = 'ignore', drop = 'first'))]\n",
    ")\n",
    "\n",
    "preprocessor = ColumnTransformer(\n",
    "    transformers = [('cat_tr', categorical_transformer, categorical_features)], \n",
    "    remainder = StandardScaler()\n",
    ")"
   ]
  },
  {
   "cell_type": "code",
   "execution_count": 6,
   "id": "ff5fc072",
   "metadata": {},
   "outputs": [],
   "source": [
    "X = travel_churn_data.drop(labels = ['Target'], axis = 1)\n",
    " \n",
    "y = travel_churn_data['Target']\n",
    " \n",
    "from sklearn.model_selection import train_test_split\n",
    " \n",
    "X_train, X_test, y_train, y_test = train_test_split(X, y, test_size = 0.2, random_state = 124)"
   ]
  },
  {
   "cell_type": "markdown",
   "id": "d650b5e2",
   "metadata": {},
   "source": [
    "We will apply hyperparameter tuning on XGB Classifier to get the parameters of best performing model"
   ]
  },
  {
   "cell_type": "markdown",
   "id": "7a01a09e",
   "metadata": {},
   "source": [
    "### Notes:\n",
    "\n",
    "Optuna is an open-source Python framework designed for hyperparameter optimization (HPO) in machine learning models. It helps automate the process of finding the best set of hyperparameters for a given machine learning model, which can significantly improve the model's performance.\n",
    "\n",
    "Optuna uses a technique called \"Sequential Model-Based Optimization\" (SMBO) to efficiently explore the hyperparameter search space and quickly converge to a good set of hyperparameters. It employs different optimization algorithms, such as TPE (Tree-structured Parzen Estimator) and CMA-ES (Covariance Matrix Adaptation Evolution Strategy), to balance exploration and exploitation of the hyperparameter space.\n",
    "\n",
    "Easy integration: Optuna can be easily integrated into existing machine learning code with just a few lines of code, making it straightforward to incorporate hyperparameter optimization into your projects.\n",
    "\n",
    "Flexibility: It supports various machine learning libraries and frameworks, allowing you to optimize hyperparameters for different types of models, such as scikit-learn, TensorFlow, PyTorch, XGBoost, LightGBM, and more."
   ]
  },
  {
   "cell_type": "code",
   "execution_count": null,
   "id": "1d816f51",
   "metadata": {},
   "outputs": [],
   "source": [
    "pip install optuna"
   ]
  },
  {
   "cell_type": "code",
   "execution_count": null,
   "id": "4e61a2fe",
   "metadata": {},
   "outputs": [],
   "source": [
    "pip install xgboost"
   ]
  },
  {
   "cell_type": "markdown",
   "id": "ecbd2e0c",
   "metadata": {},
   "source": [
    " We’ll use Optuna to tune the hyperparameters of the XGBoost model. We’ll start by creating an objective function, which will be passed to the study.optimize function. The objective function will take the trial parameter, which is an instance of the Trial class, and will return the f1 score.\n",
    " \n",
    " Reference link-\n",
    " https://practicaldatascience.co.uk/machine-learning/how-to-use-optuna-for-xgboost-hyperparameter-tuning\n",
    " \n",
    "In Optuna, the objective function is a user-defined function that represents the task you want to optimize. It encapsulates the machine learning model training, evaluation, and the metric you want to maximize or minimize. The purpose of the objective function is to take a set of hyperparameters as input, train a model with those hyperparameters, and return a value that represents the performance of the model.\n",
    "\n",
    "A Trial object corresponds to a single execution of the objective function and is internally instantiated upon each invocation of the function.\n",
    "\n",
    "The Trials class provides several \"suggest\" APIs that allow you to specify the search space for hyperparameters, allowing Optuna's optimization algorithms to explore and sample values from this space effectively.\n",
    "\n",
    "Here are some commonly used \"suggest\" APIs in the Trials class:\n",
    "\n",
    "suggest_float(name, low, high, step=None, log=False): Suggest a floating-point value for the specified hyperparameter. The value will be sampled uniformly from the range [low, high]. If step is provided, it specifies the discretization step for the sampling. If log=True, the sampling will be done in the log space."
   ]
  },
  {
   "cell_type": "code",
   "execution_count": 17,
   "id": "def7226d",
   "metadata": {},
   "outputs": [],
   "source": [
    "from xgboost.sklearn import XGBClassifier\n",
    "\n",
    "from sklearn.metrics import accuracy_score, precision_score, recall_score, f1_score, roc_auc_score\n",
    "\n",
    "def objective(trial):\n",
    "    \"\"\"Define the objective function\"\"\"\n",
    "\n",
    "    params = {\n",
    "        'max_depth': trial.suggest_int('max_depth', 1, 15, log = True),\n",
    "        'learning_rate': trial.suggest_float('learning_rate', 0.01, 1.0, log = True),\n",
    "        'n_estimators': trial.suggest_int('n_estimators', 50, 500, log = True),\n",
    "        'min_child_weight': trial.suggest_int('min_child_weight', 1, 10, log = True),\n",
    "        'lambda': trial.suggest_float('lambda', 1e-3, 10.0, log = True),\n",
    "        'alpha': trial.suggest_float('alpha', 1e-3, 10.0,log = True),\n",
    "    }\n",
    "\n",
    "    xgb_model = XGBClassifier(**params)\n",
    "    \n",
    "    pipe_xgb = Pipeline(steps = [('preprocessor', preprocessor), ('classifier', xgb_model )])\n",
    "    pipe_xgb.fit(X_train, y_train)\n",
    "\n",
    "    predictions = pipe_xgb.predict(X_test)\n",
    "    test_f1_score = f1_score(y_test, predictions)\n",
    "\n",
    "    return test_f1_score"
   ]
  },
  {
   "cell_type": "markdown",
   "id": "16409ad8",
   "metadata": {},
   "source": [
    "### Notes:\n",
    "\n",
    "Next we need to define an Optuna study. We’ll set the direction to maximize, as we want to maximize the f1 score.\n",
    "\n",
    "Sampler using TPE (Tree-structured Parzen Estimator) algorithm.\n",
    "\n",
    "On each trial, for each parameter, TPE fits one Gaussian Mixture Model (GMM) l(x) to the set of parameter values associated with the best objective values, and another GMM g(x) to the remaining parameter values. It chooses the parameter value x that maximizes the ratio l(x)/g(x).\n",
    "\n",
    "TPE is a Bayesian optimization algorithm that aims to efficiently find the optimal set of hyperparameters by modeling the relationship between hyperparameters and the objective function's performance. It balances exploration and exploitation to efficiently explore the hyperparameter search space and converge towards the best hyperparameter configuration.\n",
    "\n",
    "The TPE algorithm consists of two main components: the \"prior\" and the \"posterior\" model.\n",
    "\n",
    "Prior Model:\n",
    "\n",
    "The prior model captures the probability distribution of the hyperparameters based on the previous observations. It is represented as two separate distributions: one for successful trials (observations that led to better results) and one for failed trials (observations that did not lead to improved results).\n",
    "\n",
    "Posterior Model:\n",
    "\n",
    "The posterior model represents the objective function's performance given the hyperparameters.\n",
    "\n",
    "The posterior model provides an estimate of the probability that a specific set of hyperparameters will lead to a better objective value.\n"
   ]
  },
  {
   "cell_type": "code",
   "execution_count": 18,
   "id": "6fa1ea09",
   "metadata": {},
   "outputs": [
    {
     "name": "stderr",
     "output_type": "stream",
     "text": [
      "[I 2023-07-22 08:01:27,989] A new study created in memory with name: no-name-0da54fad-80dc-4c3d-8354-3ba2afc198ab\n"
     ]
    },
    {
     "name": "stdout",
     "output_type": "stream",
     "text": [
      "Sampler is TPESampler\n"
     ]
    }
   ],
   "source": [
    "import optuna\n",
    "\n",
    "study = optuna.create_study(direction = 'maximize')\n",
    "\n",
    "print(f\"Sampler is {study.sampler.__class__.__name__}\")"
   ]
  },
  {
   "cell_type": "markdown",
   "id": "b33bd906",
   "metadata": {},
   "source": [
    "### Notes:\n",
    "\n",
    "Finally, we can run the objective function using the study.optimize function. We’ll set the n_trials parameter to 32, which means that Optuna will run the objective function 32 times, and will try to find the best hyperparameters.\n",
    "\n",
    "If you’ve ever used GridSearchCV for hyperparameter tuning, you’ll know that it can take a long time to run, especially if you have a large number of hyperparameters to tune. Optuna is much faster, as it uses Bayesian optimization to find the best hyperparameters.\n",
    "\n",
    "There are warnings about untracked files here which we can ignore. If you look carefully at the output you will see the results of each trial e.g.\n",
    "\n",
    "Trial 2 finished with value: 0.5531914893617021 and parameters: {'max_depth': 2, 'learning_rate': 0.059816326190312616, 'n_estimators': 199, 'min_child_weight': 9, 'lambda': 0.02106640268157479, 'alpha': 0.008695375907122877}. Best is trial 2 with value: 0.5531914893617021."
   ]
  },
  {
   "cell_type": "code",
   "execution_count": 19,
   "id": "bfb00559",
   "metadata": {},
   "outputs": [
    {
     "name": "stderr",
     "output_type": "stream",
     "text": [
      "[I 2023-07-22 08:01:53,447] Trial 0 finished with value: 0.5217391304347826 and parameters: {'max_depth': 1, 'learning_rate': 0.5826476619137811, 'n_estimators': 159, 'min_child_weight': 2, 'lambda': 0.19399192301428728, 'alpha': 0.039293080321705316}. Best is trial 0 with value: 0.5217391304347826.\n",
      "WARNING: The following untracked files were present in the workspace before saving but will not be included in the experiment commit:\n",
      "\t.DS_Store, demo-04-ChurnPrediction_HyperparameterTuningAndModelServing.ipynb, xgboost-hptuning-8172/dvc.yaml, xgboost-hptuning-3736/dvc.yaml, xgboost-hptuning-9783/dvc.yaml, xgboost-hptuning-4460/dvc.yaml, xgboost-hptuning-9991/dvc.yaml, xgboost-hptuning-3007/dvc.yaml, xgboost-hptuning-4474/dvc.yaml, xgboost-hptuning-7260/dvc.yaml, xgboost-hptuning-9628/dvc.yaml, xgboost-hptuning-2438/dvc.yaml, xgboost-hptuning-5086/dvc.yaml, xgboost-hptuning-3904/dvc.yaml, xgboost-hptuning-9262/dvc.yaml, xgboost-hptuning-7703/dvc.yaml, xgboost-hptuning-2481/dvc.yaml, xgboost-hptuning-2020/dvc.yaml, xgboost-hptuning-4977/dvc.yaml, xgboost-hptuning-9716/dvc.yaml, xgboost-hptuning-8068/dvc.yaml, xgboost-hptuning-3225/dvc.yaml, xgboost-hptuning-4490/dvc.yaml, xgboost-hptuning-8469/dvc.yaml, xgboost-hptuning-4895/dvc.yaml, xgboost-hptuning-5730/dvc.yaml, .ipynb_checkpoints/demo-04-ChurnPrediction_HyperparameterTuningAndModelServing-checkpoint.ipynb, xgboost-hptuning-2578/dvc.yaml, xgboost-hptuning-1797/dvc.yaml, data/.DS_Store, data/.gitignore, data/Customertravel.csv.dvc, xgboost-hptuning-5227/dvc.yaml, xgboost-hptuning-5449/dvc.yaml, xgboost-hptuning-6458/dvc.yaml, xgboost-hptuning-2291/dvc.yaml, xgboost-hptuning-9489/dvc.yaml, xgboost-hptuning-8392/dvc.yaml\n",
      "[I 2023-07-22 08:01:56,438] Trial 1 finished with value: 0.64 and parameters: {'max_depth': 4, 'learning_rate': 0.15672986245117812, 'n_estimators': 229, 'min_child_weight': 1, 'lambda': 0.4486249987348556, 'alpha': 2.9092132854238937}. Best is trial 1 with value: 0.64.\n",
      "WARNING: The following untracked files were present in the workspace before saving but will not be included in the experiment commit:\n",
      "\t.DS_Store, demo-04-ChurnPrediction_HyperparameterTuningAndModelServing.ipynb, xgboost-hptuning-8172/dvc.yaml, xgboost-hptuning-3736/dvc.yaml, xgboost-hptuning-9783/dvc.yaml, xgboost-hptuning-4460/dvc.yaml, xgboost-hptuning-9991/dvc.yaml, xgboost-hptuning-3007/dvc.yaml, xgboost-hptuning-4474/dvc.yaml, xgboost-hptuning-7260/dvc.yaml, xgboost-hptuning-9628/dvc.yaml, xgboost-hptuning-2438/dvc.yaml, xgboost-hptuning-5086/dvc.yaml, xgboost-hptuning-3904/dvc.yaml, xgboost-hptuning-9262/dvc.yaml, xgboost-hptuning-7703/dvc.yaml, xgboost-hptuning-2481/dvc.yaml, xgboost-hptuning-2020/dvc.yaml, xgboost-hptuning-4977/dvc.yaml, xgboost-hptuning-9716/dvc.yaml, xgboost-hptuning-8068/dvc.yaml, xgboost-hptuning-3225/dvc.yaml, xgboost-hptuning-4490/dvc.yaml, xgboost-hptuning-8469/dvc.yaml, xgboost-hptuning-4895/dvc.yaml, xgboost-hptuning-5730/dvc.yaml, .ipynb_checkpoints/demo-04-ChurnPrediction_HyperparameterTuningAndModelServing-checkpoint.ipynb, xgboost-hptuning-2578/dvc.yaml, xgboost-hptuning-1797/dvc.yaml, data/.DS_Store, data/.gitignore, data/Customertravel.csv.dvc, xgboost-hptuning-5227/dvc.yaml, xgboost-hptuning-5449/dvc.yaml, xgboost-hptuning-6458/dvc.yaml, xgboost-hptuning-2291/dvc.yaml, xgboost-hptuning-9489/dvc.yaml, xgboost-hptuning-8392/dvc.yaml\n",
      "[I 2023-07-22 08:02:00,759] Trial 2 finished with value: 0.625 and parameters: {'max_depth': 10, 'learning_rate': 0.029072060565863908, 'n_estimators': 55, 'min_child_weight': 2, 'lambda': 0.4654907044331561, 'alpha': 1.7297787167059264}. Best is trial 1 with value: 0.64.\n",
      "WARNING: The following untracked files were present in the workspace before saving but will not be included in the experiment commit:\n",
      "\t.DS_Store, demo-04-ChurnPrediction_HyperparameterTuningAndModelServing.ipynb, xgboost-hptuning-8172/dvc.yaml, xgboost-hptuning-3736/dvc.yaml, xgboost-hptuning-9783/dvc.yaml, xgboost-hptuning-4460/dvc.yaml, xgboost-hptuning-9991/dvc.yaml, xgboost-hptuning-3007/dvc.yaml, xgboost-hptuning-4474/dvc.yaml, xgboost-hptuning-7260/dvc.yaml, xgboost-hptuning-9628/dvc.yaml, xgboost-hptuning-2438/dvc.yaml, xgboost-hptuning-5086/dvc.yaml, xgboost-hptuning-3904/dvc.yaml, xgboost-hptuning-9262/dvc.yaml, xgboost-hptuning-7703/dvc.yaml, xgboost-hptuning-2481/dvc.yaml, xgboost-hptuning-2020/dvc.yaml, xgboost-hptuning-4977/dvc.yaml, xgboost-hptuning-9716/dvc.yaml, xgboost-hptuning-8068/dvc.yaml, xgboost-hptuning-3225/dvc.yaml, xgboost-hptuning-4490/dvc.yaml, xgboost-hptuning-8469/dvc.yaml, xgboost-hptuning-4895/dvc.yaml, xgboost-hptuning-5730/dvc.yaml, .ipynb_checkpoints/demo-04-ChurnPrediction_HyperparameterTuningAndModelServing-checkpoint.ipynb, xgboost-hptuning-2578/dvc.yaml, xgboost-hptuning-1797/dvc.yaml, data/.DS_Store, data/.gitignore, data/Customertravel.csv.dvc, xgboost-hptuning-5227/dvc.yaml, xgboost-hptuning-5449/dvc.yaml, xgboost-hptuning-6458/dvc.yaml, xgboost-hptuning-2291/dvc.yaml, xgboost-hptuning-9489/dvc.yaml, xgboost-hptuning-8392/dvc.yaml\n",
      "[I 2023-07-22 08:02:04,083] Trial 3 finished with value: 0.30303030303030304 and parameters: {'max_depth': 1, 'learning_rate': 0.029231651581194406, 'n_estimators': 198, 'min_child_weight': 1, 'lambda': 0.002934855593600856, 'alpha': 0.0024018359132750213}. Best is trial 1 with value: 0.64.\n",
      "WARNING: The following untracked files were present in the workspace before saving but will not be included in the experiment commit:\n",
      "\t.DS_Store, demo-04-ChurnPrediction_HyperparameterTuningAndModelServing.ipynb, xgboost-hptuning-8172/dvc.yaml, xgboost-hptuning-3736/dvc.yaml, xgboost-hptuning-9783/dvc.yaml, xgboost-hptuning-4460/dvc.yaml, xgboost-hptuning-9991/dvc.yaml, xgboost-hptuning-3007/dvc.yaml, xgboost-hptuning-4474/dvc.yaml, xgboost-hptuning-7260/dvc.yaml, xgboost-hptuning-9628/dvc.yaml, xgboost-hptuning-2438/dvc.yaml, xgboost-hptuning-5086/dvc.yaml, xgboost-hptuning-3904/dvc.yaml, xgboost-hptuning-9262/dvc.yaml, xgboost-hptuning-7703/dvc.yaml, xgboost-hptuning-2481/dvc.yaml, xgboost-hptuning-2020/dvc.yaml, xgboost-hptuning-4977/dvc.yaml, xgboost-hptuning-9716/dvc.yaml, xgboost-hptuning-8068/dvc.yaml, xgboost-hptuning-3225/dvc.yaml, xgboost-hptuning-4490/dvc.yaml, xgboost-hptuning-8469/dvc.yaml, xgboost-hptuning-4895/dvc.yaml, xgboost-hptuning-5730/dvc.yaml, .ipynb_checkpoints/demo-04-ChurnPrediction_HyperparameterTuningAndModelServing-checkpoint.ipynb, xgboost-hptuning-2578/dvc.yaml, xgboost-hptuning-1797/dvc.yaml, data/.DS_Store, data/.gitignore, data/Customertravel.csv.dvc, xgboost-hptuning-5227/dvc.yaml, xgboost-hptuning-5449/dvc.yaml, xgboost-hptuning-6458/dvc.yaml, xgboost-hptuning-2291/dvc.yaml, xgboost-hptuning-9489/dvc.yaml, xgboost-hptuning-8392/dvc.yaml\n",
      "[I 2023-07-22 08:02:06,683] Trial 4 finished with value: 0.6086956521739131 and parameters: {'max_depth': 9, 'learning_rate': 0.02100789272749997, 'n_estimators': 107, 'min_child_weight': 1, 'lambda': 0.07617770257197003, 'alpha': 3.0759166499258432}. Best is trial 1 with value: 0.64.\n",
      "WARNING: The following untracked files were present in the workspace before saving but will not be included in the experiment commit:\n",
      "\t.DS_Store, demo-04-ChurnPrediction_HyperparameterTuningAndModelServing.ipynb, .ipynb_checkpoints/demo-04-ChurnPrediction_HyperparameterTuningAndModelServing-checkpoint.ipynb, data/.DS_Store, data/.gitignore, data/Customertravel.csv.dvc\n",
      "[I 2023-07-22 08:02:08,133] Trial 5 finished with value: 0.6037735849056604 and parameters: {'max_depth': 2, 'learning_rate': 0.5410643273989904, 'n_estimators': 217, 'min_child_weight': 7, 'lambda': 0.5562723750777075, 'alpha': 0.0032260542673220277}. Best is trial 1 with value: 0.64.\n",
      "WARNING: The following untracked files were present in the workspace before saving but will not be included in the experiment commit:\n",
      "\t.DS_Store, demo-04-ChurnPrediction_HyperparameterTuningAndModelServing.ipynb, .ipynb_checkpoints/demo-04-ChurnPrediction_HyperparameterTuningAndModelServing-checkpoint.ipynb, data/.DS_Store, data/.gitignore, data/Customertravel.csv.dvc\n",
      "[I 2023-07-22 08:02:09,139] Trial 6 finished with value: 0.4761904761904762 and parameters: {'max_depth': 1, 'learning_rate': 0.10244991319284096, 'n_estimators': 134, 'min_child_weight': 5, 'lambda': 0.02848793884743416, 'alpha': 0.0035500075677445406}. Best is trial 1 with value: 0.64.\n"
     ]
    },
    {
     "name": "stderr",
     "output_type": "stream",
     "text": [
      "WARNING: The following untracked files were present in the workspace before saving but will not be included in the experiment commit:\n",
      "\t.DS_Store, demo-04-ChurnPrediction_HyperparameterTuningAndModelServing.ipynb, .ipynb_checkpoints/demo-04-ChurnPrediction_HyperparameterTuningAndModelServing-checkpoint.ipynb, data/.DS_Store, data/.gitignore, data/Customertravel.csv.dvc\n",
      "[I 2023-07-22 08:02:10,135] Trial 7 finished with value: 0.2222222222222222 and parameters: {'max_depth': 1, 'learning_rate': 0.031554797393411674, 'n_estimators': 109, 'min_child_weight': 1, 'lambda': 0.18536843617387433, 'alpha': 0.4812067071918032}. Best is trial 1 with value: 0.64.\n",
      "WARNING: The following untracked files were present in the workspace before saving but will not be included in the experiment commit:\n",
      "\t.DS_Store, demo-04-ChurnPrediction_HyperparameterTuningAndModelServing.ipynb, .ipynb_checkpoints/demo-04-ChurnPrediction_HyperparameterTuningAndModelServing-checkpoint.ipynb, data/.DS_Store, data/.gitignore, data/Customertravel.csv.dvc\n",
      "[I 2023-07-22 08:02:11,271] Trial 8 finished with value: 0.6440677966101694 and parameters: {'max_depth': 12, 'learning_rate': 0.023858691251308923, 'n_estimators': 367, 'min_child_weight': 4, 'lambda': 0.45873221130970626, 'alpha': 0.06244329709479973}. Best is trial 8 with value: 0.6440677966101694.\n",
      "WARNING: The following untracked files were present in the workspace before saving but will not be included in the experiment commit:\n",
      "\t.DS_Store, demo-04-ChurnPrediction_HyperparameterTuningAndModelServing.ipynb, .ipynb_checkpoints/demo-04-ChurnPrediction_HyperparameterTuningAndModelServing-checkpoint.ipynb, data/.DS_Store, data/.gitignore, data/Customertravel.csv.dvc\n",
      "[I 2023-07-22 08:02:12,558] Trial 9 finished with value: 0.6666666666666665 and parameters: {'max_depth': 5, 'learning_rate': 0.011795903825980577, 'n_estimators': 227, 'min_child_weight': 2, 'lambda': 0.009784889388958046, 'alpha': 1.339421480993555}. Best is trial 9 with value: 0.6666666666666665.\n",
      "WARNING: The following untracked files were present in the workspace before saving but will not be included in the experiment commit:\n",
      "\t.DS_Store, demo-04-ChurnPrediction_HyperparameterTuningAndModelServing.ipynb, .ipynb_checkpoints/demo-04-ChurnPrediction_HyperparameterTuningAndModelServing-checkpoint.ipynb, data/.DS_Store, data/.gitignore, data/Customertravel.csv.dvc\n",
      "[I 2023-07-22 08:02:13,689] Trial 10 finished with value: 0.30303030303030304 and parameters: {'max_depth': 5, 'learning_rate': 0.010055528210684627, 'n_estimators': 457, 'min_child_weight': 9, 'lambda': 9.54686224394236, 'alpha': 8.641463978994068}. Best is trial 9 with value: 0.6666666666666665.\n",
      "WARNING: The following untracked files were present in the workspace before saving but will not be included in the experiment commit:\n",
      "\t.DS_Store, demo-04-ChurnPrediction_HyperparameterTuningAndModelServing.ipynb, .ipynb_checkpoints/demo-04-ChurnPrediction_HyperparameterTuningAndModelServing-checkpoint.ipynb, data/.DS_Store, data/.gitignore, data/Customertravel.csv.dvc\n",
      "[I 2023-07-22 08:02:14,798] Trial 11 finished with value: 0.6153846153846153 and parameters: {'max_depth': 15, 'learning_rate': 0.011456406572533362, 'n_estimators': 373, 'min_child_weight': 4, 'lambda': 0.0011156023534971515, 'alpha': 0.13136299916294913}. Best is trial 9 with value: 0.6666666666666665.\n",
      "WARNING: The following untracked files were present in the workspace before saving but will not be included in the experiment commit:\n",
      "\t.DS_Store, demo-04-ChurnPrediction_HyperparameterTuningAndModelServing.ipynb, .ipynb_checkpoints/demo-04-ChurnPrediction_HyperparameterTuningAndModelServing-checkpoint.ipynb, data/.DS_Store, data/.gitignore, data/Customertravel.csv.dvc\n",
      "[I 2023-07-22 08:02:15,980] Trial 12 finished with value: 0.6666666666666665 and parameters: {'max_depth': 6, 'learning_rate': 0.0625725694242203, 'n_estimators': 321, 'min_child_weight': 3, 'lambda': 0.02093937766174217, 'alpha': 0.05227055372708459}. Best is trial 9 with value: 0.6666666666666665.\n",
      "WARNING: The following untracked files were present in the workspace before saving but will not be included in the experiment commit:\n",
      "\t.DS_Store, demo-04-ChurnPrediction_HyperparameterTuningAndModelServing.ipynb, .ipynb_checkpoints/demo-04-ChurnPrediction_HyperparameterTuningAndModelServing-checkpoint.ipynb, data/.DS_Store, data/.gitignore, data/Customertravel.csv.dvc\n",
      "[I 2023-07-22 08:02:17,091] Trial 13 finished with value: 0.6428571428571429 and parameters: {'max_depth': 6, 'learning_rate': 0.06433386087593608, 'n_estimators': 280, 'min_child_weight': 3, 'lambda': 0.01046698054920419, 'alpha': 0.2909614043271855}. Best is trial 9 with value: 0.6666666666666665.\n",
      "WARNING: The following untracked files were present in the workspace before saving but will not be included in the experiment commit:\n",
      "\t.DS_Store, demo-04-ChurnPrediction_HyperparameterTuningAndModelServing.ipynb, .ipynb_checkpoints/demo-04-ChurnPrediction_HyperparameterTuningAndModelServing-checkpoint.ipynb, data/.DS_Store, data/.gitignore, data/Customertravel.csv.dvc\n",
      "[I 2023-07-22 08:02:18,269] Trial 14 finished with value: 0.6415094339622641 and parameters: {'max_depth': 3, 'learning_rate': 0.06477663212443552, 'n_estimators': 297, 'min_child_weight': 2, 'lambda': 0.006492703512328793, 'alpha': 0.026542163534077592}. Best is trial 9 with value: 0.6666666666666665.\n",
      "WARNING: The following untracked files were present in the workspace before saving but will not be included in the experiment commit:\n",
      "\t.DS_Store, demo-04-ChurnPrediction_HyperparameterTuningAndModelServing.ipynb, .ipynb_checkpoints/demo-04-ChurnPrediction_HyperparameterTuningAndModelServing-checkpoint.ipynb, data/.DS_Store, data/.gitignore, data/Customertravel.csv.dvc\n",
      "[I 2023-07-22 08:02:19,390] Trial 15 finished with value: 0.6666666666666667 and parameters: {'max_depth': 7, 'learning_rate': 0.21585635587123186, 'n_estimators': 465, 'min_child_weight': 3, 'lambda': 0.021668838714593446, 'alpha': 0.6729681565967608}. Best is trial 15 with value: 0.6666666666666667.\n",
      "WARNING: The following untracked files were present in the workspace before saving but will not be included in the experiment commit:\n",
      "\t.DS_Store, demo-04-ChurnPrediction_HyperparameterTuningAndModelServing.ipynb, .ipynb_checkpoints/demo-04-ChurnPrediction_HyperparameterTuningAndModelServing-checkpoint.ipynb, data/.DS_Store, data/.gitignore, data/Customertravel.csv.dvc\n",
      "[I 2023-07-22 08:02:20,544] Trial 16 finished with value: 0.6428571428571429 and parameters: {'max_depth': 8, 'learning_rate': 0.2440044228915856, 'n_estimators': 473, 'min_child_weight': 2, 'lambda': 0.004062775049681633, 'alpha': 0.8019976296849469}. Best is trial 15 with value: 0.6666666666666667.\n",
      "WARNING: The following untracked files were present in the workspace before saving but will not be included in the experiment commit:\n",
      "\t.DS_Store, demo-04-ChurnPrediction_HyperparameterTuningAndModelServing.ipynb, .ipynb_checkpoints/demo-04-ChurnPrediction_HyperparameterTuningAndModelServing-checkpoint.ipynb, data/.DS_Store, data/.gitignore, data/Customertravel.csv.dvc\n",
      "[I 2023-07-22 08:02:22,862] Trial 17 finished with value: 0.6538461538461539 and parameters: {'max_depth': 3, 'learning_rate': 0.2788506260043153, 'n_estimators': 454, 'min_child_weight': 6, 'lambda': 0.02267089175392809, 'alpha': 1.0091509888496741}. Best is trial 15 with value: 0.6666666666666667.\n",
      "WARNING: The following untracked files were present in the workspace before saving but will not be included in the experiment commit:\n",
      "\t.DS_Store, demo-04-ChurnPrediction_HyperparameterTuningAndModelServing.ipynb, .ipynb_checkpoints/demo-04-ChurnPrediction_HyperparameterTuningAndModelServing-checkpoint.ipynb, data/.DS_Store, data/.gitignore, data/Customertravel.csv.dvc\n",
      "[I 2023-07-22 08:02:23,974] Trial 18 finished with value: 0.6545454545454547 and parameters: {'max_depth': 2, 'learning_rate': 0.830315519934866, 'n_estimators': 257, 'min_child_weight': 3, 'lambda': 0.0013792444364911145, 'alpha': 0.2904500614827136}. Best is trial 15 with value: 0.6666666666666667.\n",
      "WARNING: The following untracked files were present in the workspace before saving but will not be included in the experiment commit:\n"
     ]
    },
    {
     "name": "stderr",
     "output_type": "stream",
     "text": [
      "\t.DS_Store, demo-04-ChurnPrediction_HyperparameterTuningAndModelServing.ipynb, .ipynb_checkpoints/demo-04-ChurnPrediction_HyperparameterTuningAndModelServing-checkpoint.ipynb, data/.DS_Store, data/.gitignore, data/Customertravel.csv.dvc\n",
      "[I 2023-07-22 08:02:25,278] Trial 19 finished with value: 0.4 and parameters: {'max_depth': 7, 'learning_rate': 0.1241177748509562, 'n_estimators': 379, 'min_child_weight': 3, 'lambda': 0.008810665533414223, 'alpha': 9.91503756169069}. Best is trial 15 with value: 0.6666666666666667.\n",
      "WARNING: The following untracked files were present in the workspace before saving but will not be included in the experiment commit:\n",
      "\t.DS_Store, demo-04-ChurnPrediction_HyperparameterTuningAndModelServing.ipynb, .ipynb_checkpoints/demo-04-ChurnPrediction_HyperparameterTuningAndModelServing-checkpoint.ipynb, data/.DS_Store, data/.gitignore, data/Customertravel.csv.dvc\n",
      "[I 2023-07-22 08:02:26,457] Trial 20 finished with value: 0.6538461538461539 and parameters: {'max_depth': 12, 'learning_rate': 0.19504048151193018, 'n_estimators': 309, 'min_child_weight': 8, 'lambda': 0.04385806131808751, 'alpha': 0.1906496012894211}. Best is trial 15 with value: 0.6666666666666667.\n",
      "WARNING: The following untracked files were present in the workspace before saving but will not be included in the experiment commit:\n",
      "\t.DS_Store, demo-04-ChurnPrediction_HyperparameterTuningAndModelServing.ipynb, .ipynb_checkpoints/demo-04-ChurnPrediction_HyperparameterTuningAndModelServing-checkpoint.ipynb, data/.DS_Store, data/.gitignore, data/Customertravel.csv.dvc\n",
      "[I 2023-07-22 08:02:27,647] Trial 21 finished with value: 0.6153846153846153 and parameters: {'max_depth': 5, 'learning_rate': 0.0663809854103076, 'n_estimators': 340, 'min_child_weight': 10, 'lambda': 0.016506949617156454, 'alpha': 0.10268914372161805}. Best is trial 15 with value: 0.6666666666666667.\n",
      "WARNING: The following untracked files were present in the workspace before saving but will not be included in the experiment commit:\n",
      "\t.DS_Store, demo-04-ChurnPrediction_HyperparameterTuningAndModelServing.ipynb, .ipynb_checkpoints/demo-04-ChurnPrediction_HyperparameterTuningAndModelServing-checkpoint.ipynb, data/.DS_Store, data/.gitignore, data/Customertravel.csv.dvc\n",
      "[I 2023-07-22 08:02:28,800] Trial 22 finished with value: 0.6296296296296297 and parameters: {'max_depth': 7, 'learning_rate': 0.047268272634147644, 'n_estimators': 266, 'min_child_weight': 3, 'lambda': 0.01260391725775987, 'alpha': 0.6975332458961142}. Best is trial 15 with value: 0.6666666666666667.\n",
      "WARNING: The following untracked files were present in the workspace before saving but will not be included in the experiment commit:\n",
      "\t.DS_Store, demo-04-ChurnPrediction_HyperparameterTuningAndModelServing.ipynb, .ipynb_checkpoints/demo-04-ChurnPrediction_HyperparameterTuningAndModelServing-checkpoint.ipynb, data/.DS_Store, data/.gitignore, data/Customertravel.csv.dvc\n",
      "[I 2023-07-22 08:02:30,053] Trial 23 finished with value: 0.6538461538461539 and parameters: {'max_depth': 5, 'learning_rate': 0.014530851483203466, 'n_estimators': 492, 'min_child_weight': 5, 'lambda': 0.041641697625763606, 'alpha': 0.017688052642822746}. Best is trial 15 with value: 0.6666666666666667.\n",
      "WARNING: The following untracked files were present in the workspace before saving but will not be included in the experiment commit:\n",
      "\t.DS_Store, demo-04-ChurnPrediction_HyperparameterTuningAndModelServing.ipynb, .ipynb_checkpoints/demo-04-ChurnPrediction_HyperparameterTuningAndModelServing-checkpoint.ipynb, data/.DS_Store, data/.gitignore, data/Customertravel.csv.dvc\n",
      "[I 2023-07-22 08:02:31,278] Trial 24 finished with value: 0.6296296296296297 and parameters: {'max_depth': 4, 'learning_rate': 0.016192720236816508, 'n_estimators': 386, 'min_child_weight': 2, 'lambda': 0.00412634500603406, 'alpha': 0.33989673078061583}. Best is trial 15 with value: 0.6666666666666667.\n",
      "WARNING: The following untracked files were present in the workspace before saving but will not be included in the experiment commit:\n",
      "\t.DS_Store, demo-04-ChurnPrediction_HyperparameterTuningAndModelServing.ipynb, .ipynb_checkpoints/demo-04-ChurnPrediction_HyperparameterTuningAndModelServing-checkpoint.ipynb, data/.DS_Store, data/.gitignore, data/Customertravel.csv.dvc\n",
      "[I 2023-07-22 08:02:32,481] Trial 25 finished with value: 0.6896551724137931 and parameters: {'max_depth': 8, 'learning_rate': 0.096492494323816, 'n_estimators': 323, 'min_child_weight': 4, 'lambda': 0.020677449421486978, 'alpha': 0.13931875831001142}. Best is trial 25 with value: 0.6896551724137931.\n",
      "WARNING: The following untracked files were present in the workspace before saving but will not be included in the experiment commit:\n",
      "\t.DS_Store, demo-04-ChurnPrediction_HyperparameterTuningAndModelServing.ipynb, .ipynb_checkpoints/demo-04-ChurnPrediction_HyperparameterTuningAndModelServing-checkpoint.ipynb, data/.DS_Store, data/.gitignore, data/Customertravel.csv.dvc\n",
      "[I 2023-07-22 08:02:33,628] Trial 26 finished with value: 0.6896551724137931 and parameters: {'max_depth': 9, 'learning_rate': 0.10044566151533445, 'n_estimators': 244, 'min_child_weight': 4, 'lambda': 0.005801685766423145, 'alpha': 0.147437929076565}. Best is trial 25 with value: 0.6896551724137931.\n",
      "WARNING: The following untracked files were present in the workspace before saving but will not be included in the experiment commit:\n",
      "\t.DS_Store, demo-04-ChurnPrediction_HyperparameterTuningAndModelServing.ipynb, .ipynb_checkpoints/demo-04-ChurnPrediction_HyperparameterTuningAndModelServing-checkpoint.ipynb, data/.DS_Store, data/.gitignore, data/Customertravel.csv.dvc\n",
      "[I 2023-07-22 08:02:34,854] Trial 27 finished with value: 0.6296296296296297 and parameters: {'max_depth': 10, 'learning_rate': 0.11144981008784893, 'n_estimators': 427, 'min_child_weight': 6, 'lambda': 0.002861351085175501, 'alpha': 0.16834981517182893}. Best is trial 25 with value: 0.6896551724137931.\n",
      "WARNING: The following untracked files were present in the workspace before saving but will not be included in the experiment commit:\n",
      "\t.DS_Store, demo-04-ChurnPrediction_HyperparameterTuningAndModelServing.ipynb, .ipynb_checkpoints/demo-04-ChurnPrediction_HyperparameterTuningAndModelServing-checkpoint.ipynb, data/.DS_Store, data/.gitignore, data/Customertravel.csv.dvc\n",
      "[I 2023-07-22 08:02:36,067] Trial 28 finished with value: 0.6666666666666667 and parameters: {'max_depth': 15, 'learning_rate': 0.14915640413512765, 'n_estimators': 321, 'min_child_weight': 4, 'lambda': 0.006081680260338109, 'alpha': 0.10483199666422995}. Best is trial 25 with value: 0.6896551724137931.\n",
      "WARNING: The following untracked files were present in the workspace before saving but will not be included in the experiment commit:\n",
      "\t.DS_Store, demo-04-ChurnPrediction_HyperparameterTuningAndModelServing.ipynb, .ipynb_checkpoints/demo-04-ChurnPrediction_HyperparameterTuningAndModelServing-checkpoint.ipynb, data/.DS_Store, data/.gitignore, data/Customertravel.csv.dvc\n",
      "[I 2023-07-22 08:02:37,259] Trial 29 finished with value: 0.6296296296296297 and parameters: {'max_depth': 8, 'learning_rate': 0.3750869113532339, 'n_estimators': 186, 'min_child_weight': 5, 'lambda': 0.057080514965306965, 'alpha': 0.3845768256189977}. Best is trial 25 with value: 0.6896551724137931.\n",
      "WARNING: The following untracked files were present in the workspace before saving but will not be included in the experiment commit:\n",
      "\t.DS_Store, demo-04-ChurnPrediction_HyperparameterTuningAndModelServing.ipynb, .ipynb_checkpoints/demo-04-ChurnPrediction_HyperparameterTuningAndModelServing-checkpoint.ipynb, data/.DS_Store, data/.gitignore, data/Customertravel.csv.dvc\n",
      "[I 2023-07-22 08:02:38,526] Trial 30 finished with value: 0.6153846153846153 and parameters: {'max_depth': 11, 'learning_rate': 0.08781540985281204, 'n_estimators': 420, 'min_child_weight': 7, 'lambda': 0.029233638440864174, 'alpha': 0.05734399439472845}. Best is trial 25 with value: 0.6896551724137931.\n",
      "WARNING: The following untracked files were present in the workspace before saving but will not be included in the experiment commit:\n"
     ]
    },
    {
     "name": "stderr",
     "output_type": "stream",
     "text": [
      "\t.DS_Store, demo-04-ChurnPrediction_HyperparameterTuningAndModelServing.ipynb, .ipynb_checkpoints/demo-04-ChurnPrediction_HyperparameterTuningAndModelServing-checkpoint.ipynb, data/.DS_Store, data/.gitignore, data/Customertravel.csv.dvc\n",
      "[I 2023-07-22 08:02:39,761] Trial 31 finished with value: 0.6428571428571429 and parameters: {'max_depth': 14, 'learning_rate': 0.17688064889757654, 'n_estimators': 308, 'min_child_weight': 4, 'lambda': 0.005880153940348919, 'alpha': 0.09591313460177833}. Best is trial 25 with value: 0.6896551724137931.\n",
      "WARNING: The following untracked files were present in the workspace before saving but will not be included in the experiment commit:\n",
      "\t.DS_Store, demo-04-ChurnPrediction_HyperparameterTuningAndModelServing.ipynb, .ipynb_checkpoints/demo-04-ChurnPrediction_HyperparameterTuningAndModelServing-checkpoint.ipynb, data/.DS_Store, data/.gitignore, data/Customertravel.csv.dvc\n"
     ]
    }
   ],
   "source": [
    "from dvclive.optuna import DVCLiveCallback\n",
    "\n",
    "study.optimize(objective, n_trials = 32, callbacks = [DVCLiveCallback()])"
   ]
  },
  {
   "cell_type": "markdown",
   "id": "30f77935",
   "metadata": {},
   "source": [
    "# TODO Recording:\n",
    "\n",
    "- Go to Studio and refresh the hyperparameter tuning project\n",
    "- Show that there are 32 experiments there - we haven't yet dvc pushed the experiments so no metrics available\n",
    "- Switch over to the terminal window and run this\n",
    "- See the locall tracked metrics\n",
    "\n",
    "`dvc exp show`\n",
    "\n",
    "- Sort by the metric used to optimize i.e. f1 score\n",
    "\n",
    "`dvc exp show --sort-by metric --sort-order desc`\n",
    "\n",
    "- Push to DVC Studio\n",
    "\n",
    "`dvc exp push origin --all-commits`\n",
    "\n",
    "- Go to Studio immediately and keep clicking \"Update Project\" till we get all the experiments updated\n",
    "- Select any two experiments and compare them\n",
    "- Do comparison with two different experiments again"
   ]
  },
  {
   "cell_type": "markdown",
   "id": "1429eece",
   "metadata": {},
   "source": [
    "Obtaining the best set of hyperparameters"
   ]
  },
  {
   "cell_type": "code",
   "execution_count": 21,
   "id": "55ff7f07",
   "metadata": {},
   "outputs": [
    {
     "name": "stdout",
     "output_type": "stream",
     "text": [
      "Number of finished trials: 32\n",
      "Best trial:\n",
      "  Value: 0.6896551724137931\n",
      "  Params: \n",
      "    max_depth: 8\n",
      "    learning_rate: 0.096492494323816\n",
      "    n_estimators: 323\n",
      "    min_child_weight: 4\n",
      "    lambda: 0.020677449421486978\n",
      "    alpha: 0.13931875831001142\n"
     ]
    }
   ],
   "source": [
    "print('Number of finished trials: {}'.format(len(study.trials)))\n",
    "print('Best trial:')\n",
    "trial = study.best_trial\n",
    "\n",
    "print('  Value: {}'.format(trial.value))\n",
    "print('  Params: ')\n",
    "\n",
    "for key, value in trial.params.items():\n",
    "    print('    {}: {}'.format(key, value))"
   ]
  },
  {
   "cell_type": "markdown",
   "id": "50641434",
   "metadata": {},
   "source": [
    "Now we’ll save the best parameters to a dictionary, and we’ll use the XGBClassifier function to create a new model with the best parameters and evaluating the performance"
   ]
  },
  {
   "cell_type": "code",
   "execution_count": 22,
   "id": "66ef096d",
   "metadata": {},
   "outputs": [],
   "source": [
    "params = trial.params"
   ]
  },
  {
   "cell_type": "code",
   "execution_count": 23,
   "id": "6a891093",
   "metadata": {},
   "outputs": [],
   "source": [
    "xgb_model = XGBClassifier(**params)\n",
    "    \n",
    "pipe_xgb = Pipeline(steps = [('preprocessor', preprocessor), ('classifier', xgb_model )])\n",
    "pipe_xgb.fit(X_train, y_train)\n",
    "\n",
    "predictions = pipe_xgb.predict(X_test)"
   ]
  },
  {
   "cell_type": "code",
   "execution_count": 25,
   "id": "62463411",
   "metadata": {},
   "outputs": [
    {
     "name": "stdout",
     "output_type": "stream",
     "text": [
      "Test accuracy score:  0.8\n",
      "Test precision score:  0.5882352941176471\n",
      "Test recall score:  0.8333333333333334\n",
      "Test f1 score: 0.6896551724137931\n"
     ]
    }
   ],
   "source": [
    "print('Test accuracy score: ', accuracy_score(y_test, predictions))\n",
    "print('Test precision score: ', precision_score(y_test, predictions))\n",
    "print('Test recall score: ', recall_score(y_test, predictions))\n",
    "print('Test f1 score:', f1_score(y_test, predictions))"
   ]
  },
  {
   "cell_type": "markdown",
   "id": "2aa23495",
   "metadata": {},
   "source": [
    "Now we will use MLEM for packaging the model for serving (based on MLEM docs, we are only serving the model here and not deploying it)\n",
    "\n",
    "MLEM is a tool to easily package, deploy and serve Machine Learning models. It seamlessly supports a variety of scenarios like real-time serving and batch processing.\n",
    "\n",
    "Saving machine learning models to files or loading them back into Python objects may seem like a simple task at first. For example, the pickle and torch libraries can serialize/deserialize model objects to/from files. However, MLEM adds some \"special sauce\" by inspecting the objects and saving their metadata into .mlem metafiles and using these intelligently later on.\n",
    "\n",
    "However, when MLEM is used to save python model objects or enrich existing model files it adds its \"special sauce\" - all the things needed to reliably recreate this Python object later are extracted auto-magically and are written to a .mlem metadata file. This additional \"metafile\" is a yaml representation of the MLEM Object corresponding to the model Python object. This is why we refer to this operation as a \"codification\" of the model, and is a very powerful concept, underlining a lot of MLEM's abilities.\n",
    "\n",
    "https://mlem.ai/doc/user-guide/basic-concepts"
   ]
  },
  {
   "cell_type": "code",
   "execution_count": null,
   "id": "eb6976b5",
   "metadata": {},
   "outputs": [],
   "source": [
    "pip install mlem"
   ]
  },
  {
   "cell_type": "markdown",
   "id": "a12f918d",
   "metadata": {},
   "source": [
    "MLEM can analyze the code (or model files), and extract extra metadata which will become very useful when using the model.We can either save the model with MLEM to begin with, or use MLEM to import existing model file and save the metadata as a side effect.The sample_data argument will prove useful later when serving the model. MLEM uses it to infer the data schema of the payload automatically!\n",
    "\n",
    "Alongside the model binary models/pipe_xgb, MLEM added the metadata file models/pipe_xgb.mlem. We refer to this as a \"Codification\" of the model."
   ]
  },
  {
   "cell_type": "code",
   "execution_count": 27,
   "id": "c3422555",
   "metadata": {},
   "outputs": [
    {
     "data": {
      "text/plain": [
       "MlemModel(location=Location(path='/Users/loonycorn/projects/dvc/dvc_churn_prediction_hyperparameters/models/pipe_xgb.mlem', project=None, rev=None, uri='file:///Users/loonycorn/projects/dvc/dvc_churn_prediction_hyperparameters/models/pipe_xgb.mlem', project_uri=None, fs=<fsspec.implementations.local.LocalFileSystem object at 0x7fcc4eecc5e0>), params={}, artifacts={'data': LocalArtifact(uri='pipe_xgb', size=355708, hash='71596e845601d8c919bd48c839066b9c')}, requirements=Requirements(__root__=[InstallableRequirement(module='numpy', version='1.25.0', package_name=None, extra_index=None, source_url=None, vcs=None, vcs_commit=None), InstallableRequirement(module='pandas', version='1.5.3', package_name=None, extra_index=None, source_url=None, vcs=None, vcs_commit=None), InstallableRequirement(module='sklearn', version='1.2.1', package_name='scikit-learn', extra_index=None, source_url=None, vcs=None, vcs_commit=None), UnixPackageRequirement(package_name='libgomp1'), InstallableRequirement(module='xgboost', version='1.7.6', package_name=None, extra_index=None, source_url=None, vcs=None, vcs_commit=None)]), processors_cache={'model': SklearnPipelineType(model=Pipeline(steps=[('preprocessor',\n",
       "                 ColumnTransformer(remainder=StandardScaler(),\n",
       "                                   transformers=[('cat_tr',\n",
       "                                                  Pipeline(steps=[('encoder',\n",
       "                                                                   OneHotEncoder(drop='first',\n",
       "                                                                                 handle_unknown='ignore'))]),\n",
       "                                                  ['FrequentFlyer',\n",
       "                                                   'AccountSyncedToSocialMedia',\n",
       "                                                   'BookedHotelOrNot'])])),\n",
       "                ('classifier',\n",
       "                 XGBClassifier(alpha=0.13931875831001142, base_score=None,\n",
       "                               booster=None, callbacks=None...\n",
       "                               grow_policy=None, importance_type=None,\n",
       "                               interaction_constraints=None,\n",
       "                               lambda=0.020677449421486978,\n",
       "                               learning_rate=0.096492494323816, max_bin=None,\n",
       "                               max_cat_threshold=None, max_cat_to_onehot=None,\n",
       "                               max_delta_step=None, max_depth=8,\n",
       "                               max_leaves=None, min_child_weight=4, missing=nan,\n",
       "                               monotone_constraints=None, n_estimators=323,\n",
       "                               n_jobs=None, num_parallel_tree=None, ...))]), io=SimplePickleIO(), methods={'predict': Signature(name='predict', args=[Argument(name='X', type_=DataFrameType(value=None, columns=['', 'Age', 'FrequentFlyer', 'AnnualIncomeClass', 'ServicesOpted', 'AccountSyncedToSocialMedia', 'BookedHotelOrNot'], dtypes=['int64', 'int64', 'object', 'int64', 'int64', 'object', 'object'], index_cols=['']), required=True, default=None, kw_only=False)], returns=NumpyNdarrayType(value=None, shape=(None,), dtype='int64'), varargs=None, varargs_type=None, varkw='predict_params', varkw_type=None), 'predict_proba': Signature(name='predict_proba', args=[Argument(name='X', type_=DataFrameType(value=None, columns=['', 'Age', 'FrequentFlyer', 'AnnualIncomeClass', 'ServicesOpted', 'AccountSyncedToSocialMedia', 'BookedHotelOrNot'], dtypes=['int64', 'int64', 'object', 'int64', 'int64', 'object', 'object'], index_cols=['']), required=True, default=None, kw_only=False)], returns=NumpyNdarrayType(value=None, shape=(None, 2), dtype='float32'), varargs=None, varargs_type=None, varkw='predict_proba_params', varkw_type=None)})}, call_orders={'predict': [('model', 'predict')], 'predict_proba': [('model', 'predict_proba')]})"
      ]
     },
     "execution_count": 27,
     "metadata": {},
     "output_type": "execute_result"
    }
   ],
   "source": [
    "from mlem.api import save\n",
    "\n",
    "save(pipe_xgb, 'models/pipe_xgb', sample_data = X_test)"
   ]
  },
  {
   "cell_type": "markdown",
   "id": "71fb3c87",
   "metadata": {},
   "source": [
    "# TODO Recording:\n",
    "\n",
    "- Go to the Finder window ~/projects/dvc/dvc_churn_prediction_hyperparameters\n",
    "- Show the models/ folder has been created\n",
    "- Open up the file pipe_xgb.mlem in Sublimetext and show"
   ]
  },
  {
   "cell_type": "markdown",
   "id": "8dd81db0",
   "metadata": {},
   "source": [
    "We are taking two instances from test data for getting predictions"
   ]
  },
  {
   "cell_type": "code",
   "execution_count": 28,
   "id": "81c82402",
   "metadata": {},
   "outputs": [
    {
     "data": {
      "text/plain": [
       "array([0, 1, 0, 0, 0, 0, 0, 0, 0, 0, 1, 0, 1, 0, 1, 1, 0, 1, 0, 1, 1, 0,\n",
       "       1, 0, 0, 0, 0, 1, 0, 1, 1, 1, 0, 1, 0, 1, 1, 0, 1, 0, 0, 0, 0, 1,\n",
       "       0, 0, 0, 1, 0, 0, 1, 0, 0, 1, 0, 1, 1, 0, 0, 1, 1, 0, 0, 0, 1, 0,\n",
       "       0, 1, 0, 0, 1, 0, 0, 0, 0, 0, 1, 0, 0, 0, 1, 0, 0, 0, 1, 0, 0, 1,\n",
       "       1, 1])"
      ]
     },
     "execution_count": 28,
     "metadata": {},
     "output_type": "execute_result"
    }
   ],
   "source": [
    "predictions"
   ]
  },
  {
   "cell_type": "code",
   "execution_count": 29,
   "id": "068f0b8f",
   "metadata": {},
   "outputs": [
    {
     "data": {
      "text/plain": [
       "array([30, 'No Record', 0, 3, 'Yes', 'No'], dtype=object)"
      ]
     },
     "execution_count": 29,
     "metadata": {},
     "output_type": "execute_result"
    }
   ],
   "source": [
    "X_test.iloc[3].values"
   ]
  },
  {
   "cell_type": "code",
   "execution_count": 30,
   "id": "7974381f",
   "metadata": {},
   "outputs": [
    {
     "data": {
      "text/plain": [
       "array([37, 'Yes', 0, 3, 'Yes', 'Yes'], dtype=object)"
      ]
     },
     "execution_count": 30,
     "metadata": {},
     "output_type": "execute_result"
    }
   ],
   "source": [
    "X_test.iloc[12].values"
   ]
  },
  {
   "cell_type": "markdown",
   "id": "5279c60f",
   "metadata": {},
   "source": [
    "You can either load and natively call the model object in your Python code anywhere, or use MLEM CLI for batch scoring against any dataset."
   ]
  },
  {
   "cell_type": "code",
   "execution_count": 31,
   "id": "94acd346",
   "metadata": {},
   "outputs": [
    {
     "name": "stdout",
     "output_type": "stream",
     "text": [
      "[0 1]\n"
     ]
    }
   ],
   "source": [
    "from mlem.api import load\n",
    "\n",
    "model = load('models/pipe_xgb')  \n",
    "\n",
    "features = [\n",
    "    'Age', 'FrequentFlyer', 'AnnualIncomeClass', \n",
    "    'ServicesOpted', 'AccountSyncedToSocialMedia', 'BookedHotelOrNot'\n",
    "]\n",
    "\n",
    "sample_df = pd.DataFrame([\n",
    "    [37, 'Yes', 0, 1, 'No', 'Yes'], \n",
    "    [34, 'Yes', 0, 0, 'Yes', 'No']\n",
    "], columns = features)\n",
    "\n",
    "y_pred = model.predict(sample_df)\n",
    "\n",
    "print(y_pred)"
   ]
  },
  {
   "cell_type": "markdown",
   "id": "1057ebf4",
   "metadata": {},
   "source": [
    "# TODO Recording:\n",
    "\n",
    "- Switch to the terminal window ~/projects/dvc/dvc_churn_prediction_hyperparameters\n",
    "- Run the commands below to create a test.csv file (> is for overwrite, >> is for append)\n",
    "\n",
    "`echo \"Age,FrequentFlyer,AnnualIncomeClass,ServicesOpted,AccountSyncedToSocialMedia,BookedHotelOrNot\" > test.csv`\n",
    "\n",
    "`echo \"38,Yes,2,4,No,No\" >> test.csv`\n",
    "\n",
    "`echo \"37,Yes,0,1,No,Yes\" >> test.csv`\n",
    "\n",
    "`cat test.csv`"
   ]
  },
  {
   "cell_type": "markdown",
   "id": "60915240",
   "metadata": {},
   "source": [
    "# TODO Recording:\n",
    "\n",
    "- Run this command below in the terminal, I've left it like this to preserve the formatting"
   ]
  },
  {
   "cell_type": "code",
   "execution_count": 33,
   "id": "8ddf5dd2",
   "metadata": {},
   "outputs": [
    {
     "name": "stdout",
     "output_type": "stream",
     "text": [
      "⏳️ Importing object from test.csv\n",
      "⏳️ Loading model from models/pipe_xgb.mlem\n",
      "🍏 Applying `predict` method...\n",
      "[1, 0]\n"
     ]
    }
   ],
   "source": [
    "mlem apply models/pipe_xgb test.csv \\\n",
    "    --method predict \\\n",
    "    --import \\\n",
    "    --import-type \"pandas[csv]\"    "
   ]
  },
  {
   "cell_type": "markdown",
   "id": "1faff28c",
   "metadata": {},
   "source": [
    "### Notes:\n",
    "\n",
    "MLEM can serve any model for you using different server implementations like FastAPI, RabbitMQ or Streamlit. Let's check out how it works with FastAPI since using it for serving is very common.\n",
    "\n",
    "FastAPI is a modern, fast, and web framework for building APIs (Application Programming Interfaces) with Python. It is designed to be highly efficient, easy to use, and provide automatic validation, serialization, and documentation of APIs. FastAPI is built on top of Starlette, a high-performance asynchronous web framework, and Pydantic, a data validation and parsing library.\n",
    "\n",
    "To expose your model to a external users via REST API, MLEM can use FastAPI to serve it.\n",
    "\n",
    "To launch a FastAPI model server locally, simply run:"
   ]
  },
  {
   "cell_type": "markdown",
   "id": "4a5d11e9",
   "metadata": {},
   "source": [
    "# TODO Recording\n",
    "\n",
    "- Run the following commands in the terminal\n",
    "\n",
    "`pip install mlem[fastapi]`\n",
    "\n",
    "`mlem serve fastapi --model models/pipe_xgb --host 0.0.0.0 --port 8000`\n",
    "\n",
    "- The server is now running, serving your model, and listening on http://0.0.0.0:8000 for HTTP requests\n",
    "- Go to http://localhost:8000/docs and this is the Swagger UI for the Open API specifications\n",
    "- Click on the GET request and execute it. "
   ]
  },
  {
   "cell_type": "markdown",
   "id": "5f88b340",
   "metadata": {},
   "source": [
    "### Notes:\n",
    "\n",
    "#### Swagger UI\n",
    "\n",
    "Swagger UI is a web-based graphical user interface that provides interactive documentation for APIs. It allows developers to visualize and explore the available API endpoints, understand their input parameters and response formats, and even test the API directly from the documentation page.\n",
    "\n",
    "The Swagger UI is automatically generated based on the API's OpenAPI Specification (formerly known as Swagger Specification). OpenAPI Specification is a standardized format to describe RESTful APIs, and it defines the structure of the API, including its endpoints, request and response data, authentication methods, and more.\n",
    "\n",
    "When an API is designed with OpenAPI Specification, tools like Swagger UI can read the specification and generate a user-friendly documentation page. The documentation is presented in a human-readable format with a graphical user interface, making it easy for developers to understand the API and interact with it.\n",
    "\n",
    "#### GET\n",
    "The response here gives us the interface of the API (predict and predictproba are the methods exposed and the return values defined)\n"
   ]
  },
  {
   "cell_type": "markdown",
   "id": "ea36e395",
   "metadata": {},
   "source": [
    "# TODO Recording:\n",
    "\n",
    "- Continue in the terminal window - take the request bodies from here (I've kept it here so the formatting is preserved)\n",
    "- First we click on GET tab and then click on Try it out. Now in Post tab with predict Handler we can click on Try it out and Paste the below content inside the Request body and click on Execute to get the prediction\n",
    "- Try out the curl command that they have provided in the Swagger API\n",
    "- The first one's prediction should be 1, then 0\n",
    "- **IMPORTANT**: With the same two request bodies try the command for the **predict_proba** function as well"
   ]
  },
  {
   "cell_type": "code",
   "execution_count": null,
   "id": "d9650da6",
   "metadata": {},
   "outputs": [],
   "source": [
    "{\n",
    "  \"data\": {\n",
    "    \"values\": [\n",
    "      {\n",
    "        \"\": 0,\n",
    "        \"Age\": 38,\n",
    "        \"FrequentFlyer\": \"Yes\",\n",
    "        \"AnnualIncomeClass\": 2,\n",
    "        \"ServicesOpted\": 4,\n",
    "        \"AccountSyncedToSocialMedia\": \"No\",\n",
    "        \"BookedHotelOrNot\": \"No\"\n",
    "      }\n",
    "    ]\n",
    "  }\n",
    "}"
   ]
  },
  {
   "cell_type": "code",
   "execution_count": null,
   "id": "f80a3321",
   "metadata": {},
   "outputs": [],
   "source": [
    "{\n",
    "  \"data\": {\n",
    "    \"values\": [\n",
    "      {\n",
    "        \"\": 0,\n",
    "        \"Age\": 37,\n",
    "        \"FrequentFlyer\": \"Yes\",\n",
    "        \"AnnualIncomeClass\": 0,\n",
    "        \"ServicesOpted\": 1,\n",
    "        \"AccountSyncedToSocialMedia\": \"No\",\n",
    "        \"BookedHotelOrNot\": \"Yes\"\n",
    "      }\n",
    "    ]\n",
    "  }\n",
    "}"
   ]
  },
  {
   "cell_type": "markdown",
   "id": "7311aa93",
   "metadata": {},
   "source": [
    "### Now we will be Deploying models in production to  Docker\n",
    "\n",
    "### Notes\n",
    "Docker is an open-source platform that enables developers to automate the deployment, scaling, and management of applications inside lightweight, portable containers. Containers are a form of virtualization that packages an application and its dependencies into a single unit, ensuring consistency and reproducibility across different environments.\n",
    "\n",
    "Here are some key concepts and features of Docker:\n",
    "\n",
    "Containers: Containers are isolated environments that encapsulate an application along with its runtime, system tools, libraries, and settings. Each container runs as an isolated process on the host operating system, providing the benefits of virtualization without the overhead of running a full virtual machine.\n",
    "\n",
    "Images: Docker uses images as templates for creating containers. An image is a read-only snapshot of a specific application and its dependencies. Images are built from a Dockerfile, which contains instructions for assembling the required components.\n",
    "\n",
    "Dockerfile: A Dockerfile is a text file that defines the steps to build a Docker image. It includes commands for installing dependencies, copying files into the image, setting environment variables, and specifying the entry point for the container.\n",
    "\n",
    "Registry: Docker provides a centralized repository called Docker Hub (hub.docker.com) where users can publish and share Docker images. However, private registries can also be used for secure storage and distribution of images."
   ]
  },
  {
   "cell_type": "markdown",
   "id": "97a37096",
   "metadata": {},
   "source": [
    "# TODO Recording:\n",
    "\n",
    "- Install Docker Desktop on your local machine, go to https://www.docker.com/products/docker-desktop/\n",
    "- Note that it detects what kind of machine you are on and presents the right download\n",
    "- Download and install this\n",
    "- Click on the Docker icon on the top right and show the Dashboard\n",
    "- Click on Containers and Images from the left navigation pane\n",
    "\n",
    "- Go to the terminal and run\n",
    "\n",
    "`docker --version`\n",
    "\n",
    "- This is the command to view running containers (should be empty)\n",
    "\n",
    "`docker ps`\n",
    "\n",
    "- This is the command to view the Docker images that we have locally (should be empty)\n",
    "\n",
    "`docker images`\n",
    "\n",
    "- Install the mlem library to deploy to Docker\n",
    "\n",
    "`pip install mlem[docker]`"
   ]
  },
  {
   "cell_type": "markdown",
   "id": "9a734518",
   "metadata": {},
   "source": [
    "### Notes:\n",
    "\n",
    "\n",
    "Building is a way to “bake” your model into something usable in production like a Docker image, or export your model into another format or even export the underlying requirements and dependencies of the model, allowing one to create virtual environments out of it.\n",
    "\n",
    "##### 3 steps for deployment\n",
    "\n",
    "- Create a builder (this is just an MLEM object i.e. an object with metadata in a .mlem file) that will define how your model will be built. In this case of Docker this declaration basically defines all things you need to build a docker image. It includes image name, what server you want to serve your model with, and optionally some other stuff, `mlem declare` will preconfigure your builder with a yaml file\n",
    "\n",
    "- Use the builder as a value for --load option in mlem build. This is what you use to build models into re-usable assets you can distribute and use in production, such as a Docker image or Python package.\n",
    "\n",
    "- Deploy the asset representing your model (i.e. the Docker image) using `mlem deployment`. The deployment commands are used to manage the lifecycle of deployments along with giving access to methods of the deployed model. A \"deployment\" is an application/service instance consisting of a server, serving a specific model, using a specific environment definition, and running on a target platform.\n",
    "\n",
    "IMPORTANT NOTE:\n",
    "\n",
    "If you run Step #3 directly that will actually automatically perform step #1 and step #2. We just show each step so it's clear what is happening\n",
    "\n",
    "mlem deploy run docker_container docker_app.mlem --model models/pipe_xgb --server fastapi --ports.0 8080:8080\n",
    "\n",
    "mlem deployment run will create 2 auxiliary files:\n",
    "\n",
    "- {deployment}.mlem - A deployment spec (or declaration). Reusing this app declaration you can, for example, re-deploy the same application with a different model.\n",
    "\n",
    "- {deployment}.mlem.state - A state file containing more information about the deployment, including which MLEM model we used, and the URL of the deployment. Each deployment has state, which is a snapshot of the actual state of your deployment. It is created and updated by MLEM during the deployment process to keep track of parameters needed for state management, and is stored separately from the declaration. "
   ]
  },
  {
   "cell_type": "markdown",
   "id": "e018ca94",
   "metadata": {},
   "source": [
    "# TODO Recording:\n",
    "\n",
    "- Run the following commands on the terminal\n",
    "\n",
    "`mkdir serving`\n",
    "\n",
    "`cd serving`\n",
    "\n",
    "`pip install mlem[docker]`\n",
    "\n",
    "`mlem declare builder docker docker_builder.mlem --image.name mlem-model --daemon.host \"\" --server fastapi`\n",
    "\n",
    "- A builder file is created docker_builder.mlem\n",
    "\n",
    "`ls -l`\n",
    "\n",
    "- Show the file this declaration basically defines all things you need to build a docker image. It includes image name, what server you want to serve your model with\n",
    "\n",
    "`cat docker_builder.mlem`\n",
    "\n",
    "- Build the Docker image. An image is a read-only snapshot of a specific application and its dependencies. Images are built from a Dockerfile, which contains instructions for assembling the required components. The Dockerfile is automatically generated by MLEM - we'll see it in a bit.\n",
    "\n",
    "`mlem build --load docker_builder.mlem --model models/pipe_xgb`\n",
    "\n",
    "- Go to the Docker Desktop Dashboard and click on \"Images\" on the left - show that a new Docker image has been created\n",
    "- Click on Containers and there are no running containers yet\n",
    "- Come back to the terminal and continue\n",
    "\n",
    "`mlem deploy run docker_container docker_app.mlem --model models/pipe_xgb --server fastapi --ports.0 8080:8080`\n",
    "\n",
    "- This will use the prebuilt container and run your server inside Docker\n",
    "- This generates a few files\n",
    "\n",
    "- This is the MLEM Object for the deployment - defines the docker deployment\n",
    "\n",
    "`cat docker_app.mlem`\n",
    "\n",
    "- \n",
    "\n",
    "- Go to the Docker Desktop Dashboard and click on \"Containers\" on the left - a new container is running\n",
    "- Click throught to the Container here and click on the tabs and show Logs, Inspect, Terminal, Files, and Stats\n",
    "- Go to Terminal (this is actually a terminal to the shell running inside)\n",
    "- Run the following commands\n",
    "\n",
    "- See the files needed to run our server\n",
    "\n",
    "`ls -l`\n",
    "\n",
    "- This is the MLEM Object representing our model\n",
    "\n",
    "`cat model.mlem`\n",
    "\n",
    "- Need to build the environment needed by the model\n",
    "\n",
    "`cat requirements.txt`\n",
    "\n",
    "- Defines the components that make up the container\n",
    "`cat Dockerfile`\n",
    "\n",
    "- Serves the model and model configuration\n",
    "`cat run.sh`\n",
    "`cat server.yaml`\n",
    "\n",
    "#### Getting predictions\n",
    "\n",
    "- IMPORTANT Please following the same steps for getting predictions as earlier\n",
    "- Can do one POST for predict() and one for predict_proba()\n",
    "- No need to do curl\n",
    "\n",
    "#### Deployment management\n",
    "\n",
    "`mlem deployment status docker_app.mlem`\n",
    "\n",
    "`mlem deployment remove docker_app.mlem`\n",
    "\n",
    "- No running containers\n",
    "\n",
    "`docker ps`"
   ]
  },
  {
   "cell_type": "code",
   "execution_count": null,
   "id": "ed52c68c",
   "metadata": {},
   "outputs": [],
   "source": []
  }
 ],
 "metadata": {
  "kernelspec": {
   "display_name": "Python 3 (ipykernel)",
   "language": "python",
   "name": "python3"
  },
  "language_info": {
   "codemirror_mode": {
    "name": "ipython",
    "version": 3
   },
   "file_extension": ".py",
   "mimetype": "text/x-python",
   "name": "python",
   "nbconvert_exporter": "python",
   "pygments_lexer": "ipython3",
   "version": "3.13.7"
  }
 },
 "nbformat": 4,
 "nbformat_minor": 5
}
